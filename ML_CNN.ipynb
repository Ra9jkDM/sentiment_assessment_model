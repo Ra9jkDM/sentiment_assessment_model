{
 "cells": [
  {
   "cell_type": "code",
   "execution_count": 2,
   "id": "73863fb1-a3cd-4c4d-aa25-072565b3d11f",
   "metadata": {},
   "outputs": [],
   "source": [
    "import numpy as np\n",
    "import pandas as pd\n",
    "from nltk.corpus import stopwords\n",
    "from gensim.models import Word2Vec\n",
    "from gensim.models import Phrases\n",
    "import fasttext\n",
    "import torch\n",
    "from torch import nn, optim\n",
    "from torch.nn.utils.rnn import pad_sequence\n",
    "import torch.nn.functional as F\n",
    "from torch.utils.data import Dataset, TensorDataset, DataLoader\n",
    "import sklearn\n",
    "from sklearn.preprocessing import OneHotEncoder\n",
    "import matplotlib.pyplot as plt\n",
    "import time\n",
    "from tqdm import tqdm\n",
    "from sklearn import metrics\n",
    "import json"
   ]
  },
  {
   "cell_type": "code",
   "execution_count": null,
   "id": "3d05b853-416b-4855-8372-3785f3bede46",
   "metadata": {},
   "outputs": [],
   "source": []
  },
  {
   "cell_type": "code",
   "execution_count": 3,
   "id": "9379b388-e691-4f31-bb05-d1da742da137",
   "metadata": {},
   "outputs": [],
   "source": [
    "device = torch.device(\"cuda\") if torch.cuda.is_available() else torch.device(\"cpu\")\n",
    "# device = torch.device(\"cpu\")"
   ]
  },
  {
   "cell_type": "code",
   "execution_count": null,
   "id": "f32d87d0-2638-4890-8740-1357890bc9a5",
   "metadata": {},
   "outputs": [],
   "source": []
  },
  {
   "cell_type": "markdown",
   "id": "4e2b184c-c3d7-4ddc-a8c6-21911d9f1541",
   "metadata": {},
   "source": [
    "# Обработка данных"
   ]
  },
  {
   "cell_type": "code",
   "execution_count": 4,
   "id": "b5d09d64-a861-4375-aa52-8f12c120d8a6",
   "metadata": {},
   "outputs": [
    {
     "name": "stdout",
     "output_type": "stream",
     "text": [
      "<class 'pandas.core.frame.DataFrame'>\n",
      "Index: 45398 entries, 12405 to 13043\n",
      "Data columns (total 4 columns):\n",
      " #   Column  Non-Null Count  Dtype \n",
      "---  ------  --------------  ----- \n",
      " 0   label   45398 non-null  object\n",
      " 1   text    45398 non-null  object\n",
      " 2   from    45398 non-null  object\n",
      " 3   lemma   45398 non-null  object\n",
      "dtypes: object(4)\n",
      "memory usage: 1.7+ MB\n"
     ]
    }
   ],
   "source": [
    "train = pd.read_csv('datasets/train.csv', index_col=0)\n",
    "train = train.dropna()\n",
    "train.info()"
   ]
  },
  {
   "cell_type": "code",
   "execution_count": 5,
   "id": "d6cdbde0-5306-43f9-86f2-2f486e86f291",
   "metadata": {},
   "outputs": [
    {
     "name": "stdout",
     "output_type": "stream",
     "text": [
      "<class 'pandas.core.frame.DataFrame'>\n",
      "Index: 5960 entries, 14745 to 20671\n",
      "Data columns (total 4 columns):\n",
      " #   Column  Non-Null Count  Dtype \n",
      "---  ------  --------------  ----- \n",
      " 0   label   5960 non-null   object\n",
      " 1   text    5960 non-null   object\n",
      " 2   from    5960 non-null   object\n",
      " 3   lemma   5960 non-null   object\n",
      "dtypes: object(4)\n",
      "memory usage: 232.8+ KB\n"
     ]
    }
   ],
   "source": [
    "test = pd.read_csv('datasets/test.csv', index_col=0)\n",
    "test = test.dropna()\n",
    "test.info()"
   ]
  },
  {
   "cell_type": "code",
   "execution_count": 6,
   "id": "a41bdca0-76da-4a97-a84a-a87254eeb8e6",
   "metadata": {},
   "outputs": [
    {
     "name": "stdout",
     "output_type": "stream",
     "text": [
      "Категории:\n",
      "[array(['negative', 'positive'], dtype=object)]\n",
      "\n",
      "Отрицательные\t negative [[1. 0.]]\n",
      "Положительные\t positive [[0. 1.]]\n"
     ]
    }
   ],
   "source": [
    "score_enc = OneHotEncoder(handle_unknown='ignore')\n",
    "X = test.label.to_numpy().reshape(-1, 1)\n",
    "\n",
    "unique_items = np.unique(X).reshape(-1, 1)\n",
    "score_enc.fit(unique_items)\n",
    "\n",
    "print('Категории:', score_enc.categories_, sep='\\n')\n",
    "print()\n",
    "for i, desc in zip(score_enc.categories_[0], ['Отрицательные\\t', 'Положительные\\t']):\n",
    "    print(desc, i, score_enc.transform(np.array([i]).reshape(-1, 1)).toarray())"
   ]
  },
  {
   "cell_type": "code",
   "execution_count": 7,
   "id": "5b2650d5-480f-4c22-b153-3983ff5b7928",
   "metadata": {},
   "outputs": [],
   "source": [
    "def convert_label(df):\n",
    "    return score_enc.transform(df.to_numpy().reshape(-1, 1))"
   ]
  },
  {
   "cell_type": "code",
   "execution_count": null,
   "id": "3d4e73f0-ec08-43f6-b55a-e69d128236b4",
   "metadata": {},
   "outputs": [],
   "source": []
  },
  {
   "cell_type": "code",
   "execution_count": 8,
   "id": "1af9c2d5-6de1-49e1-a889-79dce0366a02",
   "metadata": {},
   "outputs": [
    {
     "data": {
      "text/plain": [
       "(45398,\n",
       " <45398x2 sparse matrix of type '<class 'numpy.float64'>'\n",
       " \twith 45398 stored elements in Compressed Sparse Row format>)"
      ]
     },
     "execution_count": 8,
     "metadata": {},
     "output_type": "execute_result"
    }
   ],
   "source": [
    "X_train = train.lemma.tolist()\n",
    "y_train = convert_label(train.label)\n",
    "len(X_train), y_train"
   ]
  },
  {
   "cell_type": "code",
   "execution_count": 9,
   "id": "4bc30ea3-6531-47db-80e5-dc7a30894e1e",
   "metadata": {},
   "outputs": [
    {
     "data": {
      "text/plain": [
       "(5960,\n",
       " <5960x2 sparse matrix of type '<class 'numpy.float64'>'\n",
       " \twith 5960 stored elements in Compressed Sparse Row format>)"
      ]
     },
     "execution_count": 9,
     "metadata": {},
     "output_type": "execute_result"
    }
   ],
   "source": [
    "X_test = test.lemma.tolist()\n",
    "y_test = convert_label(test.label)\n",
    "len(X_test), y_test"
   ]
  },
  {
   "cell_type": "code",
   "execution_count": null,
   "id": "db7becf2-762a-4413-8610-c95890fe79ba",
   "metadata": {},
   "outputs": [],
   "source": []
  },
  {
   "cell_type": "code",
   "execution_count": 10,
   "id": "23d542e7-6612-4423-9f76-293219ff3d15",
   "metadata": {},
   "outputs": [
    {
     "data": {
      "text/plain": [
       "['и', 'в', 'во', 'что', 'он', 'на', 'я', 'с', 'со', 'как']"
      ]
     },
     "execution_count": 10,
     "metadata": {},
     "output_type": "execute_result"
    }
   ],
   "source": [
    "stop_list = []\n",
    "\n",
    "with open('datasets/stop_list.txt', 'r') as f:\n",
    "    stop_list = json.loads(f.read())\n",
    "\n",
    "stop_list[:10]"
   ]
  },
  {
   "cell_type": "code",
   "execution_count": 11,
   "id": "e99eff32-28a8-4b69-b3e0-8654fc3a3dd2",
   "metadata": {},
   "outputs": [],
   "source": [
    "def del_stopwords(texts):\n",
    "    idx = 0\n",
    "    result = []\n",
    "\n",
    "    while idx < len(texts):\n",
    "        tmp = texts[idx].split(' ')\n",
    "        result.append([])\n",
    "        for i in tmp:\n",
    "            if i not in stop_list:\n",
    "                result[idx].append(i)\n",
    "                \n",
    "        idx+=1\n",
    "    return result"
   ]
  },
  {
   "cell_type": "code",
   "execution_count": 12,
   "id": "eb8f2d52-2051-42c7-9d51-9b1897417568",
   "metadata": {},
   "outputs": [
    {
     "data": {
      "text/plain": [
       "(-10.0, 500.0)"
      ]
     },
     "execution_count": 12,
     "metadata": {},
     "output_type": "execute_result"
    },
    {
     "data": {
      "image/png": "[encoded data removed]",
      "text/plain": [
       "<Figure size 640x480 with 1 Axes>"
      ]
     },
     "metadata": {},
     "output_type": "display_data"
    }
   ],
   "source": [
    "corp = del_stopwords(train.lemma.tolist())\n",
    "sentence_length = [len(i) for i in corp]\n",
    "\n",
    "plt.hist(sentence_length, bins=50)\n",
    "plt.title('Количество слов в предложениях')\n",
    "\n",
    "ax = plt.gca()\n",
    "ax.set_xticks([0, 76, 100, 200, 400])\n",
    "plt.xlim(-10, 500)"
   ]
  },
  {
   "cell_type": "code",
   "execution_count": 16,
   "id": "58f15a0c-378d-4171-bcc1-586ac7527acf",
   "metadata": {},
   "outputs": [
    {
     "name": "stdout",
     "output_type": "stream",
     "text": [
      "Минимальное значение 0\n",
      "Максимальное значение 1296\n",
      "Медиана 21.0\n",
      "Среднее 54.89532578527688\n",
      "75 процентилей 76.0\n",
      "96 процентилей 224.11999999999534\n"
     ]
    }
   ],
   "source": [
    "print('Минимальное значение', np.min(sentence_length))\n",
    "print('Максимальное значение', np.max(sentence_length))\n",
    "print('Медиана', np.median(sentence_length))\n",
    "print('Среднее', np.average(sentence_length))\n",
    "print('75 процентилей', np.percentile(sentence_length, 75))\n",
    "print('96 процентилей', np.percentile(sentence_length, 96))"
   ]
  },
  {
   "cell_type": "code",
   "execution_count": null,
   "id": "d3b573a0-e392-42c5-9d89-69b3f488de86",
   "metadata": {},
   "outputs": [],
   "source": []
  },
  {
   "cell_type": "markdown",
   "id": "3ac5c045-b87d-43ad-a16e-142ff4c776ea",
   "metadata": {},
   "source": [
    "## Преобразование слов в индексы"
   ]
  },
  {
   "cell_type": "code",
   "execution_count": 13,
   "id": "6dbc7a89-9c2b-42bf-bb99-11684c156506",
   "metadata": {},
   "outputs": [],
   "source": [
    "padding = '__pad__'"
   ]
  },
  {
   "cell_type": "code",
   "execution_count": 14,
   "id": "e40a9721-7060-46eb-860e-5c5aa739860a",
   "metadata": {},
   "outputs": [],
   "source": [
    "all_words = ' '.join(X_train)\n",
    "unique_words = set([padding] + all_words.split(' '))\n",
    "word_dict = {value: key for key, value in enumerate(unique_words)}"
   ]
  },
  {
   "cell_type": "code",
   "execution_count": 19,
   "id": "873294b3-6dec-4b8c-a92f-aab8ff4b7be8",
   "metadata": {},
   "outputs": [
    {
     "data": {
      "text/plain": [
       "(66018, 14613)"
      ]
     },
     "execution_count": 19,
     "metadata": {},
     "output_type": "execute_result"
    }
   ],
   "source": [
    "len(word_dict), word_dict[padding]"
   ]
  },
  {
   "cell_type": "code",
   "execution_count": 20,
   "id": "17212ed4-f315-41f6-a4cc-b4c44e9a70ad",
   "metadata": {
    "scrolled": true
   },
   "outputs": [
    {
     "data": {
      "text/plain": [
       "{'': 0,\n",
       " 'банкет': 1,\n",
       " 'терм': 2,\n",
       " 'християнка': 3,\n",
       " 'череп': 4,\n",
       " 'логопедическая': 5,\n",
       " 'опросник': 6,\n",
       " 'этотзанятие': 7,\n",
       " 'злание': 8,\n",
       " 'патриатический': 9,\n",
       " 'опустошение': 10,\n",
       " 'ордер': 11,\n",
       " 'эпизод': 12,\n",
       " 'доуниверситетский': 13,\n",
       " 'сохранить': 14,\n",
       " 'виндовса': 15,\n",
       " 'юморист': 16,\n",
       " 'географичка': 17,\n",
       " 'состоятельный': 18,\n",
       " 'задевали': 19,\n",
       " 'жлобы': 20,\n",
       " 'весело': 21,\n",
       " 'заведнее': 22,\n",
       " 'пробейте': 23,\n",
       " 'магический': 24,\n",
       " 'извнуть': 25,\n",
       " 'дочурка': 26,\n",
       " 'притаиться': 27,\n",
       " 'хайвэй': 28,\n",
       " 'агрообразовательный': 29,\n",
       " 'обволакивать': 30,\n",
       " 'неудаленный': 31,\n",
       " 'опозорят': 32,\n",
       " 'доехать': 33,\n",
       " 'решиться': 34,\n",
       " 'орднунг': 35,\n",
       " 'строение': 36,\n",
       " 'география': 37,\n",
       " 'транспортировка': 38,\n",
       " 'валиди': 39,\n",
       " 'гипермаркет': 40,\n",
       " 'слабо': 41,\n",
       " 'фотовыставкитипичный': 42,\n",
       " 'восстановится': 43,\n",
       " 'выучивать': 44,\n",
       " 'ушибить': 45,\n",
       " 'энерджайзер': 46,\n",
       " 'шестилетний': 47,\n",
       " 'краеугольный': 48,\n",
       " 'байдаг': 49,\n",
       " 'приготавливались': 50,\n",
       " 'пальма': 51,\n",
       " 'гандон': 52,\n",
       " 'должность': 53,\n",
       " 'жесткость': 54,\n",
       " 'скатившись': 55,\n",
       " 'ценз': 56,\n",
       " 'нейрохирург': 57,\n",
       " 'дискография': 58,\n",
       " 'спиртное': 59,\n",
       " 'завлекательный': 60,\n",
       " 'расчесываться': 61,\n",
       " 'зафаршмачать': 62,\n",
       " 'поздравка': 63,\n",
       " 'пренебрегать': 64,\n",
       " 'медработник': 65,\n",
       " 'возвраст': 66,\n",
       " 'подорвать': 67,\n",
       " 'проебалаа': 68,\n",
       " 'зашкаливать': 69,\n",
       " 'домен': 70,\n",
       " 'откидной': 71,\n",
       " 'плачат': 72,\n",
       " 'подшить': 73,\n",
       " 'заалючении': 74,\n",
       " 'подарочки': 75,\n",
       " 'системприкладный': 76,\n",
       " 'дело': 77,\n",
       " 'уголочь': 78,\n",
       " 'ростет': 79,\n",
       " 'устаревать': 80,\n",
       " 'пивка': 81,\n",
       " 'каллиграфия': 82,\n",
       " 'исковеркали': 83,\n",
       " 'снизиться': 84,\n",
       " 'можео': 85,\n",
       " 'удонъясать': 86,\n",
       " 'втаю': 87,\n",
       " 'узга': 88,\n",
       " 'вздыбиться': 89,\n",
       " 'устраиваться': 90,\n",
       " 'заботая': 91,\n",
       " 'пробраться': 92,\n",
       " 'мороз': 93,\n",
       " 'терзаться': 94,\n",
       " 'поезжайте': 95,\n",
       " 'эга': 96,\n",
       " 'дикий': 97,\n",
       " 'косинус': 98,\n",
       " 'краматорск': 99,\n",
       " 'обазец': 100,\n",
       " 'япроидти': 101,\n",
       " 'подковыть': 102,\n",
       " 'заполнениявыработать': 103,\n",
       " 'аппетитный': 104,\n",
       " 'квадратный': 105,\n",
       " 'наседание': 106,\n",
       " 'красноречиво': 107,\n",
       " 'чутко': 108,\n",
       " 'пособиянедостаток': 109,\n",
       " 'стояние': 110,\n",
       " 'перегар': 111,\n",
       " 'настин': 112,\n",
       " 'интилегентный': 113,\n",
       " 'джентельмен': 114,\n",
       " 'пронизать': 115,\n",
       " 'разглаживал': 116,\n",
       " 'фазан': 117,\n",
       " 'инжерно': 118,\n",
       " 'недоделанные': 119,\n",
       " 'скидочку': 120,\n",
       " 'нещасная': 121,\n",
       " 'прикосновенье': 122,\n",
       " 'погулять': 123,\n",
       " 'поименно': 124,\n",
       " 'осколочный': 125,\n",
       " 'округлились': 126,\n",
       " 'айтюнза': 127,\n",
       " 'исполнять': 128,\n",
       " 'молодец': 129,\n",
       " 'толстый': 130,\n",
       " 'пристраститься': 131,\n",
       " 'стрыкало': 132,\n",
       " 'исаа': 133,\n",
       " 'преступный': 134,\n",
       " 'вздутый': 135,\n",
       " 'привелегиямилибо': 136,\n",
       " 'терпеливо': 137,\n",
       " 'наступление': 138,\n",
       " 'сгрузить': 139,\n",
       " 'ценыцена': 140,\n",
       " 'чертыхаться': 141,\n",
       " 'музыковедческий': 142,\n",
       " 'мелом': 143,\n",
       " 'преумущество': 144,\n",
       " 'солянка': 145,\n",
       " 'всима': 146,\n",
       " 'нолик': 147,\n",
       " 'ухищрение': 148,\n",
       " 'что': 149,\n",
       " 'смотр': 150,\n",
       " 'увенчаться': 151,\n",
       " 'размыто': 152,\n",
       " 'обломать': 153,\n",
       " 'шарашит': 154,\n",
       " 'чуточку': 155,\n",
       " 'даир': 156,\n",
       " 'найбольн': 157,\n",
       " 'фспн': 158,\n",
       " 'орик': 159,\n",
       " 'возвращаешься': 160,\n",
       " 'прерятствие': 161,\n",
       " 'заигнорили': 162,\n",
       " 'затиранный': 163,\n",
       " 'довольнейшая': 164,\n",
       " 'починка': 165,\n",
       " 'горазд': 166,\n",
       " 'печенкин': 167,\n",
       " 'стипушечка': 168,\n",
       " 'тройничный': 169,\n",
       " 'мыслящий': 170,\n",
       " 'вчера': 171,\n",
       " 'запятая': 172,\n",
       " 'веранда': 173,\n",
       " 'подправить': 174,\n",
       " 'бессменный': 175,\n",
       " 'брафитинг': 176,\n",
       " 'жигуля': 177,\n",
       " 'одинаковость': 178,\n",
       " 'пересматривать': 179,\n",
       " 'семиэтажный': 180,\n",
       " 'нагруженный': 181,\n",
       " 'бэйсик': 182,\n",
       " 'левак': 183,\n",
       " 'соблазна': 184,\n",
       " 'жжошь': 185,\n",
       " 'откинуться': 186,\n",
       " 'скопидом': 187,\n",
       " 'литературудля': 188,\n",
       " 'быстрота': 189,\n",
       " 'хэндмэйда': 190,\n",
       " 'поклевать': 191,\n",
       " 'сравняться': 192,\n",
       " 'ординаторская': 193,\n",
       " 'комбо': 194,\n",
       " 'оттанцевали': 195,\n",
       " 'времяпровождение': 196,\n",
       " 'возвышаться': 197,\n",
       " 'боясь': 198,\n",
       " 'аремя': 199,\n",
       " 'жатый': 200,\n",
       " 'хелп': 201,\n",
       " 'прорывать': 202,\n",
       " 'занько': 203,\n",
       " 'референсова': 204,\n",
       " 'мешкаться': 205,\n",
       " 'квакнуть': 206,\n",
       " 'переправа': 207,\n",
       " 'помучто': 208,\n",
       " 'давненько': 209,\n",
       " 'агроярмарка': 210,\n",
       " 'фишечек': 211,\n",
       " 'муухай': 212,\n",
       " 'сметь': 213,\n",
       " 'наглее': 214,\n",
       " 'приготовишь': 215,\n",
       " 'филипп': 216,\n",
       " 'досидеть': 217,\n",
       " 'верховный': 218,\n",
       " 'дырь': 219,\n",
       " 'кафе': 220,\n",
       " 'непроченвоспользоваться': 221,\n",
       " 'целеустремленный': 222,\n",
       " 'межотраслевой': 223,\n",
       " 'опеределиться': 224,\n",
       " 'хэндсфри': 225,\n",
       " 'нахлынуть': 226,\n",
       " 'логоритмика': 227,\n",
       " 'сильнодействующий': 228,\n",
       " 'уязвимость': 229,\n",
       " 'ребятам': 230,\n",
       " 'культуролог': 231,\n",
       " 'доучиваем': 232,\n",
       " 'обезопасить': 233,\n",
       " 'неверно': 234,\n",
       " 'ааа': 235,\n",
       " 'похвастаться': 236,\n",
       " 'гаргачаад': 237,\n",
       " 'пиздуй': 238,\n",
       " 'атлетизм': 239,\n",
       " 'рутина': 240,\n",
       " 'перебрала': 241,\n",
       " 'риэлторский': 242,\n",
       " 'сыроедение': 243,\n",
       " 'упускать': 244,\n",
       " 'качели': 245,\n",
       " 'разрешиться': 246,\n",
       " 'рассуждение': 247,\n",
       " 'продавать': 248,\n",
       " 'услаждать': 249,\n",
       " 'можество': 250,\n",
       " 'косых': 251,\n",
       " 'неприспособленность': 252,\n",
       " 'систематизировалось': 253,\n",
       " 'вульгарно': 254,\n",
       " 'сеть': 255,\n",
       " 'кардиология': 256,\n",
       " 'картридж': 257,\n",
       " 'смущаться': 258,\n",
       " 'коптить': 259,\n",
       " 'неновесть': 260,\n",
       " 'полуодетый': 261,\n",
       " 'избранный': 262,\n",
       " 'деструктор': 263,\n",
       " 'отчисля': 264,\n",
       " 'отторжение': 265,\n",
       " 'октуда': 266,\n",
       " 'любимочка': 267,\n",
       " 'расформировали': 268,\n",
       " 'обозревательный': 269,\n",
       " 'прождал': 270,\n",
       " 'бабла': 271,\n",
       " 'лами': 272,\n",
       " 'смейся': 273,\n",
       " 'суббота': 274,\n",
       " 'ксунька': 275,\n",
       " 'кажеиться': 276,\n",
       " 'конкретизировать': 277,\n",
       " 'одногрупница': 278,\n",
       " 'немнога': 279,\n",
       " 'гифок': 280,\n",
       " 'вырывать': 281,\n",
       " 'додавать': 282,\n",
       " 'рнеделить': 283,\n",
       " 'сбавить': 284,\n",
       " 'внушающими': 285,\n",
       " 'сег': 286,\n",
       " 'зданиий': 287,\n",
       " 'неизвеста': 288,\n",
       " 'кант': 289,\n",
       " 'числительное': 290,\n",
       " 'прекрастный': 291,\n",
       " 'вундеркинд': 292,\n",
       " 'поразбираться': 293,\n",
       " 'вписывать': 294,\n",
       " 'спецмальность': 295,\n",
       " 'почать': 296,\n",
       " 'композа': 297,\n",
       " 'спускать': 298,\n",
       " 'прибыль': 299,\n",
       " 'множесто': 300,\n",
       " 'помазать': 301,\n",
       " 'нагрузочка': 302,\n",
       " 'мария': 303,\n",
       " 'топиковый': 304,\n",
       " 'аккредитациикак': 305,\n",
       " 'анкетер': 306,\n",
       " 'нетворкинг': 307,\n",
       " 'предоставляете': 308,\n",
       " 'крен': 309,\n",
       " 'выходныий': 310,\n",
       " 'байхдаа': 311,\n",
       " 'штатно': 312,\n",
       " 'качай': 313,\n",
       " 'парилка': 314,\n",
       " 'астрофизик': 315,\n",
       " 'фирмач': 316,\n",
       " 'вцепиться': 317,\n",
       " 'сногсшибательные': 318,\n",
       " 'папин': 319,\n",
       " 'ошный': 320,\n",
       " 'начисляться': 321,\n",
       " 'мельчаю': 322,\n",
       " 'драный': 323,\n",
       " 'выходка': 324,\n",
       " 'уебок': 325,\n",
       " 'множество': 326,\n",
       " 'плюсыдешивый': 327,\n",
       " 'рандомайзер': 328,\n",
       " 'плеймейкер': 329,\n",
       " 'наглядный': 330,\n",
       " 'танцулька': 331,\n",
       " 'бляать': 332,\n",
       " 'отлично': 333,\n",
       " 'единомышленниковперенес': 334,\n",
       " 'чешуявсем': 335,\n",
       " 'киноконцертный': 336,\n",
       " 'сыпиться': 337,\n",
       " 'арг': 338,\n",
       " 'повторно': 339,\n",
       " 'прибирание': 340,\n",
       " 'вотс': 341,\n",
       " 'обзывать': 342,\n",
       " 'илюшка': 343,\n",
       " 'нескоро': 344,\n",
       " 'заболтать': 345,\n",
       " 'госслужба': 346,\n",
       " 'состоять': 347,\n",
       " 'рвный': 348,\n",
       " 'разнообразен': 349,\n",
       " 'санэпидемстанция': 350,\n",
       " 'срабатывать': 351,\n",
       " 'ходи': 352,\n",
       " 'выкобениваться': 353,\n",
       " 'влюбляйтесь': 354,\n",
       " 'выкидыш': 355,\n",
       " 'мировозрение': 356,\n",
       " 'отбиться': 357,\n",
       " 'тлька': 358,\n",
       " 'клумбойва': 359,\n",
       " 'безоговорочный': 360,\n",
       " 'инкассируется': 361,\n",
       " 'разговорник': 362,\n",
       " 'балончиком': 363,\n",
       " 'бесчисленный': 364,\n",
       " 'псевдоподарок': 365,\n",
       " 'родиелить': 366,\n",
       " 'уха': 367,\n",
       " 'сопливые': 368,\n",
       " 'студентовочень': 369,\n",
       " 'разрыдаться': 370,\n",
       " 'сожеление': 371,\n",
       " 'прослоупочить': 372,\n",
       " 'храниться': 373,\n",
       " 'убойный': 374,\n",
       " 'записываетесь': 375,\n",
       " 'спуститься': 376,\n",
       " 'ретвитим': 377,\n",
       " 'взаимно': 378,\n",
       " 'приватная': 379,\n",
       " 'нептун': 380,\n",
       " 'мехматзасыпкин': 381,\n",
       " 'лабы': 382,\n",
       " 'ямочка': 383,\n",
       " 'медотвод': 384,\n",
       " 'мизантропия': 385,\n",
       " 'первопроходимец': 386,\n",
       " 'мамулечка': 387,\n",
       " 'коем': 388,\n",
       " 'дезинфекцировать': 389,\n",
       " 'просвещать': 390,\n",
       " 'фильмец': 391,\n",
       " 'антиквариат': 392,\n",
       " 'отогреваться': 393,\n",
       " 'доцентами': 394,\n",
       " 'тестер': 395,\n",
       " 'размусоливают': 396,\n",
       " 'жилищный': 397,\n",
       " 'поодаль': 398,\n",
       " 'пери': 399,\n",
       " 'распознаваться': 400,\n",
       " 'неисполнительный': 401,\n",
       " 'кохлеарный': 402,\n",
       " 'вытога': 403,\n",
       " 'популяризация': 404,\n",
       " 'магнитогорск': 405,\n",
       " 'ахересть': 406,\n",
       " 'медобразование': 407,\n",
       " 'сотрясение': 408,\n",
       " 'непреступный': 409,\n",
       " 'анг': 410,\n",
       " 'дотационный': 411,\n",
       " 'отпустить': 412,\n",
       " 'лидок': 413,\n",
       " 'фонареять': 414,\n",
       " 'деит': 415,\n",
       " 'наклейка': 416,\n",
       " 'гинесса': 417,\n",
       " 'перевозбудить': 418,\n",
       " 'всеи': 419,\n",
       " 'уматный': 420,\n",
       " 'интегративное': 421,\n",
       " 'самооборона': 422,\n",
       " 'нишый': 423,\n",
       " 'искадить': 424,\n",
       " 'проращивают': 425,\n",
       " 'переулочек': 426,\n",
       " 'аквагрим': 427,\n",
       " 'неприличный': 428,\n",
       " 'фототерапия': 429,\n",
       " 'пропеть': 430,\n",
       " 'расположениенаверный': 431,\n",
       " 'растяжимый': 432,\n",
       " 'весьнегатив': 433,\n",
       " 'девятнадцатый': 434,\n",
       " 'шариковый': 435,\n",
       " 'пропись': 436,\n",
       " 'проходиться': 437,\n",
       " 'уродство': 438,\n",
       " 'взращивать': 439,\n",
       " 'полисмен': 440,\n",
       " 'племяшка': 441,\n",
       " 'имэк': 442,\n",
       " 'облицовщик': 443,\n",
       " 'исхитряться': 444,\n",
       " 'психиатрическа': 445,\n",
       " 'отблеск': 446,\n",
       " 'москвичка': 447,\n",
       " 'внеучебка': 448,\n",
       " 'перелив': 449,\n",
       " 'второкурсница': 450,\n",
       " 'мятый': 451,\n",
       " 'стабильность': 452,\n",
       " 'компетенция': 453,\n",
       " 'превратилисьва': 454,\n",
       " 'изучалистоять': 455,\n",
       " 'пробиваться': 456,\n",
       " 'кортинка': 457,\n",
       " 'вникнуть': 458,\n",
       " 'приклеивание': 459,\n",
       " 'сортировочный': 460,\n",
       " 'порытьсямень': 461,\n",
       " 'интеллект': 462,\n",
       " 'динамичнопоэтом': 463,\n",
       " 'туризм': 464,\n",
       " 'покалечить': 465,\n",
       " 'пренатальный': 466,\n",
       " 'интеллектуально': 467,\n",
       " 'пизец': 468,\n",
       " 'заибали': 469,\n",
       " 'регулировщик': 470,\n",
       " 'нетворкинга': 471,\n",
       " 'лакмусовый': 472,\n",
       " 'шлифовальный': 473,\n",
       " 'олтор': 474,\n",
       " 'логичный': 475,\n",
       " 'отдушка': 476,\n",
       " 'коммунальный': 477,\n",
       " 'выплатить': 478,\n",
       " 'обычай': 479,\n",
       " 'охохой': 480,\n",
       " 'клейстер': 481,\n",
       " 'благовоние': 482,\n",
       " 'обучаемся': 483,\n",
       " 'расхожий': 484,\n",
       " 'дрездон': 485,\n",
       " 'резервировать': 486,\n",
       " 'скушать': 487,\n",
       " 'осмеяние': 488,\n",
       " 'выйграять': 489,\n",
       " 'хнедельный': 490,\n",
       " 'финансы': 491,\n",
       " 'распылять': 492,\n",
       " 'супергений': 493,\n",
       " 'реорганизованность': 494,\n",
       " 'анималистический': 495,\n",
       " 'венозный': 496,\n",
       " 'цродиться': 497,\n",
       " 'махинация': 498,\n",
       " 'пипетка': 499,\n",
       " 'пройденную': 500,\n",
       " 'надежда': 501,\n",
       " 'специальный': 502,\n",
       " 'нихуй': 503,\n",
       " 'терь': 504,\n",
       " 'расслоиться': 505,\n",
       " 'геморой': 506,\n",
       " 'пупырышек': 507,\n",
       " 'инжиниринг': 508,\n",
       " 'неиспользуемый': 509,\n",
       " 'веер': 510,\n",
       " 'окозаться': 511,\n",
       " 'трейн': 512,\n",
       " 'июняпреподаватель': 513,\n",
       " 'тетрадь': 514,\n",
       " 'штудирование': 515,\n",
       " 'ввод': 516,\n",
       " 'упорядочили': 517,\n",
       " 'сращивать': 518,\n",
       " 'упускались': 519,\n",
       " 'трут': 520,\n",
       " 'лихва': 521,\n",
       " 'стерелизуют': 522,\n",
       " 'цвр': 523,\n",
       " 'трап': 524,\n",
       " 'целлюлозный': 525,\n",
       " 'неутомимы': 526,\n",
       " 'опрелеленно': 527,\n",
       " 'психий': 528,\n",
       " 'супергерой': 529,\n",
       " 'залесовский': 530,\n",
       " 'наклееный': 531,\n",
       " 'вайджи': 532,\n",
       " 'обзванить': 533,\n",
       " 'каторга': 534,\n",
       " 'барбершопов': 535,\n",
       " 'модераторов': 536,\n",
       " 'бер': 537,\n",
       " 'даный': 538,\n",
       " 'несравнимый': 539,\n",
       " 'потрудившись': 540,\n",
       " 'трудоустаивать': 541,\n",
       " 'вродеб': 542,\n",
       " 'плодить': 543,\n",
       " 'проходишь': 544,\n",
       " 'купон': 545,\n",
       " 'залететь': 546,\n",
       " 'препинание': 547,\n",
       " 'вуд': 548,\n",
       " 'дружу': 549,\n",
       " 'разительно': 550,\n",
       " 'фиалка': 551,\n",
       " 'коассный': 552,\n",
       " 'позапрошлогодний': 553,\n",
       " 'цдть': 554,\n",
       " 'ориентируясь': 555,\n",
       " 'проклюнуться': 556,\n",
       " 'медиатека': 557,\n",
       " 'индивидуум': 558,\n",
       " 'дилярк': 559,\n",
       " 'отпиздюлат': 560,\n",
       " 'хуяс': 561,\n",
       " 'политеизм': 562,\n",
       " 'юниор': 563,\n",
       " 'доцй': 564,\n",
       " 'рукожоп': 565,\n",
       " 'выглядитздание': 566,\n",
       " 'укор': 567,\n",
       " 'взору': 568,\n",
       " 'крутезна': 569,\n",
       " 'топографист': 570,\n",
       " 'эколог': 571,\n",
       " 'гидравлика': 572,\n",
       " 'годаотвратительный': 573,\n",
       " 'повалка': 574,\n",
       " 'отдаляться': 575,\n",
       " 'склонение': 576,\n",
       " 'чечетку': 577,\n",
       " 'музон': 578,\n",
       " 'терракта': 579,\n",
       " 'улыбатьсяобязательно': 580,\n",
       " 'укулела': 581,\n",
       " 'соотвествовать': 582,\n",
       " 'скабрезность': 583,\n",
       " 'ребусами': 584,\n",
       " 'ажа': 585,\n",
       " 'хэллоуин': 586,\n",
       " 'тигрупповой': 587,\n",
       " 'ашан': 588,\n",
       " 'упругий': 589,\n",
       " 'миллиона': 590,\n",
       " 'апсент': 591,\n",
       " 'нюанс': 592,\n",
       " 'суета': 593,\n",
       " 'вонючее': 594,\n",
       " 'компановать': 595,\n",
       " 'абитуриен': 596,\n",
       " 'побочка': 597,\n",
       " 'ропный': 598,\n",
       " 'инкубатор': 599,\n",
       " 'капельница': 600,\n",
       " 'перподоватеть': 601,\n",
       " 'клипанутый': 602,\n",
       " 'почитаю': 603,\n",
       " 'голубоглазенькать': 604,\n",
       " 'маслянистый': 605,\n",
       " 'отбрехиваться': 606,\n",
       " 'зоркий': 607,\n",
       " 'надя': 608,\n",
       " 'ударный': 609,\n",
       " 'зный': 610,\n",
       " 'бысьро': 611,\n",
       " 'автопроверка': 612,\n",
       " 'кошатник': 613,\n",
       " 'отксеренок': 614,\n",
       " 'свобоновать': 615,\n",
       " 'обязанность': 616,\n",
       " 'вымолить': 617,\n",
       " 'пятьсот': 618,\n",
       " 'ахах': 619,\n",
       " 'амбиция': 620,\n",
       " 'хойд': 621,\n",
       " 'аварийный': 622,\n",
       " 'талантливый': 623,\n",
       " 'отсутпай': 624,\n",
       " 'доступно': 625,\n",
       " 'недомолвка': 626,\n",
       " 'зал': 627,\n",
       " 'невекусный': 628,\n",
       " 'долбить': 629,\n",
       " 'социотип': 630,\n",
       " 'выплачиваете': 631,\n",
       " 'похвальнов': 632,\n",
       " 'псевдопрофессионал': 633,\n",
       " 'измениться': 634,\n",
       " 'мпур': 635,\n",
       " 'дышать': 636,\n",
       " 'внеурочный': 637,\n",
       " 'загуглита': 638,\n",
       " 'раздражение': 639,\n",
       " 'полдня': 640,\n",
       " 'налаживать': 641,\n",
       " 'отписывать': 642,\n",
       " 'перервелеть': 643,\n",
       " 'фотокружок': 644,\n",
       " 'завес': 645,\n",
       " 'почернеть': 646,\n",
       " 'леток': 647,\n",
       " 'разладиться': 648,\n",
       " 'универсальный': 649,\n",
       " 'теряюсь': 650,\n",
       " 'чоо': 651,\n",
       " 'расположиться': 652,\n",
       " 'запирающие': 653,\n",
       " 'денига': 654,\n",
       " 'бровь': 655,\n",
       " 'сейкрид': 656,\n",
       " 'пзрский': 657,\n",
       " 'велосипедный': 658,\n",
       " 'отстаивать': 659,\n",
       " 'роллы': 660,\n",
       " 'переполнить': 661,\n",
       " 'выкрутиться': 662,\n",
       " 'загрустить': 663,\n",
       " 'громадья': 664,\n",
       " 'млекопитающее': 665,\n",
       " 'навигатор': 666,\n",
       " 'удивляет': 667,\n",
       " 'якуб': 668,\n",
       " 'фритюр': 669,\n",
       " 'ддос': 670,\n",
       " 'доци': 671,\n",
       " 'театрал': 672,\n",
       " 'вихрь': 673,\n",
       " 'полоса': 674,\n",
       " 'инициация': 675,\n",
       " 'станцевать': 676,\n",
       " 'продавливать': 677,\n",
       " 'описание': 678,\n",
       " 'выговаривание': 679,\n",
       " 'ломинирование': 680,\n",
       " 'плевательский': 681,\n",
       " 'израилетянин': 682,\n",
       " 'этаж': 683,\n",
       " 'кобозевый': 684,\n",
       " 'яков': 685,\n",
       " 'отзовитчанин': 686,\n",
       " 'магзика': 687,\n",
       " 'ясельника': 688,\n",
       " 'мамуля': 689,\n",
       " 'зловеще': 690,\n",
       " 'ораганизовать': 691,\n",
       " 'девчок': 692,\n",
       " 'нокдаун': 693,\n",
       " 'вобщем': 694,\n",
       " 'офигенного': 695,\n",
       " 'основать': 696,\n",
       " 'скриншот': 697,\n",
       " 'выгоднее': 698,\n",
       " 'удобноее': 699,\n",
       " 'джема': 700,\n",
       " 'листва': 701,\n",
       " 'киберспортивный': 702,\n",
       " 'щипать': 703,\n",
       " 'неразлюбить': 704,\n",
       " 'внд': 705,\n",
       " 'выкать': 706,\n",
       " 'совершайте': 707,\n",
       " 'знани': 708,\n",
       " 'общагах': 709,\n",
       " 'дисперсия': 710,\n",
       " 'стратоплана': 711,\n",
       " 'усаживать': 712,\n",
       " 'сквозняком': 713,\n",
       " 'топово': 714,\n",
       " 'ершик': 715,\n",
       " 'фактурный': 716,\n",
       " 'упадок': 717,\n",
       " 'котопый': 718,\n",
       " 'ашунь': 719,\n",
       " 'бессвязный': 720,\n",
       " 'сш': 721,\n",
       " 'торчим': 722,\n",
       " 'докумет': 723,\n",
       " 'лофт': 724,\n",
       " 'неспроста': 725,\n",
       " 'знаниямма': 726,\n",
       " 'студентов': 727,\n",
       " 'фотоакадемия': 728,\n",
       " 'маешься': 729,\n",
       " 'крестный': 730,\n",
       " 'агрономический': 731,\n",
       " 'иногородней': 732,\n",
       " 'накатать': 733,\n",
       " 'фантазировать': 734,\n",
       " 'рольставня': 735,\n",
       " 'виявилися': 736,\n",
       " 'забухать': 737,\n",
       " 'херсонский': 738,\n",
       " 'пересып': 739,\n",
       " 'поручень': 740,\n",
       " 'муляля': 741,\n",
       " 'удалишь': 742,\n",
       " 'культурнл': 743,\n",
       " 'внутримышечно': 744,\n",
       " 'соотвественный': 745,\n",
       " 'раскрепоститься': 746,\n",
       " 'иной': 747,\n",
       " 'бошка': 748,\n",
       " 'пристижный': 749,\n",
       " 'простонародье': 750,\n",
       " 'переработаться': 751,\n",
       " 'загаситься': 752,\n",
       " 'бусинка': 753,\n",
       " 'ревность': 754,\n",
       " 'спецкура': 755,\n",
       " 'поболтайте': 756,\n",
       " 'разделывать': 757,\n",
       " 'мероприять': 758,\n",
       " 'система': 759,\n",
       " 'расстановочный': 760,\n",
       " 'газетыработают': 761,\n",
       " 'фрезу': 762,\n",
       " 'фаховый': 763,\n",
       " 'незабывчивый': 764,\n",
       " 'бросаться': 765,\n",
       " 'лендинг': 766,\n",
       " 'высмеивала': 767,\n",
       " 'кодомнаправить': 768,\n",
       " 'водить': 769,\n",
       " 'беспредел': 770,\n",
       " 'вдуть': 771,\n",
       " 'пудра': 772,\n",
       " 'години': 773,\n",
       " 'пеленальный': 774,\n",
       " 'прыгаем': 775,\n",
       " 'беспечный': 776,\n",
       " 'подругаа': 777,\n",
       " 'передергивать': 778,\n",
       " 'прискачет': 779,\n",
       " 'участвуй': 780,\n",
       " 'обезьяна': 781,\n",
       " 'родитиль': 782,\n",
       " 'апостилировать': 783,\n",
       " 'устаканить': 784,\n",
       " 'нашет': 785,\n",
       " 'волонтество': 786,\n",
       " 'держало': 787,\n",
       " 'дешовый': 788,\n",
       " 'срединик': 789,\n",
       " 'компенсационный': 790,\n",
       " 'прогуливаю': 791,\n",
       " 'отпрашиваться': 792,\n",
       " 'простите': 793,\n",
       " 'изуродуют': 794,\n",
       " 'хомить': 795,\n",
       " 'гиннес': 796,\n",
       " 'конечно': 797,\n",
       " 'самой': 798,\n",
       " 'меро': 799,\n",
       " 'осудить': 800,\n",
       " 'обходите': 801,\n",
       " 'сюдак': 802,\n",
       " 'сдавать': 803,\n",
       " 'ар': 804,\n",
       " 'структурирует': 805,\n",
       " 'разваривается': 806,\n",
       " 'всекда': 807,\n",
       " 'инфопродукт': 808,\n",
       " 'наполовину': 809,\n",
       " 'красивенькими': 810,\n",
       " 'забота': 811,\n",
       " 'нары': 812,\n",
       " 'подшучивать': 813,\n",
       " 'давило': 814,\n",
       " 'закутка': 815,\n",
       " 'итоге': 816,\n",
       " 'вспыхнет': 817,\n",
       " 'закуривают': 818,\n",
       " 'посящение': 819,\n",
       " 'ихихмхмхмзза': 820,\n",
       " 'дорассказать': 821,\n",
       " 'нехорошо': 822,\n",
       " 'овладевать': 823,\n",
       " 'шевелить': 824,\n",
       " 'тирамиса': 825,\n",
       " 'позубрить': 826,\n",
       " 'кусковский': 827,\n",
       " 'подумала': 828,\n",
       " 'всеразличные': 829,\n",
       " 'блинский': 830,\n",
       " 'внешкольный': 831,\n",
       " 'статусище': 832,\n",
       " 'киношка': 833,\n",
       " 'сестринское': 834,\n",
       " 'цикорий': 835,\n",
       " 'закусочная': 836,\n",
       " 'песочник': 837,\n",
       " 'существет': 838,\n",
       " 'извилистый': 839,\n",
       " 'перечисляешь': 840,\n",
       " 'веремить': 841,\n",
       " 'донгту': 842,\n",
       " 'склониться': 843,\n",
       " 'складчину': 844,\n",
       " 'преобретать': 845,\n",
       " 'туроперейтинг': 846,\n",
       " 'шансончик': 847,\n",
       " 'поушальник': 848,\n",
       " 'деготь': 849,\n",
       " 'моделек': 850,\n",
       " 'наперебой': 851,\n",
       " 'воссторжествовал': 852,\n",
       " 'батутный': 853,\n",
       " 'сертифицироваться': 854,\n",
       " 'правльно': 855,\n",
       " 'пригодность': 856,\n",
       " 'видеомонтаж': 857,\n",
       " 'неутешительный': 858,\n",
       " 'обороток': 859,\n",
       " 'улыбчивых': 860,\n",
       " 'переменках': 861,\n",
       " 'послезавтра': 862,\n",
       " 'аах': 863,\n",
       " 'трамв': 864,\n",
       " 'инструктировать': 865,\n",
       " 'субботник': 866,\n",
       " 'неформат': 867,\n",
       " 'харамсалтай': 868,\n",
       " 'текстурный': 869,\n",
       " 'русский': 870,\n",
       " 'токай': 871,\n",
       " 'низаходить': 872,\n",
       " 'улсын': 873,\n",
       " 'пеняй': 874,\n",
       " 'чтэй': 875,\n",
       " 'поситить': 876,\n",
       " 'смищнявок': 877,\n",
       " 'расположение': 878,\n",
       " 'уфимский': 879,\n",
       " 'потирать': 880,\n",
       " 'ревизия': 881,\n",
       " 'городанедостаток': 882,\n",
       " 'вселить': 883,\n",
       " 'посотрудничать': 884,\n",
       " 'задуть': 885,\n",
       " 'лобби': 886,\n",
       " 'материть': 887,\n",
       " 'подъемно': 888,\n",
       " 'дикарем': 889,\n",
       " 'бухарский': 890,\n",
       " 'демоноид': 891,\n",
       " 'девмановский': 892,\n",
       " 'сожалею': 893,\n",
       " 'аппарат': 894,\n",
       " 'конкретно': 895,\n",
       " 'кладка': 896,\n",
       " 'премного': 897,\n",
       " 'тамжа': 898,\n",
       " 'мыльний': 899,\n",
       " 'продуктивный': 900,\n",
       " 'лайтовый': 901,\n",
       " 'пастэльный': 902,\n",
       " 'проблеск': 903,\n",
       " 'адско': 904,\n",
       " 'лохматик': 905,\n",
       " 'аврора': 906,\n",
       " 'хамтаараа': 907,\n",
       " 'определите': 908,\n",
       " 'маторика': 909,\n",
       " 'сленг': 910,\n",
       " 'гроза': 911,\n",
       " 'неофициально': 912,\n",
       " 'проползать': 913,\n",
       " 'дискриминировать': 914,\n",
       " 'спецалиста': 915,\n",
       " 'матеш': 916,\n",
       " 'потрять': 917,\n",
       " 'переподговка': 918,\n",
       " 'вухуа': 919,\n",
       " 'нубль': 920,\n",
       " 'врываться': 921,\n",
       " 'коррекция': 922,\n",
       " 'профисеональный': 923,\n",
       " 'скептично': 924,\n",
       " 'молодиться': 925,\n",
       " 'омерзение': 926,\n",
       " 'выматываться': 927,\n",
       " 'скинуть': 928,\n",
       " 'сбой': 929,\n",
       " 'компульсивный': 930,\n",
       " 'подменили': 931,\n",
       " 'угаар': 932,\n",
       " 'творится': 933,\n",
       " 'тигренок': 934,\n",
       " 'понадежнее': 935,\n",
       " 'спортивнее': 936,\n",
       " 'тимирязев': 937,\n",
       " 'налог': 938,\n",
       " 'усвоиться': 939,\n",
       " 'твоюжмать': 940,\n",
       " 'протеже': 941,\n",
       " 'ува': 942,\n",
       " 'закупщица': 943,\n",
       " 'интрнет': 944,\n",
       " 'выжатые': 945,\n",
       " 'забуть': 946,\n",
       " 'лалалайк': 947,\n",
       " 'установление': 948,\n",
       " 'пшеничный': 949,\n",
       " 'эластичный': 950,\n",
       " 'выплевывать': 951,\n",
       " 'дама': 952,\n",
       " 'ортеза': 953,\n",
       " 'ресепшина': 954,\n",
       " 'охаивание': 955,\n",
       " 'больней': 956,\n",
       " 'перепираться': 957,\n",
       " 'исполнительность': 958,\n",
       " 'нехитрый': 959,\n",
       " 'мыш': 960,\n",
       " 'черпала': 961,\n",
       " 'титька': 962,\n",
       " 'предзащита': 963,\n",
       " 'комнатепый': 964,\n",
       " 'обосцать': 965,\n",
       " 'аргументация': 966,\n",
       " 'фантоом': 967,\n",
       " 'государев': 968,\n",
       " 'кривой': 969,\n",
       " 'защититься': 970,\n",
       " 'битком': 971,\n",
       " 'приближение': 972,\n",
       " 'дверца': 973,\n",
       " 'перелопатить': 974,\n",
       " 'фоткац': 975,\n",
       " 'когий': 976,\n",
       " 'обожа': 977,\n",
       " 'локализовать': 978,\n",
       " 'наклоняться': 979,\n",
       " 'протекать': 980,\n",
       " 'постояшка': 981,\n",
       " 'ханжа': 982,\n",
       " 'внучебок': 983,\n",
       " 'обязуетесь': 984,\n",
       " 'утайка': 985,\n",
       " 'крашу': 986,\n",
       " 'ратовать': 987,\n",
       " 'антидетский': 988,\n",
       " 'онаа': 989,\n",
       " 'ром': 990,\n",
       " 'форзац': 991,\n",
       " 'заниятие': 992,\n",
       " 'трапереть': 993,\n",
       " 'жужуж': 994,\n",
       " 'поучится': 995,\n",
       " 'безвозвратно': 996,\n",
       " 'новорасти': 997,\n",
       " 'напутственный': 998,\n",
       " 'ухватиться': 999,\n",
       " ...}"
      ]
     },
     "execution_count": 20,
     "metadata": {},
     "output_type": "execute_result"
    }
   ],
   "source": [
    "word_dict"
   ]
  },
  {
   "cell_type": "code",
   "execution_count": 15,
   "id": "9a99ef4b-9155-479a-ab39-49ad8e8e3d0e",
   "metadata": {},
   "outputs": [],
   "source": [
    "def word2num(word_dict, texts, max_len, pad_idx):\n",
    "    result = []\n",
    "\n",
    "    for text in texts:\n",
    "        tmp = []\n",
    "        for i in range(max_len):\n",
    "            if len(text) > i and text[i] in word_dict:\n",
    "                word = text[i]\n",
    "                tmp.append(word_dict[word])\n",
    "            else:\n",
    "                tmp.append(pad_idx)\n",
    "        result.append(tmp)\n",
    "    return result"
   ]
  },
  {
   "cell_type": "code",
   "execution_count": 16,
   "id": "f5697048-6532-46c7-b60a-02b507cc936a",
   "metadata": {},
   "outputs": [
    {
     "data": {
      "text/plain": [
       "45398"
      ]
     },
     "execution_count": 16,
     "metadata": {},
     "output_type": "execute_result"
    }
   ],
   "source": [
    "train = word2num(word_dict, X_train, 80, word_dict[padding])\n",
    "len(train)"
   ]
  },
  {
   "cell_type": "code",
   "execution_count": 17,
   "id": "fa820d0a-f1d3-4485-82bc-b07fb0b8a3f9",
   "metadata": {},
   "outputs": [
    {
     "data": {
      "text/plain": [
       "5960"
      ]
     },
     "execution_count": 17,
     "metadata": {},
     "output_type": "execute_result"
    }
   ],
   "source": [
    "test = word2num(word_dict, X_test, 80, word_dict[padding])\n",
    "len(test)"
   ]
  },
  {
   "cell_type": "code",
   "execution_count": null,
   "id": "84d731ac-999a-4348-b900-b87df70980be",
   "metadata": {},
   "outputs": [],
   "source": []
  },
  {
   "cell_type": "markdown",
   "id": "9010b67a-2833-41c6-aaaa-08944c48571b",
   "metadata": {},
   "source": [
    "### Балансировка классов"
   ]
  },
  {
   "cell_type": "code",
   "execution_count": 18,
   "id": "3d13cf40-511d-45e8-9661-a7022cd4f4cd",
   "metadata": {},
   "outputs": [
    {
     "name": "stdout",
     "output_type": "stream",
     "text": [
      "[0 1] [14601 30797]\n",
      "[0.3216221 0.6783779]\n"
     ]
    }
   ],
   "source": [
    "train_pre = [np.argmax(i) for i in y_train]\n",
    "\n",
    "unique, counts = np.unique(train_pre, return_counts=True)\n",
    "print(unique, counts)\n",
    "counts = [i/len(train_pre) for i in counts]\n",
    "class_weights = np.array(counts)\n",
    "print(class_weights)"
   ]
  },
  {
   "cell_type": "code",
   "execution_count": 19,
   "id": "42e9c98c-63c6-4c00-85da-132e5ccb7026",
   "metadata": {},
   "outputs": [],
   "source": [
    "weight = torch.FloatTensor(class_weights)\n",
    "weight = weight.to(device)"
   ]
  },
  {
   "cell_type": "code",
   "execution_count": null,
   "id": "522b23d1-2451-46ef-8680-bf580d7a90b7",
   "metadata": {},
   "outputs": [],
   "source": []
  },
  {
   "cell_type": "markdown",
   "id": "981e3793-eaf1-40a6-853f-a35cfd569199",
   "metadata": {},
   "source": [
    "## Создание моделей"
   ]
  },
  {
   "cell_type": "code",
   "execution_count": 20,
   "id": "d16be261-df92-4d3d-ace6-84d7609b96bd",
   "metadata": {},
   "outputs": [],
   "source": [
    "class SentimentCNN(nn.Module):\n",
    "    def __init__(self, vocab_len, dim, max_len, padding_idx):\n",
    "        super(SentimentCNN, self).__init__()\n",
    "        self.max_len = max_len\n",
    "        self.dim = dim\n",
    "        self.padding_idx = padding_idx\n",
    "        self.embedding = nn.Embedding(vocab_len, dim, padding_idx=padding_idx)\n",
    "        \n",
    "        self.conv1 = nn.Conv2d(1, 16, (2, 2), padding=1)\n",
    "        self.conv2 = nn.Conv2d(16, 32, (3, 3), padding=1)\n",
    "        self.pool = nn.MaxPool2d(2)\n",
    "        self.drop = nn.Dropout(p=0.1)\n",
    "        self.fc1 = nn.Linear(16000, 2) \n",
    "        \n",
    "        self.softmax = nn.Softmax(dim=1)\n",
    "\n",
    "    def forward(self,x):\n",
    "        x = x.reshape(len(x), 1, self.max_len)\n",
    "        x = self.embedding(x)\n",
    "        \n",
    "        x = F.relu(self.conv1(x))\n",
    "        x = self.pool(x)\n",
    "        x = F.relu(self.conv2(x))\n",
    "        x = self.pool(x)\n",
    "        x = torch.flatten(x, 1)\n",
    "        x = self.drop(x)\n",
    "        x = self.fc1(x)\n",
    "\n",
    "        x = self.softmax(x)\n",
    "        return x"
   ]
  },
  {
   "cell_type": "code",
   "execution_count": 33,
   "id": "150ce7d5-df7d-4596-a85f-640da1011848",
   "metadata": {},
   "outputs": [
    {
     "data": {
      "text/plain": [
       "SentimentCNN(\n",
       "  (embedding): Embedding(66018, 100, padding_idx=35137)\n",
       "  (conv1): Conv2d(1, 16, kernel_size=(2, 2), stride=(1, 1), padding=(1, 1))\n",
       "  (conv2): Conv2d(16, 32, kernel_size=(3, 3), stride=(1, 1), padding=(1, 1))\n",
       "  (pool): MaxPool2d(kernel_size=2, stride=2, padding=0, dilation=1, ceil_mode=False)\n",
       "  (drop): Dropout(p=0.1, inplace=False)\n",
       "  (fc1): Linear(in_features=16000, out_features=2, bias=True)\n",
       "  (softmax): Softmax(dim=1)\n",
       ")"
      ]
     },
     "execution_count": 33,
     "metadata": {},
     "output_type": "execute_result"
    }
   ],
   "source": [
    "max_len=80\n",
    "\n",
    "cnn = SentimentCNN(len(word_dict), 100, max_len, word_dict[padding])\n",
    "cnn = cnn.to(device)\n",
    "loss_fn = nn.BCELoss(weight = weight)\n",
    "optimizer = optim.Adam(cnn.parameters(), lr=0.001)\n",
    "cnn"
   ]
  },
  {
   "cell_type": "code",
   "execution_count": null,
   "id": "c619db89-55a9-4e3a-bfe6-1f394e3fdaa6",
   "metadata": {},
   "outputs": [],
   "source": []
  },
  {
   "cell_type": "code",
   "execution_count": 21,
   "id": "392a8307-4c65-4653-a503-fa821922f55d",
   "metadata": {},
   "outputs": [],
   "source": [
    "batch_size = 10\n",
    "\n",
    "train = TensorDataset(torch.IntTensor(train), torch.FloatTensor(y_train.toarray()))\n",
    "test = TensorDataset(torch.IntTensor(test), torch.FloatTensor(y_test.toarray()))\n",
    "\n",
    "train_loader = DataLoader(train,  batch_size=batch_size, shuffle=True)\n",
    "test_loader = DataLoader(test, batch_size=batch_size, shuffle=True)"
   ]
  },
  {
   "cell_type": "code",
   "execution_count": null,
   "id": "c2ae68f3-3076-4814-8503-8160948a7245",
   "metadata": {},
   "outputs": [],
   "source": []
  },
  {
   "cell_type": "markdown",
   "id": "6bc387fd-ea52-4953-8861-be656eaee2d5",
   "metadata": {},
   "source": [
    "## Метрики"
   ]
  },
  {
   "cell_type": "code",
   "execution_count": 22,
   "id": "b74fbe30-7b1e-4315-bb01-f8d773f8e4c5",
   "metadata": {},
   "outputs": [],
   "source": [
    "metrics_dict_train = {}\n",
    "metrics_dict_test = {}"
   ]
  },
  {
   "cell_type": "code",
   "execution_count": 23,
   "id": "5fd991b5-861f-4b80-ab5d-b6a9888a775a",
   "metadata": {},
   "outputs": [],
   "source": [
    "def metrics_(model, data_loader, device, epoch, is_train=False):\n",
    "    correct = 0\n",
    "\n",
    "    pred = []\n",
    "    target = []\n",
    "    \n",
    "    with torch.no_grad():\n",
    "        for i, (X, y) in enumerate(data_loader):\n",
    "            X = X.to(device)\n",
    "            y = y.to(device)\n",
    "            outputs = model(X)\n",
    "\n",
    "            pred.extend(outputs.cpu())\n",
    "            target.extend(y.cpu())\n",
    "\n",
    "\n",
    "        pred_bin = [i.argmax() for i in pred]\n",
    "        label_bin = [i.argmax() for i in target]\n",
    "        \n",
    "        f1_score = metrics.f1_score(pred_bin, label_bin, average='weighted') \n",
    "        precision = metrics.precision_score(pred_bin, label_bin, average='weighted')\n",
    "        recall = metrics.recall_score(pred_bin, label_bin, average='weighted')\n",
    "        accuracy = metrics.accuracy_score(pred_bin, label_bin)\n",
    "\n",
    "        tmp_metrics = {'f1-score': f1_score, 'precision': precision, 'recall': recall, 'accuracy': accuracy}\n",
    "        if is_train:\n",
    "            metrics_dict_train[epoch] = tmp_metrics\n",
    "        else:\n",
    "            metrics_dict_test[epoch] = tmp_metrics\n",
    "\n",
    "        print('F1-мера:',str('{:04.2f}'.format(f1_score*100))+'%')\n",
    "        print('Precision:',str('{:04.2f}'.format(precision*100))+'%')\n",
    "        print('Recall:',str('{:04.2f}'.format(recall*100))+'%')\n",
    "        print('Accuracy:',str('{:04.2f}'.format(accuracy*100))+'%')"
   ]
  },
  {
   "cell_type": "code",
   "execution_count": 24,
   "id": "12186c63-fd52-4930-9e5a-42e3a8950048",
   "metadata": {},
   "outputs": [],
   "source": [
    "def train_model(model, epochs = 10, prefix='e'):\n",
    "    start = time.time()\n",
    "    global metrics_dict_train, metrics_dict_test\n",
    "    metrics_dict_train = {}\n",
    "    metrics_dict_test = {}\n",
    "    \n",
    "    for epoch in range(epochs):\n",
    "        model.train()\n",
    "        for i, data in enumerate(tqdm(train_loader)):\n",
    "            text, labels = data\n",
    "            text = text.to(device)\n",
    "            labels = labels.to(device)\n",
    "        \n",
    "            optimizer.zero_grad()\n",
    "            outputs = model(text)\n",
    "            # print(outputs, labels)\n",
    "            loss = loss_fn(outputs, labels)\n",
    "            loss.backward()\n",
    "            optimizer.step()\n",
    "\n",
    "        # torch.save(model, f'models/{prefix}{epoch}_lstm.pt')\n",
    "    \n",
    "        with torch.set_grad_enabled(False):\n",
    "            print(f'Epoch: {epoch}')\n",
    "            print('Train')\n",
    "            metrics_(model, train_loader, device, epoch, is_train=True)\n",
    "            print('Test')\n",
    "            metrics_(model, test_loader, device, epoch)\n",
    "\n",
    "        \n",
    "    print(f'Total time: {(time.time() - start)/60:.2f} min')"
   ]
  },
  {
   "cell_type": "code",
   "execution_count": 25,
   "id": "85f31ffe-8ae9-46ee-8086-b48513684a73",
   "metadata": {},
   "outputs": [],
   "source": [
    "def draw_metrics():\n",
    "    fig, ax = plt.subplots(2, 2)\n",
    "    fig.suptitle('Метрики')\n",
    "    fig.set_size_inches(15, 7)\n",
    "    \n",
    "    amount = len(metrics_dict_train)\n",
    "    \n",
    "    for i, name in enumerate(['accuracy', 'precision', 'recall', 'f1-score']):\n",
    "        train_metrics = [metrics_dict_train[i][name] for i in range(amount)]\n",
    "        test_metrics = [metrics_dict_test[i][name] for i in range(amount)]\n",
    "    \n",
    "        x = list(range(amount))\n",
    "        current_ax = ax[i%2][i//2]\n",
    "        current_ax.plot(x, train_metrics, label='Train')\n",
    "        current_ax.plot(x, test_metrics, label='Test')\n",
    "        current_ax.set_title(name)\n",
    "        current_ax.legend(loc='upper left')\n",
    "        current_ax.grid()"
   ]
  },
  {
   "cell_type": "code",
   "execution_count": null,
   "id": "879a0321-d2f1-4bd3-9d7b-60a0a4c2bd40",
   "metadata": {},
   "outputs": [],
   "source": []
  },
  {
   "cell_type": "code",
   "execution_count": 38,
   "id": "bcf4c196-a6e8-4e09-94ea-203de25b0977",
   "metadata": {
    "scrolled": true
   },
   "outputs": [
    {
     "name": "stderr",
     "output_type": "stream",
     "text": [
      "100%|██████████████████████████████████████| 4540/4540 [00:28<00:00, 161.78it/s]\n"
     ]
    },
    {
     "name": "stdout",
     "output_type": "stream",
     "text": [
      "Epoch: 0\n",
      "Train\n",
      "F1-мера: 74.55%\n",
      "Precision: 82.73%\n",
      "Recall: 70.31%\n",
      "Accuracy: 70.31%\n",
      "Test\n",
      "F1-мера: 60.84%\n",
      "Precision: 76.52%\n",
      "Recall: 55.69%\n",
      "Accuracy: 55.69%\n"
     ]
    },
    {
     "name": "stderr",
     "output_type": "stream",
     "text": [
      "100%|██████████████████████████████████████| 4540/4540 [00:26<00:00, 170.89it/s]\n"
     ]
    },
    {
     "name": "stdout",
     "output_type": "stream",
     "text": [
      "Epoch: 1\n",
      "Train\n",
      "F1-мера: 75.52%\n",
      "Precision: 83.12%\n",
      "Recall: 71.75%\n",
      "Accuracy: 71.75%\n",
      "Test\n",
      "F1-мера: 61.55%\n",
      "Precision: 76.55%\n",
      "Recall: 56.83%\n",
      "Accuracy: 56.83%\n"
     ]
    },
    {
     "name": "stderr",
     "output_type": "stream",
     "text": [
      "100%|██████████████████████████████████████| 4540/4540 [00:26<00:00, 171.40it/s]\n"
     ]
    },
    {
     "name": "stdout",
     "output_type": "stream",
     "text": [
      "Epoch: 2\n",
      "Train\n",
      "F1-мера: 76.04%\n",
      "Precision: 83.00%\n",
      "Recall: 72.68%\n",
      "Accuracy: 72.68%\n",
      "Test\n",
      "F1-мера: 62.52%\n",
      "Precision: 76.79%\n",
      "Recall: 58.26%\n",
      "Accuracy: 58.26%\n"
     ]
    },
    {
     "name": "stderr",
     "output_type": "stream",
     "text": [
      "100%|██████████████████████████████████████| 4540/4540 [00:26<00:00, 171.59it/s]\n"
     ]
    },
    {
     "name": "stdout",
     "output_type": "stream",
     "text": [
      "Epoch: 3\n",
      "Train\n",
      "F1-мера: 76.70%\n",
      "Precision: 82.93%\n",
      "Recall: 73.79%\n",
      "Accuracy: 73.79%\n",
      "Test\n",
      "F1-мера: 63.02%\n",
      "Precision: 75.23%\n",
      "Recall: 59.58%\n",
      "Accuracy: 59.58%\n"
     ]
    },
    {
     "name": "stderr",
     "output_type": "stream",
     "text": [
      "100%|██████████████████████████████████████| 4540/4540 [00:26<00:00, 171.12it/s]\n"
     ]
    },
    {
     "name": "stdout",
     "output_type": "stream",
     "text": [
      "Epoch: 4\n",
      "Train\n",
      "F1-мера: 77.28%\n",
      "Precision: 83.62%\n",
      "Recall: 74.38%\n",
      "Accuracy: 74.38%\n",
      "Test\n",
      "F1-мера: 63.05%\n",
      "Precision: 75.79%\n",
      "Recall: 59.43%\n",
      "Accuracy: 59.43%\n"
     ]
    },
    {
     "name": "stderr",
     "output_type": "stream",
     "text": [
      "100%|██████████████████████████████████████| 4540/4540 [00:26<00:00, 170.89it/s]\n"
     ]
    },
    {
     "name": "stdout",
     "output_type": "stream",
     "text": [
      "Epoch: 5\n",
      "Train\n",
      "F1-мера: 77.25%\n",
      "Precision: 80.46%\n",
      "Recall: 75.72%\n",
      "Accuracy: 75.72%\n",
      "Test\n",
      "F1-мера: 62.95%\n",
      "Precision: 71.05%\n",
      "Recall: 60.84%\n",
      "Accuracy: 60.84%\n"
     ]
    },
    {
     "name": "stderr",
     "output_type": "stream",
     "text": [
      "100%|██████████████████████████████████████| 4540/4540 [00:27<00:00, 165.12it/s]\n"
     ]
    },
    {
     "name": "stdout",
     "output_type": "stream",
     "text": [
      "Epoch: 6\n",
      "Train\n",
      "F1-мера: 77.46%\n",
      "Precision: 79.59%\n",
      "Recall: 76.38%\n",
      "Accuracy: 76.38%\n",
      "Test\n",
      "F1-мера: 63.47%\n",
      "Precision: 69.51%\n",
      "Recall: 61.98%\n",
      "Accuracy: 61.98%\n"
     ]
    },
    {
     "name": "stderr",
     "output_type": "stream",
     "text": [
      "100%|██████████████████████████████████████| 4540/4540 [00:27<00:00, 164.86it/s]\n"
     ]
    },
    {
     "name": "stdout",
     "output_type": "stream",
     "text": [
      "Epoch: 7\n",
      "Train\n",
      "F1-мера: 78.24%\n",
      "Precision: 81.52%\n",
      "Recall: 76.74%\n",
      "Accuracy: 76.74%\n",
      "Test\n",
      "F1-мера: 62.92%\n",
      "Precision: 71.46%\n",
      "Recall: 60.67%\n",
      "Accuracy: 60.67%\n"
     ]
    },
    {
     "name": "stderr",
     "output_type": "stream",
     "text": [
      "100%|██████████████████████████████████████| 4540/4540 [00:27<00:00, 163.26it/s]\n"
     ]
    },
    {
     "name": "stdout",
     "output_type": "stream",
     "text": [
      "Epoch: 8\n",
      "Train\n",
      "F1-мера: 78.15%\n",
      "Precision: 79.58%\n",
      "Recall: 77.39%\n",
      "Accuracy: 77.39%\n",
      "Test\n",
      "F1-мера: 63.73%\n",
      "Precision: 68.39%\n",
      "Recall: 62.62%\n",
      "Accuracy: 62.62%\n"
     ]
    },
    {
     "name": "stderr",
     "output_type": "stream",
     "text": [
      "100%|██████████████████████████████████████| 4540/4540 [00:27<00:00, 167.44it/s]\n"
     ]
    },
    {
     "name": "stdout",
     "output_type": "stream",
     "text": [
      "Epoch: 9\n",
      "Train\n",
      "F1-мера: 78.79%\n",
      "Precision: 80.91%\n",
      "Recall: 77.77%\n",
      "Accuracy: 77.77%\n",
      "Test\n",
      "F1-мера: 63.13%\n",
      "Precision: 69.60%\n",
      "Recall: 61.51%\n",
      "Accuracy: 61.51%\n",
      "Total time: 6.39 min\n"
     ]
    }
   ],
   "source": [
    "train_model(cnn, epochs = 10)"
   ]
  },
  {
   "cell_type": "code",
   "execution_count": 40,
   "id": "1123f6de-fb0e-497b-88c5-37fb6abb304b",
   "metadata": {},
   "outputs": [
    {
     "data": {
      "image/png": "[encoded data removed]",
      "text/plain": [
       "<Figure size 1500x700 with 4 Axes>"
      ]
     },
     "metadata": {},
     "output_type": "display_data"
    }
   ],
   "source": [
    "draw_metrics()"
   ]
  },
  {
   "cell_type": "code",
   "execution_count": null,
   "id": "5d785ee4-8298-4622-b566-c017916b5bb3",
   "metadata": {},
   "outputs": [],
   "source": []
  },
  {
   "cell_type": "markdown",
   "id": "d7d8dc05-4be9-4cce-992c-5f801e0de6fa",
   "metadata": {},
   "source": [
    "## Используем предобученную word2vec модель в качестве embedding"
   ]
  },
  {
   "cell_type": "code",
   "execution_count": 26,
   "id": "e0e96365-bde4-4002-95cc-ca6a60d2d976",
   "metadata": {},
   "outputs": [],
   "source": [
    "corp.append(['__pad__'])\n",
    "w2v_model = Word2Vec(corp, vector_size=30, window=5, min_count=1, workers=4)"
   ]
  },
  {
   "cell_type": "code",
   "execution_count": 27,
   "id": "a06fc464-8c5b-4bdb-a65d-32e140bafef5",
   "metadata": {},
   "outputs": [],
   "source": [
    "pad_idx = w2v_model.wv.get_index('__pad__')"
   ]
  },
  {
   "cell_type": "code",
   "execution_count": 28,
   "id": "4348a193-611c-4ab5-9915-9e849795ee42",
   "metadata": {},
   "outputs": [
    {
     "data": {
      "text/plain": [
       "((5, 6),\n",
       " array([[  852, 38242, 38242, 38242, 38242, 38242],\n",
       "        [    0,    53,   227,   402,  1042,   114],\n",
       "        [  799, 38242, 38242, 38242, 38242, 38242],\n",
       "        [10218,  2485,     0,  5029, 38242, 38242],\n",
       "        [17796,   217,   778,   624, 38242, 38242]]))"
      ]
     },
     "execution_count": 28,
     "metadata": {},
     "output_type": "execute_result"
    }
   ],
   "source": [
    "def preprocess_text(texts, word_dict, max_len, pad_index):\n",
    "    result = []\n",
    "    for i in texts:\n",
    "        tmp = []\n",
    "        i.append('__pad__') # for bigrams\n",
    "        # print(i)\n",
    "        for j in range(max_len):\n",
    "            # print(i[j])\n",
    "            if len(i)-1 > j and f'{i[j]}_{i[j+1]}' in word_dict:# for bigrams\n",
    "                word = f'{i[j]}_{i[j+1]}'\n",
    "                tmp.append(word_dict[word])\n",
    "                # print(word, word_dict[word])\n",
    "            elif len(i)-1 > j and i[j] in word_dict:\n",
    "                word = i[j]\n",
    "                tmp.append(word_dict[word])\n",
    "            else:\n",
    "                tmp.append(pad_index)\n",
    "        result.append(tmp)\n",
    "    return result\n",
    "\n",
    "tmp = np.array(preprocess_text(corp[:5], w2v_model.wv.key_to_index, 6, pad_idx))\n",
    "tmp.shape, tmp"
   ]
  },
  {
   "cell_type": "code",
   "execution_count": 31,
   "id": "0433780c-0e8d-4e75-8b6f-1fbf130cd0c4",
   "metadata": {},
   "outputs": [],
   "source": [
    "train = pd.read_csv('datasets/train.csv', index_col=0)\n",
    "train = train.dropna()\n",
    "test = pd.read_csv('datasets/test.csv', index_col=0)\n",
    "test = test.dropna()\n",
    "\n",
    "train_corp = del_stopwords(train.lemma.tolist())\n",
    "test_corp = del_stopwords(test.lemma.tolist())"
   ]
  },
  {
   "cell_type": "code",
   "execution_count": 34,
   "id": "14ea4ac3-de23-46f7-af07-9a26ae9a8e37",
   "metadata": {},
   "outputs": [],
   "source": [
    "train_texts = preprocess_text(train_corp, w2v_model.wv.key_to_index, max_len, pad_idx)\n",
    "test_texts = preprocess_text(test_corp, w2v_model.wv.key_to_index, max_len, pad_idx)"
   ]
  },
  {
   "cell_type": "code",
   "execution_count": 35,
   "id": "dfe5319a-8b52-40dd-a2f2-0adc0f8e8123",
   "metadata": {},
   "outputs": [
    {
     "data": {
      "text/plain": [
       "(63899, 30)"
      ]
     },
     "execution_count": 35,
     "metadata": {},
     "output_type": "execute_result"
    }
   ],
   "source": [
    "num = len(w2v_model.wv.index_to_key)\n",
    "dim = w2v_model.vector_size\n",
    "num, dim"
   ]
  },
  {
   "cell_type": "code",
   "execution_count": 89,
   "id": "08016b17-2aba-4a6d-a009-5b3a25d34042",
   "metadata": {},
   "outputs": [
    {
     "data": {
      "text/plain": [
       "(45398, (45398, 2))"
      ]
     },
     "execution_count": 89,
     "metadata": {},
     "output_type": "execute_result"
    }
   ],
   "source": [
    "len(train_texts), y_train.shape"
   ]
  },
  {
   "cell_type": "code",
   "execution_count": 36,
   "id": "7a2117c4-d3aa-4f32-bd8a-2f4e36adc468",
   "metadata": {},
   "outputs": [],
   "source": [
    "def get_embedding(model, num, dim):\n",
    "    emb_weights = np.zeros((num, dim))\n",
    "    \n",
    "    for key, i in enumerate(model.wv.key_to_index.keys()):\n",
    "        emb_weights[key] = model.wv[i]\n",
    "    emb_weights = torch.Tensor(emb_weights)\n",
    "    print('Embedding len:', emb_weights.shape)\n",
    "    return emb_weights"
   ]
  },
  {
   "cell_type": "code",
   "execution_count": 37,
   "id": "90a68269-b402-4f79-ab0c-fcc28546347f",
   "metadata": {},
   "outputs": [
    {
     "name": "stdout",
     "output_type": "stream",
     "text": [
      "Embedding len: torch.Size([63899, 30])\n"
     ]
    }
   ],
   "source": [
    "emb_weights = get_embedding(w2v_model, num, dim)"
   ]
  },
  {
   "cell_type": "code",
   "execution_count": 38,
   "id": "48657d0f-8253-4f0e-9bdc-1d4f2f4dab65",
   "metadata": {},
   "outputs": [],
   "source": [
    "def get_dataloaders(train_texts, test_texts):\n",
    "    train = TensorDataset(torch.IntTensor(train_texts), torch.FloatTensor(y_train.toarray()))\n",
    "    test = TensorDataset(torch.IntTensor(test_texts), torch.FloatTensor(y_test.toarray()))\n",
    "    \n",
    "    train_loader = DataLoader(train,  batch_size=batch_size, shuffle=True)\n",
    "    test_loader = DataLoader(test, batch_size=batch_size, shuffle=True)\n",
    "\n",
    "    return train_loader, test_loader"
   ]
  },
  {
   "cell_type": "code",
   "execution_count": 39,
   "id": "294c0459-dc89-4618-8bde-363218ef4ef8",
   "metadata": {},
   "outputs": [],
   "source": [
    "train_loader, test_loader = get_dataloaders(train_texts, test_texts)"
   ]
  },
  {
   "cell_type": "code",
   "execution_count": null,
   "id": "0b390527-f057-479e-bdbb-d3730a5dbfa9",
   "metadata": {},
   "outputs": [],
   "source": []
  },
  {
   "cell_type": "code",
   "execution_count": 40,
   "id": "da7f10a5-009e-465e-b7c3-ee8b6d655f98",
   "metadata": {},
   "outputs": [],
   "source": [
    "class SentimentCNN(nn.Module):\n",
    "    def __init__(self, vocab_len, dim, max_len, padding_idx, weights):\n",
    "        super(SentimentCNN, self).__init__()\n",
    "        self.max_len = max_len\n",
    "        self.dim = dim\n",
    "        self.padding_idx = padding_idx\n",
    "        self.embedding = nn.Embedding(vocab_len, dim, padding_idx=padding_idx, _weight=weights)\n",
    "        \n",
    "        self.conv1 = nn.Conv2d(1, 32, (2, 2), padding=1)\n",
    "        self.conv2 = nn.Conv2d(32, 64, (2, 2), padding=1)\n",
    "        self.conv3 = nn.Conv2d(64, 128, (3, 3), padding=2)\n",
    "        self.conv4 = nn.Conv2d(128, 256, (3, 3), padding=2)\n",
    "        self.conv5 = nn.Conv2d(256, 512, (4, 4), padding=3)\n",
    "        self.pool1 = nn.MaxPool2d(2)\n",
    "        self.drop = nn.Dropout(p=0.2)\n",
    "        self.fc1 = nn.Linear(6144, 2) \n",
    "        \n",
    "        self.softmax = nn.Softmax(dim=1)\n",
    "\n",
    "    def forward(self,x):\n",
    "        x = self.embedding(x)\n",
    "        x = x.reshape(x.shape[0], 1, self.max_len, self.dim)\n",
    "        \n",
    "        x = F.relu(self.conv1(x))\n",
    "        x = self.pool1(x)\n",
    "        x = F.relu(self.conv2(x))\n",
    "        x = self.pool1(x)\n",
    "        x = F.relu(self.conv3(x))\n",
    "        x = self.pool1(x)\n",
    "        x = F.relu(self.conv4(x))\n",
    "        x = self.pool1(x)\n",
    "        x = F.relu(self.conv5(x))\n",
    "        x = self.pool1(x)\n",
    "        x = torch.flatten(x, 1)\n",
    "        # print(x.shape)\n",
    "        x = self.drop(x)\n",
    "        x = self.fc1(x)\n",
    "\n",
    "        x = self.softmax(x)\n",
    "        return x"
   ]
  },
  {
   "cell_type": "code",
   "execution_count": 41,
   "id": "d566e340-2701-40de-8e51-37fdb0369e43",
   "metadata": {},
   "outputs": [
    {
     "data": {
      "text/plain": [
       "SentimentCNN(\n",
       "  (embedding): Embedding(63899, 30, padding_idx=38242)\n",
       "  (conv1): Conv2d(1, 32, kernel_size=(2, 2), stride=(1, 1), padding=(1, 1))\n",
       "  (conv2): Conv2d(32, 64, kernel_size=(2, 2), stride=(1, 1), padding=(1, 1))\n",
       "  (conv3): Conv2d(64, 128, kernel_size=(3, 3), stride=(1, 1), padding=(2, 2))\n",
       "  (conv4): Conv2d(128, 256, kernel_size=(3, 3), stride=(1, 1), padding=(2, 2))\n",
       "  (conv5): Conv2d(256, 512, kernel_size=(4, 4), stride=(1, 1), padding=(3, 3))\n",
       "  (pool1): MaxPool2d(kernel_size=2, stride=2, padding=0, dilation=1, ceil_mode=False)\n",
       "  (drop): Dropout(p=0.2, inplace=False)\n",
       "  (fc1): Linear(in_features=6144, out_features=2, bias=True)\n",
       "  (softmax): Softmax(dim=1)\n",
       ")"
      ]
     },
     "execution_count": 41,
     "metadata": {},
     "output_type": "execute_result"
    }
   ],
   "source": [
    "max_len=80\n",
    "\n",
    "cnn = SentimentCNN(num, dim, max_len, pad_idx, emb_weights)\n",
    "cnn = cnn.to(device)\n",
    "loss_fn = nn.BCELoss(weight = weight)\n",
    "optimizer = optim.Adam(cnn.parameters(), lr=0.001)\n",
    "cnn"
   ]
  },
  {
   "cell_type": "code",
   "execution_count": 42,
   "id": "d5bd75ca-ea81-411a-93db-b4d6f91ca7c2",
   "metadata": {},
   "outputs": [],
   "source": [
    "emb = nn.Embedding(num, dim, padding_idx=pad_idx, _weight=emb_weights)"
   ]
  },
  {
   "cell_type": "code",
   "execution_count": 130,
   "id": "8b4c3f8b-c455-465f-8912-1ca6bfe2c48c",
   "metadata": {},
   "outputs": [
    {
     "data": {
      "text/plain": [
       "torch.Size([80, 30])"
      ]
     },
     "execution_count": 130,
     "metadata": {},
     "output_type": "execute_result"
    }
   ],
   "source": [
    "emb(torch.tensor(train_texts[20])).shape"
   ]
  },
  {
   "cell_type": "code",
   "execution_count": 166,
   "id": "ce923d25-29ce-4749-a163-b6910c0867b3",
   "metadata": {},
   "outputs": [
    {
     "data": {
      "text/plain": [
       "torch.Size([10, 80, 30])"
      ]
     },
     "execution_count": 166,
     "metadata": {},
     "output_type": "execute_result"
    }
   ],
   "source": [
    "tmp = emb(torch.tensor(train_texts[:10]))\n",
    "tmp.shape"
   ]
  },
  {
   "cell_type": "code",
   "execution_count": 179,
   "id": "11457966-e1ac-44b8-bf30-cb1b0f3dc0a0",
   "metadata": {
    "scrolled": true
   },
   "outputs": [
    {
     "data": {
      "text/plain": [
       "tensor([[[[-0.7085,  0.2511,  0.0931,  ..., -0.0351, -0.6589, -0.2488],\n",
       "          [-0.1252, -1.3081, -0.7679,  ..., -1.3700,  0.9117, -0.2360],\n",
       "          [-0.1868, -0.1707, -0.2235,  ..., -0.1220, -0.3392, -0.2526],\n",
       "          ...,\n",
       "          [-0.1868, -0.1707, -0.2235,  ..., -0.1220, -0.3392, -0.2526],\n",
       "          [-0.1868, -0.1707, -0.2235,  ..., -0.1220, -0.3392, -0.2526],\n",
       "          [ 0.2217,  0.3251, -0.0948,  ...,  0.7528, -1.0261, -0.2567]],\n",
       "\n",
       "         [[ 0.1729,  0.3696,  0.4989,  ...,  0.5238,  0.2251,  0.2321],\n",
       "          [-0.4923,  0.5610,  0.9624,  ...,  0.9071, -0.1423,  0.1990],\n",
       "          [-0.4131, -0.8720, -0.2869,  ..., -0.9534,  0.8675,  0.8317],\n",
       "          ...,\n",
       "          [-0.4131, -0.8720, -0.2869,  ..., -0.9534,  0.8675,  0.8317],\n",
       "          [-0.4131, -0.8720, -0.2869,  ..., -0.9534,  0.8675,  0.8317],\n",
       "          [-0.2935, -0.6523, -0.1592,  ..., -0.7665,  0.8263,  0.7042]],\n",
       "\n",
       "         [[ 0.2212,  0.8284, -0.3955,  ..., -0.8323, -0.0393,  0.7561],\n",
       "          [-0.3805,  0.6394,  2.1060,  ...,  1.3686,  1.1541, -1.3192],\n",
       "          [-0.3104, -0.5691, -0.1118,  ..., -0.7960,  0.8357,  0.4788],\n",
       "          ...,\n",
       "          [-0.3104, -0.5691, -0.1118,  ..., -0.7960,  0.8357,  0.4788],\n",
       "          [-0.3104, -0.5691, -0.1118,  ..., -0.7960,  0.8357,  0.4788],\n",
       "          [-0.3015, -1.0762, -0.7347,  ..., -0.2951, -0.2916,  1.3565]],\n",
       "\n",
       "         ...,\n",
       "\n",
       "         [[-0.4022, -0.3602,  0.6226,  ...,  0.9302, -0.1430, -0.5969],\n",
       "          [-0.9632,  0.0886, -0.6804,  ..., -0.5470, -1.3888,  0.9337],\n",
       "          [-0.8943, -1.2223, -0.5726,  ..., -1.6094,  0.7917,  0.1544],\n",
       "          ...,\n",
       "          [-0.8943, -1.2223, -0.5726,  ..., -1.6094,  0.7917,  0.1544],\n",
       "          [-0.8943, -1.2223, -0.5726,  ..., -1.6094,  0.7917,  0.1544],\n",
       "          [-0.6567, -0.4777,  0.0532,  ..., -1.5248,  1.3715, -0.6210]],\n",
       "\n",
       "         [[ 0.0937, -0.7538, -1.2300,  ..., -1.3117, -0.1100, -0.1787],\n",
       "          [ 0.5699,  0.3245, -0.8967,  ..., -0.8065, -0.4312, -0.5144],\n",
       "          [ 0.5069,  1.4315,  0.7030,  ...,  0.9554, -0.5737, -1.6923],\n",
       "          ...,\n",
       "          [ 0.5069,  1.4315,  0.7030,  ...,  0.9554, -0.5737, -1.6923],\n",
       "          [ 0.5069,  1.4315,  0.7030,  ...,  0.9554, -0.5737, -1.6923],\n",
       "          [ 0.0095,  0.5440,  0.2035,  ...,  0.1540, -0.3464, -1.2064]],\n",
       "\n",
       "         [[ 0.0456,  0.0928, -1.2170,  ..., -1.6353, -0.2901,  0.3509],\n",
       "          [ 0.5180, -0.0094,  0.3195,  ..., -0.2346,  1.0892, -1.3929],\n",
       "          [ 0.4590,  1.0969,  0.5525,  ...,  0.8277, -0.4255, -1.0870],\n",
       "          ...,\n",
       "          [ 0.4590,  1.0969,  0.5525,  ...,  0.8277, -0.4255, -1.0870],\n",
       "          [ 0.4590,  1.0969,  0.5525,  ...,  0.8277, -0.4255, -1.0870],\n",
       "          [ 0.1900,  0.1703, -0.2571,  ...,  0.8099, -1.2618, -0.0673]]],\n",
       "\n",
       "\n",
       "        [[[-1.0480, -0.6569,  0.2143,  ..., -0.3204, -0.2490, -0.2463],\n",
       "          [ 0.2429,  0.4144, -0.6845,  ...,  0.4537,  0.5032, -0.2418],\n",
       "          [ 0.0366, -0.6036, -0.4380,  ..., -0.9876, -1.6179, -0.2605],\n",
       "          ...,\n",
       "          [-0.1868, -0.1707, -0.2235,  ..., -0.1220, -0.3392, -0.2526],\n",
       "          [-0.1868, -0.1707, -0.2235,  ..., -0.1220, -0.3392, -0.2526],\n",
       "          [ 0.2217,  0.3251, -0.0948,  ...,  0.7528, -1.0261, -0.2567]],\n",
       "\n",
       "         [[ 0.0735,  0.0418,  0.3691,  ...,  0.2070,  0.2944,  0.3079],\n",
       "          [-0.9985, -0.7727,  0.8175,  ..., -0.0633,  0.5951,  0.4437],\n",
       "          [-0.3853,  0.2549,  0.4862,  ...,  0.5597,  1.5963,  0.6386],\n",
       "          ...,\n",
       "          [-0.4131, -0.8720, -0.2869,  ..., -0.9534,  0.8675,  0.8317],\n",
       "          [-0.4131, -0.8720, -0.2869,  ..., -0.9534,  0.8675,  0.8317],\n",
       "          [-0.2935, -0.6523, -0.1592,  ..., -0.7665,  0.8263,  0.7042]],\n",
       "\n",
       "         [[ 0.2138,  1.2390,  0.7560,  ...,  0.7828,  0.3220,  0.2342],\n",
       "          [-0.8237, -1.0528, -0.0587,  ...,  0.8031, -0.6553, -0.7134],\n",
       "          [-0.3331,  0.0381,  0.8322,  ..., -0.4951,  2.2541,  2.0866],\n",
       "          ...,\n",
       "          [-0.3104, -0.5691, -0.1118,  ..., -0.7960,  0.8357,  0.4788],\n",
       "          [-0.3104, -0.5691, -0.1118,  ..., -0.7960,  0.8357,  0.4788],\n",
       "          [-0.3015, -1.0762, -0.7347,  ..., -0.2951, -0.2916,  1.3565]],\n",
       "\n",
       "         ...,\n",
       "\n",
       "         [[-0.5996, -1.2674, -0.3186,  ..., -0.6635, -0.2148, -0.1358],\n",
       "          [-1.4102, -0.4610,  1.0040,  ..., -0.7602,  1.0380,  0.6996],\n",
       "          [-0.8048,  0.0869, -0.3752,  ...,  1.1981,  0.0303, -1.2294],\n",
       "          ...,\n",
       "          [-0.8943, -1.2223, -0.5726,  ..., -1.6094,  0.7917,  0.1544],\n",
       "          [-0.8943, -1.2223, -0.5726,  ..., -1.6094,  0.7917,  0.1544],\n",
       "          [-0.6567, -0.4777,  0.0532,  ..., -1.5248,  1.3715, -0.6210]],\n",
       "\n",
       "         [[ 0.5071,  0.5877, -0.7483,  ..., -0.0760, -0.4163, -0.4676],\n",
       "          [ 0.9930,  0.9346, -0.8141,  ...,  0.0797, -1.7279, -0.9878],\n",
       "          [ 0.2882,  0.0980, -0.5524,  ...,  0.1262, -1.3397, -0.9003],\n",
       "          ...,\n",
       "          [ 0.5069,  1.4315,  0.7030,  ...,  0.9554, -0.5737, -1.6923],\n",
       "          [ 0.5069,  1.4315,  0.7030,  ...,  0.9554, -0.5737, -1.6923],\n",
       "          [ 0.0095,  0.5440,  0.2035,  ...,  0.1540, -0.3464, -1.2064]],\n",
       "\n",
       "         [[ 0.2691,  1.1894,  0.0342,  ...,  0.4308, -0.1519, -0.2554],\n",
       "          [ 0.9046,  0.4751, -1.2100,  ...,  0.8730, -1.6750, -1.3526],\n",
       "          [ 0.3504, -0.1761, -0.0214,  ..., -0.9551, -0.4948,  0.7003],\n",
       "          ...,\n",
       "          [ 0.4590,  1.0969,  0.5525,  ...,  0.8277, -0.4255, -1.0870],\n",
       "          [ 0.4590,  1.0969,  0.5525,  ...,  0.8277, -0.4255, -1.0870],\n",
       "          [ 0.1900,  0.1703, -0.2571,  ...,  0.8099, -1.2618, -0.0673]]],\n",
       "\n",
       "\n",
       "        [[[ 0.0191, -0.3701, -0.2902,  ..., -0.4807, -0.0168, -0.2449],\n",
       "          [-0.9588, -0.6024, -0.3236,  ..., -0.8554,  0.1796, -0.2457],\n",
       "          [-0.1868, -0.1707, -0.2235,  ..., -0.1220, -0.3392, -0.2526],\n",
       "          ...,\n",
       "          [-0.1868, -0.1707, -0.2235,  ..., -0.1220, -0.3392, -0.2526],\n",
       "          [-0.1868, -0.1707, -0.2235,  ..., -0.1220, -0.3392, -0.2526],\n",
       "          [ 0.2217,  0.3251, -0.0948,  ...,  0.7528, -1.0261, -0.2567]],\n",
       "\n",
       "         [[ 0.3860,  0.3204,  0.2725,  ...,  0.3041,  0.3323,  0.3508],\n",
       "          [ 0.5797,  0.0557,  0.0453,  ..., -0.0248,  0.5543,  0.5679],\n",
       "          [-0.4131, -0.8720, -0.2869,  ..., -0.9534,  0.8675,  0.8317],\n",
       "          ...,\n",
       "          [-0.4131, -0.8720, -0.2869,  ..., -0.9534,  0.8675,  0.8317],\n",
       "          [-0.4131, -0.8720, -0.2869,  ..., -0.9534,  0.8675,  0.8317],\n",
       "          [-0.2935, -0.6523, -0.1592,  ..., -0.7665,  0.8263,  0.7042]],\n",
       "\n",
       "         [[ 0.2371, -0.1080,  0.3894,  ..., -0.2223,  0.5363, -0.0615],\n",
       "          [ 0.5685,  1.0064,  0.5941,  ..., -0.0033,  1.2753, -0.2710],\n",
       "          [-0.3104, -0.5691, -0.1118,  ..., -0.7960,  0.8357,  0.4788],\n",
       "          ...,\n",
       "          [-0.3104, -0.5691, -0.1118,  ..., -0.7960,  0.8357,  0.4788],\n",
       "          [-0.3104, -0.5691, -0.1118,  ..., -0.7960,  0.8357,  0.4788],\n",
       "          [-0.3015, -1.0762, -0.7347,  ..., -0.2951, -0.2916,  1.3565]],\n",
       "\n",
       "         ...,\n",
       "\n",
       "         [[ 0.0211,  0.0911, -0.2989,  ...,  0.1253, -0.2640,  0.1254],\n",
       "          [-0.0308, -1.2255, -0.7261,  ..., -0.7701, -0.2506,  0.4794],\n",
       "          [-0.8943, -1.2223, -0.5726,  ..., -1.6094,  0.7917,  0.1544],\n",
       "          ...,\n",
       "          [-0.8943, -1.2223, -0.5726,  ..., -1.6094,  0.7917,  0.1544],\n",
       "          [-0.8943, -1.2223, -0.5726,  ..., -1.6094,  0.7917,  0.1544],\n",
       "          [-0.6567, -0.4777,  0.0532,  ..., -1.5248,  1.3715, -0.6210]],\n",
       "\n",
       "         [[-0.7924, -0.5028, -0.3287,  ..., -0.4294, -0.5844, -0.6313],\n",
       "          [-0.2828,  0.2827,  0.2143,  ...,  0.2328, -0.7152, -1.2010],\n",
       "          [ 0.5069,  1.4315,  0.7030,  ...,  0.9554, -0.5737, -1.6923],\n",
       "          ...,\n",
       "          [ 0.5069,  1.4315,  0.7030,  ...,  0.9554, -0.5737, -1.6923],\n",
       "          [ 0.5069,  1.4315,  0.7030,  ...,  0.9554, -0.5737, -1.6923],\n",
       "          [ 0.0095,  0.5440,  0.2035,  ...,  0.1540, -0.3464, -1.2064]],\n",
       "\n",
       "         [[-0.4335, -0.5671, -0.0456,  ..., -0.6240, -0.0623, -0.5989],\n",
       "          [-0.2814,  0.8790,  0.5636,  ...,  0.1168,  0.2584, -1.2146],\n",
       "          [ 0.4590,  1.0969,  0.5525,  ...,  0.8277, -0.4255, -1.0870],\n",
       "          ...,\n",
       "          [ 0.4590,  1.0969,  0.5525,  ...,  0.8277, -0.4255, -1.0870],\n",
       "          [ 0.4590,  1.0969,  0.5525,  ...,  0.8277, -0.4255, -1.0870],\n",
       "          [ 0.1900,  0.1703, -0.2571,  ...,  0.8099, -1.2618, -0.0673]]],\n",
       "\n",
       "\n",
       "        ...,\n",
       "\n",
       "\n",
       "        [[[-0.1281, -0.4232, -0.3374,  ..., -0.6977, -0.0911, -0.2454],\n",
       "          [-0.6778, -0.8664,  1.0967,  ..., -0.4778, -0.7551, -0.2506],\n",
       "          [ 0.0173,  0.8548, -1.8911,  ...,  0.3700, -0.1049, -0.2428],\n",
       "          ...,\n",
       "          [-0.1868, -0.1707, -0.2235,  ..., -0.1220, -0.3392, -0.2526],\n",
       "          [-0.1868, -0.1707, -0.2235,  ..., -0.1220, -0.3392, -0.2526],\n",
       "          [ 0.2217,  0.3251, -0.0948,  ...,  0.7528, -1.0261, -0.2567]],\n",
       "\n",
       "         [[ 0.3429,  0.2780,  0.2492,  ...,  0.1954,  0.2712,  0.3373],\n",
       "          [ 0.3957, -0.1805,  0.2867,  ..., -0.4501,  0.0474,  0.3377],\n",
       "          [-0.1500, -1.0371,  1.6293,  ..., -0.6187, -0.7236,  0.0738],\n",
       "          ...,\n",
       "          [-0.4131, -0.8720, -0.2869,  ..., -0.9534,  0.8675,  0.8317],\n",
       "          [-0.4131, -0.8720, -0.2869,  ..., -0.9534,  0.8675,  0.8317],\n",
       "          [-0.2935, -0.6523, -0.1592,  ..., -0.7665,  0.8263,  0.7042]],\n",
       "\n",
       "         [[ 0.2339,  0.0775,  0.4546,  ...,  0.0874,  0.8080,  0.0311],\n",
       "          [ 0.3790,  0.5492,  0.8923,  ..., -0.6627,  0.6461,  0.9068],\n",
       "          [-0.1565, -1.2203,  0.3134,  ..., -0.4407, -1.1213,  0.0074],\n",
       "          ...,\n",
       "          [-0.3104, -0.5691, -0.1118,  ..., -0.7960,  0.8357,  0.4788],\n",
       "          [-0.3104, -0.5691, -0.1118,  ..., -0.7960,  0.8357,  0.4788],\n",
       "          [-0.3015, -1.0762, -0.7347,  ..., -0.2951, -0.2916,  1.3565]],\n",
       "\n",
       "         ...,\n",
       "\n",
       "         [[-0.0646, -0.1042, -0.3847,  ..., -0.2779, -0.5479,  0.0435],\n",
       "          [-0.1540, -1.2528, -0.3197,  ..., -0.8171, -0.6448, -0.6145],\n",
       "          [-0.5566, -0.9687,  2.0759,  ..., -1.2430, -0.4392, -0.1772],\n",
       "          ...,\n",
       "          [-0.8943, -1.2223, -0.5726,  ..., -1.6094,  0.7917,  0.1544],\n",
       "          [-0.8943, -1.2223, -0.5726,  ..., -1.6094,  0.7917,  0.1544],\n",
       "          [-0.6567, -0.4777,  0.0532,  ..., -1.5248,  1.3715, -0.6210]],\n",
       "\n",
       "         [[-0.6132, -0.3359, -0.2349,  ...,  0.0071, -0.3442, -0.5800],\n",
       "          [-0.2472,  0.8196, -1.1116,  ...,  0.6068,  0.7559, -0.4055],\n",
       "          [-0.0303,  0.6683, -0.8759,  ...,  0.1604,  1.1848,  0.0558],\n",
       "          ...,\n",
       "          [ 0.5069,  1.4315,  0.7030,  ...,  0.9554, -0.5737, -1.6923],\n",
       "          [ 0.5069,  1.4315,  0.7030,  ...,  0.9554, -0.5737, -1.6923],\n",
       "          [ 0.0095,  0.5440,  0.2035,  ...,  0.1540, -0.3464, -1.2064]],\n",
       "\n",
       "         [[-0.3366, -0.3159,  0.0622,  ..., -0.1167,  0.3032, -0.4913],\n",
       "          [-0.1937,  0.9452,  0.1813,  ...,  0.2269,  0.7651,  0.2715],\n",
       "          [ 0.1163,  0.5680, -1.9275,  ...,  0.4997,  0.4110,  0.0136],\n",
       "          ...,\n",
       "          [ 0.4590,  1.0969,  0.5525,  ...,  0.8277, -0.4255, -1.0870],\n",
       "          [ 0.4590,  1.0969,  0.5525,  ...,  0.8277, -0.4255, -1.0870],\n",
       "          [ 0.1900,  0.1703, -0.2571,  ...,  0.8099, -1.2618, -0.0673]]],\n",
       "\n",
       "\n",
       "        [[[ 0.1111, -0.3496,  0.1472,  ..., -0.2465, -0.7005, -0.2490],\n",
       "          [-1.0643, -0.6267, -0.8249,  ..., -1.1182,  0.9610, -0.2353],\n",
       "          [-0.1868, -0.1707, -0.2235,  ..., -0.1220, -0.3392, -0.2526],\n",
       "          ...,\n",
       "          [-0.1868, -0.1707, -0.2235,  ..., -0.1220, -0.3392, -0.2526],\n",
       "          [-0.1868, -0.1707, -0.2235,  ..., -0.1220, -0.3392, -0.2526],\n",
       "          [ 0.2217,  0.3251, -0.0948,  ...,  0.7528, -1.0261, -0.2567]],\n",
       "\n",
       "         [[ 0.4129,  0.3432,  0.4043,  ...,  0.2494,  0.1756,  0.2246],\n",
       "          [ 0.7152,  0.1377,  0.7009,  ..., -0.0605, -0.3187,  0.1759],\n",
       "          [-0.4131, -0.8720, -0.2869,  ..., -0.9534,  0.8675,  0.8317],\n",
       "          ...,\n",
       "          [-0.4131, -0.8720, -0.2869,  ..., -0.9534,  0.8675,  0.8317],\n",
       "          [-0.4131, -0.8720, -0.2869,  ..., -0.9534,  0.8675,  0.8317],\n",
       "          [-0.2935, -0.6523, -0.1592,  ..., -0.7665,  0.8263,  0.7042]],\n",
       "\n",
       "         [[ 0.2391, -0.2242,  0.3737,  ...,  0.6404,  0.2191,  0.8072],\n",
       "          [ 0.6885,  1.1819,  1.1968,  ..., -0.7917,  0.7691, -1.3847],\n",
       "          [-0.3104, -0.5691, -0.1118,  ..., -0.7960,  0.8357,  0.4788],\n",
       "          ...,\n",
       "          [-0.3104, -0.5691, -0.1118,  ..., -0.7960,  0.8357,  0.4788],\n",
       "          [-0.3104, -0.5691, -0.1118,  ..., -0.7960,  0.8357,  0.4788],\n",
       "          [-0.3015, -1.0762, -0.7347,  ..., -0.2951, -0.2916,  1.3565]],\n",
       "\n",
       "         ...,\n",
       "\n",
       "         [[ 0.0746,  0.2057, -0.0222,  ..., -0.4936, -0.3955, -0.6421],\n",
       "          [ 0.0871, -1.2648, -0.1798,  ...,  0.0116, -1.2964,  0.9621],\n",
       "          [-0.8943, -1.2223, -0.5726,  ..., -1.6094,  0.7917,  0.1544],\n",
       "          ...,\n",
       "          [-0.8943, -1.2223, -0.5726,  ..., -1.6094,  0.7917,  0.1544],\n",
       "          [-0.8943, -1.2223, -0.5726,  ..., -1.6094,  0.7917,  0.1544],\n",
       "          [-0.6567, -0.4777,  0.0532,  ..., -1.5248,  1.3715, -0.6210]],\n",
       "\n",
       "         [[-0.9045, -0.5917, -0.8752,  ..., -0.2450,  0.0826, -0.1504],\n",
       "          [-0.3906,  0.1613, -0.3194,  ...,  0.6736, -0.1662, -0.4714],\n",
       "          [ 0.5069,  1.4315,  0.7030,  ...,  0.9554, -0.5737, -1.6923],\n",
       "          ...,\n",
       "          [ 0.5069,  1.4315,  0.7030,  ...,  0.9554, -0.5737, -1.6923],\n",
       "          [ 0.5069,  1.4315,  0.7030,  ...,  0.9554, -0.5737, -1.6923],\n",
       "          [ 0.0095,  0.5440,  0.2035,  ...,  0.1540, -0.3464, -1.2064]],\n",
       "\n",
       "         [[-0.4941, -0.7158, -0.3629,  ...,  0.2153,  0.0377,  0.4103],\n",
       "          [-0.3825,  0.8825,  0.0887,  ..., -0.3321,  1.0769, -1.4040],\n",
       "          [ 0.4590,  1.0969,  0.5525,  ...,  0.8277, -0.4255, -1.0870],\n",
       "          ...,\n",
       "          [ 0.4590,  1.0969,  0.5525,  ...,  0.8277, -0.4255, -1.0870],\n",
       "          [ 0.4590,  1.0969,  0.5525,  ...,  0.8277, -0.4255, -1.0870],\n",
       "          [ 0.1900,  0.1703, -0.2571,  ...,  0.8099, -1.2618, -0.0673]]],\n",
       "\n",
       "\n",
       "        [[[-0.2049, -0.0719, -0.2259,  ..., -0.5899, -0.0819, -0.2453],\n",
       "          [ 0.0831, -0.0699,  0.4194,  ..., -0.3910, -1.5429, -0.2554],\n",
       "          [-0.4135, -0.7089, -0.9773,  ...,  0.3361,  0.6050, -0.2322],\n",
       "          ...,\n",
       "          [-0.1868, -0.1707, -0.2235,  ..., -0.1220, -0.3392, -0.2526],\n",
       "          [-0.1868, -0.1707, -0.2235,  ..., -0.1220, -0.3392, -0.2526],\n",
       "          [ 0.2217,  0.3251, -0.0948,  ...,  0.7528, -1.0261, -0.2567]],\n",
       "\n",
       "         [[ 0.3204,  0.3669,  0.3460,  ...,  0.2367,  0.2936,  0.3389],\n",
       "          [ 0.4795,  0.7674,  0.7068,  ..., -0.3023, -0.0666,  0.1995],\n",
       "          [ 0.9408,  1.1152,  1.5494,  ..., -0.5950, -1.7616, -0.4039],\n",
       "          ...,\n",
       "          [-0.4131, -0.8720, -0.2869,  ..., -0.9534,  0.8675,  0.8317],\n",
       "          [-0.4131, -0.8720, -0.2869,  ..., -0.9534,  0.8675,  0.8317],\n",
       "          [-0.2935, -0.6523, -0.1592,  ..., -0.7665,  0.8263,  0.7042]],\n",
       "\n",
       "         [[ 0.2322,  0.1827,  0.0110,  ...,  0.0217,  0.6718,  0.0202],\n",
       "          [ 0.2935,  0.0561,  0.0800,  ...,  0.2860,  0.5436,  1.9068],\n",
       "          [ 0.7285,  0.9959,  1.7765,  ..., -0.8809, -2.0497, -1.0296],\n",
       "          ...,\n",
       "          [-0.3104, -0.5691, -0.1118,  ..., -0.7960,  0.8357,  0.4788],\n",
       "          [-0.3104, -0.5691, -0.1118,  ..., -0.7960,  0.8357,  0.4788],\n",
       "          [-0.3015, -1.0762, -0.7347,  ..., -0.2951, -0.2916,  1.3565]],\n",
       "\n",
       "         ...,\n",
       "\n",
       "         [[-0.1093,  0.0143,  0.0730,  ..., -0.1552, -0.4224,  0.0532],\n",
       "          [ 0.1388,  0.7004,  0.5884,  ..., -1.2255, -0.9219, -1.4916],\n",
       "          [ 0.5033,  0.3598,  0.4884,  ..., -0.6238, -1.4623,  0.1701],\n",
       "          ...,\n",
       "          [-0.8943, -1.2223, -0.5726,  ..., -1.6094,  0.7917,  0.1544],\n",
       "          [-0.8943, -1.2223, -0.5726,  ..., -1.6094,  0.7917,  0.1544],\n",
       "          [-0.6567, -0.4777,  0.0532,  ..., -1.5248,  1.3715, -0.6210]],\n",
       "\n",
       "         [[-0.5196, -0.7103, -0.6150,  ..., -0.1615, -0.4301, -0.5861],\n",
       "          [-0.9766, -1.4376, -1.7782,  ...,  0.5595,  1.4279,  0.1312],\n",
       "          [-1.2329, -1.4586, -1.7305,  ...,  0.3706,  1.9428,  1.0096],\n",
       "          ...,\n",
       "          [ 0.5069,  1.4315,  0.7030,  ...,  0.9554, -0.5737, -1.6923],\n",
       "          [ 0.5069,  1.4315,  0.7030,  ...,  0.9554, -0.5737, -1.6923],\n",
       "          [ 0.0095,  0.5440,  0.2035,  ...,  0.1540, -0.3464, -1.2064]],\n",
       "\n",
       "         [[-0.2860, -0.4343, -0.5280,  ..., -0.2666,  0.1391, -0.5040],\n",
       "          [-0.5523, -1.2401, -1.2363,  ...,  0.8149,  0.9818,  1.4193],\n",
       "          [-0.8468, -0.9358, -0.9092,  ...,  0.1999,  1.1421,  0.0622],\n",
       "          ...,\n",
       "          [ 0.4590,  1.0969,  0.5525,  ...,  0.8277, -0.4255, -1.0870],\n",
       "          [ 0.4590,  1.0969,  0.5525,  ...,  0.8277, -0.4255, -1.0870],\n",
       "          [ 0.1900,  0.1703, -0.2571,  ...,  0.8099, -1.2618, -0.0673]]]],\n",
       "       grad_fn=<ConvolutionBackward0>)"
      ]
     },
     "execution_count": 179,
     "metadata": {},
     "output_type": "execute_result"
    }
   ],
   "source": [
    "conv1 = nn.Conv2d(1, 32, (2, 2), padding=1)\n",
    "conv1(tmp.reshape(10, 1, 80, 30))"
   ]
  },
  {
   "cell_type": "code",
   "execution_count": 200,
   "id": "2fe37495-fc77-4e00-986b-b391ed9202d8",
   "metadata": {
    "scrolled": true
   },
   "outputs": [
    {
     "name": "stderr",
     "output_type": "stream",
     "text": [
      "100%|██████████████████████████████████████| 4540/4540 [00:41<00:00, 108.56it/s]\n"
     ]
    },
    {
     "name": "stdout",
     "output_type": "stream",
     "text": [
      "Epoch: 0\n",
      "Train\n",
      "F1-мера: 79.83%\n",
      "Precision: 79.74%\n",
      "Recall: 80.00%\n",
      "Accuracy: 80.00%\n",
      "Test\n",
      "F1-мера: 72.75%\n",
      "Precision: 73.15%\n",
      "Recall: 72.68%\n",
      "Accuracy: 72.68%\n"
     ]
    },
    {
     "name": "stderr",
     "output_type": "stream",
     "text": [
      "100%|██████████████████████████████████████| 4540/4540 [00:42<00:00, 108.03it/s]\n"
     ]
    },
    {
     "name": "stdout",
     "output_type": "stream",
     "text": [
      "Epoch: 1\n",
      "Train\n",
      "F1-мера: 85.23%\n",
      "Precision: 85.39%\n",
      "Recall: 85.12%\n",
      "Accuracy: 85.12%\n",
      "Test\n",
      "F1-мера: 74.76%\n",
      "Precision: 76.10%\n",
      "Recall: 74.56%\n",
      "Accuracy: 74.56%\n"
     ]
    },
    {
     "name": "stderr",
     "output_type": "stream",
     "text": [
      "100%|██████████████████████████████████████| 4540/4540 [00:42<00:00, 107.79it/s]\n"
     ]
    },
    {
     "name": "stdout",
     "output_type": "stream",
     "text": [
      "Epoch: 2\n",
      "Train\n",
      "F1-мера: 88.31%\n",
      "Precision: 89.17%\n",
      "Recall: 87.99%\n",
      "Accuracy: 87.99%\n",
      "Test\n",
      "F1-мера: 73.71%\n",
      "Precision: 78.28%\n",
      "Recall: 72.97%\n",
      "Accuracy: 72.97%\n"
     ]
    },
    {
     "name": "stderr",
     "output_type": "stream",
     "text": [
      "100%|██████████████████████████████████████| 4540/4540 [00:42<00:00, 107.98it/s]\n"
     ]
    },
    {
     "name": "stdout",
     "output_type": "stream",
     "text": [
      "Epoch: 3\n",
      "Train\n",
      "F1-мера: 91.04%\n",
      "Precision: 91.14%\n",
      "Recall: 90.99%\n",
      "Accuracy: 90.99%\n",
      "Test\n",
      "F1-мера: 74.41%\n",
      "Precision: 76.52%\n",
      "Recall: 74.09%\n",
      "Accuracy: 74.09%\n"
     ]
    },
    {
     "name": "stderr",
     "output_type": "stream",
     "text": [
      "100%|██████████████████████████████████████| 4540/4540 [00:42<00:00, 107.94it/s]\n"
     ]
    },
    {
     "name": "stdout",
     "output_type": "stream",
     "text": [
      "Epoch: 4\n",
      "Train\n",
      "F1-мера: 91.65%\n",
      "Precision: 92.63%\n",
      "Recall: 91.39%\n",
      "Accuracy: 91.39%\n",
      "Test\n",
      "F1-мера: 73.56%\n",
      "Precision: 79.42%\n",
      "Recall: 72.58%\n",
      "Accuracy: 72.58%\n"
     ]
    },
    {
     "name": "stderr",
     "output_type": "stream",
     "text": [
      "100%|██████████████████████████████████████| 4540/4540 [00:42<00:00, 108.00it/s]\n"
     ]
    },
    {
     "name": "stdout",
     "output_type": "stream",
     "text": [
      "Epoch: 5\n",
      "Train\n",
      "F1-мера: 94.29%\n",
      "Precision: 94.31%\n",
      "Recall: 94.28%\n",
      "Accuracy: 94.28%\n",
      "Test\n",
      "F1-мера: 75.17%\n",
      "Precision: 76.69%\n",
      "Recall: 74.95%\n",
      "Accuracy: 74.95%\n"
     ]
    },
    {
     "name": "stderr",
     "output_type": "stream",
     "text": [
      "100%|██████████████████████████████████████| 4540/4540 [00:42<00:00, 107.83it/s]\n"
     ]
    },
    {
     "name": "stdout",
     "output_type": "stream",
     "text": [
      "Epoch: 6\n",
      "Train\n",
      "F1-мера: 95.13%\n",
      "Precision: 95.13%\n",
      "Recall: 95.15%\n",
      "Accuracy: 95.15%\n",
      "Test\n",
      "F1-мера: 74.65%\n",
      "Precision: 75.08%\n",
      "Recall: 74.58%\n",
      "Accuracy: 74.58%\n"
     ]
    },
    {
     "name": "stderr",
     "output_type": "stream",
     "text": [
      "100%|██████████████████████████████████████| 4540/4540 [00:42<00:00, 107.81it/s]\n"
     ]
    },
    {
     "name": "stdout",
     "output_type": "stream",
     "text": [
      "Epoch: 7\n",
      "Train\n",
      "F1-мера: 96.30%\n",
      "Precision: 96.31%\n",
      "Recall: 96.29%\n",
      "Accuracy: 96.29%\n",
      "Test\n",
      "F1-мера: 75.78%\n",
      "Precision: 77.06%\n",
      "Recall: 75.60%\n",
      "Accuracy: 75.60%\n"
     ]
    },
    {
     "name": "stderr",
     "output_type": "stream",
     "text": [
      "100%|██████████████████████████████████████| 4540/4540 [00:42<00:00, 108.00it/s]\n"
     ]
    },
    {
     "name": "stdout",
     "output_type": "stream",
     "text": [
      "Epoch: 8\n",
      "Train\n",
      "F1-мера: 96.65%\n",
      "Precision: 96.77%\n",
      "Recall: 96.61%\n",
      "Accuracy: 96.61%\n",
      "Test\n",
      "F1-мера: 74.73%\n",
      "Precision: 78.03%\n",
      "Recall: 74.23%\n",
      "Accuracy: 74.23%\n"
     ]
    },
    {
     "name": "stderr",
     "output_type": "stream",
     "text": [
      "100%|██████████████████████████████████████| 4540/4540 [00:42<00:00, 107.66it/s]\n"
     ]
    },
    {
     "name": "stdout",
     "output_type": "stream",
     "text": [
      "Epoch: 9\n",
      "Train\n",
      "F1-мера: 97.33%\n",
      "Precision: 97.36%\n",
      "Recall: 97.32%\n",
      "Accuracy: 97.32%\n",
      "Test\n",
      "F1-мера: 74.30%\n",
      "Precision: 76.84%\n",
      "Recall: 73.91%\n",
      "Accuracy: 73.91%\n",
      "Total time: 10.26 min\n"
     ]
    },
    {
     "data": {
      "image/png": "[encoded data removed]",
      "text/plain": [
       "<Figure size 1500x700 with 4 Axes>"
      ]
     },
     "metadata": {},
     "output_type": "display_data"
    }
   ],
   "source": [
    "train_model(cnn, epochs = 10)\n",
    "draw_metrics()"
   ]
  },
  {
   "cell_type": "code",
   "execution_count": null,
   "id": "cdd57175-e5f0-492d-a305-33c513571f5c",
   "metadata": {},
   "outputs": [],
   "source": []
  },
  {
   "cell_type": "code",
   "execution_count": null,
   "id": "1ba282d2-de50-40e8-a5ed-79cbc553f130",
   "metadata": {},
   "outputs": [],
   "source": []
  },
  {
   "cell_type": "markdown",
   "id": "4760bff4-4ea5-4420-8da7-3a0841b81b05",
   "metadata": {},
   "source": [
    "## №2 bigrams"
   ]
  },
  {
   "cell_type": "code",
   "execution_count": null,
   "id": "1f111222-9e79-46b2-95f1-3c658317255b",
   "metadata": {},
   "outputs": [],
   "source": [
    "max_len = 80"
   ]
  },
  {
   "cell_type": "code",
   "execution_count": 46,
   "id": "8eb23ca1-518a-4324-895e-336f7b368fb9",
   "metadata": {},
   "outputs": [],
   "source": [
    "corp = [sentence.split() for sentence in train.lemma.tolist()]\n",
    "corp.append(['__pad__']) # padding\n",
    "bigram_transformer = Phrases(corp, min_count=1, threshold=1)\n",
    "w2v_model = Word2Vec(bigram_transformer[corp], vector_size=60, window=5, min_count=1, workers=4)"
   ]
  },
  {
   "cell_type": "code",
   "execution_count": 47,
   "id": "4163f8da-76d8-41c1-bea7-dd5bb1914f0e",
   "metadata": {},
   "outputs": [
    {
     "name": "stdout",
     "output_type": "stream",
     "text": [
      "182507 60\n",
      "182507\n",
      "45398\n"
     ]
    }
   ],
   "source": [
    "pad_idx = w2v_model.wv.get_index('__pad__')\n",
    "\n",
    "corp = del_stopwords(X_train)\n",
    "train_texts = preprocess_text(corp, w2v_model.wv.key_to_index, max_len, pad_idx)\n",
    "corp = del_stopwords(X_test)\n",
    "test_texts = preprocess_text(corp, w2v_model.wv.key_to_index, max_len, pad_idx)\n",
    "\n",
    "num = len(w2v_model.wv.index_to_key)\n",
    "dim = w2v_model.vector_size\n",
    "print(num, dim)\n",
    "\n",
    "emb_weights = np.zeros((num, dim))\n",
    "for key, i in enumerate(w2v_model.wv.key_to_index.keys()):\n",
    "    emb_weights[key] = w2v_model.wv[i]\n",
    "emb_weights = torch.Tensor(emb_weights)\n",
    "print(len(emb_weights))\n",
    "\n",
    "print(len(train_texts))"
   ]
  },
  {
   "cell_type": "code",
   "execution_count": 48,
   "id": "f0327dde-0120-4a0e-892c-55c5a542672d",
   "metadata": {},
   "outputs": [],
   "source": [
    "train_loader, test_loader = get_dataloaders(train_texts, test_texts)"
   ]
  },
  {
   "cell_type": "code",
   "execution_count": 52,
   "id": "826be334-0347-4d27-8c66-529ecee440bc",
   "metadata": {},
   "outputs": [],
   "source": [
    "class SentimentCNN(nn.Module):\n",
    "    def __init__(self, vocab_len, dim, max_len, padding_idx, weights):\n",
    "        super(SentimentCNN, self).__init__()\n",
    "        self.max_len = max_len\n",
    "        self.dim = dim\n",
    "        self.padding_idx = padding_idx\n",
    "        self.embedding = nn.Embedding(vocab_len, dim, padding_idx=padding_idx, _weight=weights)\n",
    "        \n",
    "        self.conv1 = nn.Conv2d(1, 32, (2, 2), padding=1)\n",
    "        self.conv2 = nn.Conv2d(32, 64, (2, 2), padding=1)\n",
    "        self.conv3 = nn.Conv2d(64, 128, (3, 3), padding=2)\n",
    "        self.conv4 = nn.Conv2d(128, 256, (3, 3), padding=2)\n",
    "        self.conv5 = nn.Conv2d(256, 512, (4, 4), padding=3)\n",
    "        self.pool1 = nn.MaxPool2d(2)\n",
    "        self.drop = nn.Dropout(p=0.3)\n",
    "        self.fc1 = nn.Linear(8192, 2) \n",
    "        \n",
    "        self.softmax = nn.Softmax(dim=1)\n",
    "\n",
    "    def forward(self,x):\n",
    "        x = self.embedding(x)\n",
    "        x = x.reshape(x.shape[0], 1, self.max_len, self.dim)\n",
    "        \n",
    "        x = F.relu(self.conv1(x))\n",
    "        x = self.pool1(x)\n",
    "        x = F.relu(self.conv2(x))\n",
    "        x = self.pool1(x)\n",
    "        x = F.relu(self.conv3(x))\n",
    "        x = self.pool1(x)\n",
    "        x = F.relu(self.conv4(x))\n",
    "        x = self.pool1(x)\n",
    "        x = F.relu(self.conv5(x))\n",
    "        x = self.pool1(x)\n",
    "        x = torch.flatten(x, 1)\n",
    "        x = self.drop(x)\n",
    "        x = self.fc1(x)\n",
    "\n",
    "        x = self.softmax(x)\n",
    "        return x\n"
   ]
  },
  {
   "cell_type": "code",
   "execution_count": 53,
   "id": "96394951-b36f-430a-9ba4-510a158e35b0",
   "metadata": {},
   "outputs": [
    {
     "data": {
      "text/plain": [
       "SentimentCNN(\n",
       "  (embedding): Embedding(182507, 60, padding_idx=75579)\n",
       "  (conv1): Conv2d(1, 32, kernel_size=(2, 2), stride=(1, 1), padding=(1, 1))\n",
       "  (conv2): Conv2d(32, 64, kernel_size=(2, 2), stride=(1, 1), padding=(1, 1))\n",
       "  (conv3): Conv2d(64, 128, kernel_size=(3, 3), stride=(1, 1), padding=(2, 2))\n",
       "  (conv4): Conv2d(128, 256, kernel_size=(3, 3), stride=(1, 1), padding=(2, 2))\n",
       "  (conv5): Conv2d(256, 512, kernel_size=(4, 4), stride=(1, 1), padding=(3, 3))\n",
       "  (pool1): MaxPool2d(kernel_size=2, stride=2, padding=0, dilation=1, ceil_mode=False)\n",
       "  (drop): Dropout(p=0.3, inplace=False)\n",
       "  (fc1): Linear(in_features=8192, out_features=2, bias=True)\n",
       "  (softmax): Softmax(dim=1)\n",
       ")"
      ]
     },
     "execution_count": 53,
     "metadata": {},
     "output_type": "execute_result"
    }
   ],
   "source": [
    "pad_idx = model.wv.get_index('__pad__')\n",
    "\n",
    "cnn = SentimentCNN(num, dim, max_len, pad_idx, emb_weights)\n",
    "cnn = cnn.to(device)\n",
    "weight = torch.FloatTensor(class_weights)\n",
    "weight = weight.to(device)\n",
    "loss_fn = nn.BCELoss(weight = weight)\n",
    "optimizer = optim.Adam(cnn.parameters(), lr=0.001)\n",
    "cnn"
   ]
  },
  {
   "cell_type": "code",
   "execution_count": 54,
   "id": "f968e2ed-f312-4eb5-b27f-0fad0f43a89c",
   "metadata": {},
   "outputs": [
    {
     "name": "stderr",
     "output_type": "stream",
     "text": [
      "100%|███████████████████████████████████████| 4540/4540 [01:11<00:00, 63.88it/s]\n"
     ]
    },
    {
     "name": "stdout",
     "output_type": "stream",
     "text": [
      "Epoch: 0\n",
      "Train\n",
      "F1-мера: 87.41%\n",
      "Precision: 87.38%\n",
      "Recall: 87.48%\n",
      "Accuracy: 87.48%\n",
      "Test\n",
      "F1-мера: 77.85%\n",
      "Precision: 78.22%\n",
      "Recall: 77.80%\n",
      "Accuracy: 77.80%\n"
     ]
    },
    {
     "name": "stderr",
     "output_type": "stream",
     "text": [
      "100%|███████████████████████████████████████| 4540/4540 [01:11<00:00, 63.87it/s]\n"
     ]
    },
    {
     "name": "stdout",
     "output_type": "stream",
     "text": [
      "Epoch: 1\n",
      "Train\n",
      "F1-мера: 93.77%\n",
      "Precision: 93.77%\n",
      "Recall: 93.77%\n",
      "Accuracy: 93.77%\n",
      "Test\n",
      "F1-мера: 76.79%\n",
      "Precision: 77.63%\n",
      "Recall: 76.68%\n",
      "Accuracy: 76.68%\n"
     ]
    },
    {
     "name": "stderr",
     "output_type": "stream",
     "text": [
      "100%|███████████████████████████████████████| 4540/4540 [01:12<00:00, 62.72it/s]\n"
     ]
    },
    {
     "name": "stdout",
     "output_type": "stream",
     "text": [
      "Epoch: 2\n",
      "Train\n",
      "F1-мера: 96.90%\n",
      "Precision: 96.90%\n",
      "Recall: 96.91%\n",
      "Accuracy: 96.91%\n",
      "Test\n",
      "F1-мера: 76.25%\n",
      "Precision: 76.71%\n",
      "Recall: 76.19%\n",
      "Accuracy: 76.19%\n"
     ]
    },
    {
     "name": "stderr",
     "output_type": "stream",
     "text": [
      "100%|███████████████████████████████████████| 4540/4540 [01:12<00:00, 62.92it/s]\n"
     ]
    },
    {
     "name": "stdout",
     "output_type": "stream",
     "text": [
      "Epoch: 3\n",
      "Train\n",
      "F1-мера: 97.73%\n",
      "Precision: 97.75%\n",
      "Recall: 97.74%\n",
      "Accuracy: 97.74%\n",
      "Test\n",
      "F1-мера: 76.56%\n",
      "Precision: 76.57%\n",
      "Recall: 76.56%\n",
      "Accuracy: 76.56%\n"
     ]
    },
    {
     "name": "stderr",
     "output_type": "stream",
     "text": [
      "100%|███████████████████████████████████████| 4540/4540 [01:12<00:00, 62.96it/s]\n"
     ]
    },
    {
     "name": "stdout",
     "output_type": "stream",
     "text": [
      "Epoch: 4\n",
      "Train\n",
      "F1-мера: 98.71%\n",
      "Precision: 98.71%\n",
      "Recall: 98.70%\n",
      "Accuracy: 98.70%\n",
      "Test\n",
      "F1-мера: 74.06%\n",
      "Precision: 76.14%\n",
      "Recall: 73.74%\n",
      "Accuracy: 73.74%\n"
     ]
    },
    {
     "name": "stderr",
     "output_type": "stream",
     "text": [
      "100%|███████████████████████████████████████| 4540/4540 [01:12<00:00, 62.36it/s]\n"
     ]
    },
    {
     "name": "stdout",
     "output_type": "stream",
     "text": [
      "Epoch: 5\n",
      "Train\n",
      "F1-мера: 99.02%\n",
      "Precision: 99.02%\n",
      "Recall: 99.02%\n",
      "Accuracy: 99.02%\n",
      "Test\n",
      "F1-мера: 74.30%\n",
      "Precision: 76.55%\n",
      "Recall: 73.96%\n",
      "Accuracy: 73.96%\n"
     ]
    },
    {
     "name": "stderr",
     "output_type": "stream",
     "text": [
      "100%|███████████████████████████████████████| 4540/4540 [01:13<00:00, 61.68it/s]\n"
     ]
    },
    {
     "name": "stdout",
     "output_type": "stream",
     "text": [
      "Epoch: 6\n",
      "Train\n",
      "F1-мера: 99.12%\n",
      "Precision: 99.13%\n",
      "Recall: 99.12%\n",
      "Accuracy: 99.12%\n",
      "Test\n",
      "F1-мера: 75.05%\n",
      "Precision: 76.79%\n",
      "Recall: 74.80%\n",
      "Accuracy: 74.80%\n"
     ]
    },
    {
     "name": "stderr",
     "output_type": "stream",
     "text": [
      "100%|███████████████████████████████████████| 4540/4540 [01:10<00:00, 64.09it/s]\n"
     ]
    },
    {
     "name": "stdout",
     "output_type": "stream",
     "text": [
      "Epoch: 7\n",
      "Train\n",
      "F1-мера: 98.94%\n",
      "Precision: 98.95%\n",
      "Recall: 98.94%\n",
      "Accuracy: 98.94%\n",
      "Test\n",
      "F1-мера: 74.95%\n",
      "Precision: 76.59%\n",
      "Recall: 74.71%\n",
      "Accuracy: 74.71%\n"
     ]
    },
    {
     "name": "stderr",
     "output_type": "stream",
     "text": [
      "100%|███████████████████████████████████████| 4540/4540 [01:11<00:00, 63.50it/s]\n"
     ]
    },
    {
     "name": "stdout",
     "output_type": "stream",
     "text": [
      "Epoch: 8\n",
      "Train\n",
      "F1-мера: 99.48%\n",
      "Precision: 99.48%\n",
      "Recall: 99.48%\n",
      "Accuracy: 99.48%\n",
      "Test\n",
      "F1-мера: 76.23%\n",
      "Precision: 76.75%\n",
      "Recall: 76.16%\n",
      "Accuracy: 76.16%\n"
     ]
    },
    {
     "name": "stderr",
     "output_type": "stream",
     "text": [
      "100%|███████████████████████████████████████| 4540/4540 [01:11<00:00, 63.84it/s]\n"
     ]
    },
    {
     "name": "stdout",
     "output_type": "stream",
     "text": [
      "Epoch: 9\n",
      "Train\n",
      "F1-мера: 99.30%\n",
      "Precision: 99.30%\n",
      "Recall: 99.30%\n",
      "Accuracy: 99.30%\n",
      "Test\n",
      "F1-мера: 74.66%\n",
      "Precision: 76.75%\n",
      "Recall: 74.35%\n",
      "Accuracy: 74.35%\n",
      "Total time: 16.20 min\n"
     ]
    }
   ],
   "source": [
    "train_model(cnn, epochs = 10)"
   ]
  },
  {
   "cell_type": "code",
   "execution_count": 55,
   "id": "6130dcb1-eeae-4d52-812a-10b3c1e8d618",
   "metadata": {},
   "outputs": [
    {
     "data": {
      "image/png": "[encoded data removed]",
      "text/plain": [
       "<Figure size 1500x700 with 4 Axes>"
      ]
     },
     "metadata": {},
     "output_type": "display_data"
    }
   ],
   "source": [
    "draw_metrics()"
   ]
  },
  {
   "cell_type": "code",
   "execution_count": null,
   "id": "68e9bfad-11af-4799-bb5b-0d1b479e1d04",
   "metadata": {},
   "outputs": [],
   "source": []
  },
  {
   "cell_type": "code",
   "execution_count": null,
   "id": "4a130de8-0061-4113-ae5c-57c1a2b65222",
   "metadata": {},
   "outputs": [],
   "source": []
  },
  {
   "cell_type": "code",
   "execution_count": 56,
   "id": "08824c61-0c4e-4058-b1aa-d97b5bf0a370",
   "metadata": {},
   "outputs": [
    {
     "data": {
      "text/plain": [
       "(['не_мочь',\n",
       "  'никто_не',\n",
       "  'не_знать',\n",
       "  'ничто_не',\n",
       "  'детский_сад',\n",
       "  'учебный_заведение',\n",
       "  'не_хотеть',\n",
       "  'ни_не',\n",
       "  'очень_понравиться',\n",
       "  'очень_хороший',\n",
       "  'т_д',\n",
       "  'очень_нравиться',\n",
       "  'каждый_день',\n",
       "  'мочь_сказать',\n",
       "  'английский_язык',\n",
       "  'очень_удобный',\n",
       "  'мастер_класс',\n",
       "  'очень_интересный',\n",
       "  'не_просто',\n",
       "  'самый_главный'],\n",
       " 11723)"
      ]
     },
     "execution_count": 56,
     "metadata": {},
     "output_type": "execute_result"
    }
   ],
   "source": [
    "all_bigrams = []\n",
    "for i in model.wv.key_to_index.keys():\n",
    "    if '_' in i:\n",
    "        all_bigrams.append(i)\n",
    "all_bigrams[:20], len(all_bigrams)"
   ]
  },
  {
   "cell_type": "code",
   "execution_count": null,
   "id": "53876e6b-e777-40ce-8311-921aaa8e30e9",
   "metadata": {},
   "outputs": [],
   "source": []
  }
 ],
 "metadata": {
  "kernelspec": {
   "display_name": "Python 3 (ipykernel)",
   "language": "python",
   "name": "python3"
  },
  "language_info": {
   "codemirror_mode": {
    "name": "ipython",
    "version": 3
   },
   "file_extension": ".py",
   "mimetype": "text/x-python",
   "name": "python",
   "nbconvert_exporter": "python",
   "pygments_lexer": "ipython3",
   "version": "3.10.12"
  },
  "widgets": {
   "application/vnd.jupyter.widget-state+json": {
    "state": {},
    "version_major": 2,
    "version_minor": 0
   }
  }
 },
 "nbformat": 4,
 "nbformat_minor": 5
}
