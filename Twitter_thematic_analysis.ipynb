{
 "cells": [
  {
   "cell_type": "code",
   "execution_count": 54,
   "id": "0724286f-6f1f-4ff0-a762-b694cd6c6048",
   "metadata": {},
   "outputs": [],
   "source": [
    "import pandas as pd\n",
    "import numpy as np\n",
    "from natasha import MorphVocab, Doc, Segmenter, NamesExtractor\n",
    "import gensim\n",
    "from gensim.models import Phrases\n",
    "from gensim.corpora import Dictionary\n",
    "from gensim.models import LdaModel, coherencemodel\n",
    "from wordcloud import WordCloud\n",
    "import matplotlib.pyplot as plt\n",
    "import pyLDAvis\n",
    "import pyLDAvis.gensim_models\n",
    "from natasha import (\n",
    "    Segmenter,\n",
    "    MorphVocab,\n",
    "    NewsEmbedding,\n",
    "    NewsMorphTagger,\n",
    "    NewsSyntaxParser,\n",
    "    NewsNERTagger,\n",
    "    PER,\n",
    "    NamesExtractor,\n",
    "    Doc\n",
    ")\n",
    "import re\n",
    "import pymorphy2\n",
    "import string\n",
    "import os\n",
    "import shutil\n",
    "import time\n",
    "from multiprocessing import Process\n",
    "from nltk.corpus import stopwords"
   ]
  },
  {
   "cell_type": "code",
   "execution_count": 2,
   "id": "598c6b10-b554-469c-b56f-c493dd291b88",
   "metadata": {},
   "outputs": [
    {
     "data": {
      "text/plain": [
       "((111922, 12), (114910, 12))"
      ]
     },
     "execution_count": 2,
     "metadata": {},
     "output_type": "execute_result"
    }
   ],
   "source": [
    "t1 = pd.read_csv('datasets/ru_tweets/negative.csv', delimiter=';')\n",
    "t2 = pd.read_csv('datasets/ru_tweets/positive.csv', delimiter=';') # , on_bad_lines='skip'\n",
    "\n",
    "t1.columns.values[3] = 'text'\n",
    "t1.columns.values[4] = 'label'\n",
    "t2.columns.values[3] = 'text'\n",
    "t2.columns.values[4] = 'label'\n",
    "\n",
    "t1.shape, t2.shape"
   ]
  },
  {
   "cell_type": "code",
   "execution_count": 3,
   "id": "62d7f45d-9ba8-4c51-8f5d-f5fbb08ef23d",
   "metadata": {},
   "outputs": [],
   "source": [
    "df = pd.concat([t1, t2])"
   ]
  },
  {
   "cell_type": "code",
   "execution_count": null,
   "id": "9a2628b7-a1e3-43f4-a9dc-ba636db57587",
   "metadata": {},
   "outputs": [],
   "source": []
  },
  {
   "cell_type": "markdown",
   "id": "9d07d53c-c8e3-4047-b571-313d3fa68087",
   "metadata": {},
   "source": [
    "# Очистка текста"
   ]
  },
  {
   "cell_type": "code",
   "execution_count": 11,
   "id": "2a4cd1c4-1d87-4e77-9142-2708c1971709",
   "metadata": {},
   "outputs": [],
   "source": [
    "morph = pymorphy2.MorphAnalyzer()"
   ]
  },
  {
   "cell_type": "code",
   "execution_count": 4,
   "id": "be2894ed-a0b0-40e2-a7cc-410c44fc1ff0",
   "metadata": {},
   "outputs": [],
   "source": [
    "def del_names(text):\n",
    "    names = re.findall('[А-Я][а-я*]+', text)\n",
    "    # print(names)\n",
    "    filtered_names = []\n",
    "    for i in names:\n",
    "        type_ = str(morph.parse(i)[0].tag)\n",
    "        # print(type_)\n",
    "        for j in ['Name', 'Surn', 'Patr']:\n",
    "            if j in type_:\n",
    "                filtered_names.append(i)\n",
    "                break\n",
    "       \n",
    "\n",
    "    # print(filtered_names)\n",
    "    for i in filtered_names:\n",
    "        text = text.replace(i, '')\n",
    "\n",
    "    return text"
   ]
  },
  {
   "cell_type": "code",
   "execution_count": 12,
   "id": "439cb55b-e98d-49fc-96b0-d878b161e5e1",
   "metadata": {},
   "outputs": [
    {
     "data": {
      "text/plain": [
       "'лабораторию   , изобретателя,  в журнале Works in Progress.'"
      ]
     },
     "execution_count": 12,
     "metadata": {},
     "output_type": "execute_result"
    }
   ],
   "source": [
    "del_names('лабораторию Чарльза Фрэнсиса Дженкинса, изобретателя,  в журнале Works in Progress.')"
   ]
  },
  {
   "cell_type": "code",
   "execution_count": 13,
   "id": "7f3c9716-4fbd-43c5-a4c8-e5a66a570467",
   "metadata": {},
   "outputs": [],
   "source": [
    "def lemmatizer(text):\n",
    "    text = text.split()\n",
    "    new_text = []\n",
    "\n",
    "    for i in text:\n",
    "        tmp = morph.parse(i)[0]\n",
    "        new_text.append(tmp.normal_form)\n",
    "    \n",
    "    return ' '.join(new_text)"
   ]
  },
  {
   "cell_type": "code",
   "execution_count": 14,
   "id": "9e180e4c-218a-414b-9a1c-b4b630a88131",
   "metadata": {},
   "outputs": [
    {
     "data": {
      "text/plain": [
       "'не обращать внимание на алмазный промышленность'"
      ]
     },
     "execution_count": 14,
     "metadata": {},
     "output_type": "execute_result"
    }
   ],
   "source": [
    "lemmatizer('не обращали внимания на алмазную промышленность')"
   ]
  },
  {
   "cell_type": "code",
   "execution_count": 17,
   "id": "2a450cf7-c642-40c7-b902-5971ada5ed7b",
   "metadata": {},
   "outputs": [],
   "source": [
    "punctuation = string.punctuation + '«»\\t—…’–№\\xa0\\n'\n",
    "\n",
    "def replace_punctuation(text):\n",
    "    for i in punctuation:\n",
    "        text = text.replace(i, ' ')\n",
    "    return text"
   ]
  },
  {
   "cell_type": "code",
   "execution_count": 1,
   "id": "abb81f4b-604e-4cce-a24c-602cc8f92c31",
   "metadata": {},
   "outputs": [],
   "source": [
    "def clear_text(row):\n",
    "    text = row['text']\n",
    "\n",
    "    text = re.sub('((www\\.[^\\s]+)|(https?://[^\\s]+))', 'URL', text) # Удаляем ссылки\n",
    "    text = re.sub('@[^\\s]+', 'USER', text)\n",
    "    text = del_names(text) # Удаляем имена\n",
    "    text = text.lower().replace(\"ё\", \"е\") \n",
    "    text = replace_punctuation(text) # Удаляем пунктуацию\n",
    "\n",
    "    symbols = re.findall(\"[A-Za-zА-Яа-я\\s]\", text) # Оставляем только буквы и пробельные символы\n",
    "    text = ''.join(symbols)\n",
    "    \n",
    "    text = re.sub(' +', ' ', text) # Заменяем несколько пробелов на 1\n",
    "    text = lemmatizer(text) # Приводим слова к нормальной форме\n",
    "    row['text'] = text.strip()\n",
    "    return row"
   ]
  },
  {
   "cell_type": "code",
   "execution_count": 21,
   "id": "87a69ec5-70fa-4fa0-81fe-120c5ac1cfaa",
   "metadata": {},
   "outputs": [],
   "source": [
    "# clear_text = df.apply(clear_text, axis=1)\n",
    "# clear_text.shape"
   ]
  },
  {
   "cell_type": "code",
   "execution_count": null,
   "id": "ab198f54-6faf-486c-a9f7-ecff40397e65",
   "metadata": {},
   "outputs": [],
   "source": []
  },
  {
   "cell_type": "markdown",
   "id": "3b712e11-1f6e-410f-9bc1-f4af830b100b",
   "metadata": {},
   "source": [
    "### Разбиваем обработку текстов между ядрами"
   ]
  },
  {
   "cell_type": "code",
   "execution_count": 22,
   "id": "aac45895-019c-4852-98b1-9687f82b11ba",
   "metadata": {},
   "outputs": [],
   "source": [
    "dir_name = '.ds_tmp'"
   ]
  },
  {
   "cell_type": "code",
   "execution_count": 23,
   "id": "726fcc0d-62c4-4739-9f30-e716f53353b0",
   "metadata": {},
   "outputs": [],
   "source": [
    "def devide_texts(df, parts = 5):\n",
    "    l = len(df)//parts\n",
    "    data = []\n",
    "    amount = 0\n",
    "    \n",
    "    for i in range(parts):\n",
    "        if i + 1 == parts:\n",
    "            data.append(df[i*l:-1])\n",
    "        else:\n",
    "            data.append(df[i*l:(i+1)*l])\n",
    "            \n",
    "        # print(len(data[i]), i*l, (i+1)*l)\n",
    "        amount+=len(data[i])\n",
    "    \n",
    "    print('Amount:', amount)\n",
    "    for i, value in enumerate(data, start = 1):\n",
    "       print(f'Part {i}, data len: {len(value)}')\n",
    "\n",
    "    return data"
   ]
  },
  {
   "cell_type": "code",
   "execution_count": null,
   "id": "d48d12ea-1698-4831-bf22-9e5173a33682",
   "metadata": {},
   "outputs": [],
   "source": [
    "data = devide_texts(df)"
   ]
  },
  {
   "cell_type": "code",
   "execution_count": 25,
   "id": "d985c057-35f4-4c12-b688-70cd2aa61b03",
   "metadata": {},
   "outputs": [],
   "source": [
    "def worker(i, data):\n",
    "    text = data.apply(clear_text, axis=1)\n",
    "    text.to_csv(f'{dir_name}/clean_text_{i}.csv')"
   ]
  },
  {
   "cell_type": "code",
   "execution_count": 27,
   "id": "88c0eb47-91b9-4b20-ba24-94d3a03272f1",
   "metadata": {},
   "outputs": [],
   "source": [
    "def join_results(parts = 5):\n",
    "    data = []\n",
    "\n",
    "    for i in range(parts):\n",
    "        data.append(pd.read_csv(f'{dir_name}/clean_text_{i}.csv', index_col=0))\n",
    "    \n",
    "    return pd.concat(data)"
   ]
  },
  {
   "cell_type": "code",
   "execution_count": 33,
   "id": "b9711c2a-bc60-4275-8721-17840674b365",
   "metadata": {},
   "outputs": [],
   "source": [
    "def preprocess(data, num_workers = 5, ds_name='clean_text.csv'):\n",
    "    thread_list = []\n",
    "\n",
    "    os.mkdir(dir_name)\n",
    "    start_time = time.time()\n",
    "\n",
    "    for i in range(num_workers):\n",
    "        thread_list.append(Process(target=worker, args=(i, data[i])))\n",
    "        thread_list[i].start()\n",
    "\n",
    "    for i in range(num_workers):\n",
    "        thread_list[i].join()\n",
    "\n",
    "    df = join_results()\n",
    "    df.to_csv(ds_name)\n",
    "    \n",
    "    end_time = time.time()\n",
    "    print(f'Elapsed time: {end_time-start_time} sec')\n",
    "    print(f'Saved to {ds_name}')\n",
    "    shutil.rmtree(dir_name)"
   ]
  },
  {
   "cell_type": "code",
   "execution_count": 2,
   "id": "3c390416-a512-4a64-b2ea-339cb3685ffd",
   "metadata": {},
   "outputs": [],
   "source": [
    "preprocess(data, ds_name='twitter_clean_text_theme.csv')"
   ]
  },
  {
   "cell_type": "code",
   "execution_count": null,
   "id": "00066a20-8a88-46f5-a35a-0903dd1c5041",
   "metadata": {},
   "outputs": [],
   "source": []
  },
  {
   "cell_type": "markdown",
   "id": "09a51f33-6b99-4564-97c9-75fa85d0d36a",
   "metadata": {},
   "source": [
    "# Load clean text"
   ]
  },
  {
   "cell_type": "code",
   "execution_count": 41,
   "id": "d85f7f05-bcc9-46f7-8b08-4f3292b6d4e5",
   "metadata": {},
   "outputs": [
    {
     "name": "stderr",
     "output_type": "stream",
     "text": [
      "/tmp/ipykernel_29175/3457987990.py:1: DtypeWarning: Columns (3,15) have mixed types. Specify dtype option on import or set low_memory=False.\n",
      "  df = pd.read_csv('datasets/twitter_clean_text_theme.csv', index_col=0)\n"
     ]
    },
    {
     "data": {
      "text/html": [
       "<div>\n",
       "<style scoped>\n",
       "    .dataframe tbody tr th:only-of-type {\n",
       "        vertical-align: middle;\n",
       "    }\n",
       "\n",
       "    .dataframe tbody tr th {\n",
       "        vertical-align: top;\n",
       "    }\n",
       "\n",
       "    .dataframe thead th {\n",
       "        text-align: right;\n",
       "    }\n",
       "</style>\n",
       "<table border=\"1\" class=\"dataframe\">\n",
       "  <thead>\n",
       "    <tr style=\"text-align: right;\">\n",
       "      <th></th>\n",
       "      <th>text</th>\n",
       "      <th>label</th>\n",
       "    </tr>\n",
       "  </thead>\n",
       "  <tbody>\n",
       "    <tr>\n",
       "      <th>0</th>\n",
       "      <td>коллега сидеть рубиться в urban terror а я из ...</td>\n",
       "      <td>-1</td>\n",
       "    </tr>\n",
       "    <tr>\n",
       "      <th>1</th>\n",
       "      <td>user как говорить обещаной три год ждать</td>\n",
       "      <td>-1</td>\n",
       "    </tr>\n",
       "    <tr>\n",
       "      <th>2</th>\n",
       "      <td>желать хороший полёт и удачный посадка я быть ...</td>\n",
       "      <td>-1</td>\n",
       "    </tr>\n",
       "    <tr>\n",
       "      <th>3</th>\n",
       "      <td>обновить за какой то леший surf теперь не рабо...</td>\n",
       "      <td>-1</td>\n",
       "    </tr>\n",
       "    <tr>\n",
       "      <th>4</th>\n",
       "      <td>котёнок вчера носик разбить плакать и расстраи...</td>\n",
       "      <td>-1</td>\n",
       "    </tr>\n",
       "    <tr>\n",
       "      <th>...</th>\n",
       "      <td>...</td>\n",
       "      <td>...</td>\n",
       "    </tr>\n",
       "    <tr>\n",
       "      <th>114904</th>\n",
       "      <td>торт с чернослив купить на кропоток в тот мага...</td>\n",
       "      <td>1</td>\n",
       "    </tr>\n",
       "    <tr>\n",
       "      <th>114905</th>\n",
       "      <td>спасть в родительский дом на свой кровать прос...</td>\n",
       "      <td>1</td>\n",
       "    </tr>\n",
       "    <tr>\n",
       "      <th>114906</th>\n",
       "      <td>rt user эх мы немного решить сократить путь се...</td>\n",
       "      <td>1</td>\n",
       "    </tr>\n",
       "    <tr>\n",
       "      <th>114907</th>\n",
       "      <td>что происходить с я когда в эфир proactivefm з...</td>\n",
       "      <td>1</td>\n",
       "    </tr>\n",
       "    <tr>\n",
       "      <th>114908</th>\n",
       "      <td>любимый я подарить ты этот звезда имя какой зв...</td>\n",
       "      <td>1</td>\n",
       "    </tr>\n",
       "  </tbody>\n",
       "</table>\n",
       "<p>226831 rows × 2 columns</p>\n",
       "</div>"
      ],
      "text/plain": [
       "                                                     text  label\n",
       "0       коллега сидеть рубиться в urban terror а я из ...     -1\n",
       "1                user как говорить обещаной три год ждать     -1\n",
       "2       желать хороший полёт и удачный посадка я быть ...     -1\n",
       "3       обновить за какой то леший surf теперь не рабо...     -1\n",
       "4       котёнок вчера носик разбить плакать и расстраи...     -1\n",
       "...                                                   ...    ...\n",
       "114904  торт с чернослив купить на кропоток в тот мага...      1\n",
       "114905  спасть в родительский дом на свой кровать прос...      1\n",
       "114906  rt user эх мы немного решить сократить путь се...      1\n",
       "114907  что происходить с я когда в эфир proactivefm з...      1\n",
       "114908  любимый я подарить ты этот звезда имя какой зв...      1\n",
       "\n",
       "[226831 rows x 2 columns]"
      ]
     },
     "execution_count": 41,
     "metadata": {},
     "output_type": "execute_result"
    }
   ],
   "source": [
    "df = pd.read_csv('datasets/twitter_clean_text_theme.csv', index_col=0)\n",
    "df[['text', 'label']]"
   ]
  },
  {
   "cell_type": "code",
   "execution_count": 55,
   "id": "94c69d43-6650-4162-8628-6ce430593eb4",
   "metadata": {},
   "outputs": [],
   "source": [
    "stop_list = stopwords.words(\"russian\")\n",
    "stop_list.extend(['это', 'который', 'всё', 'весь', 'свой', 'наш', 'ещё', 'также', 'год', 'c', 'е', 'с', 'e', 'b', 'a', 'gb', 'd'])"
   ]
  },
  {
   "cell_type": "code",
   "execution_count": 56,
   "id": "284e1217-890b-4fe0-9003-ae96046254bf",
   "metadata": {
    "scrolled": true
   },
   "outputs": [
    {
     "data": {
      "text/plain": [
       "['и',\n",
       " 'в',\n",
       " 'во',\n",
       " 'не',\n",
       " 'что',\n",
       " 'он',\n",
       " 'на',\n",
       " 'я',\n",
       " 'с',\n",
       " 'со',\n",
       " 'как',\n",
       " 'а',\n",
       " 'то',\n",
       " 'все',\n",
       " 'она',\n",
       " 'так',\n",
       " 'его',\n",
       " 'но',\n",
       " 'да',\n",
       " 'ты',\n",
       " 'к',\n",
       " 'у',\n",
       " 'же',\n",
       " 'вы',\n",
       " 'за',\n",
       " 'бы',\n",
       " 'по',\n",
       " 'только',\n",
       " 'ее',\n",
       " 'мне',\n",
       " 'было',\n",
       " 'вот',\n",
       " 'от',\n",
       " 'меня',\n",
       " 'еще',\n",
       " 'нет',\n",
       " 'о',\n",
       " 'из',\n",
       " 'ему',\n",
       " 'теперь',\n",
       " 'когда',\n",
       " 'даже',\n",
       " 'ну',\n",
       " 'вдруг',\n",
       " 'ли',\n",
       " 'если',\n",
       " 'уже',\n",
       " 'или',\n",
       " 'ни',\n",
       " 'быть',\n",
       " 'был',\n",
       " 'него',\n",
       " 'до',\n",
       " 'вас',\n",
       " 'нибудь',\n",
       " 'опять',\n",
       " 'уж',\n",
       " 'вам',\n",
       " 'ведь',\n",
       " 'там',\n",
       " 'потом',\n",
       " 'себя',\n",
       " 'ничего',\n",
       " 'ей',\n",
       " 'может',\n",
       " 'они',\n",
       " 'тут',\n",
       " 'где',\n",
       " 'есть',\n",
       " 'надо',\n",
       " 'ней',\n",
       " 'для',\n",
       " 'мы',\n",
       " 'тебя',\n",
       " 'их',\n",
       " 'чем',\n",
       " 'была',\n",
       " 'сам',\n",
       " 'чтоб',\n",
       " 'без',\n",
       " 'будто',\n",
       " 'чего',\n",
       " 'раз',\n",
       " 'тоже',\n",
       " 'себе',\n",
       " 'под',\n",
       " 'будет',\n",
       " 'ж',\n",
       " 'тогда',\n",
       " 'кто',\n",
       " 'этот',\n",
       " 'того',\n",
       " 'потому',\n",
       " 'этого',\n",
       " 'какой',\n",
       " 'совсем',\n",
       " 'ним',\n",
       " 'здесь',\n",
       " 'этом',\n",
       " 'один',\n",
       " 'почти',\n",
       " 'мой',\n",
       " 'тем',\n",
       " 'чтобы',\n",
       " 'нее',\n",
       " 'сейчас',\n",
       " 'были',\n",
       " 'куда',\n",
       " 'зачем',\n",
       " 'всех',\n",
       " 'никогда',\n",
       " 'можно',\n",
       " 'при',\n",
       " 'наконец',\n",
       " 'два',\n",
       " 'об',\n",
       " 'другой',\n",
       " 'хоть',\n",
       " 'после',\n",
       " 'над',\n",
       " 'больше',\n",
       " 'тот',\n",
       " 'через',\n",
       " 'эти',\n",
       " 'нас',\n",
       " 'про',\n",
       " 'всего',\n",
       " 'них',\n",
       " 'какая',\n",
       " 'много',\n",
       " 'разве',\n",
       " 'три',\n",
       " 'эту',\n",
       " 'моя',\n",
       " 'впрочем',\n",
       " 'хорошо',\n",
       " 'свою',\n",
       " 'этой',\n",
       " 'перед',\n",
       " 'иногда',\n",
       " 'лучше',\n",
       " 'чуть',\n",
       " 'том',\n",
       " 'нельзя',\n",
       " 'такой',\n",
       " 'им',\n",
       " 'более',\n",
       " 'всегда',\n",
       " 'конечно',\n",
       " 'всю',\n",
       " 'между',\n",
       " 'это',\n",
       " 'который',\n",
       " 'всё',\n",
       " 'весь',\n",
       " 'свой',\n",
       " 'наш',\n",
       " 'ещё',\n",
       " 'также',\n",
       " 'год',\n",
       " 'c',\n",
       " 'е',\n",
       " 'с',\n",
       " 'e',\n",
       " 'b',\n",
       " 'a',\n",
       " 'gb',\n",
       " 'd']"
      ]
     },
     "execution_count": 56,
     "metadata": {},
     "output_type": "execute_result"
    }
   ],
   "source": [
    "stop_list"
   ]
  },
  {
   "cell_type": "code",
   "execution_count": null,
   "id": "5cfd0bd0-6641-40cf-ab67-8fa666b8bc81",
   "metadata": {},
   "outputs": [],
   "source": []
  },
  {
   "cell_type": "code",
   "execution_count": 57,
   "id": "e0fc79c0-e1fe-44da-becb-395cfb818fc2",
   "metadata": {},
   "outputs": [
    {
     "data": {
      "text/plain": [
       "(['коллега',\n",
       "  'сидеть',\n",
       "  'рубиться',\n",
       "  'urban',\n",
       "  'terror',\n",
       "  'долбать',\n",
       "  'винд',\n",
       "  'мочь'],\n",
       " 226831)"
      ]
     },
     "execution_count": 57,
     "metadata": {},
     "output_type": "execute_result"
    }
   ],
   "source": [
    "tokenized_text = []\n",
    "\n",
    "for i in df.text:\n",
    "    tokenized_text.append([j for j in i.split() if j not in stop_list])\n",
    "\n",
    "tokenized_text[0][:10], len(tokenized_text)"
   ]
  },
  {
   "cell_type": "code",
   "execution_count": 58,
   "id": "4a188c37-5f5b-4e36-a318-0c5c43e1be25",
   "metadata": {},
   "outputs": [],
   "source": [
    "bigram = Phrases(tokenized_text, min_count=10)"
   ]
  },
  {
   "cell_type": "code",
   "execution_count": 59,
   "id": "62d30d3f-9cc0-4e94-8400-d146d62bc766",
   "metadata": {},
   "outputs": [
    {
     "data": {
      "text/plain": [
       "['sm_amp',\n",
       " 'gt_напомнить',\n",
       " 'называться_фотка',\n",
       " 'вокруг_чёрный',\n",
       " 'рамка_внизу',\n",
       " 'надпись_au',\n",
       " 'amp_gt',\n",
       " 'некролог_sm',\n",
       " 'amp_gt',\n",
       " 'au_amp',\n",
       " 'gt_демотиватор',\n",
       " 'sm_amp']"
      ]
     },
     "execution_count": 59,
     "metadata": {},
     "output_type": "execute_result"
    }
   ],
   "source": [
    "docs = [bigram[i] for i in tokenized_text]\n",
    "\n",
    "for i in docs:\n",
    "    tmp = [j for j in i if '_' in j]\n",
    "\n",
    "    if len(tmp) > 10:\n",
    "        break\n",
    "\n",
    "tmp"
   ]
  },
  {
   "cell_type": "code",
   "execution_count": 60,
   "id": "c69410db-e831-41d1-89bf-c88358e9c80d",
   "metadata": {},
   "outputs": [],
   "source": [
    "dictionary = Dictionary(docs)\n",
    "dictionary.filter_extremes(no_below=10, no_above=0.3)"
   ]
  },
  {
   "cell_type": "code",
   "execution_count": 61,
   "id": "0a086b53-ff6b-497c-abca-e727849b70b7",
   "metadata": {},
   "outputs": [],
   "source": [
    "id2token = {value: key for key, value in dictionary.token2id.items()}"
   ]
  },
  {
   "cell_type": "code",
   "execution_count": 62,
   "id": "4140b6fd-3f80-4119-b5ff-79e548e28ec5",
   "metadata": {},
   "outputs": [],
   "source": [
    "corpus = [dictionary.doc2bow(i) for i in docs] # bag-of-words"
   ]
  },
  {
   "cell_type": "code",
   "execution_count": 63,
   "id": "e2ed5ce1-a12c-4f96-bb7e-34379dd23ce2",
   "metadata": {},
   "outputs": [
    {
     "name": "stdout",
     "output_type": "stream",
     "text": [
      "Unique tokens: 13464\n",
      "Amount of docs: 226831\n"
     ]
    }
   ],
   "source": [
    "print('Unique tokens:', len(dictionary))\n",
    "print('Amount of docs:', len(corpus))"
   ]
  },
  {
   "cell_type": "code",
   "execution_count": 68,
   "id": "ac273ee1-30b2-4893-895d-79d42000666e",
   "metadata": {},
   "outputs": [],
   "source": [
    "# Set training parameters.\n",
    "num_topics = 6\n",
    "chunksize = 4000\n",
    "passes = 20\n",
    "iterations = 400\n",
    "eval_every = None "
   ]
  },
  {
   "cell_type": "code",
   "execution_count": 69,
   "id": "af893a4f-e963-41a5-a321-95ea83aa796a",
   "metadata": {},
   "outputs": [
    {
     "name": "stdout",
     "output_type": "stream",
     "text": [
      "CPU times: user 58.2 s, sys: 4.44 s, total: 1min 2s\n",
      "Wall time: 2min 30s\n"
     ]
    }
   ],
   "source": [
    "%%time\n",
    "\n",
    "id2word = id2token \n",
    "\n",
    "model = gensim.models.ldamulticore.LdaMulticore(\n",
    "    corpus=corpus,\n",
    "    id2word=id2word,\n",
    "    chunksize=chunksize,\n",
    "    eta='auto',\n",
    "    iterations=iterations,\n",
    "    num_topics=num_topics,\n",
    "    passes=passes,\n",
    "    eval_every=eval_every,\n",
    "    workers=16\n",
    ")"
   ]
  },
  {
   "cell_type": "code",
   "execution_count": 70,
   "id": "2a5e3b3c-1ab2-44cb-9037-5ecf16ad2a7b",
   "metadata": {},
   "outputs": [
    {
     "name": "stdout",
     "output_type": "stream",
     "text": [
      "Coherence Score: -4.4801\n"
     ]
    }
   ],
   "source": [
    "# Coherence (чем ближе к нулю, тем лучше 0 the better)\n",
    "coherence_model = coherencemodel.CoherenceModel(model=model, texts=docs, dictionary=dictionary, coherence='u_mass')\n",
    "coherence_score = coherence_model.get_coherence()\n",
    "print(f'Coherence Score: {coherence_score:.4f}')"
   ]
  },
  {
   "cell_type": "code",
   "execution_count": 71,
   "id": "76179cc2-85d7-48bb-b9b2-34a767412574",
   "metadata": {},
   "outputs": [
    {
     "data": {
      "text/html": [
       "\n",
       "<link rel=\"stylesheet\" type=\"text/css\" href=\"https://cdn.jsdelivr.net/gh/bmabey/pyLDAvis@3.4.0/pyLDAvis/js/ldavis.v1.0.0.css\">\n",
       "\n",
       "\n",
       "<div id=\"ldavis_el291751399509032186242567610831\" style=\"background-color:white;\"></div>\n",
       "<script type=\"text/javascript\">\n",
       "\n",
       "var ldavis_el291751399509032186242567610831_data = {\"mdsDat\": {\"x\": [0.1822972017114738, -0.11421215750451044, -0.004811248898385983, 0.12738396714619374, -0.21826204782928843, 0.02760428537451751], \"y\": [0.11156690436271194, -0.16387574513655864, -0.12776039975260914, -0.05435087561270333, 0.15950615558135758, 0.0749139605578016], \"topics\": [1, 2, 3, 4, 5, 6], \"cluster\": [1, 1, 1, 1, 1, 1], \"Freq\": [20.286199607128644, 17.875162403254855, 16.82061745482941, 15.481286360378999, 15.095518455879144, 14.44121571852895]}, \"tinfo\": {\"Term\": [\"rt\", \"url\", \"\\u043b\\u044e\\u0431\\u0438\\u0442\\u044c\", \"\\u043d\\u043e\\u0432\\u044b\\u0439\", \"\\u0437\\u043d\\u0430\\u0442\\u044c\", \"\\u0434\\u0435\\u043d\\u044c\", \"\\u0434\\u0435\\u043b\\u0430\\u0442\\u044c\", \"\\u0441\\u0435\\u0433\\u043e\\u0434\\u043d\\u044f\", \"\\u0432\\u0440\\u0435\\u043c\\u044f\", \"\\u0441\\u043f\\u0430\\u0441\\u0438\\u0431\\u043e\", \"\\u0447\\u0435\\u043b\\u043e\\u0432\\u0435\\u043a\", \"\\u0433\\u043e\\u0432\\u043e\\u0440\\u0438\\u0442\\u044c\", \"\\u0445\\u043e\\u0442\\u0435\\u0442\\u044c\\u0441\\u044f\", \"\\u0434\\u043e\\u043c\", \"\\u043f\\u043e\\u0439\\u0442\\u0438\", \"\\u043f\\u043e\\u0447\\u0435\\u043c\\u0443\", \"\\u0445\\u043e\\u0442\\u0435\\u0442\\u044c\", \"\\u043f\\u0440\\u043e\\u0441\\u0442\\u043e\", \"\\u0437\\u0430\\u0432\\u0442\\u0440\\u0430\", \"\\u0448\\u043a\\u043e\\u043b\\u0430\", \"\\u0432\\u043e\\u043e\\u0431\\u0449\\u0435\", \"\\u043f\\u0440\\u0430\\u0432\\u0434\\u0430\", \"\\u043d\\u0430\\u043f\\u0438\\u0441\\u0430\\u0442\\u044c\", \"\\u0443\\u0440\\u043e\\u043a\", \"\\u0441\\u043d\\u0435\\u0433\", \"\\u0445\\u043e\\u0440\\u043e\\u0448\\u0438\\u0439\", \"\\u0441\\u043f\\u0430\\u0442\\u044c\", \"\\u043b\\u044e\\u0431\\u0438\\u043c\\u044b\\u0439\", \"\\u0441\\u0434\\u0435\\u043b\\u0430\\u0442\\u044c\", \"\\u0438\\u0433\\u0440\\u0430\\u0442\\u044c\", \"\\u0441\\u043d\\u0435\\u0433\", \"\\u043f\\u043e\\u0433\\u0443\\u043b\\u044f\\u0442\\u044c\", \"\\u0443\\u043b\\u0438\\u0446\\u0430\", \"\\u043f\\u043e\\u0433\\u043e\\u0434\\u0430\", \"dddd\", \"\\u0432\\u0435\\u0442\\u0435\\u0440\", \"\\u043a\\u0430\\u0442\\u043e\\u043a\", \"\\u0437\\u0430\\u0432\\u0442\\u0440\\u0430\\u043a\", \"\\u043b\\u0451\\u0434\", \"\\u043f\\u0438\\u0442\\u044c\", \"\\u0434\\u043e\\u0435\\u0445\\u0430\\u0442\\u044c\", \"\\u043f\\u0440\\u043e\\u0431\\u043a\\u0430\", \"\\u043a\\u0430\\u0442\\u0430\\u0442\\u044c\\u0441\\u044f\", \"\\u0447\\u0442\\u043e\\u043b\\u044c\", \"\\u0441\\u0443\\u0433\\u0440\\u043e\\u0431\", \"\\u043c\\u043e\\u043a\\u0440\\u044b\\u0439\", \"\\u0437\\u0430\\u043c\\u0451\\u0440\\u0437\\u043b\\u044b\\u0439\", \"\\u043f\\u043e\\u0431\\u0435\\u0434\\u0438\\u0442\\u0435\\u043b\\u044c_\\u0436\\u0438\\u0437\\u043d\\u044c\", \"\\u0434\\u043e\\u0436\\u0434\\u044c\", \"\\u0434\\u043e\\u043c_\\u0441\\u0438\\u0434\\u0435\\u0442\\u044c\", \"\\u043e\\u0441\\u0442\\u0430\\u043d\\u043e\\u0432\\u043a\\u0430\", \"\\u043a\\u043e\\u043d\\u0451\\u043a\", \"\\u043f\\u0440\\u0438\\u0435\\u0445\\u0430\\u0442\\u044c\", \"\\u043a\\u043e\\u043b\\u043b\\u0435\\u0434\\u0436\", \"\\u0441\\u043d\\u0435\\u0436\\u043d\\u044b\\u0439\", \"\\u044f\\u043d\\u0432\\u0430\\u0440\\u044c\", \"\\u0440\\u0430\\u043d\\u0430\", \"\\u0430\\u0437\\u0430\\u0437\\u0430\\u0437\\u0430\", \"\\u0432\\u0435\\u0441\\u0435\\u043b\\u043e\", \"\\u043f\\u043e\\u043a\\u0430\\u0442\\u0430\\u0442\\u044c\\u0441\\u044f\", \"\\u043d\\u043e\\u0432\\u043e\\u0433\\u043e\\u0434\\u043d\\u0438\\u0439_\\u043d\\u0430\\u0441\\u0442\\u0440\\u043e\\u0435\\u043d\\u0438\\u0435\", \"\\u0443\\u0435\\u0437\\u0436\\u0430\\u0442\\u044c\", \"\\u0434\\u043e\\u0436\\u0434\\u0430\\u0442\\u044c\\u0441\\u044f\", \"\\u0441\\u043d\\u0435\\u0436\\u043e\\u043a\", \"\\u0433\\u0443\\u043b\\u044f\\u0442\\u044c\", \"\\u0445\\u043e\\u043b\\u043e\\u0434\\u043d\\u043e\", \"\\u043f\\u043e\\u0435\\u0445\\u0430\\u0442\\u044c\", \"\\u043d\\u0435\\u0434\\u0435\\u043b\\u044f\", \"\\u0435\\u0445\\u0430\\u0442\\u044c\", \"\\u0434\\u043e\\u043c\\u043e\\u0439\", \"\\u0434\\u043e\\u043c\", \"\\u0434\\u0435\\u043d\\u044c\", \"\\u0432\\u044b\\u0445\\u043e\\u0434\\u043d\\u043e\\u0439\", \"\\u0451\\u043b\\u043a\\u0430\", \"\\u0431\\u043e\\u043b\\u044c\\u043d\\u0438\\u0446\\u0430\", \"\\u0433\\u043e\\u0441\\u0442\\u044c\", \"\\u0434\\u0435\\u043a\\u0430\\u0431\\u0440\\u044c\", \"\\u043d\\u0430\\u0441\\u0442\\u0440\\u043e\\u0435\\u043d\\u0438\\u0435\", \"\\u0448\\u043a\\u043e\\u043b\\u0430\", \"\\u0441\\u0435\\u0433\\u043e\\u0434\\u043d\\u044f\", \"\\u0445\\u043e\\u0434\\u0438\\u0442\\u044c\", \"\\u0443\\u0435\\u0445\\u0430\\u0442\\u044c\", \"\\u0438\\u0434\\u0442\\u0438\", \"\\u043d\\u0433\", \"\\u043a\\u043e\\u043d\\u0446\\u0435\\u0440\\u0442\", \"\\u0437\\u0438\\u043c\\u0430\", \"\\u0437\\u0430\\u0432\\u0442\\u0440\\u0430\", \"\\u043f\\u0440\\u0438\\u0439\\u0442\\u0438\", \"\\u0445\\u043e\\u0442\\u0435\\u0442\\u044c\", \"\\u043f\\u0430\\u043f\\u0430\", \"\\u0436\\u0434\\u0430\\u0442\\u044c\", \"\\u043c\\u0430\\u043c\\u0430\", \"\\u0431\\u043b\\u0438\\u043d\", \"\\u0432\\u0447\\u0435\\u0440\\u0430\", \"\\u043f\\u043e\\u0439\\u0442\\u0438\", \"\\u0432\\u043e\\u043e\\u0431\\u0449\\u0435\", \"\\u043e\\u0441\\u0442\\u0430\\u0442\\u044c\\u0441\\u044f\", \"\\u0440\\u0430\\u0431\\u043e\\u0442\\u0430\", \"\\u0445\\u043e\\u0440\\u043e\\u0448\\u0438\\u0439\", \"url\", \"\\u0447\\u0430\\u0441\", \"\\u043c\\u043e\\u0447\\u044c\", \"\\u043b\", \"\\u043d\\u044c\", \"\\u043c\\u0435\\u043d\\u0430\", \"\\u043c\\u043e\\u043b\\u0447\\u0430\\u0442\\u044c\", \"\\u0443\\u0434\\u0430\\u043b\\u0438\\u0442\\u044c\", \"\\u0434\\u0440\\u0443\\u0433_\\u0434\\u0440\\u0443\\u0433\", \"\\u044e\\u043c\", \"\\u0433\\u044d\\u0436\", \"\\u043d\\u043e\\u0432\\u044b\\u0439_\\u0447\\u0438\\u0442\\u0430\\u0442\\u0435\\u043b\\u044c\", \"\\u0431\\u0438\", \"\\u043b\\u044e\\u0431\\u0438\\u0442\\u044c\", \"\\u0431\\u0430\\u0439\\u043d\", \"\\u0443\\u043a\\u0440\\u0430\\u0441\\u0438\\u0442\\u044c_\\u0451\\u043b\\u043a\\u0430\", \"q\", \"\\u043d\\u0438\\u0442\", \"\\u044d\\u043d\\u044d\", \"\\u0434\\u043e\\u0431\\u0430\\u0432\\u043b\\u044f\\u0442\\u044c\", \"\\u0448\\u0438\\u0440\\u043e\\u0442\\u0430\", \"\\u0447\\u0438\\u043d\\u044c\", \"\\u0447\", \"\\u0434\\u043e\\u0433\\u0430\\u0434\\u0430\\u0442\\u044c\\u0441\\u044f\", \"\\u043f\\u0440\\u0430\\u0432\\u044b\\u0439\", \"\\u0430\\u043b\\u0435\", \"\\u0432\\u0437\\u0430\\u0438\\u043c\\u043d\\u044b\\u0439\\u0444\\u043e\\u043b\\u043b\\u043e\\u0432\\u0438\\u043d\\u0433\", \"\\u044d\\u043c\", \"\\u0430\\u0441\\u043a\", \"\\u0447\\u0443\\u0436\\u043e\\u0439\", \"\\u0443\\u0434\\u0438\\u0432\\u043b\\u044f\\u0442\\u044c\\u0441\\u044f\", \"\\u043f\\u043e\\u0441\\u0442\\u0443\\u043f\\u0430\\u0442\\u044c\", \"\\u0443\\u0443\", \"\\u0441\\u043a\\u043e\\u043b\\u044c\\u043a\\u043e\", \"\\u0446\\u0435\\u043d\\u0438\\u0442\\u044c\", \"\\u043e\\u0431\\u0438\\u0436\\u0430\\u0442\\u044c\\u0441\\u044f\", \"\\u0434\\u0430\\u0440\\u0438\\u0442\\u044c\", \"\\u043e\\u0442\\u043d\\u043e\\u0441\\u0438\\u0442\\u044c\\u0441\\u044f\", \"\\u0440\\u0435\\u0432\\u043d\\u043e\\u0432\\u0430\\u0442\\u044c\", \"\\u0437\\u0432\\u0435\\u0437\\u0434\\u0430\", \"\\u0441\\u043a\\u0438\\u043d\\u0443\\u0442\\u044c\", \"\\u0431\\u0438\\u0442\\u044c\", \"\\u0430\\u0432\\u0430\", \"\\u043d\\u0430\\u0437\\u0432\\u0430\\u0442\\u044c\", \"\\u0440\\u0436\\u0430\", \"\\u0437\\u043d\\u0430\\u0442\\u044c\", \"\\u0441\\u043c\\u0435\\u044f\\u0442\\u044c\\u0441\\u044f\", \"\\u0433\\u043e\\u0432\\u043e\\u0440\\u0438\\u0442\\u044c\", \"\\u0434\\u0443\\u0440\\u0430\", \"\\u043e\\u0442\\u0432\\u0435\\u0447\\u0430\\u0442\\u044c\", \"\\u043f\\u043e\\u0447\\u0435\\u043c\\u0443\", \"\\u0441\\u043f\\u0440\\u0430\\u0448\\u0438\\u0432\\u0430\\u0442\\u044c\", \"\\u0434\\u043e\\u0431\\u0430\\u0432\\u0438\\u0442\\u044c\", \"\\u0447\\u0438\\u0442\\u0430\\u0442\\u044c\", \"\\u043c\\u043d\\u0435\\u043d\\u0438\\u0435\", \"\\u0430\\u0445\\u0430\\u0445\", \"\\u0438\\u043d\\u0442\\u0435\\u0440\\u0435\\u0441\\u043d\\u043e\", \"\\u0445\\u0430\\u0445\", \"\\u0444\\u043e\\u0442\\u043a\\u0430\", \"\\u0447\\u0435\\u043b\\u043e\\u0432\\u0435\\u043a\", \"\\u043f\\u043e\\u043d\\u0438\\u043c\\u0430\\u0442\\u044c\", \"\\u0441\\u0442\\u0440\\u0430\\u0448\\u043d\\u044b\\u0439\", \"\\u043e\\u0431\\u0449\\u0430\\u0442\\u044c\\u0441\\u044f\", \"\\u043f\\u0430\\u0440\\u0435\\u043d\\u044c\", \"\\u043f\\u043e\\u0441\\u043c\\u043e\\u0442\\u0440\\u0435\\u0442\\u044c\", \"\\u0432\\u043e\\u043e\\u0431\\u0449\\u0435\", \"\\u043e\\u0431\\u0438\\u0434\\u043d\\u043e\", \"\\u0432\\u043a\", \"\\u043f\\u0440\\u043e\\u0441\\u0442\\u043e\", \"\\u043f\\u043e\\u043d\\u044f\\u0442\\u044c\", \"\\u0441\\u043a\\u0430\\u0437\\u0430\\u0442\\u044c\", \"url\", \"\\u043f\\u0438\\u0441\\u0430\\u0442\\u044c\", \"\\u0434\\u0440\\u0443\\u0433\", \"\\u043c\\u043e\\u0447\\u044c\", \"\\u0441\\u043b\\u043e\\u0432\\u043e\", \"\\u0441\\u043c\\u043e\\u0442\\u0440\\u0435\\u0442\\u044c\", \"\\u043d\\u0438\\u043a\\u0442\\u043e\", \"\\u043d\\u0430\\u0439\\u0442\\u0438\", \"\\u0445\\u043e\\u0440\\u043e\\u0448\\u0438\\u0439\", \"\\u0442\\u0432\\u043e\\u0439\", \"\\u0434\\u0443\\u043c\\u0430\\u0442\\u044c\", \"\\u043e\\u0447\\u0435\\u043d\\u044c\", \"rt\", \"\\u0445\\u043e\\u0442\\u0435\\u0442\\u044c\\u0441\\u044f\", \"\\u0441\\u043f\\u043e\\u043a\\u043e\\u0439\\u043d\\u044b\\u0439_\\u043d\\u043e\\u0447\\u044c\", \"\\u043d\\u0430\\u043f\\u043e\\u043c\\u043d\\u0438\\u0442\\u044c\", \"\\u043a\\u043e\\u043b\\u0438\\u0447\\u0435\\u0441\\u0442\\u0432\\u043e\", \"\\u0441\\u043d\\u0438\\u0442\\u044c\\u0441\\u044f\", \"\\u0440\\u0435\\u0448\\u0430\\u0442\\u044c\", \"amp_gt\", \"\\u043f\\u0440\\u0435\\u0434\\u043b\\u043e\\u0436\\u0435\\u043d\\u0438\\u0435\", \"\\u0441\\u043b\\u043e\\u0436\\u043d\\u044b\\u0439\", \"sm_amp\", \"\\u043f\\u0440\\u043e\\u0435\\u0431\\u0430\\u043b\", \"\\u043b\\u043e\\u0436\\u0438\\u0442\\u044c\\u0441\\u044f_\\u0441\\u043f\\u0430\\u0442\\u044c\", \"\\u043b\\u0435\\u043d\\u0438\\u0432\\u044b\\u0439\", \"\\u0443\\u0441\\u043d\\u0443\\u0442\\u044c\", \"\\u0431\\u0443\\u0434\\u0438\\u043b\\u044c\\u043d\\u0438\\u043a\", \"\\u043e\\u0431\\u0438\\u0434\\u0430\", \"\\u043b\\u0435\\u0447\\u044c\", \"\\u043f\\u043e\\u0441\\u043b\\u0435\\u0434\\u043d\\u0438\\u0439_\\u0441\\u0435\\u0440\\u0438\\u044f\", \"\\u043d\\u0430\\u0431\\u043e\\u0440\", \"\\u0440\\u043e\\u0441\\u0442\", \"\\u0432\\u0441\\u0442\\u0430\\u0432\\u0430\\u0442\\u044c\", \"\\u0442\\u0443\\u043f\\u0438\\u0442\\u044c\", \"\\u043a\\u0433\", \"\\u043f\\u0440\\u043e\\u0441\\u043d\\u0443\\u0442\\u044c\\u0441\\u044f\", \"\\u0443\\u0442\\u0440\\u043e_\\u0434\\u043e\\u0431\\u0440\\u044b\\u0439\", \"\\u043a\\u0440\\u0430\\u0441\\u0430\\u0432\\u0435\\u0446\", \"\\u043e\\u0441\\u043e\\u0431\\u044b\\u0439\", \"\\u0432\\u0440\\u043e\\u043c\\u0430\\u0439\\u0434\\u0430\\u043d_\\u0435\\u0432\\u0440\\u043e\\u043c\\u0430\\u0439\\u0434\\u0430\\u043d\", \"euromaidan\", \"\\u043c\\u043c\\u043c\\u043c\", \"\\u0441\\u0442\\u043e\\u043b\\u044c\\u043a\\u043e\", \"\\u0432\\u0441\\u0442\\u0430\\u0442\\u044c\", \"\\u0438\\u043d\\u0442\\u0435\\u0440\\u043d\\u0435\\u0442\", \"\\u0442\\u0435\\u0433\", \"\\u043f\\u0440\\u0438\\u0441\\u043d\\u0438\\u0442\\u044c\\u0441\\u044f\", \"\\u043f\\u0440\\u043e\\u0447\\u0435\\u0441\\u0442\\u044c\", \"\\u043f\\u0440\\u043e\\u0441\\u044b\\u043f\\u0430\\u0442\\u044c\\u0441\\u044f\", \"\\u043c\\u0435\\u0434\\u0432\\u0435\\u0434\\u044c\", \"\\u0441\\u043e\\u043d\", \"\\u043f\\u043e\\u0441\\u043b\\u0435\\u0434\\u043d\\u0438\\u0439_\\u0432\\u0440\\u0435\\u043c\\u044f\", \"\\u043c\\u0438\\u0440\", \"\\u0443\\u0431\\u0438\\u0442\\u044c\", \"\\u0431\\u0440\\u0435\\u0434\", \"\\u0447\\u0435\\u0441\\u0442\\u043d\\u043e\", \"\\u043f\\u043e\\u0441\\u0442\", \"\\u0438\\u0441\\u043f\\u043e\\u0440\\u0442\\u0438\\u0442\\u044c\", \"\\u043f\\u043e\\u044d\\u0442\\u043e\\u043c\\u0443\", \"\\u0441\\u0435\\u0440\\u0438\\u044f\", \"\\u043f\\u0440\\u043e\\u0447\\u0438\\u0442\\u0430\\u0442\\u044c\", \"\\u0431\\u043e\\u043b\\u044c\\u0448\\u043e\\u0439\", \"\\u0436\\u0438\\u0437\\u043d\\u044c\", \"\\u0443\\u0442\\u0440\\u043e\", \"\\u043d\\u043e\\u0447\\u044c\", \"\\u043d\\u0435\\u043d\\u0430\\u0432\\u0438\\u0434\\u0435\\u0442\\u044c\", \"\\u0434\\u0443\\u043c\\u0430\\u0442\\u044c\", \"\\u043a\\u0430\\u0437\\u0430\\u0442\\u044c\\u0441\\u044f\", \"\\u0440\\u0430\\u043d\\u043d\\u0438\\u0439\", \"\\u043b\\u0435\\u043d\\u0442\\u0430\", \"\\u0432\\u0438\\u0434\\u0435\\u0442\\u044c\", \"\\u043c\\u043e\\u0447\\u044c\", \"\\u0447\\u0435\\u043b\\u043e\\u0432\\u0435\\u043a\", \"\\u043f\\u0440\\u043e\\u0431\\u043b\\u0435\\u043c\\u0430\", \"\\u043a\\u0430\\u0436\\u0434\\u044b\\u0439\", \"\\u043e\\u0447\\u0435\\u043d\\u044c\", \"rt\", \"\\u043f\\u043e\\u0441\\u043c\\u043e\\u0442\\u0440\\u0435\\u0442\\u044c\", \"\\u0440\\u0430\\u0431\\u043e\\u0442\\u0430\\u0442\\u044c\", \"\\u0441\\u0435\\u0433\\u043e\\u0434\\u043d\\u044f\", \"\\u0445\\u043e\\u0442\\u0435\\u0442\\u044c\", \"\\u043d\\u0430\\u043f\\u0438\\u0441\\u0430\\u0442\\u044c\", \"\\u043c\\u0435\\u0441\\u0442\\u043e\", \"\\u043f\\u0438\\u0441\\u0430\\u0442\\u044c\", \"\\u0441\\u043f\\u0430\\u0442\\u044c\", \"url\", \"\\u0434\\u0435\\u043b\\u043e\", \"\\u0441\\u043c\\u043e\\u0442\\u0440\\u0435\\u0442\\u044c\", \"\\u0430\\u043b\\u0433\\u0435\\u0431\\u0440\\u0430\", \"\\u0430\\u043d\\u0433\\u043b\\u0438\\u0439\\u0441\\u043a\\u0438\\u0439\", \"\\u0431\\u0438\\u043e\\u043b\\u043e\\u0433\\u0438\\u044f\", \"\\u0448\\u0443\\u0442\\u0438\\u0442\\u044c\", \"\\u0434\\u0440\\u0443\\u0436\\u0438\\u0442\\u044c\", \"\\u0444\\u0438\\u0437\\u0438\\u043a\\u0430\", \"\\u043b\\u0451\\u0448\\u0430\", \"\\u043f\\u043b\\u0430\\u0442\\u0438\\u0442\\u044c\", \"\\u0441\\u043f\\u043e\\u0440\\u0438\\u0442\\u044c\", \"\\u0433\\u0435\\u043e\\u0433\\u0440\\u0430\\u0444\\u0438\\u044f\", \"\\u0441\\u043e\\u0447\\u0438\\u043d\\u0435\\u043d\\u0438\\u0435\", \"\\u0443\\u0440\\u043e\\u043a\", \"\\u043b\\u0438\\u0442\\u0435\\u0440\\u0430\\u0442\\u0443\\u0440\\u0430\", \"\\u0432\\u0437\\u0430\\u0438\\u043c\\u043d\\u043e\", \"\\u043e\\u043b\\u0438\\u043c\\u043f\\u0438\\u0430\\u0434\\u0430\", \"\\u0430\\u043d\\u0433\\u043b\", \"\\u0443\\u0447\\u0435\\u0431\\u043d\\u0438\\u043a\", \"\\u0432\\u043e\\u0439\\u043d\\u0430\", \"\\u044d\\u043a\\u043e\\u043d\\u043e\\u043c\\u0438\\u043a\\u0430\", \"\\u0434\\u043e\\u043c\\u0430\\u0448\\u043a\\u0430\", \"\\u0443\\u0447\\u0438\\u043b\\u043a\\u0430\", \"\\u0441\\u044e\\u0436\\u0435\\u0442\", \"\\u043a\\u0440\", \"\\u043d\\u0430\\u0436\\u0430\\u0442\\u044c\", \"\\u043e\\u0442\\u043a\\u0440\\u044b\\u0442\\u043a\\u0430\", \"\\u043f\\u043e\\u0432\\u0435\\u0440\\u044c\", \"\\u0433\\u0435\\u043e\\u043c\\u0435\\u0442\\u0440\\u0438\\u044f\", \"\\u043f\\u0430\\u0440\\u0438\\u0442\\u044c\\u0441\\u044f\", \"\\u0442\\u043e\\u043b\\u0441\\u0442\\u043e\\u0439\", \"\\u0442\\u0435\\u0442\\u0440\\u0430\\u0434\\u044c\", \"\\u0443\\u0447\\u0438\\u0442\\u044c\", \"\\u0431\\u0435\\u0434\\u043d\\u044b\\u0439\", \"\\u043a\\u0443\\u0440\\u0441\", \"\\u0444\\u0438\\u0433\\u043d\\u044f\", \"\\u043c\\u0430\\u0442\\u0435\\u043c\\u0430\\u0442\\u0438\\u043a\\u0430\", \"\\u043f\\u0440\\u0435\\u0434\\u043d\\u043e\\u0432\\u043e\\u0433\\u043e\\u0434\\u043d\\u0438\\u0435\\u043e\\u0431\\u043d\\u0438\\u043c\\u0430\\u0448\\u043a\\u0430\", \"\\u043c\\u0435\\u0448\\u0430\\u0442\\u044c\", \"\\u043d\\u0435\\u043f\\u043b\\u043e\\u0445\\u043e\", \"\\u0437\\u0430\\u0434\\u0430\\u043d\\u0438\\u0435\", \"\\u043d\\u0430\\u0440\\u0438\\u0441\\u043e\\u0432\\u0430\\u0442\\u044c\", \"\\u043f\\u043e\\u0440\\u0436\\u0430\\u0442\\u044c\", \"\\u0434\\u0435\\u043b\\u0430\\u0442\\u044c\", \"\\u044d\\u043a\\u0437\\u0430\\u043c\\u0435\\u043d\", \"\\u0441\\u0434\\u0430\\u0442\\u044c\", \"\\u043f\\u0440\\u0430\\u0432\\u043e\", \"\\u0437\\u0430\\u0447\\u0451\\u0442\", \"\\u0440\\u0443\\u0441\\u0441\\u043a\\u0438\\u0439\", \"\\u0445\\u0438\\u043c\\u0438\\u044f\", \"\\u0430\\u0432\\u0442\\u043e\\u043c\\u0430\\u0442\", \"\\u043a\\u043e\\u0444\\u0435\", \"\\u0441\\u0443\\u0442\\u043a\\u0438\", \"\\u043a\\u043e\\u043d\\u0442\\u0440\\u043e\\u043b\\u044c\\u043d\\u044b\\u0439\", \"\\u0438\\u0441\\u0442\\u043e\\u0440\\u0438\\u044f\", \"\\u0447\\u0430\\u0439\", \"\\u043f\\u043e\\u043b\\u0443\\u0447\\u0438\\u0442\\u044c\", \"\\u043d\\u0430\\u043f\\u0438\\u0441\\u0430\\u0442\\u044c\", \"\\u0441\\u0434\\u0435\\u043b\\u0430\\u0442\\u044c\", \"\\u043f\\u043e\\u0439\\u0442\\u0438\", \"\\u043b\\u0438\\u0431\\u043e\", \"\\u0441\\u043f\\u0430\\u0442\\u044c\", \"\\u0434\\u0430\\u0432\\u0430\\u0442\\u044c\", \"\\u0441\\u0435\\u0441\\u0441\\u0438\\u044f\", \"\\u0443\\u0447\\u0438\\u0442\\u044c\\u0441\\u044f\", \"\\u0432\\u0442\\u043e\\u0440\\u043e\\u0439\", \"\\u0437\\u0430\\u0432\\u0442\\u0440\\u0430\", \"\\u0445\\u043e\\u0440\\u043e\\u0448\\u0438\\u0439\", \"\\u0445\\u043e\\u0442\\u0435\\u0442\\u044c\", \"\\u043f\\u043e\\u043a\\u0430\", \"rt\", \"\\u043c\\u043e\\u0447\\u044c\", \"\\u0447\\u0430\\u0441\", \"\\u0430\\u0445\\u0438\", \"\\u043f\\u0435\\u0440\\u0432\\u044b\\u0439\", \"url\", \"\\u0437\\u043d\\u0430\\u0442\\u044c\", \"\\u043f\\u0438\\u0441\\u0430\\u0442\\u044c\", \"\\u0432\\u043e\\u043e\\u0431\\u0449\\u0435\", \"\\u0441\\u0438\\u0434\\u0435\\u0442\\u044c\", \"\\u0441\\u043c\\u043e\\u0442\\u0440\\u0435\\u0442\\u044c\", \"\\u043f\\u0430\\u0440\\u0430\", \"\\u043f\\u0440\\u0430\\u0432\\u0434\\u0430\", \"\\u0441\\u043f\\u0430\\u0441\\u0438\\u0431\\u043e_\\u0431\\u043e\\u043b\\u044c\\u0448\\u043e\\u0439\", \"\\u043b\\u044e\\u0431\\u0438\\u0442\\u044c_\\u0437\\u0438\\u043c\\u0430\", \"\\u0432\\u0440\\u043e\\u043c\\u0430\\u0439\\u0434\\u0430\\u043d_url\", \"\\u0433\\u0430\\u0440\\u0440\\u0438\", \"\\u0437\\u0430\\u0433\\u0430\\u0434\\u0430\\u0442\\u044c_\\u0436\\u0435\\u043b\\u0430\\u043d\\u0438\\u0435\", \"\\u0440\\u0430\\u0437\\u0431\\u043b\\u043e\\u043a\\u0438\\u0440\\u043e\\u0432\\u0430\\u0442\\u044c_\\u0442\\u0435\\u043b\\u0435\\u0444\\u043e\\u043d\", \"\\u0447\\u0435\\u043b\\u043e\\u0432\\u0435\\u043a_\\u043d\\u043e\\u0441\", \"\\u043e\\u0433\\u043b\\u044f\\u0434\\u044b\\u0432\\u0430\\u0442\\u044c\\u0441\\u044f_\\u0442\\u0438\\u043f\", \"\\u043f\\u0430\\u043b\\u0435\\u0432\\u044b\\u0439_\\u0432\\u0438\\u0434\\u0435\\u0442\\u044c\", \"\\u0440\\u0435\\u0442\\u0432\\u0438\\u0442\", \"\\u043d\\u0438\\u043a\", \"\\u0431\\u0440\\u043e\\u0441\\u0430\\u0442\\u044c\", \"\\u043b\\u0443\\u0438\", \"to_mars\", \"mtvstars_seconds\", \"\\u043b\\u0430\\u043b\", \"\\u043f\\u0440\\u0438\\u0432\\u0435\\u0442\\u0438\\u043a\", \"\\u0430\\u0430\\u0430\\u0430\\u0430\\u0430\\u0430\", \"\\u0441\\u043b\\u0430\\u0434\\u043a\\u0438\\u0439\", \"\\u0445\\u043e\\u0447\\u0443\\u043f\\u0440\\u043e\\u0432\\u0435\\u0441\\u0442\\u0438\\u043d\\u043e\\u0432\\u043e\\u0433\\u043e\\u0434\\u043d\\u044e\\u044e\\u043d\\u043e\\u0447\\u044c\\u0432\\u043c\\u0435\\u0441\\u0442\\u0451\\u0441\", \"\\u043d\\u0435\\u043d\\u0430\\u0432\\u0438\\u0434\\u0435\\u0442\\u044c_\\u043f\\u0440\\u043e\\u0431\\u043a\\u0430\", \"mtvstars_one\", \"direction\", \"\\u0441\\u043d\\u0430\\u0441\\u0442\\u0443\\u043f\\u0430\\u044e\\u0449\\u0438\\u043c\\u0442\\u0432\\u0438\\u0442\\u0442\\u0435\\u0440\\u0441\\u043a\\u0438\\u0439\", \"http\", \"\\u043e\\u0431\\u043d\\u0438\\u043c\\u0430\\u0448\\u043a\\u0430\", \"\\u043d\\u0430\\u0439\\u043b\", \"\\u0431\\u043b\\u0430\\u0433\\u043e\\u0434\\u0430\\u0440\\u0438\\u0442\\u044c\", \"\\u043b\\u043e\\u0433\\u043e\\u0442\\u0438\\u043f\", \"\\u043c\\u0438\\u043b\\u044b\\u0439\", \"\\u0441\\u0447\\u0430\\u0441\\u0442\\u0438\\u0435\", \"\\u0434\\u043e\\u0431\\u0440\\u044b\\u0439_\\u0432\\u0435\\u0447\\u0435\\u0440\", \"\\u0443\\u0434\\u0430\\u0447\\u0430\", \"\\u0434\\u0435\\u0440\\u0436\\u0430\\u0442\\u044c\\u0441\\u044f\", \"\\u043f\\u043e\\u0437\\u0438\\u0442\\u0438\\u0432\", \"\\u0434\\u0435\\u0432\\u0447\\u043e\\u043d\\u043a\\u0430\", \"\\u0443\\u043b\\u044b\\u0431\\u043a\\u0430\", \"\\u043f\\u043e\\u0434\\u043d\\u044f\\u0442\\u044c_\\u043d\\u0430\\u0441\\u0442\\u0440\\u043e\\u0435\\u043d\\u0438\\u0435\", \"\\u0437\\u0434\\u043e\\u0440\\u043e\\u0432\\u044c\\u0435\", \"\\u043c\\u0438\\u043b\\u043e\\u0441\\u0442\\u044c\", \"\\u043b\\u0438\\u043d\\u0442\", \"\\u0441\\u043b\\u0430\\u0434\\u043a\\u0438\\u0439_\\u0441\\u043e\\u043d\", \"rt\", \"\\u0434\\u0435\\u043d\\u044c_\\u0440\\u043e\\u0436\\u0434\\u0435\\u043d\\u0438\\u0435\", \"\\u0441\\u043f\\u0430\\u0441\\u0438\\u0431\\u043e\", \"\\u043f\\u0440\\u0438\\u0432\\u0435\\u0442\", \"url\", \"\\u0447\\u0443\\u0432\\u0430\\u043a\", \"\\u0432\\u0440\\u043e\\u043c\\u0430\\u0439\\u0434\\u0430\\u043d\", \"\\u043b\\u044e\\u0431\\u0438\\u043c\\u044b\\u0439\", \"\\u0437\", \"\\u0436\\u0435\\u043b\\u0430\\u0442\\u044c\", \"\\u0441\\u0447\\u0430\\u0441\\u0442\\u043b\\u0438\\u0432\\u044b\\u0439\", \"\\u0434\\u0435\\u0432\\u043e\\u0447\\u043a\\u0430\", \"\\u0434\\u043e\\u0440\\u043e\\u0433\\u043e\\u0439\", \"\\u043f\\u043e\\u0437\\u0434\\u0440\\u0430\\u0432\\u043b\\u044f\\u0442\\u044c\", \"\\u0441\\u043e\\u0441\\u043a\\u0443\\u0447\\u0438\\u0442\\u044c\\u0441\\u044f\", \"\\u0441\\u0430\\u043c\\u044b\\u0439_\\u0445\\u043e\\u0440\\u043e\\u0448\\u0438\\u0439\", \"lt\", \"\\u0445\\u043e\\u0442\\u0435\\u0442\\u044c\", \"\\u043a\\u0440\\u0430\\u0441\\u0438\\u0432\\u044b\\u0439\", \"\\u0442\\u0432\\u0438\\u0442\", \"\\u0445\\u043e\\u0440\\u043e\\u0448\\u0438\\u0439\", \"\\u0432\\u0435\\u0440\\u0438\\u0442\\u044c\", \"\\u0441\\u0430\\u043c\\u044b\\u0439\", \"\\u043d\\u0440\\u0430\\u0432\\u0438\\u0442\\u044c\\u0441\\u044f\", \"\\u0434\\u0435\\u0432\\u0443\\u0448\\u043a\\u0430\", \"\\u0434\\u043e\\u0431\\u0440\\u044b\\u0439\", \"\\u0441\\u043a\\u0443\\u0447\\u0430\\u0442\\u044c\", \"\\u043e\\u0447\\u0435\\u043d\\u044c\", \"\\u0442\\u0432\\u043e\\u0439\", \"\\u0441\\u043a\\u0430\\u0437\\u0430\\u0442\\u044c\", \"\\u0434\\u0435\\u043d\\u044c\", \"\\u0441\\u0434\\u0435\\u043b\\u0430\\u0442\\u044c\", \"\\u0436\\u0438\\u0437\\u043d\\u044c\", \"\\u0441\\u0435\\u0433\\u043e\\u0434\\u043d\\u044f\", \"\\u0431\\u043e\\u043b\\u044c\\u0448\\u043e\\u0439\", \"\\u0446\\u0435\\u043b\\u044b\\u0439_\\u0434\\u0435\\u043d\\u044c\", \"\\u043e\\u0444\\u0438\\u0433\\u0435\\u043d\\u043d\\u044b\\u0439_\\u0434\\u0435\\u043d\\u044c\", \"\\u0434\\u0435\\u043d\\u044c_\\u043f\\u043e\\u0437\\u0438\\u0442\\u0438\\u0432\", \"\\u0431\\u0435\\u0433\\u0430\\u0442\\u044c_\\u0438\\u0434\\u0438\\u043e\\u0442\", \"\\u0442\\u0430\\u043d\\u0435\\u0446_\\u043e\\u0444\\u0438\\u0433\\u0435\\u043d\\u043d\\u044b\\u0439\", \"\\u0440\\u0430\\u043a\\u0430\\u0442\\u044c_\\u043e\\u0447\\u0435\\u043d\\u044c\", \"\\u0445\\u0430\", \"\\u043e\\u0447\\u0435\\u043d\\u044c_\\u043f\\u043b\\u043e\\u0445\\u043e\", \"\\u0443\\u0441\\u043f\\u0435\\u0445\", \"\\u0434\\u0443\\u0445\", \"\\u043d\\u0443\\u0436\\u043d\\u044b\\u0439_\\u0451\\u043b\\u043a\\u0430\", \"ddddd\", \"\\u043b\\u043e\\u043c\\u0430\\u0442\\u044c\", \"\\u043a\\u043e\\u043c\\u043f\\u044c\\u044e\\u0442\\u0435\\u0440\", \"\\u043f\\u043e\\u0440\\u0432\\u0430\\u0442\\u044c\", \"\\u0430\\u044d\\u0440\\u043e\\u043f\\u043e\\u0440\\u0442\", \"\\u044e\\u043d\\u044b\\u0439\", \"\\u0432\\u0435\\u0440\\u043d\\u043e\", \"\\u0444\\u043b\\u0435\\u0448\\u043a\\u0430\", \"\\u043f\\u0440\\u0438\\u043a\\u043e\\u043b\\u044c\\u043d\\u044b\\u0439\", \"\\u043a\\u0430\\u043c\\u0435\\u0440\\u0430\", \"\\u0442\\u0440\\u0443\\u0441\", \"\\u043f\\u0435\\u0440\\u0435\\u043f\\u0443\\u0442\\u0430\\u0442\\u044c\", \"\\u043e\\u0431\\u043d\\u043e\\u0432\\u0438\\u0442\\u044c\\u0441\\u044f\", \"\\u0443\\u043b\\u044b\\u0431\\u043d\\u0443\\u0442\\u044c\", \"\\u0435\\u0434\\u0438\\u043d\\u044b\\u0439_\\u0440\\u043e\\u0441\\u0441\\u0438\\u044f\", \"\\u043d\\u043e\\u0432\\u044b\\u0439\", \"\\u043f\\u043e\\u043f\\u0440\\u0430\\u0432\\u043b\\u044f\\u0442\\u044c\\u0441\\u044f\", \"url_\\u0442\\u043e\\u043b\\u044f\", \"\\u0442\\u0440\\u0435\\u0439\\u043b\\u0435\\u0440_\\u0438\\u0432\\u0430\\u043d\", \"\\u0448\\u0438\\u043a\\u0430\\u0440\\u043d\\u044b\\u0439\", \"\\u0441\\u0442\\u0430\\u0440\\u044b\\u0439\", \"\\u043f\\u043e\\u043d\\u0440\\u0430\\u0432\\u0438\\u0442\\u044c\\u0441\\u044f\", \"\\u0432\\u0440\\u0435\\u043c\\u044f\", \"\\u043e\\u0431\\u043e\\u0436\\u0430\\u0442\\u044c\", \"\\u043e\\u0431\\u043d\\u043e\\u0432\\u043b\\u0435\\u043d\\u0438\\u0435\", \"\\u043f\\u0440\\u043e\\u0438\\u0433\\u0440\\u0430\\u0442\\u044c\", \"\\u0438\\u0433\\u0440\\u0430\\u0442\\u044c\", \"followback\", \"\\u0442\\u0440\\u0430\\u0434\\u0438\\u0446\\u0438\\u044f\", \"\\u0432\\u0435\\u0440\\u0441\\u0438\\u044f\", \"\\u043f\\u043e\\u043b\\u043d\\u043e\\u0441\\u0442\\u044c\\u044e\", \"\\u043f\\u0435\\u0441\\u043d\\u044f\", \"\\u043f\\u0440\\u043e\\u0434\\u0430\\u0432\\u0430\\u0442\\u044c\", \"\\u043e\\u0431\\u043d\\u043e\\u0432\\u0438\\u0442\\u044c\", \"\\u0441\\u043a\\u0443\\u0447\\u0430\\u0442\\u044c\", \"\\u0431\\u043e\\u043b\\u0435\\u0442\\u044c\", \"\\u043a\\u0443\\u043f\\u0438\\u0442\\u044c\", \"\\u0433\\u0440\\u0443\\u0441\\u0442\\u043d\\u043e\", \"\\u043f\\u0440\\u043e\\u0441\\u0442\\u043e\", \"\\u043e\\u0447\\u0435\\u043d\\u044c\", \"\\u043e\\u0447\", \"\\u0436\\u0430\\u043b\\u043a\\u043e\", \"\\u0438\\u0433\\u0440\\u0430\", \"\\u0441\\u043b\\u0443\\u0448\\u0430\\u0442\\u044c\", \"\\u043f\\u0440\\u043e\\u0439\\u0442\\u0438\", \"\\u043f\\u043b\\u043e\\u0445\\u043e\", \"\\u0442\\u0435\\u043b\\u0435\\u0444\\u043e\\u043d\", \"\\u043f\\u043e\\u0436\\u0430\\u043b\\u0443\\u0439\\u0441\\u0442\\u0430\", \"rt\", \"url\", \"\\u043c\\u043e\\u043b\\u043e\\u0434\\u0435\\u0446\", \"\\u0441\\u0438\\u0434\\u0435\\u0442\\u044c\", \"\\u043d\\u0430\\u0439\\u0442\\u0438\", \"\\u043e\\u0442\\u043f\\u0440\\u0430\\u0432\\u0438\\u0442\\u044c\", \"\\u043f\\u043e\\u0434\\u0430\\u0440\\u043e\\u043a\", \"\\u043c\\u043e\\u0447\\u044c\", \"\\u043d\\u0430\\u0434\\u0435\\u044f\\u0442\\u044c\\u0441\\u044f\", \"\\u0440\\u0430\\u0431\\u043e\\u0442\\u0430\", \"\\u0434\\u0443\\u043c\\u0430\\u0442\\u044c\", \"\\u0436\\u0434\\u0430\\u0442\\u044c\", \"\\u0441\\u043c\\u043e\\u0442\\u0440\\u0435\\u0442\\u044c\"], \"Freq\": [37618.0, 33569.0, 5405.0, 4806.0, 6666.0, 7047.0, 3939.0, 8772.0, 3170.0, 4361.0, 5467.0, 3607.0, 2133.0, 3123.0, 3115.0, 3582.0, 10487.0, 6869.0, 4643.0, 2800.0, 4609.0, 1508.0, 2601.0, 1528.0, 1687.0, 6236.0, 2957.0, 2466.0, 3155.0, 1256.0, 1685.2896417958807, 431.0435282729652, 1108.5790298322374, 695.3584508346472, 246.2894297129685, 195.70157206010316, 398.2082187058783, 165.84819251104133, 154.1919566574986, 657.6702686547624, 157.2997590455232, 261.178174839628, 257.66540332871455, 130.60968257083596, 134.2481199101198, 139.04729169933623, 123.95023458669529, 118.19219328410323, 301.46066741149855, 136.73346483974998, 175.29624754831323, 109.87389882887668, 1096.198098413866, 164.18861576776663, 109.6803176869464, 406.32017069708724, 100.98591092501934, 91.75780059334268, 736.9282583691785, 169.18478401228126, 363.5092840188801, 282.2611181777716, 210.21343772543958, 277.8072544865638, 726.0518942013971, 472.1476729515815, 804.1618665290475, 1532.7274903811108, 1033.963210762929, 963.6201478820021, 2831.948928832043, 6167.926942421452, 1010.957305845411, 621.6430942565827, 373.4632922827267, 379.24442198886413, 537.1593652768406, 1542.7560896790312, 2253.3042610529446, 6228.987257333302, 1323.4230423656047, 488.2316597332169, 2319.6796592377063, 1048.694349873566, 574.8832496526231, 713.1782134677438, 2308.7700123616833, 1270.8291638924957, 3863.0139474545977, 745.5654162173944, 1438.42624764845, 1327.324082633392, 1587.1414136903784, 1029.1020469790176, 1263.3177759469902, 1501.1726503969753, 903.9120905222094, 1008.7169782998589, 1349.0638283522646, 1693.1898000993594, 865.7393026684209, 1002.7668090232273, 360.3352131908977, 263.98723736642756, 232.30706021945738, 221.21702618380502, 329.424974358729, 461.39547981300177, 160.80317959415186, 137.98956465801695, 141.73576668444298, 136.30836974280243, 5371.661248987324, 125.89318219422185, 102.96402711251466, 296.4386787839652, 131.1407301356382, 94.96259254095797, 94.88281420236919, 104.64171864460228, 89.84622322341312, 230.5504288208095, 101.94922246647197, 94.98482179938829, 83.8795587717762, 92.91308741259915, 83.00445396533664, 162.2897190030883, 149.45802906920426, 98.34573617903843, 81.84493814686927, 90.17373429761969, 1025.4103682350167, 150.27592278421002, 153.71741497577847, 211.35161629460146, 155.01503168718995, 104.54012053392269, 252.4119295195451, 318.3547516621689, 188.4686356725109, 133.1009607422016, 304.43572600188435, 192.24058983984364, 5705.545438586307, 333.8763638600492, 3005.0804222970264, 309.6732512776575, 385.80227360789706, 2670.8012538745666, 346.60777513923654, 271.05224167736634, 1387.7978229629864, 246.26529257180385, 1235.9301292803702, 804.1089228674418, 540.627836615776, 891.1270319369503, 3209.8818301070623, 1317.141124075636, 310.93186929006845, 435.8057814872121, 917.1602754660395, 1278.7696281515505, 2253.9344885803876, 507.6532406507124, 592.5295411711108, 2433.6022228516135, 1117.1048373008132, 1553.4614884109742, 6050.791873139965, 1336.5618521987237, 1134.899475670374, 2335.046790668049, 779.884594992794, 1393.6185087844813, 825.171600214983, 798.8704616228927, 1351.9808978182325, 895.2739975938722, 912.1558584137589, 973.9771160520764, 1431.9644215620226, 2131.1774352788093, 381.51379789660336, 188.18641401286223, 183.5744331658308, 367.69725634967756, 255.06496819437447, 124.59083587986866, 197.3245513846766, 225.8815426043527, 117.2405013439462, 119.75264873765205, 136.12398072095164, 131.51781038604506, 391.71730184100414, 153.75775961545583, 144.73372846911667, 216.71747199947578, 188.85191949000122, 88.7916468130781, 146.55726289641223, 445.1780012359559, 128.3284997929792, 155.2338621156559, 884.2486771550541, 81.96487611757709, 76.92218341387952, 84.79745796414771, 71.61307567109274, 70.78099810215532, 69.28272391095247, 899.6974466048108, 603.9699273931071, 719.5488179918563, 135.92382998540006, 182.80924376594336, 143.6892430422085, 274.71134946438866, 148.96741439517677, 1109.3762477060845, 291.77646882805396, 839.1241665974288, 558.6566914016663, 218.3093321338602, 421.4350498933712, 321.5004800008588, 256.7121199388734, 585.5241569526319, 452.93272295045455, 413.170911406393, 2223.8070293279443, 1449.1970155508359, 1195.986004401977, 967.5454388618922, 591.3030109609067, 1933.8106567618063, 896.828252415525, 719.4126440529637, 700.8532566932975, 1053.6556138416174, 2326.05951648465, 1708.1063898242187, 526.2911847189278, 695.6613255729193, 1484.6975565270654, 3472.339733451304, 837.5870598362462, 746.2465431928332, 1446.8330790306138, 1495.9851674747374, 801.2662458051855, 606.6325364692041, 805.0026864525854, 736.538706514326, 962.0447554761844, 664.6487996966191, 706.1280762982191, 297.11454989340643, 578.6230042370033, 244.05879683924425, 215.72451664372414, 157.2775415619679, 477.97630662385046, 139.50896535319472, 148.54528449566743, 136.24955545064745, 174.12665846112654, 137.80923729373603, 1518.2732876700563, 140.16052533661534, 161.35204318624073, 285.37194654691893, 133.8813231553655, 121.30640236876296, 157.09929478187536, 108.70135346293814, 101.83461918093484, 127.41012739522996, 90.11640767685955, 93.90438818525475, 79.9064316628137, 92.50300844243718, 77.02199074782212, 225.7466647754883, 99.44734852630872, 100.09857075054522, 84.80573558535517, 822.9829471647971, 391.7395416686329, 418.58810928238375, 348.3044986972847, 239.57150845743524, 219.8518212871123, 195.2435653069828, 188.45892902399632, 154.20446214265274, 196.95134329366266, 177.05214837562653, 3602.072539385082, 652.863643802143, 588.4072573167617, 428.5484474834564, 498.234877313776, 859.5696524710363, 421.2726192776632, 187.50926278468322, 400.51583127390137, 197.35176806506053, 255.40043499963932, 753.876652509099, 369.27069739519254, 714.9344596874581, 1694.4473972706794, 1909.4668753934993, 1825.1149868238283, 422.1200795878656, 1703.8605205589413, 1240.4707721290351, 411.1231809680487, 564.7943326176365, 700.3537559860384, 1888.9264334057973, 1870.415248596208, 1998.1647789369072, 895.186043193174, 3001.589130268888, 1339.9902097238717, 731.9636923008613, 711.9036789766326, 769.5359338717658, 1659.0779760639603, 951.5085130068996, 742.6716942318724, 799.0741003858366, 715.6544721988577, 703.5869219999806, 587.0645519735433, 1503.592274698656, 263.3187139903003, 147.5934440695849, 246.68167767114772, 123.79774706216612, 113.59138115665189, 106.48862091744402, 106.48862091744402, 104.69287937095606, 101.10153899318789, 321.037859787379, 113.18520269736099, 93.2279629389404, 98.98889283889025, 83.38443947098536, 81.7372699447902, 162.75430014854152, 79.26998747737781, 78.66143336448012, 206.67232547544515, 264.8123933105824, 73.65310662344503, 72.42940605286182, 71.74475179996563, 70.38858407137727, 199.11722389629236, 124.40280465247444, 90.42956472245635, 64.02467144067761, 62.448365504166574, 904.21729657552, 816.367172006612, 94.90123288101069, 613.2348204122453, 249.16066278559396, 131.32437146833044, 186.98763882950908, 256.95906085964674, 143.37410188734265, 219.26667908333872, 124.04319526327497, 140.24962686642908, 170.45694729630074, 25776.008487336363, 1077.2027950757206, 3268.550282616485, 1115.12077666117, 19692.595088413385, 570.6639278434715, 174.87682630158866, 1588.6470255156746, 668.2228582132843, 389.5149438116603, 527.5812804959658, 623.3512647587971, 364.19241364339456, 456.984326732257, 347.10402401265833, 308.46607713849244, 391.74740487189325, 2707.5022859079654, 522.0084492398032, 611.8391974177662, 1615.6410142406817, 456.45614872654323, 773.7933373089404, 698.6690619447093, 547.4046424114432, 469.506861656384, 587.0927316964539, 1023.974501654543, 630.5258436817716, 715.71022381978, 825.6274129315303, 623.0379938997381, 584.1066904270378, 643.8609331301526, 528.2093152347185, 508.74913618659093, 219.4101194705507, 198.40245566698388, 196.50287051335374, 196.50287051335374, 196.50287051335374, 157.7267538980384, 178.87476985831714, 189.3700319187449, 206.59682034598472, 103.74664648311396, 104.0796940432493, 102.24443521106937, 153.70368598310517, 115.77670831770223, 90.26533032532625, 94.3130575386701, 99.43249802527235, 84.77028188386589, 174.8062376747214, 156.5366801933116, 100.40973299848731, 74.95774526697679, 75.22850394343519, 70.99156807584694, 69.44777311893998, 4750.846820866671, 86.41377476232825, 67.41717756581097, 67.41717756581097, 413.3327325778938, 720.1109143533969, 1016.7311875537986, 3059.2364256526585, 715.0632777949179, 167.80317546446523, 160.1159017413667, 1213.705882445515, 124.65137767010388, 159.72685614923586, 174.23617518846552, 206.07118240499162, 1063.8858994327481, 166.06871729077986, 165.0015724991265, 1037.2709968319834, 933.4415715626376, 1090.8443518502113, 366.6328944352138, 2614.406375415775, 1972.3715048413599, 258.45061989259057, 469.25741681356556, 446.8923153446792, 524.7459213296503, 590.1588482529213, 635.2598228564048, 665.4175146772063, 373.846432369255, 3902.457396000673, 3511.5956696468497, 395.40382629037117, 847.4801815017735, 663.8019735545872, 268.0962073880212, 432.3154352889778, 1083.6486257433014, 531.0258506642406, 587.2533359611454, 563.261939058919, 497.0899930493053, 438.7772216982181], \"Total\": [37618.0, 33569.0, 5405.0, 4806.0, 6666.0, 7047.0, 3939.0, 8772.0, 3170.0, 4361.0, 5467.0, 3607.0, 2133.0, 3123.0, 3115.0, 3582.0, 10487.0, 6869.0, 4643.0, 2800.0, 4609.0, 1508.0, 2601.0, 1528.0, 1687.0, 6236.0, 2957.0, 2466.0, 3155.0, 1256.0, 1687.0552677822727, 432.1895145600695, 1111.7492062886563, 697.7597236442294, 247.29095859274193, 196.55653963211483, 400.337602551021, 166.74166761281296, 155.05922524217607, 661.4577579202391, 158.2775216435605, 262.8060366980764, 259.31063350970356, 131.45223644818117, 135.14253481328433, 140.0337030148253, 124.83620840347531, 119.03839256190737, 303.6781018830618, 137.7522656036054, 176.61243606215703, 110.7059378262407, 1104.7591320478084, 165.55272915087488, 110.59527956922598, 409.85791322633986, 101.88851476147863, 92.5818862956583, 743.6440378990515, 170.74043084091048, 367.1026517131283, 284.9228297286696, 212.40938943074872, 281.6990818735433, 743.4266670865653, 483.3746959848896, 833.5132204330146, 1616.687235001721, 1088.2790771878576, 1022.765684410318, 3123.42670681049, 7047.0811728464705, 1087.1297670828512, 657.6612553589014, 390.19606717268726, 397.5544986519205, 575.3669033527443, 1818.150829338156, 2800.055384626801, 8772.223723898209, 1606.562437373342, 538.5432831879813, 3351.846599053227, 1370.266947543217, 680.547667508764, 905.3221659620027, 4643.478594821383, 2043.7065167346864, 10487.163310492107, 1002.883946666842, 2737.075862941179, 2548.827150219941, 3558.735225908739, 1782.741694908635, 3115.8068079345044, 4609.109333998305, 1686.3795682971197, 2334.967409616735, 6236.730431289603, 33569.295162839706, 1972.2244702232947, 8289.380197795956, 361.23059486840816, 264.9441419112599, 233.1519904787771, 222.2220789256738, 330.9961257511639, 463.6012655087525, 161.64037375096987, 138.82536781111986, 142.59578170746775, 137.1608883998177, 5405.69257803879, 126.77064812031392, 103.80945302186659, 298.9313625851366, 132.24940554883588, 95.80227349785257, 95.74029123556102, 105.58745249603757, 90.67429661197288, 232.7320126690505, 102.92630139503294, 95.90856337306317, 84.72117523749797, 93.85520238164992, 83.85368911278732, 163.9738067313307, 151.01683745245228, 99.39458070696611, 82.7208291674034, 91.14602868072163, 1052.5515286661634, 152.05552101028553, 155.70889839998762, 214.8058519940645, 157.19509141855093, 105.68461903362169, 257.523660417014, 327.85341693131636, 192.53508978586027, 135.05237730964114, 316.3333591232308, 197.31433544693977, 6666.959003212778, 355.75186701745, 3607.5883574674535, 333.738192868048, 426.1596051058852, 3582.618272567034, 382.9181174795094, 291.8459122588458, 1832.3086301290039, 263.3374585722141, 1652.461954207867, 1015.7738942409362, 653.2509033266633, 1199.2152553687981, 5467.17102483921, 1981.2075769463258, 349.6908788178865, 537.27097648161, 1415.7526591014391, 2185.224897602485, 4609.109333998305, 692.8529270430467, 882.9664457118156, 6869.617429590507, 2253.3452305214896, 3987.1197194171655, 33569.295162839706, 3182.069687855613, 2487.3876355865673, 8289.380197795956, 1438.2653335408493, 3930.190258280687, 1896.7737494670862, 1963.2606387670203, 6236.730431289603, 2588.9676649177486, 4128.399273099076, 5888.542391698124, 37618.74780401438, 2133.7223844143914, 383.16246340834414, 189.06396160130495, 184.50862657527077, 369.82330136918466, 256.5634971753617, 125.40944921336131, 198.66761714985543, 227.4573926540827, 118.05853602847533, 120.60208057710526, 137.09403145925586, 132.45599886736454, 394.7195919056292, 154.93815494594094, 145.88834410366815, 218.45609761195607, 190.42967433736058, 89.63074882442903, 147.95448400811645, 449.4323168628522, 129.5737799368249, 156.7809707886614, 893.6697238516579, 82.84829888579505, 77.76305456903292, 85.7633441216698, 72.43287980255889, 71.60026885176609, 70.10388494684494, 916.0163099994619, 613.0554735390591, 734.2700793849081, 137.5710991576817, 185.8788630139935, 145.78618878371313, 282.54617027263293, 152.1691813325215, 1314.3284471660295, 313.4156490216495, 978.350421095575, 630.4384549192716, 230.32073643134078, 475.5116271513561, 355.37762382404867, 276.8181338496729, 736.9460813724072, 550.2678483199569, 509.8880781055598, 3876.935412569338, 2535.29364783866, 2052.2136467463224, 1560.5264994450017, 854.113989521508, 4128.399273099076, 1549.4918091467723, 1188.5727038531977, 1151.0623311112377, 2251.1380725758554, 8289.380197795956, 5467.17102483921, 827.9189645820048, 1397.965861052276, 5888.542391698124, 37618.74780401438, 2185.224897602485, 1725.3291501769577, 8772.223723898209, 10487.163310492107, 2601.8765513865083, 1224.9613658544629, 3182.069687855613, 2957.545280278847, 33569.295162839706, 2161.111686562517, 3930.190258280687, 298.265235226678, 580.875681878507, 245.06790815953389, 216.84722016359052, 158.15509580414985, 480.6780862803968, 140.33583848087216, 149.43169739366726, 137.10074083854366, 175.23656171760265, 138.7203390418719, 1528.450494626082, 141.17957053996125, 162.53606074575168, 287.47918870413935, 134.89698471560575, 122.22720241682248, 158.29290551472678, 109.55497023693668, 102.72002770590358, 128.53310789360432, 91.02014984797789, 94.847112098236, 80.73535298869393, 93.46529538093164, 77.85344580039131, 228.19529452170215, 100.55273488678428, 101.2187051376727, 85.77443567830336, 835.9509949177204, 397.59180353440166, 425.2976373930682, 353.74623437946644, 242.41159381016107, 222.422561785574, 197.6631759741141, 190.9517117129108, 156.0807530002874, 199.8688585657187, 179.59738630307814, 3939.1311035874955, 682.5247222774334, 613.2018156383851, 443.33977697901196, 519.6913482516891, 913.3094017547169, 442.2513704414952, 190.7160179957635, 436.2025361271623, 202.745842315628, 271.9817978988323, 918.3228833356932, 420.4694483600606, 928.4177045932063, 2601.8765513865083, 3155.048029550071, 3115.8068079345044, 513.5287052552488, 2957.545280278847, 2114.4161935614065, 507.712405482657, 790.5644037886304, 1069.347908828652, 4643.478594821383, 6236.730431289603, 10487.163310492107, 2349.44184170291, 37618.74780401438, 8289.380197795956, 1972.2244702232947, 1931.6773978586325, 2517.2472157654556, 33569.295162839706, 6666.959003212778, 3182.069687855613, 4609.109333998305, 2904.8808959422167, 3930.190258280687, 1407.9306776145397, 1508.072238213887, 264.51039536293035, 148.42673878620923, 248.36290086500279, 124.679710617912, 114.43062504335845, 107.31712905878965, 107.31712905878965, 105.52138584282284, 101.93002921427258, 323.79457190630137, 114.16500847427038, 94.09442748478189, 99.96222851967038, 84.21473448983522, 82.56756935457886, 164.47337382757433, 80.10860633167032, 79.51622146946309, 208.92164274372234, 267.69893570196746, 74.4868723887784, 73.2618839145951, 72.5766607272717, 71.22483436172988, 201.54955315316687, 125.95254952395837, 91.55960253553954, 64.86419696490954, 63.30175600688263, 935.765866478007, 844.7691519126275, 96.20536214908529, 639.3700686535269, 257.02231197739695, 133.93894346655978, 192.52573826071372, 267.33800876120984, 147.13412198326145, 229.1714770924885, 127.03726331471408, 144.86979298916063, 177.90396031696045, 37618.74780401438, 1273.7714919607836, 4361.2496743359425, 1376.6247089067183, 33569.295162839706, 687.7485790904433, 188.0306038206708, 2466.0499570704765, 904.9004837933697, 525.0874470641204, 782.1193009179732, 998.5303033302973, 497.0404370865591, 679.8698450985092, 476.9640304127757, 407.38513192615915, 594.3138441961651, 10487.163310492107, 924.506796699117, 1198.689166936684, 6236.730431289603, 768.0809265172472, 2159.414175116316, 1907.0292885541205, 1276.6159631242654, 977.9726437501056, 1626.218094580231, 5888.542391698124, 2588.9676649177486, 3987.1197194171655, 7047.0811728464705, 3155.048029550071, 2535.29364783866, 8772.223723898209, 3876.935412569338, 510.6332738769188, 220.23392414174774, 199.2215404901749, 197.32188320365745, 197.32188321581407, 197.32188339856123, 158.62450803581748, 179.9052311619644, 190.7546329596985, 208.21156876383458, 104.56562178937499, 104.9062958401058, 103.11915766896382, 155.07565574456893, 116.82665918227435, 91.13070373681563, 95.21957709182178, 100.43774562441672, 85.65293890950815, 176.69096603758666, 158.27854325345533, 101.54780281361683, 75.80825038886616, 76.09985792407412, 71.81399147241244, 70.26750870885408, 4806.993220687757, 87.45638329462523, 68.23609445507955, 68.23609445781477, 419.3095752751183, 734.8169548960919, 1041.3708209685678, 3170.7368959156856, 732.7673265750713, 169.97757719765985, 162.36317482305432, 1256.9551810212008, 126.56960493692209, 165.6074081894981, 182.94237412398573, 222.79431541140707, 1369.6375941704357, 178.3034314269936, 180.23957981532755, 1626.218094580231, 1462.0401842612275, 1952.3410082083356, 501.13235329142833, 6869.617429590507, 5888.542391698124, 329.1703428289144, 817.4526072514693, 768.0196362011159, 1002.986698722939, 1237.9122812563014, 1415.1680996564362, 1525.1192170336408, 611.0368029662352, 37618.74780401438, 33569.295162839706, 701.065086413142, 2904.8808959422167, 1963.2606387670203, 355.3674523950746, 1010.4219874136411, 8289.380197795956, 1735.7834708358853, 2334.967409616735, 4128.399273099076, 2737.075862941179, 3930.190258280687], \"Category\": [\"Default\", \"Default\", \"Default\", \"Default\", \"Default\", \"Default\", \"Default\", \"Default\", \"Default\", \"Default\", \"Default\", \"Default\", \"Default\", \"Default\", \"Default\", \"Default\", \"Default\", \"Default\", \"Default\", \"Default\", \"Default\", \"Default\", \"Default\", \"Default\", \"Default\", \"Default\", \"Default\", \"Default\", \"Default\", \"Default\", \"Topic1\", \"Topic1\", \"Topic1\", \"Topic1\", \"Topic1\", \"Topic1\", \"Topic1\", \"Topic1\", \"Topic1\", \"Topic1\", \"Topic1\", \"Topic1\", \"Topic1\", \"Topic1\", \"Topic1\", \"Topic1\", \"Topic1\", \"Topic1\", \"Topic1\", \"Topic1\", \"Topic1\", \"Topic1\", \"Topic1\", \"Topic1\", \"Topic1\", \"Topic1\", \"Topic1\", \"Topic1\", \"Topic1\", \"Topic1\", \"Topic1\", \"Topic1\", \"Topic1\", \"Topic1\", \"Topic1\", \"Topic1\", \"Topic1\", \"Topic1\", \"Topic1\", \"Topic1\", \"Topic1\", \"Topic1\", \"Topic1\", \"Topic1\", \"Topic1\", \"Topic1\", \"Topic1\", \"Topic1\", \"Topic1\", \"Topic1\", \"Topic1\", \"Topic1\", \"Topic1\", \"Topic1\", \"Topic1\", \"Topic1\", \"Topic1\", \"Topic1\", \"Topic1\", \"Topic1\", \"Topic1\", \"Topic1\", \"Topic1\", \"Topic1\", \"Topic1\", \"Topic1\", \"Topic1\", \"Topic1\", \"Topic1\", \"Topic1\", \"Topic1\", \"Topic1\", \"Topic2\", \"Topic2\", \"Topic2\", \"Topic2\", \"Topic2\", \"Topic2\", \"Topic2\", \"Topic2\", \"Topic2\", \"Topic2\", \"Topic2\", \"Topic2\", \"Topic2\", \"Topic2\", \"Topic2\", \"Topic2\", \"Topic2\", \"Topic2\", \"Topic2\", \"Topic2\", \"Topic2\", \"Topic2\", \"Topic2\", \"Topic2\", \"Topic2\", \"Topic2\", \"Topic2\", \"Topic2\", \"Topic2\", \"Topic2\", \"Topic2\", \"Topic2\", \"Topic2\", \"Topic2\", \"Topic2\", \"Topic2\", \"Topic2\", \"Topic2\", \"Topic2\", \"Topic2\", \"Topic2\", \"Topic2\", \"Topic2\", \"Topic2\", \"Topic2\", \"Topic2\", \"Topic2\", \"Topic2\", \"Topic2\", \"Topic2\", \"Topic2\", \"Topic2\", \"Topic2\", \"Topic2\", \"Topic2\", \"Topic2\", \"Topic2\", \"Topic2\", \"Topic2\", \"Topic2\", \"Topic2\", \"Topic2\", \"Topic2\", \"Topic2\", \"Topic2\", \"Topic2\", \"Topic2\", \"Topic2\", \"Topic2\", \"Topic2\", \"Topic2\", \"Topic2\", \"Topic2\", \"Topic2\", \"Topic2\", \"Topic2\", \"Topic2\", \"Topic2\", \"Topic2\", \"Topic2\", \"Topic2\", \"Topic3\", \"Topic3\", \"Topic3\", \"Topic3\", \"Topic3\", \"Topic3\", \"Topic3\", \"Topic3\", \"Topic3\", \"Topic3\", \"Topic3\", \"Topic3\", \"Topic3\", \"Topic3\", \"Topic3\", \"Topic3\", \"Topic3\", \"Topic3\", \"Topic3\", \"Topic3\", \"Topic3\", \"Topic3\", \"Topic3\", \"Topic3\", \"Topic3\", \"Topic3\", \"Topic3\", \"Topic3\", \"Topic3\", \"Topic3\", \"Topic3\", \"Topic3\", \"Topic3\", \"Topic3\", \"Topic3\", \"Topic3\", \"Topic3\", \"Topic3\", \"Topic3\", \"Topic3\", \"Topic3\", \"Topic3\", \"Topic3\", \"Topic3\", \"Topic3\", \"Topic3\", \"Topic3\", \"Topic3\", \"Topic3\", \"Topic3\", \"Topic3\", \"Topic3\", \"Topic3\", \"Topic3\", \"Topic3\", \"Topic3\", \"Topic3\", \"Topic3\", \"Topic3\", \"Topic3\", \"Topic3\", \"Topic3\", \"Topic3\", \"Topic3\", \"Topic3\", \"Topic3\", \"Topic3\", \"Topic3\", \"Topic3\", \"Topic3\", \"Topic3\", \"Topic3\", \"Topic3\", \"Topic3\", \"Topic3\", \"Topic3\", \"Topic4\", \"Topic4\", \"Topic4\", \"Topic4\", \"Topic4\", \"Topic4\", \"Topic4\", \"Topic4\", \"Topic4\", \"Topic4\", \"Topic4\", \"Topic4\", \"Topic4\", \"Topic4\", \"Topic4\", \"Topic4\", \"Topic4\", \"Topic4\", \"Topic4\", \"Topic4\", \"Topic4\", \"Topic4\", \"Topic4\", \"Topic4\", \"Topic4\", \"Topic4\", \"Topic4\", \"Topic4\", \"Topic4\", \"Topic4\", \"Topic4\", \"Topic4\", \"Topic4\", \"Topic4\", \"Topic4\", \"Topic4\", \"Topic4\", \"Topic4\", \"Topic4\", \"Topic4\", \"Topic4\", \"Topic4\", \"Topic4\", \"Topic4\", \"Topic4\", \"Topic4\", \"Topic4\", \"Topic4\", \"Topic4\", \"Topic4\", \"Topic4\", \"Topic4\", \"Topic4\", \"Topic4\", \"Topic4\", \"Topic4\", \"Topic4\", \"Topic4\", \"Topic4\", \"Topic4\", \"Topic4\", \"Topic4\", \"Topic4\", \"Topic4\", \"Topic4\", \"Topic4\", \"Topic4\", \"Topic4\", \"Topic4\", \"Topic4\", \"Topic4\", \"Topic4\", \"Topic4\", \"Topic4\", \"Topic4\", \"Topic4\", \"Topic4\", \"Topic4\", \"Topic4\", \"Topic4\", \"Topic5\", \"Topic5\", \"Topic5\", \"Topic5\", \"Topic5\", \"Topic5\", \"Topic5\", \"Topic5\", \"Topic5\", \"Topic5\", \"Topic5\", \"Topic5\", \"Topic5\", \"Topic5\", \"Topic5\", \"Topic5\", \"Topic5\", \"Topic5\", \"Topic5\", \"Topic5\", \"Topic5\", \"Topic5\", \"Topic5\", \"Topic5\", \"Topic5\", \"Topic5\", \"Topic5\", \"Topic5\", \"Topic5\", \"Topic5\", \"Topic5\", \"Topic5\", \"Topic5\", \"Topic5\", \"Topic5\", \"Topic5\", \"Topic5\", \"Topic5\", \"Topic5\", \"Topic5\", \"Topic5\", \"Topic5\", \"Topic5\", \"Topic5\", \"Topic5\", \"Topic5\", \"Topic5\", \"Topic5\", \"Topic5\", \"Topic5\", \"Topic5\", \"Topic5\", \"Topic5\", \"Topic5\", \"Topic5\", \"Topic5\", \"Topic5\", \"Topic5\", \"Topic5\", \"Topic5\", \"Topic5\", \"Topic5\", \"Topic5\", \"Topic5\", \"Topic5\", \"Topic5\", \"Topic5\", \"Topic5\", \"Topic5\", \"Topic5\", \"Topic5\", \"Topic5\", \"Topic5\", \"Topic5\", \"Topic5\", \"Topic5\", \"Topic5\", \"Topic5\", \"Topic6\", \"Topic6\", \"Topic6\", \"Topic6\", \"Topic6\", \"Topic6\", \"Topic6\", \"Topic6\", \"Topic6\", \"Topic6\", \"Topic6\", \"Topic6\", \"Topic6\", \"Topic6\", \"Topic6\", \"Topic6\", \"Topic6\", \"Topic6\", \"Topic6\", \"Topic6\", \"Topic6\", \"Topic6\", \"Topic6\", \"Topic6\", \"Topic6\", \"Topic6\", \"Topic6\", \"Topic6\", \"Topic6\", \"Topic6\", \"Topic6\", \"Topic6\", \"Topic6\", \"Topic6\", \"Topic6\", \"Topic6\", \"Topic6\", \"Topic6\", \"Topic6\", \"Topic6\", \"Topic6\", \"Topic6\", \"Topic6\", \"Topic6\", \"Topic6\", \"Topic6\", \"Topic6\", \"Topic6\", \"Topic6\", \"Topic6\", \"Topic6\", \"Topic6\", \"Topic6\", \"Topic6\", \"Topic6\", \"Topic6\", \"Topic6\", \"Topic6\", \"Topic6\", \"Topic6\", \"Topic6\", \"Topic6\", \"Topic6\", \"Topic6\", \"Topic6\", \"Topic6\", \"Topic6\", \"Topic6\", \"Topic6\", \"Topic6\", \"Topic6\", \"Topic6\"], \"logprob\": [30.0, 29.0, 28.0, 27.0, 26.0, 25.0, 24.0, 23.0, 22.0, 21.0, 20.0, 19.0, 18.0, 17.0, 16.0, 15.0, 14.0, 13.0, 12.0, 11.0, 10.0, 9.0, 8.0, 7.0, 6.0, 5.0, 4.0, 3.0, 2.0, 1.0, -5.0132, -6.3767, -5.4321, -5.8985, -6.9364, -7.1663, -6.456, -7.3319, -7.4047, -5.9542, -7.3848, -6.8777, -6.8913, -7.5707, -7.5432, -7.5081, -7.6231, -7.6706, -6.7343, -7.5249, -7.2765, -7.7436, -5.4433, -7.3419, -7.7454, -6.4358, -7.828, -7.9238, -5.8404, -7.3119, -6.5471, -6.8001, -7.0948, -6.816, -5.8553, -6.2856, -5.7531, -5.1081, -5.5018, -5.5722, -4.4942, -3.7158, -5.5243, -6.0106, -6.5201, -6.5048, -6.1566, -5.1016, -4.7228, -3.706, -5.255, -6.2521, -4.6938, -5.4876, -6.0888, -5.8732, -4.6985, -5.2955, -4.1837, -5.8288, -5.1716, -5.252, -5.0732, -5.5065, -5.3014, -5.1289, -5.6362, -5.5265, -5.2358, -5.0086, -5.6794, -5.5324, -6.4294, -6.7405, -6.8683, -6.9173, -6.5191, -6.1822, -7.2362, -7.3892, -7.3624, -7.4015, -3.7275, -7.481, -7.682, -6.6246, -7.4401, -7.7629, -7.7638, -7.6659, -7.8183, -6.8759, -7.6919, -7.7627, -7.887, -7.7847, -7.8975, -7.227, -7.3094, -7.7279, -7.9116, -7.8147, -5.3836, -7.3039, -7.2813, -6.9629, -7.2729, -7.6668, -6.7853, -6.5532, -7.0775, -7.4253, -6.5979, -7.0577, -3.6672, -6.5056, -4.3083, -6.5809, -6.3611, -4.4263, -6.4682, -6.7141, -5.0809, -6.81, -5.1968, -5.6267, -6.0237, -5.5239, -4.2424, -5.1332, -6.5768, -6.2392, -5.4951, -5.1628, -4.596, -6.0866, -5.932, -4.5193, -5.2979, -4.9682, -3.6085, -5.1186, -5.2821, -4.5606, -5.6573, -5.0768, -5.6008, -5.6332, -5.1071, -5.5193, -5.5006, -5.435, -5.0496, -4.5912, -6.3115, -7.0182, -7.043, -6.3483, -6.7141, -7.4306, -6.9708, -6.8356, -7.4914, -7.4702, -7.342, -7.3765, -6.2851, -7.2202, -7.2807, -6.877, -7.0146, -7.7693, -7.2682, -6.1571, -7.401, -7.2107, -5.4709, -7.8493, -7.9128, -7.8153, -7.9843, -7.996, -8.0174, -5.4535, -5.8521, -5.677, -7.3435, -7.0472, -7.2879, -6.6399, -7.2519, -5.244, -6.5796, -5.5232, -5.9301, -6.8697, -6.2119, -6.4826, -6.7076, -5.8831, -6.1399, -6.2317, -4.5486, -4.9768, -5.1689, -5.3808, -5.8733, -4.6884, -5.4567, -5.6772, -5.7033, -5.2956, -4.5037, -4.8125, -5.9897, -5.7107, -4.9526, -4.103, -5.5251, -5.6405, -4.9785, -4.9451, -5.5694, -5.8477, -5.5648, -5.6536, -5.3865, -5.7563, -5.6958, -6.4785, -5.812, -6.6752, -6.7986, -7.1146, -6.0031, -7.2345, -7.1717, -7.2581, -7.0128, -7.2468, -4.8473, -7.2298, -7.089, -6.5188, -7.2757, -7.3743, -7.1158, -7.484, -7.5493, -7.3252, -7.6715, -7.6304, -7.7918, -7.6454, -7.8285, -6.7532, -7.573, -7.5665, -7.7323, -5.4597, -6.202, -6.1357, -6.3196, -6.6938, -6.7797, -6.8984, -6.9337, -7.1343, -6.8897, -6.9962, -3.9834, -5.6913, -5.7952, -6.1122, -5.9616, -5.4162, -6.1293, -6.9388, -6.1799, -6.8876, -6.6298, -5.5474, -6.2611, -5.6004, -4.7375, -4.6181, -4.6632, -6.1273, -4.732, -5.0494, -6.1537, -5.8362, -5.621, -4.6289, -4.6387, -4.5726, -5.3756, -4.1657, -4.9722, -5.5769, -5.6047, -5.5268, -4.7586, -5.3146, -5.5624, -5.4892, -5.5994, -5.6164, -5.7975, -4.8318, -6.574, -7.1529, -6.6393, -7.3287, -7.4148, -7.4794, -7.4794, -7.4964, -7.5313, -6.3758, -7.4184, -7.6123, -7.5524, -7.7239, -7.7439, -7.0552, -7.7745, -7.7822, -6.8163, -6.5684, -7.848, -7.8648, -7.8743, -7.8934, -6.8535, -7.3239, -7.6428, -7.9881, -8.0131, -5.3403, -5.4425, -7.5946, -5.7286, -6.6293, -7.2697, -6.9164, -6.5985, -7.1819, -6.7571, -7.3268, -7.204, -7.0089, -1.9902, -5.1653, -4.0553, -5.1307, -2.2594, -5.8006, -6.9833, -4.7768, -5.6428, -6.1825, -5.8791, -5.7123, -6.2497, -6.0227, -6.2978, -6.4158, -6.1768, -4.2436, -5.8897, -5.7309, -4.7599, -6.0239, -5.4961, -5.5982, -5.8422, -5.9957, -5.7722, -5.2159, -5.7008, -5.5741, -5.4313, -5.7128, -5.7773, -5.6799, -5.8779, -5.8711, -6.7121, -6.8128, -6.8224, -6.8224, -6.8224, -7.0422, -6.9164, -6.8594, -6.7723, -7.4611, -7.4579, -7.4757, -7.0681, -7.3514, -7.6003, -7.5565, -7.5036, -7.6631, -6.9394, -7.0498, -7.4938, -7.7862, -7.7826, -7.8405, -7.8625, -3.637, -7.6439, -7.8922, -7.8922, -6.0788, -5.5237, -5.1787, -4.0772, -5.5307, -6.9803, -7.0272, -5.0017, -7.2776, -7.0296, -6.9427, -6.7749, -5.1334, -6.9907, -6.9971, -5.1587, -5.2642, -5.1084, -6.1987, -4.2343, -4.5161, -6.5484, -5.9519, -6.0008, -5.8402, -5.7227, -5.649, -5.6027, -6.1792, -3.8337, -3.9393, -6.1232, -5.3608, -5.6051, -6.5117, -6.0339, -5.115, -5.8283, -5.7276, -5.7693, -5.8943, -6.0191], \"loglift\": [30.0, 29.0, 28.0, 27.0, 26.0, 25.0, 24.0, 23.0, 22.0, 21.0, 20.0, 19.0, 18.0, 17.0, 16.0, 15.0, 14.0, 13.0, 12.0, 11.0, 10.0, 9.0, 8.0, 7.0, 6.0, 5.0, 4.0, 3.0, 2.0, 1.0, 1.5942, 1.5926, 1.5924, 1.5918, 1.5912, 1.5909, 1.5899, 1.5899, 1.5896, 1.5895, 1.589, 1.589, 1.5889, 1.5888, 1.5886, 1.5882, 1.5881, 1.5881, 1.5879, 1.5878, 1.5877, 1.5877, 1.5874, 1.587, 1.5869, 1.5866, 1.5863, 1.5863, 1.5862, 1.5861, 1.5854, 1.5858, 1.5848, 1.5813, 1.5716, 1.5717, 1.5594, 1.5419, 1.544, 1.5357, 1.4973, 1.462, 1.5226, 1.5389, 1.5514, 1.5481, 1.5265, 1.431, 1.378, 1.2529, 1.4014, 1.4972, 1.2271, 1.3278, 1.4265, 1.3567, 0.8965, 1.1201, 0.5965, 1.2987, 0.9519, 0.9428, 0.7878, 1.0458, 0.6925, 0.4734, 0.9716, 0.7559, 0.0642, -1.3918, 0.7719, -0.517, 1.7193, 1.7181, 1.7181, 1.7172, 1.717, 1.717, 1.7166, 1.7157, 1.7157, 1.7155, 1.7154, 1.7148, 1.7136, 1.7134, 1.7133, 1.713, 1.7128, 1.7128, 1.7126, 1.7123, 1.7122, 1.7121, 1.7118, 1.7117, 1.7116, 1.7114, 1.7114, 1.7111, 1.7111, 1.711, 1.6956, 1.71, 1.7089, 1.7055, 1.7078, 1.7109, 1.7017, 1.6924, 1.7004, 1.7072, 1.6834, 1.6957, 1.566, 1.6583, 1.539, 1.6469, 1.6223, 1.428, 1.6221, 1.6478, 1.4439, 1.6547, 1.4313, 1.4881, 1.5325, 1.4248, 1.1892, 1.3135, 1.6043, 1.5125, 1.2876, 1.1859, 1.0064, 1.4107, 1.3229, 0.684, 1.0201, 0.7792, 0.0083, 0.8543, 0.9371, 0.4548, 1.1097, 0.685, 0.8894, 0.8226, 0.1929, 0.6599, 0.2119, -0.0776, -1.5467, 1.7814, 1.7783, 1.7779, 1.7775, 1.7768, 1.7767, 1.776, 1.7758, 1.7756, 1.7756, 1.7755, 1.7755, 1.7755, 1.7749, 1.7749, 1.7746, 1.7746, 1.7742, 1.7732, 1.7731, 1.7731, 1.7729, 1.7726, 1.772, 1.7718, 1.7717, 1.7712, 1.7712, 1.7711, 1.7708, 1.7646, 1.7676, 1.7623, 1.7705, 1.7659, 1.7681, 1.7544, 1.7613, 1.613, 1.711, 1.6291, 1.6617, 1.729, 1.6618, 1.6824, 1.7072, 1.5526, 1.5879, 1.5722, 1.2267, 1.2233, 1.2426, 1.3045, 1.4148, 1.0242, 1.2357, 1.2805, 1.2864, 1.0234, 0.5118, 0.6192, 1.3295, 1.0847, 0.4048, -0.6001, 0.8236, 0.9444, -0.0196, -0.1648, 0.6048, 1.0798, 0.4081, 0.3924, -1.7697, 0.6034, 0.0659, 1.8617, 1.8617, 1.8614, 1.8603, 1.86, 1.8599, 1.8596, 1.8596, 1.8593, 1.8592, 1.8589, 1.8589, 1.8583, 1.8582, 1.8582, 1.858, 1.858, 1.858, 1.8577, 1.8569, 1.8568, 1.8556, 1.8555, 1.8552, 1.8552, 1.8548, 1.8547, 1.8545, 1.8544, 1.8542, 1.8499, 1.8507, 1.8496, 1.85, 1.8538, 1.8539, 1.8532, 1.8524, 1.8534, 1.8508, 1.8513, 1.7761, 1.8211, 1.8243, 1.8316, 1.8234, 1.8049, 1.8169, 1.8486, 1.7802, 1.8386, 1.8026, 1.6682, 1.7357, 1.6042, 1.4367, 1.3634, 1.3307, 1.6695, 1.3141, 1.3323, 1.6545, 1.5293, 1.4423, 0.9661, 0.6612, 0.2076, 0.9006, -0.6628, 0.0432, 0.8744, 0.8673, 0.6804, -1.1418, -0.0813, 0.4105, 0.1132, 0.4646, 0.1453, 0.9908, 1.8878, 1.8863, 1.8851, 1.884, 1.8837, 1.8834, 1.883, 1.883, 1.8829, 1.8826, 1.8822, 1.8822, 1.8815, 1.881, 1.8809, 1.8807, 1.8803, 1.8802, 1.88, 1.8799, 1.8799, 1.8795, 1.8793, 1.8792, 1.879, 1.8786, 1.8784, 1.8784, 1.8777, 1.8772, 1.8565, 1.8566, 1.8771, 1.849, 1.8597, 1.8711, 1.8616, 1.8512, 1.8649, 1.8466, 1.8669, 1.8584, 1.848, 1.5127, 1.7232, 1.6024, 1.6801, 1.3574, 1.7041, 1.8182, 1.451, 1.5876, 1.5921, 1.4971, 1.4196, 1.5798, 1.4935, 1.573, 1.6126, 1.474, 0.5366, 1.3192, 1.2183, 0.54, 1.3704, 0.8645, 0.8866, 1.044, 1.157, 0.8719, 0.1415, 0.4783, 0.1732, -0.2535, 0.2686, 0.4228, -0.7211, -0.1025, 1.9314, 1.9313, 1.931, 1.9309, 1.9309, 1.9309, 1.9294, 1.9293, 1.9278, 1.9273, 1.9272, 1.9272, 1.9266, 1.9262, 1.9261, 1.9255, 1.9255, 1.925, 1.9247, 1.9244, 1.924, 1.9238, 1.9238, 1.9236, 1.9236, 1.9233, 1.9233, 1.9231, 1.923, 1.923, 1.9207, 1.9149, 1.9111, 1.8993, 1.9106, 1.9222, 1.9211, 1.9001, 1.9198, 1.8989, 1.8863, 1.8571, 1.6825, 1.864, 1.8468, 1.4854, 1.4864, 1.353, 1.6226, 0.969, 0.8413, 1.6932, 1.38, 1.3936, 1.2873, 1.1943, 1.1341, 1.1057, 1.4438, -0.3308, -0.3225, 1.3624, 0.7032, 0.8507, 1.6533, 1.0861, -0.0996, 0.7507, 0.5548, -0.0568, 0.2292, -0.2574]}, \"token.table\": {\"Topic\": [3, 1, 6, 5, 3, 5, 6, 5, 6, 2, 3, 5, 6, 5, 5, 2, 3, 1, 2, 3, 4, 5, 6, 3, 5, 1, 2, 3, 4, 5, 6, 6, 5, 2, 4, 4, 6, 1, 4, 2, 4, 1, 3, 4, 2, 3, 1, 2, 3, 4, 5, 1, 2, 3, 4, 6, 6, 2, 6, 4, 5, 2, 4, 1, 2, 4, 5, 1, 2, 3, 4, 5, 6, 1, 2, 3, 5, 6, 1, 4, 5, 6, 1, 2, 3, 4, 5, 6, 1, 3, 4, 5, 6, 5, 3, 1, 2, 3, 5, 6, 2, 3, 4, 6, 1, 4, 5, 6, 1, 4, 2, 1, 2, 3, 4, 5, 6, 2, 3, 4, 1, 2, 3, 4, 5, 6, 1, 2, 3, 4, 5, 6, 3, 4, 5, 6, 5, 6, 3, 3, 5, 1, 3, 4, 1, 2, 3, 4, 5, 6, 1, 2, 3, 4, 5, 6, 1, 2, 3, 4, 5, 6, 5, 4, 1, 4, 1, 2, 3, 4, 5, 6, 1, 4, 6, 2, 3, 6, 1, 2, 3, 5, 6, 2, 1, 2, 3, 4, 5, 6, 2, 3, 1, 2, 3, 4, 5, 6, 1, 2, 3, 4, 5, 6, 2, 3, 5, 1, 2, 3, 4, 5, 1, 2, 3, 4, 5, 6, 1, 2, 3, 4, 5, 6, 1, 2, 3, 4, 5, 6, 6, 1, 3, 5, 6, 1, 4, 5, 6, 2, 3, 2, 1, 2, 3, 5, 3, 5, 2, 1, 1, 5, 1, 4, 6, 1, 2, 3, 4, 6, 1, 4, 1, 3, 4, 2, 3, 4, 5, 6, 1, 2, 3, 4, 5, 6, 1, 2, 6, 4, 1, 2, 3, 4, 5, 6, 1, 2, 4, 5, 4, 6, 6, 1, 2, 4, 5, 6, 1, 2, 3, 4, 5, 6, 1, 2, 3, 4, 5, 6, 1, 3, 4, 5, 6, 1, 2, 3, 4, 5, 6, 2, 3, 4, 5, 6, 1, 2, 3, 4, 5, 6, 1, 5, 3, 4, 1, 1, 4, 6, 1, 2, 4, 5, 1, 4, 5, 1, 2, 3, 5, 1, 2, 3, 4, 5, 6, 1, 2, 3, 4, 5, 6, 1, 2, 3, 4, 6, 1, 2, 3, 4, 5, 6, 2, 3, 4, 6, 2, 3, 4, 6, 3, 5, 6, 1, 2, 3, 4, 5, 6, 1, 2, 3, 4, 5, 6, 1, 2, 3, 4, 5, 6, 1, 6, 1, 4, 6, 1, 2, 3, 2, 3, 3, 1, 2, 6, 1, 4, 1, 3, 4, 5, 6, 1, 1, 3, 4, 4, 3, 1, 2, 3, 4, 5, 1, 2, 3, 4, 5, 6, 4, 5, 6, 2, 5, 6, 3, 1, 2, 3, 4, 5, 6, 1, 3, 4, 3, 4, 2, 5, 6, 4, 5, 3, 6, 5, 1, 2, 3, 5, 6, 2, 4, 5, 6, 5, 1, 4, 1, 2, 3, 4, 5, 6, 1, 4, 3, 4, 2, 1, 2, 3, 4, 5, 6, 2, 4, 3, 4, 5, 1, 2, 3, 4, 5, 6, 3, 4, 5, 3, 2, 4, 5, 6, 1, 1, 3, 4, 5, 6, 2, 1, 2, 3, 4, 5, 6, 3, 1, 2, 3, 4, 6, 4, 2, 4, 5, 6, 5, 1, 2, 3, 4, 5, 6, 1, 2, 3, 4, 6, 3, 2, 3, 4, 1, 2, 3, 4, 5, 6, 1, 2, 4, 6, 1, 2, 4, 5, 6, 1, 2, 3, 4, 5, 6, 5, 2, 4, 6, 5, 1, 2, 3, 4, 5, 6, 2, 1, 2, 3, 6, 1, 2, 3, 5, 6, 2, 1, 2, 3, 4, 5, 6, 1, 2, 3, 4, 5, 6, 6, 2, 3, 1, 2, 3, 4, 5, 6, 2, 5, 4, 5, 3, 5, 6, 6, 2, 6, 2, 3, 4, 6, 1, 2, 3, 5, 6, 5, 4, 5, 3, 1, 3, 1, 2, 3, 4, 5, 6, 2, 3, 4, 2, 3, 4, 1, 2, 3, 4, 6, 6, 2, 3, 4, 5, 6, 1, 2, 3, 4, 5, 6, 6, 5, 1, 2, 3, 4, 5, 6, 1, 2, 3, 4, 5, 6, 1, 2, 3, 4, 5, 6, 4, 1, 2, 3, 4, 5, 6, 6, 1, 2, 3, 4, 5, 6, 1, 2, 3, 4, 5, 6, 1, 5, 6, 4, 1, 2, 3, 4, 5, 6, 1, 4, 1, 4, 1, 1, 2, 3, 4, 5, 6, 2, 4, 5, 1, 3, 5, 6, 2, 5, 6, 3, 5, 6, 3, 5, 1, 2, 3, 4, 5, 6, 1, 2, 3, 4, 5, 6, 1, 4, 4, 6, 1, 2, 3, 4, 5, 6, 1, 2, 3, 4, 5, 6, 1, 2, 5, 6, 1, 2, 3, 4, 5, 6, 6, 6, 3, 4, 2, 3, 5, 3, 5, 1, 2, 3, 4, 5, 6, 3, 5, 6, 2, 1, 2, 3, 4, 5, 6, 2, 3, 4, 5, 6, 1, 3, 5, 1, 3, 4, 5, 6, 2, 3, 5, 4, 5, 1, 2, 4, 5, 6, 5, 1, 5, 6, 1, 2, 3, 4, 5, 6, 4, 6, 3, 5, 1, 6, 1, 2, 3, 4, 5, 6, 1, 2, 3, 5, 6, 3, 1, 6, 1, 2, 3, 4, 5, 6, 1, 3, 4, 6, 1, 2, 3, 4, 5, 6, 1, 3, 3, 4, 1, 2, 3, 4, 5, 6, 1, 2, 3, 4, 5, 6, 1, 2, 3, 4, 5, 6, 5, 6, 1, 1, 2, 3, 4, 5, 6, 2, 3, 5, 3, 4, 2, 6, 3, 3, 4, 5, 6, 1, 2, 3, 4, 5, 6, 1, 2, 3, 4, 5, 1, 4, 6, 1, 2, 3, 4, 5, 6, 1, 2, 3, 4, 5, 6, 1, 2, 3, 4, 6, 1, 4, 5, 6, 1, 2, 3, 4, 6, 1, 2, 3, 4, 5, 6, 1, 2, 3, 1, 2, 3, 4, 1, 2, 5, 6, 2, 5, 4, 5, 1, 2, 3, 4, 5, 6, 1, 3, 1, 3, 4, 5, 6, 1, 2, 3, 6, 1, 2, 3, 4, 5, 6, 5, 1, 6, 1, 1, 4, 5, 1, 3, 1, 2, 3, 4, 5, 1, 5, 6, 4, 1, 2, 3, 4, 5, 6, 5, 1, 3, 4, 5, 6, 3, 4, 4, 1, 2, 5, 3, 5, 6, 1, 2, 3, 4, 5, 6, 1, 2, 3, 1, 1, 3, 4, 1, 2, 3, 4, 5, 6, 1, 2, 3, 4, 5, 6, 4, 6, 1, 2, 3, 4, 5, 6, 1, 2, 3, 4, 5, 6, 3, 6, 1, 2, 3, 4, 5, 6, 4, 4, 1, 3, 6, 6, 6, 3, 6, 1, 2, 3, 2, 4, 1, 4, 5, 2, 1, 3, 5, 6, 1, 2, 3, 4, 5, 6, 2, 1, 3, 2, 3, 5, 6, 1, 4, 5, 6, 1, 3, 3, 6, 1, 3, 4, 5, 3, 2, 4, 4, 1, 4, 5, 1, 2, 3, 4, 5, 2, 3, 4, 1, 2, 4, 6, 6, 2, 3, 4, 5, 6, 6, 1, 2, 3, 4, 5, 6, 1, 2, 3, 4, 5, 6, 1, 2, 3, 4, 5, 6, 1, 3, 4, 1, 2, 3, 4, 5, 6, 1, 2, 3, 4, 5, 6, 1, 3, 5, 4, 5, 1, 6, 2, 3, 1, 2, 1, 4, 6, 1, 2, 3, 4, 5, 6, 1, 2, 3, 4, 5, 6, 5, 1, 2, 3, 2, 2, 3, 4, 5, 6, 1, 1, 2, 3, 4, 5, 2, 3, 5, 6, 2, 1, 3, 4, 5, 4, 1, 4, 5, 6, 4, 2, 2, 2, 6, 1, 4, 1, 2, 4, 6], \"Freq\": [0.9967351007764598, 0.9947795964717497, 0.991360901337255, 0.9920544604630037, 0.9916163882986414, 0.007900791035085914, 0.9875988793857393, 0.9873502415992491, 0.009923118006022604, 0.190135230911266, 0.0016826126629315573, 0.6595841638691705, 0.1497525270009086, 0.9827757102715766, 0.9931260014190136, 0.9901938606916773, 0.006690499058727549, 0.00090380467146681, 0.03806612616295506, 0.09229440645096365, 0.07980063599245187, 0.6851902709331911, 0.10372487729598508, 0.9910338035343754, 0.985575748742854, 0.050432992167023655, 0.18025400803464864, 0.02865714026265609, 0.04942016184589028, 0.5866372798258693, 0.10461941434765923, 0.9818850351130034, 0.9935079728397137, 0.984803101207648, 0.007404534595546226, 0.9857588364925707, 0.010486796132899687, 0.9937149012734515, 0.9957580197849192, 0.9914876624943373, 0.9933505947705443, 0.0017215387581144342, 0.0017215387581144342, 0.9967709409482574, 0.987962670558934, 0.00609853500345021, 0.1579461477678101, 0.7479748606935375, 0.08653754456244002, 0.0066567341971107705, 0.0006051576542827974, 0.17031829453754238, 0.31216392585452296, 0.03157877193553217, 0.36859156750981814, 0.11647907681138917, 0.9875925051552209, 0.993920926241676, 0.9983687404638986, 0.9859358178798124, 0.012575711962752709, 0.9915363015407587, 0.9956423990086914, 0.005193858434388306, 0.9764453856650014, 0.010387716868776611, 0.9866768262717096, 0.44594494933091083, 0.21889799340187746, 0.10256452835903115, 0.14864831644363694, 0.030066861738126942, 0.053951751903928716, 0.35498340304664877, 0.0034198786420679074, 0.002735902913654326, 0.0006839757284135815, 0.6381493546098715, 0.9559296758235216, 0.015376884865793913, 0.0025628141442989856, 0.02306532729869087, 0.0020634854978660087, 0.06835295711681154, 0.5736489684067504, 0.11142821688476447, 0.13619004285915656, 0.10833298863796545, 0.008683542919272513, 0.9465061782007039, 0.0043417714596362565, 0.008683542919272513, 0.030392400217453798, 0.9883688384738948, 0.9939449714870539, 0.005207784573088446, 0.2877300976631366, 0.11326931446467368, 0.5936874413320827, 0.985685206139601, 0.005466202156763686, 0.027331010783818433, 0.010932404313527372, 0.9511191752768814, 0.9910655669104506, 0.001344729398793013, 0.005378917595172052, 0.001344729398793013, 0.9971685519435961, 0.9905494156884085, 0.9908880662984205, 0.17058038539617856, 0.29274081764604604, 0.4682076203322193, 0.0008884395072717633, 0.027541624725424662, 0.03997977782722935, 0.671599699943235, 0.3273057559588447, 0.991832195444751, 0.32565944767856353, 0.489031575661214, 0.008027581321856663, 0.17335236422063444, 0.003471386517559638, 0.00021696165734747737, 0.021130734652346765, 0.0006307681985775154, 0.00946152297866273, 0.0037846091914650925, 0.0003153840992887577, 0.9647599597243098, 0.05850111511895669, 0.0053182831926324265, 0.9306995587106747, 0.0053182831926324265, 0.9945124619649068, 0.004026366242772902, 0.994023711279479, 0.9901379658370122, 0.006675087410137161, 0.0016311737569639165, 0.9852289492062056, 0.013049390055711332, 0.099125830915133, 0.09070948678082924, 0.13092090875583604, 0.6546045437791801, 0.002805448044767915, 0.021508435009887347, 0.5772008378660465, 0.05721524340363143, 0.2496155226923136, 0.008974940141746107, 0.0022437350354365267, 0.10489461290665762, 0.9299717757824496, 0.0009198533885088522, 0.022996334712721306, 0.00827868049657967, 0.01655736099315934, 0.02023677454719475, 0.9945483462020938, 0.9929434719245668, 0.008764422615251575, 0.9903797555234278, 0.00942457859129698, 0.8329664313778654, 0.09202823800913522, 0.02134389857440787, 0.04268779714881574, 0.0016631609278759377, 0.9533284148089445, 0.03269991924146775, 0.010061513612759308, 0.0019954808214477033, 0.26539894925254454, 0.7323414614713071, 0.9765589965250249, 0.0201768387711782, 0.0013451225847452134, 0.0013451225847452134, 0.0013451225847452134, 0.9940546326357095, 0.021755414161163857, 0.25113315042560885, 0.001891775144449031, 0.5864502947791996, 0.05013204132789932, 0.0884404880029922, 0.9822823635448736, 0.013966099955614318, 0.011016190458429564, 0.25337238054388, 0.012017662318286798, 0.04206181811400379, 0.6239169686910563, 0.05808536787171952, 0.003916604636341447, 0.4096768449613154, 0.09948175776307276, 0.05169918119970711, 0.42847654721575434, 0.006266567418146316, 0.0155823321447934, 0.010388221429862267, 0.9712987036921219, 0.9333175003129743, 0.006952085663411354, 0.006952085663411354, 0.008690107079264193, 0.04345053539632096, 0.0005077261831114315, 0.07996687384005047, 0.0022847678240014418, 0.9144148557836881, 0.00025386309155571576, 0.0025386309155571575, 0.1082776061297426, 0.14390741669380322, 0.30771200032597795, 0.15177373850664777, 0.11475575350502636, 0.17352180469510034, 0.8752559887867177, 0.00028380544383486305, 0.0048246925451926725, 0.002128540828761473, 0.11721164830379845, 0.00028380544383486305, 0.9938684316607062, 0.13974249001757388, 0.005495491180466389, 0.8455205716231858, 0.008635771855018612, 0.0038907128035170035, 0.019453564017585016, 0.9687874880757339, 0.0038907128035170035, 0.9285721972341453, 0.06852931344901442, 0.9922677148146584, 0.17485151664804074, 0.0020450469783396576, 0.3425453688718927, 0.4805860399098196, 0.010394431013630438, 0.9874709462948916, 0.991000343134086, 0.9919285971229859, 0.9886568600512161, 0.004707889809767695, 0.9911811162330926, 0.003292960519046819, 0.003292960519046819, 0.9066964798069225, 0.0003201611863725009, 0.0009604835591175027, 0.053146756937835146, 0.038739503551072606, 0.9945389965071783, 0.992990386373677, 0.9425423776862442, 0.0009777410556911247, 0.05670898123008523, 0.01005954370495062, 0.12876215942336794, 0.044261992301782724, 0.7323347817204051, 0.0845001671215852, 0.19417962568029754, 0.45630201893817335, 0.16603765094402254, 0.002412169263109286, 0.17488227157542327, 0.00643245136829143, 0.0021570260359462298, 0.994389002571212, 0.0021570260359462298, 0.9926964363792599, 0.16277495357069668, 0.2209088655602312, 0.4684624407823324, 0.010900108498037724, 0.0004844492665794544, 0.1363724685421164, 0.06292357437287045, 0.9288718121709447, 0.0029963606844224024, 0.005992721368844805, 0.004802807096344666, 0.9941810689433458, 0.981961667175282, 0.9501239357388767, 0.0009188819494573275, 0.016539875090231894, 0.0009188819494573275, 0.031241986281549134, 0.03425275025318561, 0.11866131337710728, 0.20062325148294427, 0.05994231294307481, 0.013456437599465774, 0.573733566740859, 0.5253782036040349, 0.12348945258564935, 0.00036535341001671406, 0.00036535341001671406, 0.16842792201770518, 0.18158064477830688, 0.024757780961411027, 0.0019044446893393097, 0.05713334068017929, 0.7427334288423307, 0.1752089114192165, 0.001972158138077025, 0.19445479241439464, 0.5715314284147218, 0.00039443162761540495, 0.2303480705273965, 0.0011832948828462149, 0.14145201852851289, 0.006630563368524041, 0.007735657263278048, 0.7382027216956766, 0.10498392000163065, 0.49725651854519176, 0.00021535578975538837, 0.027996252668200487, 0.40680708684792866, 0.041563667422789954, 0.02627340635015738, 0.9955519959501954, 0.9962368024888855, 0.006406939874246754, 0.9866687406340001, 0.9933015555809525, 0.015393752516590984, 0.9582610941577887, 0.025014847839460348, 0.007766276686038688, 0.9785508624408746, 0.011649415029058032, 0.003883138343019344, 0.008727089537380975, 0.03054481338083341, 0.9556163043432168, 0.7875649429640998, 0.007732054138497474, 0.0011045791626424963, 0.2021379867635768, 0.0005999736908645182, 0.8558624700182352, 0.0004499802681483887, 0.14279373842575535, 0.0002999868454322591, 0.00014999342271612955, 0.04166560136181256, 0.1718706056174768, 0.11848655387265447, 0.044269701446925845, 0.0429676514043692, 0.5820163690228192, 0.0007955733148635896, 0.030231785964816404, 0.0007955733148635896, 0.0015911466297271791, 0.9658260042443977, 0.6921557808329637, 0.01402212142204711, 0.09755816393637032, 0.15424333564251821, 0.00835360425143232, 0.033712760014709006, 0.7915147303532645, 0.001968942115306628, 0.18311161672351642, 0.02264283432602622, 0.002723793405384819, 0.9805656259385348, 0.0013618967026924095, 0.014980863729616503, 0.9284073858382587, 0.007224960201075943, 0.06141216170914551, 0.052269197328118404, 0.10453839465623681, 0.0021778832220049333, 0.8210619746958598, 0.0010889416110024667, 0.0196009489980444, 0.010729875755842284, 0.21960479046957207, 0.49786623507108196, 0.08798498119790672, 0.08369303089556981, 0.10086083210491747, 0.1381097975069898, 0.11939398382613603, 0.5788994783353731, 0.12520233979605616, 0.0006453728855466813, 0.038077000247254196, 0.0063179757625054424, 0.9919221947133544, 0.9949457008686282, 0.0038563786855373185, 0.0038563786855373185, 0.9941609218416522, 0.0024978917634212367, 0.0024978917634212367, 0.006378325092450067, 0.9886403893297605, 0.9972433452857378, 0.9906209389670658, 0.0064484653970906846, 0.9930636711519654, 0.05515074948353519, 0.9375627412200983, 0.8449077521709312, 0.001469404786384228, 0.002938809572768456, 0.002938809572768456, 0.1469404786384228, 0.9936233065714261, 0.0756529301571502, 0.0045850260701303155, 0.9192977270611282, 0.9910686569206386, 0.9901874408964282, 0.006489946879160386, 0.24553632359490127, 0.15359540947346248, 0.029204760956221737, 0.5646253784869536, 0.25046853902267596, 0.0035854392089135615, 0.006146467215280392, 0.17824754924313135, 0.003073233607640196, 0.5588163109892422, 0.9851923997704981, 0.011756472550960597, 0.0023512945101921198, 0.9965933260197508, 0.9910418702232074, 0.0060800114737620085, 0.9965573558671271, 0.0008687626838023604, 0.10946409815909741, 0.6090026413454547, 0.14334584282738946, 0.010425152205628325, 0.1268393518351446, 0.004577578794693575, 0.9933345984485059, 0.004577578794693575, 0.17720528388918114, 0.8217651626509279, 0.02070825075469297, 0.9663850352190053, 0.006902750251564323, 0.9916448921366611, 0.9794357046471018, 0.9920198461770307, 0.9891469471409321, 0.9903740789504205, 0.16463575639899214, 0.01905881909052372, 0.0008110135783201583, 0.6443502879753658, 0.1711238650255534, 0.9937672041921751, 0.0036998034407750378, 0.001664911548348767, 0.0007399606881550076, 0.9971249197435788, 0.9931688989125173, 0.9976068944005495, 0.5206316167361493, 0.09847666601414731, 0.08317551073704872, 0.1047540630509057, 0.07454408981150594, 0.1184858690688147, 0.00825043047060799, 0.9900516564729588, 0.9791733036560394, 0.013143265820886435, 0.9950590579286436, 0.1600050462516274, 0.12898365973345474, 0.4955258320139685, 0.09143145500092995, 0.008163522767940173, 0.11673837558154447, 0.0101182225275077, 0.9865266964320007, 0.00787170609557814, 0.01574341219115628, 0.9760915558516893, 0.004274573526661127, 0.0032059301449958457, 0.0010686433816652818, 0.0010686433816652818, 0.9660536170254148, 0.024578797778301485, 0.8575659415166114, 0.003066385964898491, 0.1379873684204321, 0.9842535838394414, 0.9341625810994918, 0.01139222659877429, 0.01139222659877429, 0.037974088662580965, 0.9926181841044661, 0.0014264010851207812, 0.0014264010851207812, 0.27386900834319, 0.1597569215335275, 0.5634284286227086, 0.9945006412882919, 0.12099818998128296, 0.281685716456925, 0.2805999899266841, 0.16165261672474493, 0.02436852878984961, 0.1307697287534504, 0.9929628076000507, 0.46491974002458986, 0.0005761087236983765, 0.06106752471202791, 0.16707152987252918, 0.30591373228383795, 0.990891809331695, 0.9610115127996152, 0.0031612220815776817, 0.028450998734199134, 0.0031612220815776817, 0.9829662592196797, 0.030052046496003487, 0.4069760194967252, 0.12224561286509893, 0.09881520373262163, 0.003565497041898719, 0.33821286226010705, 0.0003843379884672515, 0.000768675976934503, 0.3078547287622685, 0.6510685524635241, 0.039586812812126906, 0.9943724780106501, 0.005003280687027043, 0.005003280687027043, 0.9856462953443275, 0.8486644645217271, 0.0071501218657047646, 0.008250140614274728, 0.0005500093742849819, 0.04290073119422858, 0.09295158425416193, 0.7655442626568321, 0.0058382784568681186, 0.05108493649759604, 0.1773377081273691, 0.9482353585839799, 0.0018556464942935027, 0.0210306602686597, 0.01608226961721036, 0.012370976628623352, 0.04917376429290106, 0.07727305817455882, 0.6919451118358221, 0.17327897893688946, 0.007024823470414438, 0.0011708039117357396, 0.9934636483830708, 0.005236926084765687, 0.9845421039359491, 0.005236926084765687, 0.9897953979959373, 0.13443880698562194, 0.43494908142407096, 0.17345242156184162, 0.22617352234051688, 0.028996605428271396, 0.0021088440311470107, 0.9905526565987133, 0.9915482721286556, 0.005448067429278327, 0.0027240337146391637, 0.0027240337146391637, 0.00478469574307186, 0.0014562117478914356, 0.00041606049939755304, 0.00478469574307186, 0.9883517163188873, 0.9958218840674404, 0.048701511974983604, 0.002563237472367558, 0.6203034683129491, 0.15827991391869672, 0.07048903049010785, 0.09996626142233477, 0.003146254772284649, 0.3534292860866422, 0.07655886612559312, 0.09281451578239713, 0.36653868097116155, 0.1080214138484396, 0.9945907480900911, 0.9964364491909538, 0.9939107945249082, 0.1818567766434097, 0.7332003375781916, 0.027422847271625275, 0.0014433077511381723, 0.04329923253414517, 0.01298976976024355, 0.9890250434140394, 0.006422240541649606, 0.007939497880587027, 0.9844977371927913, 0.07212622229434693, 0.011096341891437989, 0.9154482060436341, 0.985547175066063, 0.005883128919040548, 0.9883656583988122, 0.0013646896685117838, 0.0013646896685117838, 0.02183503469618854, 0.9757531129859254, 0.005583774540820903, 0.8115085665993046, 0.1675132362246271, 0.014890065442189074, 0.0018612581802736343, 0.9950589556926455, 0.9913761106836474, 0.0034785126690654294, 0.9910994128145602, 0.9908702008867056, 0.0056621154336383185, 0.5360596255994997, 0.004743890492030971, 0.1138533718087433, 0.21051014058387435, 0.040323069182263256, 0.09428482352911555, 0.9057639329849037, 0.0938615474595755, 0.995021731017537, 0.9860358781006321, 0.006361521794197626, 0.006361521794197626, 0.008441966138938333, 0.005627977425958889, 0.22511909703835556, 0.005627977425958889, 0.7541489750784911, 0.9943972112990479, 0.0030379407555550897, 0.13670733399997903, 0.03949322982221616, 0.036455289066661074, 0.7837887149332131, 0.0733628071709306, 0.1654059587603852, 0.2521846496500739, 0.00016982131289567268, 0.17389702440516883, 0.33488762903026653, 0.9949682888256349, 0.990875807439263, 0.7438547625369669, 0.00797699477251439, 0.0009971243465642988, 0.07279007729919382, 0.1655226415296736, 0.009971243465642989, 0.2386481133924048, 0.0440362590188366, 0.0667646507704942, 0.4169239361944691, 0.1583884800193639, 0.0752877976773658, 0.0233091562907215, 0.6477120096542913, 0.000706338069415803, 0.10100634392645982, 0.22532184414364115, 0.002119014208247409, 0.9845580044288944, 0.21253375379633296, 0.041314972700595566, 0.1910817487402545, 0.30588970172556335, 0.15850648180324645, 0.09097239181188832, 0.9893382265819333, 0.028474685687655633, 0.13215174639655564, 0.03796624758354084, 0.013872282770909154, 0.010951802187559858, 0.7768478351709126, 0.00031426087361207256, 0.420166788019341, 0.2529800032577184, 0.2334958290937699, 0.0018855652416724352, 0.09176417509472519, 0.9947725189116973, 0.0015118123387715765, 0.0015118123387715765, 0.9971110721406719, 0.08974198897702125, 0.10246132599738646, 0.05935690609503767, 0.2762922652757111, 0.02331878453733623, 0.44870994488510624, 0.9912768264123918, 0.98903779027868, 0.9960448797046982, 0.0014331581002945298, 0.9972477014828083, 0.11084477712790512, 0.08412326835599943, 0.0534430175438114, 0.14548376998037546, 0.17814339181270467, 0.4275441403504912, 0.013593039962732287, 0.013593039962732287, 0.9719023573353586, 0.9645917788590296, 0.014396892221776562, 0.0035992230554441405, 0.01679637425873932, 0.36986315538262, 0.016365626344363716, 0.612074425279203, 0.0029417395320867797, 0.6721874830818292, 0.3235913485295458, 0.014932176917606755, 0.9780575881032425, 0.4053524746090576, 0.00032094416041888963, 0.0038513299250266756, 0.5857230927644735, 0.0028884974437700067, 0.0019256649625133378, 0.24090828296041364, 0.10811078422605135, 0.10981331626110727, 0.3809415428437636, 0.007235761148987689, 0.1532278831550334, 0.989806568764418, 0.005856843602156319, 0.07181511777109192, 0.9246196413028086, 0.1680278168201808, 0.03662144725568043, 0.006462608339237723, 0.770127493759162, 0.0010771013898729538, 0.018310723627840215, 0.032303530808540745, 0.6647460949195025, 0.06864500296814909, 0.1746409634336734, 0.059054892259363556, 0.0005047426688834491, 0.017284909119364793, 0.0038410909154143985, 0.0019205454577071992, 0.9765973652441108, 0.004881631030614106, 0.49570744192690513, 0.1886084716373632, 0.21967339637763478, 0.09053206638593433, 0.0004437846391467369, 0.983347318517404, 0.9929240535673918, 0.01113601952216006, 0.9855377277111653, 0.06381302293753201, 0.9316701348879673, 0.0031906511468766004, 0.9924923762941074, 0.005251282414254536, 0.004576188021183303, 0.5852944479093444, 0.38348455617516075, 0.001830475208473321, 0.01830475208473321, 0.0068642820317749535, 0.906078431543078, 0.02532517355244628, 0.07034770431235078, 0.9912860016677947, 0.03489068343037128, 0.7455441235401735, 0.168870907802997, 0.0013956273372148513, 0.03516980889781425, 0.013956273372148512, 0.0027139027542902737, 0.7951735070070501, 0.188616241423174, 0.0027139027542902737, 0.009498659640015958, 0.0019892946265976656, 0.0006630982088658885, 0.9972997061342963, 0.011278031567730733, 0.015789244194823027, 0.967655108511297, 0.002255606313546147, 0.004511212627092294, 0.9905267752835681, 0.9916059941032184, 0.005033532964990956, 0.989108291145799, 0.0089918935558709, 0.09298104208928117, 0.03922637713141549, 0.01525470221777269, 0.8099520463245976, 0.042132034696705525, 0.9861612081093959, 0.9920714554026159, 0.0009051746855863284, 0.006336222799104298, 0.6219092563401563, 0.0004893070466877705, 0.000978614093375541, 0.26128996293126944, 0.01957228186751082, 0.09541487410411524, 0.00565959891683016, 0.9904298104452779, 0.984512155027671, 0.010759695683362524, 0.9931278720962134, 0.003805087632552542, 0.001207847679277252, 0.09300427130434841, 0.6353278792998346, 0.1183690725691707, 0.043482516453981074, 0.10870629113495268, 0.022433668090329498, 0.011216834045164749, 0.011216834045164749, 0.028042085112911872, 0.9309972257486742, 0.9950077098651683, 0.006159032065551897, 0.9854451304883035, 0.466915151220096, 0.04362183073682558, 0.0008078116803115848, 0.0024234350409347545, 0.008885928483427433, 0.47660889138383505, 0.002237963250427833, 0.9891797566891021, 0.006713889751283499, 0.0011189816252139165, 0.10946752242137976, 0.35431376273090204, 0.08923349899508749, 0.06172104987588434, 0.004658192443462969, 0.38051609522538127, 0.024774712016962033, 0.9732922578092227, 0.9877478875151672, 0.006859360329966439, 0.0019612147115017947, 0.0725649443255664, 0.8099816758502412, 0.05295279721054845, 0.029418220672526918, 0.03334065009553051, 0.43212594567459883, 0.001713086008620808, 0.0835129429202644, 0.2154205655840666, 0.015846045579742476, 0.25139537176510357, 0.16112867505396697, 0.10954431505467539, 0.4323812647131632, 0.09621352539193712, 0.033616773932122604, 0.16692467055950536, 0.9877267583437859, 0.9983687394777645, 0.9912795395677457, 0.22043245579393686, 0.0008413452511218964, 0.6049272355566435, 0.010096143013462757, 0.015144214520194136, 0.14807676419745378, 0.9935220560959406, 0.006176755799904989, 0.9913693058847507, 0.9939060030262487, 0.003897670600102936, 0.9730666530898417, 0.020272221939371702, 0.9935487997236766, 0.04270184882042202, 0.9416305124503318, 0.0010949192005236417, 0.014233949606807341, 0.09354388904533302, 0.1106781657516564, 0.23015501413628967, 0.04353032460525398, 0.35843054515389977, 0.16393335010914797, 0.0073640390011674925, 0.21846649036796892, 0.012273398335279153, 0.0024546796670558307, 0.7560413374531959, 0.019569413680726268, 0.958901270355587, 0.019569413680726268, 0.017749333599839347, 0.10998247784186166, 0.010776381114188174, 0.6050621043230948, 0.19746133629821272, 0.058636191356612126, 0.7100822090333044, 0.00011399618061218565, 0.16495247334583263, 0.050500308011198244, 0.07341354031424756, 0.0009119694448974852, 0.005451890400573849, 0.04906701360516465, 0.8232354504866513, 0.009086484000956416, 0.11267240161185955, 0.09848094996313411, 0.8095134086969624, 0.04136199898451633, 0.04727085598230437, 0.2509569328705796, 0.16730462191371973, 0.04337527234800141, 0.2464817063584842, 0.29157821967267616, 0.1642789898708503, 0.3895042309456954, 0.1627741441621097, 0.0860270130163384, 0.17957825457637985, 0.017807340886763924, 0.0030501435957566822, 0.9699456634506249, 0.024401148766053458, 0.01140086701047966, 0.9738240571451378, 0.01140086701047966, 0.00190014450174661, 0.0006149236706520141, 0.0006149236706520141, 0.3609601946727323, 0.6376758464661386, 0.004786483520171574, 0.9908020886755157, 0.039347072361562575, 0.955571757352234, 0.01112451202631004, 0.5423199612826145, 0.2920184406906386, 0.02850656206741948, 0.04449804810524016, 0.0806527121907478, 0.004396427780743976, 0.9935926784481386, 0.0009970221950832032, 0.2522466153560504, 0.21037168316255586, 0.012961288536081642, 0.5234366524186816, 0.005621896005121732, 0.9388566328553293, 0.011243792010243465, 0.04497516804097386, 0.15927982078756966, 0.3546902079518724, 0.17963506945051788, 0.17912618823394416, 0.015775317713784855, 0.11169942703792826, 0.9828032683725272, 0.9987817424707286, 0.0005927488085879695, 0.9946174956874776, 0.9868686761456898, 0.007099774648530143, 0.0035498873242650717, 0.002703994032549417, 0.9950698039781855, 0.009890982750948405, 0.0007608448269960312, 0.8437769131385986, 0.09358391372051184, 0.05173744823573012, 0.26836405229389276, 0.727518173015475, 0.002096594158546037, 0.9948072571992888, 0.0635139055739057, 0.06030381648352778, 0.07543709362388076, 0.005732301947103402, 0.7495558026032408, 0.045629123498943075, 0.9942898449761948, 0.13964283243739925, 0.2491931416618965, 0.5761534781436521, 0.0344880603114158, 0.0003381182383472137, 0.9969661344224492, 0.0026098589906346837, 0.99197129912055, 0.0835687802150348, 0.9061989604567837, 0.007834573145159514, 0.0013608831333259135, 0.017691480733236873, 0.9798358559946576, 0.0010916836186034586, 0.0032750508558103755, 0.9825152567431127, 0.0032750508558103755, 0.002183367237206917, 0.008733468948827669, 0.002859668526043495, 0.8893569115995269, 0.10580773546360932, 0.9915457053187372, 0.01972913453767862, 0.004932283634419655, 0.971659875980672, 0.024858862273147944, 0.0011837553463403781, 0.0047350213853615125, 0.0011837553463403781, 0.9659443626137486, 0.0023675106926807563, 0.08822183510752736, 0.14703639184587894, 0.007671463922393683, 0.05881455673835157, 0.6750888251706442, 0.02301439176718105, 0.9887920438531276, 0.9983687404023911, 0.0025027338886082244, 0.2444336764540699, 0.2018872003477301, 0.024193094256546168, 0.5105577132760778, 0.016684892590721496, 0.07879588562048769, 0.34569763544282583, 0.24758903275849317, 0.016222682333629817, 0.24372648934572416, 0.06798076406473447, 0.9885797295558356, 0.0072689685996752615, 0.1888376966098168, 0.16982278965952274, 0.2032627984341778, 0.0006556864465618639, 0.0006556864465618639, 0.43603148696363947, 0.9909712530058736, 0.9879596845660584, 0.01207675442702103, 0.02415350885404206, 0.9661403541616824, 0.9818850350736449, 0.9847578896762769, 0.9878541790044851, 0.00771761077347254, 0.09834425472656037, 0.014275778911920054, 0.8866844901959234, 0.9939693380197914, 0.003021183398236448, 0.0046921183006233165, 0.03440886753790432, 0.9587561727606977, 0.9859692480510824, 0.98974167941736, 0.003509722267437447, 0.003509722267437447, 0.003509722267437447, 0.9061481504536026, 0.0018568609640442677, 0.0055705828921328035, 0.0037137219280885354, 0.0018568609640442677, 0.08170188241794778, 0.9922025114447325, 0.9975271344714209, 0.0017989668791188837, 0.011221748878512981, 0.02618408071653029, 0.9613298205926121, 0.9886652801811588, 0.0019627721084508635, 0.9931626868761368, 0.003925544216901727, 0.0006542573694836211, 0.005066888092238822, 0.9931100660788091, 0.005242336631536881, 0.9908016233604705, 0.4107759449590117, 0.5827853264187165, 0.0058473444122279245, 0.00048727870101899373, 0.989760817093367, 0.9874264551367774, 0.9899596620673895, 0.9880722724383714, 0.0011962423707605329, 0.9845074711359185, 0.01315866607836586, 0.2770172789850946, 0.002529838164247439, 0.005059676328494878, 0.7146792813999016, 0.0012649190821237195, 0.011307540861930894, 0.0028268852154827236, 0.9837560549879878, 0.0020803944022874886, 0.0020803944022874886, 0.9944285242934195, 0.0020803944022874886, 0.9923769234562053, 0.7429858784826651, 0.007504907863461263, 0.010840422469444047, 0.18845657523802728, 0.05086659774123745, 0.9960629788955659, 0.1576729545653518, 0.8281657128141293, 0.004592416152388887, 0.004592416152388887, 0.001530805384129629, 0.004592416152388887, 0.013566944957141136, 0.006783472478570568, 0.01130578746428428, 0.9519473044927363, 0.0022611574928568558, 0.013566944957141136, 0.8234974061531316, 0.10021397006096311, 0.0006224470190121932, 0.06784672507232906, 0.0012448940380243865, 0.006224470190121932, 0.9764681600436006, 0.0020687884746686453, 0.020687884746686452, 0.2162992316025209, 0.21678025287369035, 0.0022447659321240127, 0.29983659236227883, 0.2591101247366003, 0.005772255254033175, 0.3683550914225946, 0.0016210293953362951, 0.14265058678959397, 0.1905186312871716, 0.25822044721004045, 0.03871399614744328, 0.0004686645307301559, 0.9987241149859621, 0.0004686645307301559, 0.007471079385338404, 0.9899180185573385, 0.0019583526008942307, 0.9968014738551635, 0.9864817732586869, 0.006576545155057913, 0.004296787487598535, 0.9925579096352617, 0.11415811585648468, 0.877590515646726, 0.004756588160686861, 0.439098091051447, 0.0005070416755790381, 0.08011258474148801, 0.37115450652385584, 0.0045633750802113425, 0.10495762684486087, 0.001463279631029154, 0.587140951950448, 0.31241020122472435, 0.018108085433985777, 0.08029746975272481, 0.0003658199077572885, 0.9877267583437859, 0.006308993994473021, 0.10514989990788369, 0.8853621572243806, 0.9925635308222083, 0.7575143058199086, 0.0027287979316279127, 0.175188827210512, 0.005457595863255825, 0.05894203532316292, 0.9965596899649597, 0.008724118351411327, 0.005816078900940884, 0.0276263747794692, 0.12649971609546423, 0.8302452631093112, 0.9866449497521276, 0.007154618393895808, 0.004769745595930538, 0.9849524655596562, 0.9944363417986657, 0.8046269414418337, 0.0010714073787507772, 0.1928533281751399, 0.0007142715858338515, 0.9960930088799322, 0.03955900660991004, 0.9567419006026391, 0.002930296785919262, 0.001465148392959631, 0.9949343216858493, 0.9898193016691362, 0.9916257363363037, 0.9960382809312452, 0.9871919501317915, 0.990587193508182, 0.007319609804247651, 0.9457756480736573, 0.03801349067820166, 0.0015205396271280665, 0.015205396271280664], \"Term\": [\"amp_gt\", \"dddd\", \"ddddd\", \"direction\", \"euromaidan\", \"followback\", \"followback\", \"http\", \"http\", \"lt\", \"lt\", \"lt\", \"lt\", \"mtvstars_one\", \"mtvstars_seconds\", \"q\", \"q\", \"rt\", \"rt\", \"rt\", \"rt\", \"rt\", \"rt\", \"sm_amp\", \"to_mars\", \"url\", \"url\", \"url\", \"url\", \"url\", \"url\", \"url_\\u0442\\u043e\\u043b\\u044f\", \"\\u0430\\u0430\\u0430\\u0430\\u0430\\u0430\\u0430\", \"\\u0430\\u0432\\u0430\", \"\\u0430\\u0432\\u0430\", \"\\u0430\\u0432\\u0442\\u043e\\u043c\\u0430\\u0442\", \"\\u0430\\u0432\\u0442\\u043e\\u043c\\u0430\\u0442\", \"\\u0430\\u0437\\u0430\\u0437\\u0430\\u0437\\u0430\", \"\\u0430\\u043b\\u0433\\u0435\\u0431\\u0440\\u0430\", \"\\u0430\\u043b\\u0435\", \"\\u0430\\u043d\\u0433\\u043b\", \"\\u0430\\u043d\\u0433\\u043b\\u0438\\u0439\\u0441\\u043a\\u0438\\u0439\", \"\\u0430\\u043d\\u0433\\u043b\\u0438\\u0439\\u0441\\u043a\\u0438\\u0439\", \"\\u0430\\u043d\\u0433\\u043b\\u0438\\u0439\\u0441\\u043a\\u0438\\u0439\", \"\\u0430\\u0441\\u043a\", \"\\u0430\\u0441\\u043a\", \"\\u0430\\u0445\\u0430\\u0445\", \"\\u0430\\u0445\\u0430\\u0445\", \"\\u0430\\u0445\\u0430\\u0445\", \"\\u0430\\u0445\\u0430\\u0445\", \"\\u0430\\u0445\\u0430\\u0445\", \"\\u0430\\u0445\\u0438\", \"\\u0430\\u0445\\u0438\", \"\\u0430\\u0445\\u0438\", \"\\u0430\\u0445\\u0438\", \"\\u0430\\u0445\\u0438\", \"\\u0430\\u044d\\u0440\\u043e\\u043f\\u043e\\u0440\\u0442\", \"\\u0431\\u0430\\u0439\\u043d\", \"\\u0431\\u0435\\u0433\\u0430\\u0442\\u044c_\\u0438\\u0434\\u0438\\u043e\\u0442\", \"\\u0431\\u0435\\u0434\\u043d\\u044b\\u0439\", \"\\u0431\\u0435\\u0434\\u043d\\u044b\\u0439\", \"\\u0431\\u0438\", \"\\u0431\\u0438\\u043e\\u043b\\u043e\\u0433\\u0438\\u044f\", \"\\u0431\\u0438\\u0442\\u044c\", \"\\u0431\\u0438\\u0442\\u044c\", \"\\u0431\\u0438\\u0442\\u044c\", \"\\u0431\\u043b\\u0430\\u0433\\u043e\\u0434\\u0430\\u0440\\u0438\\u0442\\u044c\", \"\\u0431\\u043b\\u0438\\u043d\", \"\\u0431\\u043b\\u0438\\u043d\", \"\\u0431\\u043b\\u0438\\u043d\", \"\\u0431\\u043b\\u0438\\u043d\", \"\\u0431\\u043b\\u0438\\u043d\", \"\\u0431\\u043b\\u0438\\u043d\", \"\\u0431\\u043e\\u043b\\u0435\\u0442\\u044c\", \"\\u0431\\u043e\\u043b\\u0435\\u0442\\u044c\", \"\\u0431\\u043e\\u043b\\u0435\\u0442\\u044c\", \"\\u0431\\u043e\\u043b\\u0435\\u0442\\u044c\", \"\\u0431\\u043e\\u043b\\u0435\\u0442\\u044c\", \"\\u0431\\u043e\\u043b\\u044c\\u043d\\u0438\\u0446\\u0430\", \"\\u0431\\u043e\\u043b\\u044c\\u043d\\u0438\\u0446\\u0430\", \"\\u0431\\u043e\\u043b\\u044c\\u043d\\u0438\\u0446\\u0430\", \"\\u0431\\u043e\\u043b\\u044c\\u043d\\u0438\\u0446\\u0430\", \"\\u0431\\u043e\\u043b\\u044c\\u0448\\u043e\\u0439\", \"\\u0431\\u043e\\u043b\\u044c\\u0448\\u043e\\u0439\", \"\\u0431\\u043e\\u043b\\u044c\\u0448\\u043e\\u0439\", \"\\u0431\\u043e\\u043b\\u044c\\u0448\\u043e\\u0439\", \"\\u0431\\u043e\\u043b\\u044c\\u0448\\u043e\\u0439\", \"\\u0431\\u043e\\u043b\\u044c\\u0448\\u043e\\u0439\", \"\\u0431\\u0440\\u0435\\u0434\", \"\\u0431\\u0440\\u0435\\u0434\", \"\\u0431\\u0440\\u0435\\u0434\", \"\\u0431\\u0440\\u0435\\u0434\", \"\\u0431\\u0440\\u0435\\u0434\", \"\\u0431\\u0440\\u043e\\u0441\\u0430\\u0442\\u044c\", \"\\u0431\\u0443\\u0434\\u0438\\u043b\\u044c\\u043d\\u0438\\u043a\", \"\\u0432\\u0435\\u0440\\u0438\\u0442\\u044c\", \"\\u0432\\u0435\\u0440\\u0438\\u0442\\u044c\", \"\\u0432\\u0435\\u0440\\u0438\\u0442\\u044c\", \"\\u0432\\u0435\\u0440\\u0438\\u0442\\u044c\", \"\\u0432\\u0435\\u0440\\u043d\\u043e\", \"\\u0432\\u0435\\u0440\\u0441\\u0438\\u044f\", \"\\u0432\\u0435\\u0440\\u0441\\u0438\\u044f\", \"\\u0432\\u0435\\u0440\\u0441\\u0438\\u044f\", \"\\u0432\\u0435\\u0440\\u0441\\u0438\\u044f\", \"\\u0432\\u0435\\u0441\\u0435\\u043b\\u043e\", \"\\u0432\\u0435\\u0441\\u0435\\u043b\\u043e\", \"\\u0432\\u0435\\u0441\\u0435\\u043b\\u043e\", \"\\u0432\\u0435\\u0441\\u0435\\u043b\\u043e\", \"\\u0432\\u0435\\u0442\\u0435\\u0440\", \"\\u0432\\u0437\\u0430\\u0438\\u043c\\u043d\\u043e\", \"\\u0432\\u0437\\u0430\\u0438\\u043c\\u043d\\u044b\\u0439\\u0444\\u043e\\u043b\\u043b\\u043e\\u0432\\u0438\\u043d\\u0433\", \"\\u0432\\u0438\\u0434\\u0435\\u0442\\u044c\", \"\\u0432\\u0438\\u0434\\u0435\\u0442\\u044c\", \"\\u0432\\u0438\\u0434\\u0435\\u0442\\u044c\", \"\\u0432\\u0438\\u0434\\u0435\\u0442\\u044c\", \"\\u0432\\u0438\\u0434\\u0435\\u0442\\u044c\", \"\\u0432\\u0438\\u0434\\u0435\\u0442\\u044c\", \"\\u0432\\u043a\", \"\\u0432\\u043a\", \"\\u0432\\u043e\\u0439\\u043d\\u0430\", \"\\u0432\\u043e\\u043e\\u0431\\u0449\\u0435\", \"\\u0432\\u043e\\u043e\\u0431\\u0449\\u0435\", \"\\u0432\\u043e\\u043e\\u0431\\u0449\\u0435\", \"\\u0432\\u043e\\u043e\\u0431\\u0449\\u0435\", \"\\u0432\\u043e\\u043e\\u0431\\u0449\\u0435\", \"\\u0432\\u043e\\u043e\\u0431\\u0449\\u0435\", \"\\u0432\\u0440\\u0435\\u043c\\u044f\", \"\\u0432\\u0440\\u0435\\u043c\\u044f\", \"\\u0432\\u0440\\u0435\\u043c\\u044f\", \"\\u0432\\u0440\\u0435\\u043c\\u044f\", \"\\u0432\\u0440\\u0435\\u043c\\u044f\", \"\\u0432\\u0440\\u0435\\u043c\\u044f\", \"\\u0432\\u0440\\u043e\\u043c\\u0430\\u0439\\u0434\\u0430\\u043d\", \"\\u0432\\u0440\\u043e\\u043c\\u0430\\u0439\\u0434\\u0430\\u043d\", \"\\u0432\\u0440\\u043e\\u043c\\u0430\\u0439\\u0434\\u0430\\u043d\", \"\\u0432\\u0440\\u043e\\u043c\\u0430\\u0439\\u0434\\u0430\\u043d\", \"\\u0432\\u0440\\u043e\\u043c\\u0430\\u0439\\u0434\\u0430\\u043d_url\", \"\\u0432\\u0440\\u043e\\u043c\\u0430\\u0439\\u0434\\u0430\\u043d_url\", \"\\u0432\\u0440\\u043e\\u043c\\u0430\\u0439\\u0434\\u0430\\u043d_\\u0435\\u0432\\u0440\\u043e\\u043c\\u0430\\u0439\\u0434\\u0430\\u043d\", \"\\u0432\\u0441\\u0442\\u0430\\u0432\\u0430\\u0442\\u044c\", \"\\u0432\\u0441\\u0442\\u0430\\u0432\\u0430\\u0442\\u044c\", \"\\u0432\\u0441\\u0442\\u0430\\u0442\\u044c\", \"\\u0432\\u0441\\u0442\\u0430\\u0442\\u044c\", \"\\u0432\\u0441\\u0442\\u0430\\u0442\\u044c\", \"\\u0432\\u0442\\u043e\\u0440\\u043e\\u0439\", \"\\u0432\\u0442\\u043e\\u0440\\u043e\\u0439\", \"\\u0432\\u0442\\u043e\\u0440\\u043e\\u0439\", \"\\u0432\\u0442\\u043e\\u0440\\u043e\\u0439\", \"\\u0432\\u0442\\u043e\\u0440\\u043e\\u0439\", \"\\u0432\\u0442\\u043e\\u0440\\u043e\\u0439\", \"\\u0432\\u0447\\u0435\\u0440\\u0430\", \"\\u0432\\u0447\\u0435\\u0440\\u0430\", \"\\u0432\\u0447\\u0435\\u0440\\u0430\", \"\\u0432\\u0447\\u0435\\u0440\\u0430\", \"\\u0432\\u0447\\u0435\\u0440\\u0430\", \"\\u0432\\u0447\\u0435\\u0440\\u0430\", \"\\u0432\\u044b\\u0445\\u043e\\u0434\\u043d\\u043e\\u0439\", \"\\u0432\\u044b\\u0445\\u043e\\u0434\\u043d\\u043e\\u0439\", \"\\u0432\\u044b\\u0445\\u043e\\u0434\\u043d\\u043e\\u0439\", \"\\u0432\\u044b\\u0445\\u043e\\u0434\\u043d\\u043e\\u0439\", \"\\u0432\\u044b\\u0445\\u043e\\u0434\\u043d\\u043e\\u0439\", \"\\u0432\\u044b\\u0445\\u043e\\u0434\\u043d\\u043e\\u0439\", \"\\u0433\\u0430\\u0440\\u0440\\u0438\", \"\\u0433\\u0435\\u043e\\u0433\\u0440\\u0430\\u0444\\u0438\\u044f\", \"\\u0433\\u0435\\u043e\\u043c\\u0435\\u0442\\u0440\\u0438\\u044f\", \"\\u0433\\u0435\\u043e\\u043c\\u0435\\u0442\\u0440\\u0438\\u044f\", \"\\u0433\\u043e\\u0432\\u043e\\u0440\\u0438\\u0442\\u044c\", \"\\u0433\\u043e\\u0432\\u043e\\u0440\\u0438\\u0442\\u044c\", \"\\u0433\\u043e\\u0432\\u043e\\u0440\\u0438\\u0442\\u044c\", \"\\u0433\\u043e\\u0432\\u043e\\u0440\\u0438\\u0442\\u044c\", \"\\u0433\\u043e\\u0432\\u043e\\u0440\\u0438\\u0442\\u044c\", \"\\u0433\\u043e\\u0432\\u043e\\u0440\\u0438\\u0442\\u044c\", \"\\u0433\\u043e\\u0441\\u0442\\u044c\", \"\\u0433\\u043e\\u0441\\u0442\\u044c\", \"\\u0433\\u043e\\u0441\\u0442\\u044c\", \"\\u0433\\u0440\\u0443\\u0441\\u0442\\u043d\\u043e\", \"\\u0433\\u0440\\u0443\\u0441\\u0442\\u043d\\u043e\", \"\\u0433\\u0440\\u0443\\u0441\\u0442\\u043d\\u043e\", \"\\u0433\\u0443\\u043b\\u044f\\u0442\\u044c\", \"\\u0433\\u0443\\u043b\\u044f\\u0442\\u044c\", \"\\u0433\\u0443\\u043b\\u044f\\u0442\\u044c\", \"\\u0433\\u0443\\u043b\\u044f\\u0442\\u044c\", \"\\u0433\\u0443\\u043b\\u044f\\u0442\\u044c\", \"\\u0433\\u044d\\u0436\", \"\\u0434\\u0430\\u0432\\u0430\\u0442\\u044c\", \"\\u0434\\u0430\\u0432\\u0430\\u0442\\u044c\", \"\\u0434\\u0430\\u0432\\u0430\\u0442\\u044c\", \"\\u0434\\u0430\\u0432\\u0430\\u0442\\u044c\", \"\\u0434\\u0430\\u0432\\u0430\\u0442\\u044c\", \"\\u0434\\u0430\\u0432\\u0430\\u0442\\u044c\", \"\\u0434\\u0430\\u0440\\u0438\\u0442\\u044c\", \"\\u0434\\u0430\\u0440\\u0438\\u0442\\u044c\", \"\\u0434\\u0435\\u0432\\u043e\\u0447\\u043a\\u0430\", \"\\u0434\\u0435\\u0432\\u043e\\u0447\\u043a\\u0430\", \"\\u0434\\u0435\\u0432\\u043e\\u0447\\u043a\\u0430\", \"\\u0434\\u0435\\u0432\\u043e\\u0447\\u043a\\u0430\", \"\\u0434\\u0435\\u0432\\u043e\\u0447\\u043a\\u0430\", \"\\u0434\\u0435\\u0432\\u043e\\u0447\\u043a\\u0430\", \"\\u0434\\u0435\\u0432\\u0443\\u0448\\u043a\\u0430\", \"\\u0434\\u0435\\u0432\\u0443\\u0448\\u043a\\u0430\", \"\\u0434\\u0435\\u0432\\u0443\\u0448\\u043a\\u0430\", \"\\u0434\\u0435\\u0432\\u0443\\u0448\\u043a\\u0430\", \"\\u0434\\u0435\\u0432\\u0443\\u0448\\u043a\\u0430\", \"\\u0434\\u0435\\u0432\\u0443\\u0448\\u043a\\u0430\", \"\\u0434\\u0435\\u0432\\u0447\\u043e\\u043d\\u043a\\u0430\", \"\\u0434\\u0435\\u0432\\u0447\\u043e\\u043d\\u043a\\u0430\", \"\\u0434\\u0435\\u0432\\u0447\\u043e\\u043d\\u043a\\u0430\", \"\\u0434\\u0435\\u043a\\u0430\\u0431\\u0440\\u044c\", \"\\u0434\\u0435\\u043a\\u0430\\u0431\\u0440\\u044c\", \"\\u0434\\u0435\\u043a\\u0430\\u0431\\u0440\\u044c\", \"\\u0434\\u0435\\u043a\\u0430\\u0431\\u0440\\u044c\", \"\\u0434\\u0435\\u043a\\u0430\\u0431\\u0440\\u044c\", \"\\u0434\\u0435\\u043b\\u0430\\u0442\\u044c\", \"\\u0434\\u0435\\u043b\\u0430\\u0442\\u044c\", \"\\u0434\\u0435\\u043b\\u0430\\u0442\\u044c\", \"\\u0434\\u0435\\u043b\\u0430\\u0442\\u044c\", \"\\u0434\\u0435\\u043b\\u0430\\u0442\\u044c\", \"\\u0434\\u0435\\u043b\\u0430\\u0442\\u044c\", \"\\u0434\\u0435\\u043b\\u043e\", \"\\u0434\\u0435\\u043b\\u043e\", \"\\u0434\\u0435\\u043b\\u043e\", \"\\u0434\\u0435\\u043b\\u043e\", \"\\u0434\\u0435\\u043b\\u043e\", \"\\u0434\\u0435\\u043b\\u043e\", \"\\u0434\\u0435\\u043d\\u044c\", \"\\u0434\\u0435\\u043d\\u044c\", \"\\u0434\\u0435\\u043d\\u044c\", \"\\u0434\\u0435\\u043d\\u044c\", \"\\u0434\\u0435\\u043d\\u044c\", \"\\u0434\\u0435\\u043d\\u044c\", \"\\u0434\\u0435\\u043d\\u044c_\\u043f\\u043e\\u0437\\u0438\\u0442\\u0438\\u0432\", \"\\u0434\\u0435\\u043d\\u044c_\\u0440\\u043e\\u0436\\u0434\\u0435\\u043d\\u0438\\u0435\", \"\\u0434\\u0435\\u043d\\u044c_\\u0440\\u043e\\u0436\\u0434\\u0435\\u043d\\u0438\\u0435\", \"\\u0434\\u0435\\u043d\\u044c_\\u0440\\u043e\\u0436\\u0434\\u0435\\u043d\\u0438\\u0435\", \"\\u0434\\u0435\\u043d\\u044c_\\u0440\\u043e\\u0436\\u0434\\u0435\\u043d\\u0438\\u0435\", \"\\u0434\\u0435\\u0440\\u0436\\u0430\\u0442\\u044c\\u0441\\u044f\", \"\\u0434\\u0435\\u0440\\u0436\\u0430\\u0442\\u044c\\u0441\\u044f\", \"\\u0434\\u0435\\u0440\\u0436\\u0430\\u0442\\u044c\\u0441\\u044f\", \"\\u0434\\u0435\\u0440\\u0436\\u0430\\u0442\\u044c\\u0441\\u044f\", \"\\u0434\\u043e\\u0431\\u0430\\u0432\\u0438\\u0442\\u044c\", \"\\u0434\\u043e\\u0431\\u0430\\u0432\\u0438\\u0442\\u044c\", \"\\u0434\\u043e\\u0431\\u0430\\u0432\\u043b\\u044f\\u0442\\u044c\", \"\\u0434\\u043e\\u0431\\u0440\\u044b\\u0439\", \"\\u0434\\u043e\\u0431\\u0440\\u044b\\u0439\", \"\\u0434\\u043e\\u0431\\u0440\\u044b\\u0439\", \"\\u0434\\u043e\\u0431\\u0440\\u044b\\u0439\", \"\\u0434\\u043e\\u0431\\u0440\\u044b\\u0439_\\u0432\\u0435\\u0447\\u0435\\u0440\", \"\\u0434\\u043e\\u0431\\u0440\\u044b\\u0439_\\u0432\\u0435\\u0447\\u0435\\u0440\", \"\\u0434\\u043e\\u0433\\u0430\\u0434\\u0430\\u0442\\u044c\\u0441\\u044f\", \"\\u0434\\u043e\\u0435\\u0445\\u0430\\u0442\\u044c\", \"\\u0434\\u043e\\u0436\\u0434\\u0430\\u0442\\u044c\\u0441\\u044f\", \"\\u0434\\u043e\\u0436\\u0434\\u0430\\u0442\\u044c\\u0441\\u044f\", \"\\u0434\\u043e\\u0436\\u0434\\u044c\", \"\\u0434\\u043e\\u0436\\u0434\\u044c\", \"\\u0434\\u043e\\u0436\\u0434\\u044c\", \"\\u0434\\u043e\\u043c\", \"\\u0434\\u043e\\u043c\", \"\\u0434\\u043e\\u043c\", \"\\u0434\\u043e\\u043c\", \"\\u0434\\u043e\\u043c\", \"\\u0434\\u043e\\u043c_\\u0441\\u0438\\u0434\\u0435\\u0442\\u044c\", \"\\u0434\\u043e\\u043c\\u0430\\u0448\\u043a\\u0430\", \"\\u0434\\u043e\\u043c\\u043e\\u0439\", \"\\u0434\\u043e\\u043c\\u043e\\u0439\", \"\\u0434\\u043e\\u043c\\u043e\\u0439\", \"\\u0434\\u043e\\u0440\\u043e\\u0433\\u043e\\u0439\", \"\\u0434\\u043e\\u0440\\u043e\\u0433\\u043e\\u0439\", \"\\u0434\\u043e\\u0440\\u043e\\u0433\\u043e\\u0439\", \"\\u0434\\u043e\\u0440\\u043e\\u0433\\u043e\\u0439\", \"\\u0434\\u043e\\u0440\\u043e\\u0433\\u043e\\u0439\", \"\\u0434\\u0440\\u0443\\u0433\", \"\\u0434\\u0440\\u0443\\u0433\", \"\\u0434\\u0440\\u0443\\u0433\", \"\\u0434\\u0440\\u0443\\u0433\", \"\\u0434\\u0440\\u0443\\u0433\", \"\\u0434\\u0440\\u0443\\u0433\", \"\\u0434\\u0440\\u0443\\u0433_\\u0434\\u0440\\u0443\\u0433\", \"\\u0434\\u0440\\u0443\\u0433_\\u0434\\u0440\\u0443\\u0433\", \"\\u0434\\u0440\\u0443\\u0433_\\u0434\\u0440\\u0443\\u0433\", \"\\u0434\\u0440\\u0443\\u0436\\u0438\\u0442\\u044c\", \"\\u0434\\u0443\\u043c\\u0430\\u0442\\u044c\", \"\\u0434\\u0443\\u043c\\u0430\\u0442\\u044c\", \"\\u0434\\u0443\\u043c\\u0430\\u0442\\u044c\", \"\\u0434\\u0443\\u043c\\u0430\\u0442\\u044c\", \"\\u0434\\u0443\\u043c\\u0430\\u0442\\u044c\", \"\\u0434\\u0443\\u043c\\u0430\\u0442\\u044c\", \"\\u0434\\u0443\\u0440\\u0430\", \"\\u0434\\u0443\\u0440\\u0430\", \"\\u0434\\u0443\\u0440\\u0430\", \"\\u0434\\u0443\\u0440\\u0430\", \"\\u0434\\u0443\\u0445\", \"\\u0434\\u0443\\u0445\", \"\\u0435\\u0434\\u0438\\u043d\\u044b\\u0439_\\u0440\\u043e\\u0441\\u0441\\u0438\\u044f\", \"\\u0435\\u0445\\u0430\\u0442\\u044c\", \"\\u0435\\u0445\\u0430\\u0442\\u044c\", \"\\u0435\\u0445\\u0430\\u0442\\u044c\", \"\\u0435\\u0445\\u0430\\u0442\\u044c\", \"\\u0435\\u0445\\u0430\\u0442\\u044c\", \"\\u0436\\u0430\\u043b\\u043a\\u043e\", \"\\u0436\\u0430\\u043b\\u043a\\u043e\", \"\\u0436\\u0430\\u043b\\u043a\\u043e\", \"\\u0436\\u0430\\u043b\\u043a\\u043e\", \"\\u0436\\u0430\\u043b\\u043a\\u043e\", \"\\u0436\\u0430\\u043b\\u043a\\u043e\", \"\\u0436\\u0434\\u0430\\u0442\\u044c\", \"\\u0436\\u0434\\u0430\\u0442\\u044c\", \"\\u0436\\u0434\\u0430\\u0442\\u044c\", \"\\u0436\\u0434\\u0430\\u0442\\u044c\", \"\\u0436\\u0434\\u0430\\u0442\\u044c\", \"\\u0436\\u0434\\u0430\\u0442\\u044c\", \"\\u0436\\u0435\\u043b\\u0430\\u0442\\u044c\", \"\\u0436\\u0435\\u043b\\u0430\\u0442\\u044c\", \"\\u0436\\u0435\\u043b\\u0430\\u0442\\u044c\", \"\\u0436\\u0435\\u043b\\u0430\\u0442\\u044c\", \"\\u0436\\u0435\\u043b\\u0430\\u0442\\u044c\", \"\\u0436\\u0438\\u0437\\u043d\\u044c\", \"\\u0436\\u0438\\u0437\\u043d\\u044c\", \"\\u0436\\u0438\\u0437\\u043d\\u044c\", \"\\u0436\\u0438\\u0437\\u043d\\u044c\", \"\\u0436\\u0438\\u0437\\u043d\\u044c\", \"\\u0436\\u0438\\u0437\\u043d\\u044c\", \"\\u0437\", \"\\u0437\", \"\\u0437\", \"\\u0437\", \"\\u0437\", \"\\u0437\\u0430\\u0432\\u0442\\u0440\\u0430\", \"\\u0437\\u0430\\u0432\\u0442\\u0440\\u0430\", \"\\u0437\\u0430\\u0432\\u0442\\u0440\\u0430\", \"\\u0437\\u0430\\u0432\\u0442\\u0440\\u0430\", \"\\u0437\\u0430\\u0432\\u0442\\u0440\\u0430\", \"\\u0437\\u0430\\u0432\\u0442\\u0440\\u0430\", \"\\u0437\\u0430\\u0432\\u0442\\u0440\\u0430\\u043a\", \"\\u0437\\u0430\\u0433\\u0430\\u0434\\u0430\\u0442\\u044c_\\u0436\\u0435\\u043b\\u0430\\u043d\\u0438\\u0435\", \"\\u0437\\u0430\\u0434\\u0430\\u043d\\u0438\\u0435\", \"\\u0437\\u0430\\u0434\\u0430\\u043d\\u0438\\u0435\", \"\\u0437\\u0430\\u043c\\u0451\\u0440\\u0437\\u043b\\u044b\\u0439\", \"\\u0437\\u0430\\u0447\\u0451\\u0442\", \"\\u0437\\u0430\\u0447\\u0451\\u0442\", \"\\u0437\\u0430\\u0447\\u0451\\u0442\", \"\\u0437\\u0432\\u0435\\u0437\\u0434\\u0430\", \"\\u0437\\u0432\\u0435\\u0437\\u0434\\u0430\", \"\\u0437\\u0432\\u0435\\u0437\\u0434\\u0430\", \"\\u0437\\u0432\\u0435\\u0437\\u0434\\u0430\", \"\\u0437\\u0434\\u043e\\u0440\\u043e\\u0432\\u044c\\u0435\", \"\\u0437\\u0434\\u043e\\u0440\\u043e\\u0432\\u044c\\u0435\", \"\\u0437\\u0434\\u043e\\u0440\\u043e\\u0432\\u044c\\u0435\", \"\\u0437\\u0438\\u043c\\u0430\", \"\\u0437\\u0438\\u043c\\u0430\", \"\\u0437\\u0438\\u043c\\u0430\", \"\\u0437\\u0438\\u043c\\u0430\", \"\\u0437\\u043d\\u0430\\u0442\\u044c\", \"\\u0437\\u043d\\u0430\\u0442\\u044c\", \"\\u0437\\u043d\\u0430\\u0442\\u044c\", \"\\u0437\\u043d\\u0430\\u0442\\u044c\", \"\\u0437\\u043d\\u0430\\u0442\\u044c\", \"\\u0437\\u043d\\u0430\\u0442\\u044c\", \"\\u0438\\u0433\\u0440\\u0430\", \"\\u0438\\u0433\\u0440\\u0430\", \"\\u0438\\u0433\\u0440\\u0430\", \"\\u0438\\u0433\\u0440\\u0430\", \"\\u0438\\u0433\\u0440\\u0430\", \"\\u0438\\u0433\\u0440\\u0430\", \"\\u0438\\u0433\\u0440\\u0430\\u0442\\u044c\", \"\\u0438\\u0433\\u0440\\u0430\\u0442\\u044c\", \"\\u0438\\u0433\\u0440\\u0430\\u0442\\u044c\", \"\\u0438\\u0433\\u0440\\u0430\\u0442\\u044c\", \"\\u0438\\u0433\\u0440\\u0430\\u0442\\u044c\", \"\\u0438\\u0434\\u0442\\u0438\", \"\\u0438\\u0434\\u0442\\u0438\", \"\\u0438\\u0434\\u0442\\u0438\", \"\\u0438\\u0434\\u0442\\u0438\", \"\\u0438\\u0434\\u0442\\u0438\", \"\\u0438\\u0434\\u0442\\u0438\", \"\\u0438\\u043d\\u0442\\u0435\\u0440\\u0435\\u0441\\u043d\\u043e\", \"\\u0438\\u043d\\u0442\\u0435\\u0440\\u0435\\u0441\\u043d\\u043e\", \"\\u0438\\u043d\\u0442\\u0435\\u0440\\u0435\\u0441\\u043d\\u043e\", \"\\u0438\\u043d\\u0442\\u0435\\u0440\\u0435\\u0441\\u043d\\u043e\", \"\\u0438\\u043d\\u0442\\u0435\\u0440\\u043d\\u0435\\u0442\", \"\\u0438\\u043d\\u0442\\u0435\\u0440\\u043d\\u0435\\u0442\", \"\\u0438\\u043d\\u0442\\u0435\\u0440\\u043d\\u0435\\u0442\", \"\\u0438\\u043d\\u0442\\u0435\\u0440\\u043d\\u0435\\u0442\", \"\\u0438\\u0441\\u043f\\u043e\\u0440\\u0442\\u0438\\u0442\\u044c\", \"\\u0438\\u0441\\u043f\\u043e\\u0440\\u0442\\u0438\\u0442\\u044c\", \"\\u0438\\u0441\\u043f\\u043e\\u0440\\u0442\\u0438\\u0442\\u044c\", \"\\u0438\\u0441\\u0442\\u043e\\u0440\\u0438\\u044f\", \"\\u0438\\u0441\\u0442\\u043e\\u0440\\u0438\\u044f\", \"\\u0438\\u0441\\u0442\\u043e\\u0440\\u0438\\u044f\", \"\\u0438\\u0441\\u0442\\u043e\\u0440\\u0438\\u044f\", \"\\u0438\\u0441\\u0442\\u043e\\u0440\\u0438\\u044f\", \"\\u0438\\u0441\\u0442\\u043e\\u0440\\u0438\\u044f\", \"\\u043a\\u0430\\u0436\\u0434\\u044b\\u0439\", \"\\u043a\\u0430\\u0436\\u0434\\u044b\\u0439\", \"\\u043a\\u0430\\u0436\\u0434\\u044b\\u0439\", \"\\u043a\\u0430\\u0436\\u0434\\u044b\\u0439\", \"\\u043a\\u0430\\u0436\\u0434\\u044b\\u0439\", \"\\u043a\\u0430\\u0436\\u0434\\u044b\\u0439\", \"\\u043a\\u0430\\u0437\\u0430\\u0442\\u044c\\u0441\\u044f\", \"\\u043a\\u0430\\u0437\\u0430\\u0442\\u044c\\u0441\\u044f\", \"\\u043a\\u0430\\u0437\\u0430\\u0442\\u044c\\u0441\\u044f\", \"\\u043a\\u0430\\u0437\\u0430\\u0442\\u044c\\u0441\\u044f\", \"\\u043a\\u0430\\u0437\\u0430\\u0442\\u044c\\u0441\\u044f\", \"\\u043a\\u0430\\u0437\\u0430\\u0442\\u044c\\u0441\\u044f\", \"\\u043a\\u0430\\u043c\\u0435\\u0440\\u0430\", \"\\u043a\\u0430\\u043c\\u0435\\u0440\\u0430\", \"\\u043a\\u0430\\u0442\\u0430\\u0442\\u044c\\u0441\\u044f\", \"\\u043a\\u0430\\u0442\\u0430\\u0442\\u044c\\u0441\\u044f\", \"\\u043a\\u0430\\u0442\\u0430\\u0442\\u044c\\u0441\\u044f\", \"\\u043a\\u0430\\u0442\\u043e\\u043a\", \"\\u043a\\u0430\\u0442\\u043e\\u043a\", \"\\u043a\\u0430\\u0442\\u043e\\u043a\", \"\\u043a\\u0433\", \"\\u043a\\u0433\", \"\\u043a\\u043e\\u043b\\u0438\\u0447\\u0435\\u0441\\u0442\\u0432\\u043e\", \"\\u043a\\u043e\\u043b\\u043b\\u0435\\u0434\\u0436\", \"\\u043a\\u043e\\u043c\\u043f\\u044c\\u044e\\u0442\\u0435\\u0440\", \"\\u043a\\u043e\\u043c\\u043f\\u044c\\u044e\\u0442\\u0435\\u0440\", \"\\u043a\\u043e\\u043d\\u0442\\u0440\\u043e\\u043b\\u044c\\u043d\\u044b\\u0439\", \"\\u043a\\u043e\\u043d\\u0442\\u0440\\u043e\\u043b\\u044c\\u043d\\u044b\\u0439\", \"\\u043a\\u043e\\u043d\\u0446\\u0435\\u0440\\u0442\", \"\\u043a\\u043e\\u043d\\u0446\\u0435\\u0440\\u0442\", \"\\u043a\\u043e\\u043d\\u0446\\u0435\\u0440\\u0442\", \"\\u043a\\u043e\\u043d\\u0446\\u0435\\u0440\\u0442\", \"\\u043a\\u043e\\u043d\\u0446\\u0435\\u0440\\u0442\", \"\\u043a\\u043e\\u043d\\u0451\\u043a\", \"\\u043a\\u043e\\u0444\\u0435\", \"\\u043a\\u043e\\u0444\\u0435\", \"\\u043a\\u043e\\u0444\\u0435\", \"\\u043a\\u0440\", \"\\u043a\\u0440\\u0430\\u0441\\u0430\\u0432\\u0435\\u0446\", \"\\u043a\\u0440\\u0430\\u0441\\u0438\\u0432\\u044b\\u0439\", \"\\u043a\\u0440\\u0430\\u0441\\u0438\\u0432\\u044b\\u0439\", \"\\u043a\\u0440\\u0430\\u0441\\u0438\\u0432\\u044b\\u0439\", \"\\u043a\\u0440\\u0430\\u0441\\u0438\\u0432\\u044b\\u0439\", \"\\u043a\\u0440\\u0430\\u0441\\u0438\\u0432\\u044b\\u0439\", \"\\u043a\\u0443\\u043f\\u0438\\u0442\\u044c\", \"\\u043a\\u0443\\u043f\\u0438\\u0442\\u044c\", \"\\u043a\\u0443\\u043f\\u0438\\u0442\\u044c\", \"\\u043a\\u0443\\u043f\\u0438\\u0442\\u044c\", \"\\u043a\\u0443\\u043f\\u0438\\u0442\\u044c\", \"\\u043a\\u0443\\u043f\\u0438\\u0442\\u044c\", \"\\u043a\\u0443\\u0440\\u0441\", \"\\u043a\\u0443\\u0440\\u0441\", \"\\u043a\\u0443\\u0440\\u0441\", \"\\u043b\", \"\\u043b\\u0430\\u043b\", \"\\u043b\\u0430\\u043b\", \"\\u043b\\u0435\\u043d\\u0438\\u0432\\u044b\\u0439\", \"\\u043b\\u0435\\u043d\\u0442\\u0430\", \"\\u043b\\u0435\\u043d\\u0442\\u0430\", \"\\u043b\\u0435\\u043d\\u0442\\u0430\", \"\\u043b\\u0435\\u043d\\u0442\\u0430\", \"\\u043b\\u0435\\u043d\\u0442\\u0430\", \"\\u043b\\u0435\\u043d\\u0442\\u0430\", \"\\u043b\\u0435\\u0447\\u044c\", \"\\u043b\\u0435\\u0447\\u044c\", \"\\u043b\\u0435\\u0447\\u044c\", \"\\u043b\\u0438\\u0431\\u043e\", \"\\u043b\\u0438\\u0431\\u043e\", \"\\u043b\\u0438\\u043d\\u0442\", \"\\u043b\\u0438\\u043d\\u0442\", \"\\u043b\\u0438\\u043d\\u0442\", \"\\u043b\\u0438\\u0442\\u0435\\u0440\\u0430\\u0442\\u0443\\u0440\\u0430\", \"\\u043b\\u043e\\u0433\\u043e\\u0442\\u0438\\u043f\", \"\\u043b\\u043e\\u0436\\u0438\\u0442\\u044c\\u0441\\u044f_\\u0441\\u043f\\u0430\\u0442\\u044c\", \"\\u043b\\u043e\\u043c\\u0430\\u0442\\u044c\", \"\\u043b\\u0443\\u0438\", \"\\u043b\\u044e\\u0431\\u0438\\u043c\\u044b\\u0439\", \"\\u043b\\u044e\\u0431\\u0438\\u043c\\u044b\\u0439\", \"\\u043b\\u044e\\u0431\\u0438\\u043c\\u044b\\u0439\", \"\\u043b\\u044e\\u0431\\u0438\\u043c\\u044b\\u0439\", \"\\u043b\\u044e\\u0431\\u0438\\u043c\\u044b\\u0439\", \"\\u043b\\u044e\\u0431\\u0438\\u0442\\u044c\", \"\\u043b\\u044e\\u0431\\u0438\\u0442\\u044c\", \"\\u043b\\u044e\\u0431\\u0438\\u0442\\u044c\", \"\\u043b\\u044e\\u0431\\u0438\\u0442\\u044c\", \"\\u043b\\u044e\\u0431\\u0438\\u0442\\u044c_\\u0437\\u0438\\u043c\\u0430\", \"\\u043b\\u0451\\u0434\", \"\\u043b\\u0451\\u0448\\u0430\", \"\\u043c\\u0430\\u043c\\u0430\", \"\\u043c\\u0430\\u043c\\u0430\", \"\\u043c\\u0430\\u043c\\u0430\", \"\\u043c\\u0430\\u043c\\u0430\", \"\\u043c\\u0430\\u043c\\u0430\", \"\\u043c\\u0430\\u043c\\u0430\", \"\\u043c\\u0430\\u0442\\u0435\\u043c\\u0430\\u0442\\u0438\\u043a\\u0430\", \"\\u043c\\u0430\\u0442\\u0435\\u043c\\u0430\\u0442\\u0438\\u043a\\u0430\", \"\\u043c\\u0435\\u0434\\u0432\\u0435\\u0434\\u044c\", \"\\u043c\\u0435\\u0434\\u0432\\u0435\\u0434\\u044c\", \"\\u043c\\u0435\\u043d\\u0430\", \"\\u043c\\u0435\\u0441\\u0442\\u043e\", \"\\u043c\\u0435\\u0441\\u0442\\u043e\", \"\\u043c\\u0435\\u0441\\u0442\\u043e\", \"\\u043c\\u0435\\u0441\\u0442\\u043e\", \"\\u043c\\u0435\\u0441\\u0442\\u043e\", \"\\u043c\\u0435\\u0441\\u0442\\u043e\", \"\\u043c\\u0435\\u0448\\u0430\\u0442\\u044c\", \"\\u043c\\u0435\\u0448\\u0430\\u0442\\u044c\", \"\\u043c\\u0438\\u043b\\u043e\\u0441\\u0442\\u044c\", \"\\u043c\\u0438\\u043b\\u043e\\u0441\\u0442\\u044c\", \"\\u043c\\u0438\\u043b\\u043e\\u0441\\u0442\\u044c\", \"\\u043c\\u0438\\u043b\\u044b\\u0439\", \"\\u043c\\u0438\\u043b\\u044b\\u0439\", \"\\u043c\\u0438\\u043b\\u044b\\u0439\", \"\\u043c\\u0438\\u043b\\u044b\\u0439\", \"\\u043c\\u0438\\u043b\\u044b\\u0439\", \"\\u043c\\u0438\\u043b\\u044b\\u0439\", \"\\u043c\\u0438\\u0440\", \"\\u043c\\u0438\\u0440\", \"\\u043c\\u0438\\u0440\", \"\\u043c\\u043c\\u043c\\u043c\", \"\\u043c\\u043d\\u0435\\u043d\\u0438\\u0435\", \"\\u043c\\u043d\\u0435\\u043d\\u0438\\u0435\", \"\\u043c\\u043d\\u0435\\u043d\\u0438\\u0435\", \"\\u043c\\u043d\\u0435\\u043d\\u0438\\u0435\", \"\\u043c\\u043e\\u043a\\u0440\\u044b\\u0439\", \"\\u043c\\u043e\\u043b\\u043e\\u0434\\u0435\\u0446\", \"\\u043c\\u043e\\u043b\\u043e\\u0434\\u0435\\u0446\", \"\\u043c\\u043e\\u043b\\u043e\\u0434\\u0435\\u0446\", \"\\u043c\\u043e\\u043b\\u043e\\u0434\\u0435\\u0446\", \"\\u043c\\u043e\\u043b\\u043e\\u0434\\u0435\\u0446\", \"\\u043c\\u043e\\u043b\\u0447\\u0430\\u0442\\u044c\", \"\\u043c\\u043e\\u0447\\u044c\", \"\\u043c\\u043e\\u0447\\u044c\", \"\\u043c\\u043e\\u0447\\u044c\", \"\\u043c\\u043e\\u0447\\u044c\", \"\\u043c\\u043e\\u0447\\u044c\", \"\\u043c\\u043e\\u0447\\u044c\", \"\\u043d\\u0430\\u0431\\u043e\\u0440\", \"\\u043d\\u0430\\u0434\\u0435\\u044f\\u0442\\u044c\\u0441\\u044f\", \"\\u043d\\u0430\\u0434\\u0435\\u044f\\u0442\\u044c\\u0441\\u044f\", \"\\u043d\\u0430\\u0434\\u0435\\u044f\\u0442\\u044c\\u0441\\u044f\", \"\\u043d\\u0430\\u0434\\u0435\\u044f\\u0442\\u044c\\u0441\\u044f\", \"\\u043d\\u0430\\u0434\\u0435\\u044f\\u0442\\u044c\\u0441\\u044f\", \"\\u043d\\u0430\\u0436\\u0430\\u0442\\u044c\", \"\\u043d\\u0430\\u0437\\u0432\\u0430\\u0442\\u044c\", \"\\u043d\\u0430\\u0437\\u0432\\u0430\\u0442\\u044c\", \"\\u043d\\u0430\\u0437\\u0432\\u0430\\u0442\\u044c\", \"\\u043d\\u0430\\u0437\\u0432\\u0430\\u0442\\u044c\", \"\\u043d\\u0430\\u0439\\u043b\", \"\\u043d\\u0430\\u0439\\u0442\\u0438\", \"\\u043d\\u0430\\u0439\\u0442\\u0438\", \"\\u043d\\u0430\\u0439\\u0442\\u0438\", \"\\u043d\\u0430\\u0439\\u0442\\u0438\", \"\\u043d\\u0430\\u0439\\u0442\\u0438\", \"\\u043d\\u0430\\u0439\\u0442\\u0438\", \"\\u043d\\u0430\\u043f\\u0438\\u0441\\u0430\\u0442\\u044c\", \"\\u043d\\u0430\\u043f\\u0438\\u0441\\u0430\\u0442\\u044c\", \"\\u043d\\u0430\\u043f\\u0438\\u0441\\u0430\\u0442\\u044c\", \"\\u043d\\u0430\\u043f\\u0438\\u0441\\u0430\\u0442\\u044c\", \"\\u043d\\u0430\\u043f\\u0438\\u0441\\u0430\\u0442\\u044c\", \"\\u043d\\u0430\\u043f\\u043e\\u043c\\u043d\\u0438\\u0442\\u044c\", \"\\u043d\\u0430\\u0440\\u0438\\u0441\\u043e\\u0432\\u0430\\u0442\\u044c\", \"\\u043d\\u0430\\u0440\\u0438\\u0441\\u043e\\u0432\\u0430\\u0442\\u044c\", \"\\u043d\\u0430\\u0440\\u0438\\u0441\\u043e\\u0432\\u0430\\u0442\\u044c\", \"\\u043d\\u0430\\u0441\\u0442\\u0440\\u043e\\u0435\\u043d\\u0438\\u0435\", \"\\u043d\\u0430\\u0441\\u0442\\u0440\\u043e\\u0435\\u043d\\u0438\\u0435\", \"\\u043d\\u0430\\u0441\\u0442\\u0440\\u043e\\u0435\\u043d\\u0438\\u0435\", \"\\u043d\\u0430\\u0441\\u0442\\u0440\\u043e\\u0435\\u043d\\u0438\\u0435\", \"\\u043d\\u0430\\u0441\\u0442\\u0440\\u043e\\u0435\\u043d\\u0438\\u0435\", \"\\u043d\\u0430\\u0441\\u0442\\u0440\\u043e\\u0435\\u043d\\u0438\\u0435\", \"\\u043d\\u0433\", \"\\u043d\\u0433\", \"\\u043d\\u0433\", \"\\u043d\\u0433\", \"\\u043d\\u0435\\u0434\\u0435\\u043b\\u044f\", \"\\u043d\\u0435\\u0434\\u0435\\u043b\\u044f\", \"\\u043d\\u0435\\u0434\\u0435\\u043b\\u044f\", \"\\u043d\\u0435\\u0434\\u0435\\u043b\\u044f\", \"\\u043d\\u0435\\u0434\\u0435\\u043b\\u044f\", \"\\u043d\\u0435\\u043d\\u0430\\u0432\\u0438\\u0434\\u0435\\u0442\\u044c\", \"\\u043d\\u0435\\u043d\\u0430\\u0432\\u0438\\u0434\\u0435\\u0442\\u044c\", \"\\u043d\\u0435\\u043d\\u0430\\u0432\\u0438\\u0434\\u0435\\u0442\\u044c\", \"\\u043d\\u0435\\u043d\\u0430\\u0432\\u0438\\u0434\\u0435\\u0442\\u044c\", \"\\u043d\\u0435\\u043d\\u0430\\u0432\\u0438\\u0434\\u0435\\u0442\\u044c\", \"\\u043d\\u0435\\u043d\\u0430\\u0432\\u0438\\u0434\\u0435\\u0442\\u044c\", \"\\u043d\\u0435\\u043d\\u0430\\u0432\\u0438\\u0434\\u0435\\u0442\\u044c_\\u043f\\u0440\\u043e\\u0431\\u043a\\u0430\", \"\\u043d\\u0435\\u043f\\u043b\\u043e\\u0445\\u043e\", \"\\u043d\\u0435\\u043f\\u043b\\u043e\\u0445\\u043e\", \"\\u043d\\u0435\\u043f\\u043b\\u043e\\u0445\\u043e\", \"\\u043d\\u0438\\u043a\", \"\\u043d\\u0438\\u043a\\u0442\\u043e\", \"\\u043d\\u0438\\u043a\\u0442\\u043e\", \"\\u043d\\u0438\\u043a\\u0442\\u043e\", \"\\u043d\\u0438\\u043a\\u0442\\u043e\", \"\\u043d\\u0438\\u043a\\u0442\\u043e\", \"\\u043d\\u0438\\u043a\\u0442\\u043e\", \"\\u043d\\u0438\\u0442\", \"\\u043d\\u043e\\u0432\\u043e\\u0433\\u043e\\u0434\\u043d\\u0438\\u0439_\\u043d\\u0430\\u0441\\u0442\\u0440\\u043e\\u0435\\u043d\\u0438\\u0435\", \"\\u043d\\u043e\\u0432\\u043e\\u0433\\u043e\\u0434\\u043d\\u0438\\u0439_\\u043d\\u0430\\u0441\\u0442\\u0440\\u043e\\u0435\\u043d\\u0438\\u0435\", \"\\u043d\\u043e\\u0432\\u043e\\u0433\\u043e\\u0434\\u043d\\u0438\\u0439_\\u043d\\u0430\\u0441\\u0442\\u0440\\u043e\\u0435\\u043d\\u0438\\u0435\", \"\\u043d\\u043e\\u0432\\u043e\\u0433\\u043e\\u0434\\u043d\\u0438\\u0439_\\u043d\\u0430\\u0441\\u0442\\u0440\\u043e\\u0435\\u043d\\u0438\\u0435\", \"\\u043d\\u043e\\u0432\\u044b\\u0439\", \"\\u043d\\u043e\\u0432\\u044b\\u0439\", \"\\u043d\\u043e\\u0432\\u044b\\u0439\", \"\\u043d\\u043e\\u0432\\u044b\\u0439\", \"\\u043d\\u043e\\u0432\\u044b\\u0439\", \"\\u043d\\u043e\\u0432\\u044b\\u0439_\\u0447\\u0438\\u0442\\u0430\\u0442\\u0435\\u043b\\u044c\", \"\\u043d\\u043e\\u0447\\u044c\", \"\\u043d\\u043e\\u0447\\u044c\", \"\\u043d\\u043e\\u0447\\u044c\", \"\\u043d\\u043e\\u0447\\u044c\", \"\\u043d\\u043e\\u0447\\u044c\", \"\\u043d\\u043e\\u0447\\u044c\", \"\\u043d\\u0440\\u0430\\u0432\\u0438\\u0442\\u044c\\u0441\\u044f\", \"\\u043d\\u0440\\u0430\\u0432\\u0438\\u0442\\u044c\\u0441\\u044f\", \"\\u043d\\u0440\\u0430\\u0432\\u0438\\u0442\\u044c\\u0441\\u044f\", \"\\u043d\\u0440\\u0430\\u0432\\u0438\\u0442\\u044c\\u0441\\u044f\", \"\\u043d\\u0440\\u0430\\u0432\\u0438\\u0442\\u044c\\u0441\\u044f\", \"\\u043d\\u0440\\u0430\\u0432\\u0438\\u0442\\u044c\\u0441\\u044f\", \"\\u043d\\u0443\\u0436\\u043d\\u044b\\u0439_\\u0451\\u043b\\u043a\\u0430\", \"\\u043d\\u044c\", \"\\u043e\\u0431\\u0438\\u0434\\u0430\", \"\\u043e\\u0431\\u0438\\u0434\\u043d\\u043e\", \"\\u043e\\u0431\\u0438\\u0434\\u043d\\u043e\", \"\\u043e\\u0431\\u0438\\u0434\\u043d\\u043e\", \"\\u043e\\u0431\\u0438\\u0434\\u043d\\u043e\", \"\\u043e\\u0431\\u0438\\u0434\\u043d\\u043e\", \"\\u043e\\u0431\\u0438\\u0434\\u043d\\u043e\", \"\\u043e\\u0431\\u0438\\u0436\\u0430\\u0442\\u044c\\u0441\\u044f\", \"\\u043e\\u0431\\u0438\\u0436\\u0430\\u0442\\u044c\\u0441\\u044f\", \"\\u043e\\u0431\\u043d\\u0438\\u043c\\u0430\\u0448\\u043a\\u0430\", \"\\u043e\\u0431\\u043d\\u0438\\u043c\\u0430\\u0448\\u043a\\u0430\", \"\\u043e\\u0431\\u043d\\u043e\\u0432\\u0438\\u0442\\u044c\", \"\\u043e\\u0431\\u043d\\u043e\\u0432\\u0438\\u0442\\u044c\", \"\\u043e\\u0431\\u043d\\u043e\\u0432\\u0438\\u0442\\u044c\", \"\\u043e\\u0431\\u043d\\u043e\\u0432\\u0438\\u0442\\u044c\\u0441\\u044f\", \"\\u043e\\u0431\\u043d\\u043e\\u0432\\u043b\\u0435\\u043d\\u0438\\u0435\", \"\\u043e\\u0431\\u043d\\u043e\\u0432\\u043b\\u0435\\u043d\\u0438\\u0435\", \"\\u043e\\u0431\\u043e\\u0436\\u0430\\u0442\\u044c\", \"\\u043e\\u0431\\u043e\\u0436\\u0430\\u0442\\u044c\", \"\\u043e\\u0431\\u043e\\u0436\\u0430\\u0442\\u044c\", \"\\u043e\\u0431\\u043e\\u0436\\u0430\\u0442\\u044c\", \"\\u043e\\u0431\\u0449\\u0430\\u0442\\u044c\\u0441\\u044f\", \"\\u043e\\u0431\\u0449\\u0430\\u0442\\u044c\\u0441\\u044f\", \"\\u043e\\u0431\\u0449\\u0430\\u0442\\u044c\\u0441\\u044f\", \"\\u043e\\u0431\\u0449\\u0430\\u0442\\u044c\\u0441\\u044f\", \"\\u043e\\u0431\\u0449\\u0430\\u0442\\u044c\\u0441\\u044f\", \"\\u043e\\u0433\\u043b\\u044f\\u0434\\u044b\\u0432\\u0430\\u0442\\u044c\\u0441\\u044f_\\u0442\\u0438\\u043f\", \"\\u043e\\u043b\\u0438\\u043c\\u043f\\u0438\\u0430\\u0434\\u0430\", \"\\u043e\\u043b\\u0438\\u043c\\u043f\\u0438\\u0430\\u0434\\u0430\", \"\\u043e\\u0441\\u043e\\u0431\\u044b\\u0439\", \"\\u043e\\u0441\\u0442\\u0430\\u043d\\u043e\\u0432\\u043a\\u0430\", \"\\u043e\\u0441\\u0442\\u0430\\u043d\\u043e\\u0432\\u043a\\u0430\", \"\\u043e\\u0441\\u0442\\u0430\\u0442\\u044c\\u0441\\u044f\", \"\\u043e\\u0441\\u0442\\u0430\\u0442\\u044c\\u0441\\u044f\", \"\\u043e\\u0441\\u0442\\u0430\\u0442\\u044c\\u0441\\u044f\", \"\\u043e\\u0441\\u0442\\u0430\\u0442\\u044c\\u0441\\u044f\", \"\\u043e\\u0441\\u0442\\u0430\\u0442\\u044c\\u0441\\u044f\", \"\\u043e\\u0441\\u0442\\u0430\\u0442\\u044c\\u0441\\u044f\", \"\\u043e\\u0442\\u0432\\u0435\\u0447\\u0430\\u0442\\u044c\", \"\\u043e\\u0442\\u0432\\u0435\\u0447\\u0430\\u0442\\u044c\", \"\\u043e\\u0442\\u043a\\u0440\\u044b\\u0442\\u043a\\u0430\", \"\\u043e\\u0442\\u043d\\u043e\\u0441\\u0438\\u0442\\u044c\\u0441\\u044f\", \"\\u043e\\u0442\\u043d\\u043e\\u0441\\u0438\\u0442\\u044c\\u0441\\u044f\", \"\\u043e\\u0442\\u043d\\u043e\\u0441\\u0438\\u0442\\u044c\\u0441\\u044f\", \"\\u043e\\u0442\\u043f\\u0440\\u0430\\u0432\\u0438\\u0442\\u044c\", \"\\u043e\\u0442\\u043f\\u0440\\u0430\\u0432\\u0438\\u0442\\u044c\", \"\\u043e\\u0442\\u043f\\u0440\\u0430\\u0432\\u0438\\u0442\\u044c\", \"\\u043e\\u0442\\u043f\\u0440\\u0430\\u0432\\u0438\\u0442\\u044c\", \"\\u043e\\u0442\\u043f\\u0440\\u0430\\u0432\\u0438\\u0442\\u044c\", \"\\u043e\\u0444\\u0438\\u0433\\u0435\\u043d\\u043d\\u044b\\u0439_\\u0434\\u0435\\u043d\\u044c\", \"\\u043e\\u0447\", \"\\u043e\\u0447\", \"\\u043e\\u0447\", \"\\u043e\\u0447\", \"\\u043e\\u0447\", \"\\u043e\\u0447\\u0435\\u043d\\u044c\", \"\\u043e\\u0447\\u0435\\u043d\\u044c\", \"\\u043e\\u0447\\u0435\\u043d\\u044c\", \"\\u043e\\u0447\\u0435\\u043d\\u044c\", \"\\u043e\\u0447\\u0435\\u043d\\u044c\", \"\\u043e\\u0447\\u0435\\u043d\\u044c\", \"\\u043e\\u0447\\u0435\\u043d\\u044c_\\u043f\\u043b\\u043e\\u0445\\u043e\", \"\\u043f\\u0430\\u043b\\u0435\\u0432\\u044b\\u0439_\\u0432\\u0438\\u0434\\u0435\\u0442\\u044c\", \"\\u043f\\u0430\\u043f\\u0430\", \"\\u043f\\u0430\\u043f\\u0430\", \"\\u043f\\u0430\\u043f\\u0430\", \"\\u043f\\u0430\\u043f\\u0430\", \"\\u043f\\u0430\\u043f\\u0430\", \"\\u043f\\u0430\\u043f\\u0430\", \"\\u043f\\u0430\\u0440\\u0430\", \"\\u043f\\u0430\\u0440\\u0430\", \"\\u043f\\u0430\\u0440\\u0430\", \"\\u043f\\u0430\\u0440\\u0430\", \"\\u043f\\u0430\\u0440\\u0430\", \"\\u043f\\u0430\\u0440\\u0430\", \"\\u043f\\u0430\\u0440\\u0435\\u043d\\u044c\", \"\\u043f\\u0430\\u0440\\u0435\\u043d\\u044c\", \"\\u043f\\u0430\\u0440\\u0435\\u043d\\u044c\", \"\\u043f\\u0430\\u0440\\u0435\\u043d\\u044c\", \"\\u043f\\u0430\\u0440\\u0435\\u043d\\u044c\", \"\\u043f\\u0430\\u0440\\u0435\\u043d\\u044c\", \"\\u043f\\u0430\\u0440\\u0438\\u0442\\u044c\\u0441\\u044f\", \"\\u043f\\u0435\\u0440\\u0432\\u044b\\u0439\", \"\\u043f\\u0435\\u0440\\u0432\\u044b\\u0439\", \"\\u043f\\u0435\\u0440\\u0432\\u044b\\u0439\", \"\\u043f\\u0435\\u0440\\u0432\\u044b\\u0439\", \"\\u043f\\u0435\\u0440\\u0432\\u044b\\u0439\", \"\\u043f\\u0435\\u0440\\u0432\\u044b\\u0439\", \"\\u043f\\u0435\\u0440\\u0435\\u043f\\u0443\\u0442\\u0430\\u0442\\u044c\", \"\\u043f\\u0435\\u0441\\u043d\\u044f\", \"\\u043f\\u0435\\u0441\\u043d\\u044f\", \"\\u043f\\u0435\\u0441\\u043d\\u044f\", \"\\u043f\\u0435\\u0441\\u043d\\u044f\", \"\\u043f\\u0435\\u0441\\u043d\\u044f\", \"\\u043f\\u0435\\u0441\\u043d\\u044f\", \"\\u043f\\u0438\\u0441\\u0430\\u0442\\u044c\", \"\\u043f\\u0438\\u0441\\u0430\\u0442\\u044c\", \"\\u043f\\u0438\\u0441\\u0430\\u0442\\u044c\", \"\\u043f\\u0438\\u0441\\u0430\\u0442\\u044c\", \"\\u043f\\u0438\\u0441\\u0430\\u0442\\u044c\", \"\\u043f\\u0438\\u0441\\u0430\\u0442\\u044c\", \"\\u043f\\u0438\\u0442\\u044c\", \"\\u043f\\u0438\\u0442\\u044c\", \"\\u043f\\u0438\\u0442\\u044c\", \"\\u043f\\u043b\\u0430\\u0442\\u0438\\u0442\\u044c\", \"\\u043f\\u043b\\u043e\\u0445\\u043e\", \"\\u043f\\u043b\\u043e\\u0445\\u043e\", \"\\u043f\\u043b\\u043e\\u0445\\u043e\", \"\\u043f\\u043b\\u043e\\u0445\\u043e\", \"\\u043f\\u043b\\u043e\\u0445\\u043e\", \"\\u043f\\u043b\\u043e\\u0445\\u043e\", \"\\u043f\\u043e\\u0431\\u0435\\u0434\\u0438\\u0442\\u0435\\u043b\\u044c_\\u0436\\u0438\\u0437\\u043d\\u044c\", \"\\u043f\\u043e\\u0432\\u0435\\u0440\\u044c\", \"\\u043f\\u043e\\u0433\\u043e\\u0434\\u0430\", \"\\u043f\\u043e\\u0433\\u043e\\u0434\\u0430\", \"\\u043f\\u043e\\u0433\\u0443\\u043b\\u044f\\u0442\\u044c\", \"\\u043f\\u043e\\u0434\\u0430\\u0440\\u043e\\u043a\", \"\\u043f\\u043e\\u0434\\u0430\\u0440\\u043e\\u043a\", \"\\u043f\\u043e\\u0434\\u0430\\u0440\\u043e\\u043a\", \"\\u043f\\u043e\\u0434\\u0430\\u0440\\u043e\\u043a\", \"\\u043f\\u043e\\u0434\\u0430\\u0440\\u043e\\u043a\", \"\\u043f\\u043e\\u0434\\u0430\\u0440\\u043e\\u043a\", \"\\u043f\\u043e\\u0434\\u043d\\u044f\\u0442\\u044c_\\u043d\\u0430\\u0441\\u0442\\u0440\\u043e\\u0435\\u043d\\u0438\\u0435\", \"\\u043f\\u043e\\u0434\\u043d\\u044f\\u0442\\u044c_\\u043d\\u0430\\u0441\\u0442\\u0440\\u043e\\u0435\\u043d\\u0438\\u0435\", \"\\u043f\\u043e\\u0434\\u043d\\u044f\\u0442\\u044c_\\u043d\\u0430\\u0441\\u0442\\u0440\\u043e\\u0435\\u043d\\u0438\\u0435\", \"\\u043f\\u043e\\u0435\\u0445\\u0430\\u0442\\u044c\", \"\\u043f\\u043e\\u0435\\u0445\\u0430\\u0442\\u044c\", \"\\u043f\\u043e\\u0435\\u0445\\u0430\\u0442\\u044c\", \"\\u043f\\u043e\\u0435\\u0445\\u0430\\u0442\\u044c\", \"\\u043f\\u043e\\u0436\\u0430\\u043b\\u0443\\u0439\\u0441\\u0442\\u0430\", \"\\u043f\\u043e\\u0436\\u0430\\u043b\\u0443\\u0439\\u0441\\u0442\\u0430\", \"\\u043f\\u043e\\u0436\\u0430\\u043b\\u0443\\u0439\\u0441\\u0442\\u0430\", \"\\u043f\\u043e\\u0437\\u0434\\u0440\\u0430\\u0432\\u043b\\u044f\\u0442\\u044c\", \"\\u043f\\u043e\\u0437\\u0434\\u0440\\u0430\\u0432\\u043b\\u044f\\u0442\\u044c\", \"\\u043f\\u043e\\u0437\\u0434\\u0440\\u0430\\u0432\\u043b\\u044f\\u0442\\u044c\", \"\\u043f\\u043e\\u0437\\u0438\\u0442\\u0438\\u0432\", \"\\u043f\\u043e\\u0437\\u0438\\u0442\\u0438\\u0432\", \"\\u043f\\u043e\\u0439\\u0442\\u0438\", \"\\u043f\\u043e\\u0439\\u0442\\u0438\", \"\\u043f\\u043e\\u0439\\u0442\\u0438\", \"\\u043f\\u043e\\u0439\\u0442\\u0438\", \"\\u043f\\u043e\\u0439\\u0442\\u0438\", \"\\u043f\\u043e\\u0439\\u0442\\u0438\", \"\\u043f\\u043e\\u043a\\u0430\", \"\\u043f\\u043e\\u043a\\u0430\", \"\\u043f\\u043e\\u043a\\u0430\", \"\\u043f\\u043e\\u043a\\u0430\", \"\\u043f\\u043e\\u043a\\u0430\", \"\\u043f\\u043e\\u043a\\u0430\", \"\\u043f\\u043e\\u043a\\u0430\\u0442\\u0430\\u0442\\u044c\\u0441\\u044f\", \"\\u043f\\u043e\\u043a\\u0430\\u0442\\u0430\\u0442\\u044c\\u0441\\u044f\", \"\\u043f\\u043e\\u043b\\u043d\\u043e\\u0441\\u0442\\u044c\\u044e\", \"\\u043f\\u043e\\u043b\\u043d\\u043e\\u0441\\u0442\\u044c\\u044e\", \"\\u043f\\u043e\\u043b\\u0443\\u0447\\u0438\\u0442\\u044c\", \"\\u043f\\u043e\\u043b\\u0443\\u0447\\u0438\\u0442\\u044c\", \"\\u043f\\u043e\\u043b\\u0443\\u0447\\u0438\\u0442\\u044c\", \"\\u043f\\u043e\\u043b\\u0443\\u0447\\u0438\\u0442\\u044c\", \"\\u043f\\u043e\\u043b\\u0443\\u0447\\u0438\\u0442\\u044c\", \"\\u043f\\u043e\\u043b\\u0443\\u0447\\u0438\\u0442\\u044c\", \"\\u043f\\u043e\\u043d\\u0438\\u043c\\u0430\\u0442\\u044c\", \"\\u043f\\u043e\\u043d\\u0438\\u043c\\u0430\\u0442\\u044c\", \"\\u043f\\u043e\\u043d\\u0438\\u043c\\u0430\\u0442\\u044c\", \"\\u043f\\u043e\\u043d\\u0438\\u043c\\u0430\\u0442\\u044c\", \"\\u043f\\u043e\\u043d\\u0438\\u043c\\u0430\\u0442\\u044c\", \"\\u043f\\u043e\\u043d\\u0438\\u043c\\u0430\\u0442\\u044c\", \"\\u043f\\u043e\\u043d\\u0440\\u0430\\u0432\\u0438\\u0442\\u044c\\u0441\\u044f\", \"\\u043f\\u043e\\u043d\\u0440\\u0430\\u0432\\u0438\\u0442\\u044c\\u0441\\u044f\", \"\\u043f\\u043e\\u043d\\u0440\\u0430\\u0432\\u0438\\u0442\\u044c\\u0441\\u044f\", \"\\u043f\\u043e\\u043d\\u0440\\u0430\\u0432\\u0438\\u0442\\u044c\\u0441\\u044f\", \"\\u043f\\u043e\\u043d\\u044f\\u0442\\u044c\", \"\\u043f\\u043e\\u043d\\u044f\\u0442\\u044c\", \"\\u043f\\u043e\\u043d\\u044f\\u0442\\u044c\", \"\\u043f\\u043e\\u043d\\u044f\\u0442\\u044c\", \"\\u043f\\u043e\\u043d\\u044f\\u0442\\u044c\", \"\\u043f\\u043e\\u043d\\u044f\\u0442\\u044c\", \"\\u043f\\u043e\\u043f\\u0440\\u0430\\u0432\\u043b\\u044f\\u0442\\u044c\\u0441\\u044f\", \"\\u043f\\u043e\\u0440\\u0432\\u0430\\u0442\\u044c\", \"\\u043f\\u043e\\u0440\\u0436\\u0430\\u0442\\u044c\", \"\\u043f\\u043e\\u0440\\u0436\\u0430\\u0442\\u044c\", \"\\u043f\\u043e\\u0441\\u043b\\u0435\\u0434\\u043d\\u0438\\u0439_\\u0432\\u0440\\u0435\\u043c\\u044f\", \"\\u043f\\u043e\\u0441\\u043b\\u0435\\u0434\\u043d\\u0438\\u0439_\\u0432\\u0440\\u0435\\u043c\\u044f\", \"\\u043f\\u043e\\u0441\\u043b\\u0435\\u0434\\u043d\\u0438\\u0439_\\u0432\\u0440\\u0435\\u043c\\u044f\", \"\\u043f\\u043e\\u0441\\u043b\\u0435\\u0434\\u043d\\u0438\\u0439_\\u0441\\u0435\\u0440\\u0438\\u044f\", \"\\u043f\\u043e\\u0441\\u043b\\u0435\\u0434\\u043d\\u0438\\u0439_\\u0441\\u0435\\u0440\\u0438\\u044f\", \"\\u043f\\u043e\\u0441\\u043c\\u043e\\u0442\\u0440\\u0435\\u0442\\u044c\", \"\\u043f\\u043e\\u0441\\u043c\\u043e\\u0442\\u0440\\u0435\\u0442\\u044c\", \"\\u043f\\u043e\\u0441\\u043c\\u043e\\u0442\\u0440\\u0435\\u0442\\u044c\", \"\\u043f\\u043e\\u0441\\u043c\\u043e\\u0442\\u0440\\u0435\\u0442\\u044c\", \"\\u043f\\u043e\\u0441\\u043c\\u043e\\u0442\\u0440\\u0435\\u0442\\u044c\", \"\\u043f\\u043e\\u0441\\u043c\\u043e\\u0442\\u0440\\u0435\\u0442\\u044c\", \"\\u043f\\u043e\\u0441\\u0442\", \"\\u043f\\u043e\\u0441\\u0442\", \"\\u043f\\u043e\\u0441\\u0442\", \"\\u043f\\u043e\\u0441\\u0442\\u0443\\u043f\\u0430\\u0442\\u044c\", \"\\u043f\\u043e\\u0447\\u0435\\u043c\\u0443\", \"\\u043f\\u043e\\u0447\\u0435\\u043c\\u0443\", \"\\u043f\\u043e\\u0447\\u0435\\u043c\\u0443\", \"\\u043f\\u043e\\u0447\\u0435\\u043c\\u0443\", \"\\u043f\\u043e\\u0447\\u0435\\u043c\\u0443\", \"\\u043f\\u043e\\u0447\\u0435\\u043c\\u0443\", \"\\u043f\\u043e\\u044d\\u0442\\u043e\\u043c\\u0443\", \"\\u043f\\u043e\\u044d\\u0442\\u043e\\u043c\\u0443\", \"\\u043f\\u043e\\u044d\\u0442\\u043e\\u043c\\u0443\", \"\\u043f\\u043e\\u044d\\u0442\\u043e\\u043c\\u0443\", \"\\u043f\\u043e\\u044d\\u0442\\u043e\\u043c\\u0443\", \"\\u043f\\u0440\\u0430\\u0432\\u0434\\u0430\", \"\\u043f\\u0440\\u0430\\u0432\\u0434\\u0430\", \"\\u043f\\u0440\\u0430\\u0432\\u0434\\u0430\", \"\\u043f\\u0440\\u0430\\u0432\\u043e\", \"\\u043f\\u0440\\u0430\\u0432\\u043e\", \"\\u043f\\u0440\\u0430\\u0432\\u043e\", \"\\u043f\\u0440\\u0430\\u0432\\u043e\", \"\\u043f\\u0440\\u0430\\u0432\\u043e\", \"\\u043f\\u0440\\u0430\\u0432\\u044b\\u0439\", \"\\u043f\\u0440\\u0435\\u0434\\u043b\\u043e\\u0436\\u0435\\u043d\\u0438\\u0435\", \"\\u043f\\u0440\\u0435\\u0434\\u043b\\u043e\\u0436\\u0435\\u043d\\u0438\\u0435\", \"\\u043f\\u0440\\u0435\\u0434\\u043d\\u043e\\u0432\\u043e\\u0433\\u043e\\u0434\\u043d\\u0438\\u0435\\u043e\\u0431\\u043d\\u0438\\u043c\\u0430\\u0448\\u043a\\u0430\", \"\\u043f\\u0440\\u0435\\u0434\\u043d\\u043e\\u0432\\u043e\\u0433\\u043e\\u0434\\u043d\\u0438\\u0435\\u043e\\u0431\\u043d\\u0438\\u043c\\u0430\\u0448\\u043a\\u0430\", \"\\u043f\\u0440\\u0438\\u0432\\u0435\\u0442\", \"\\u043f\\u0440\\u0438\\u0432\\u0435\\u0442\", \"\\u043f\\u0440\\u0438\\u0432\\u0435\\u0442\", \"\\u043f\\u0440\\u0438\\u0432\\u0435\\u0442\", \"\\u043f\\u0440\\u0438\\u0432\\u0435\\u0442\", \"\\u043f\\u0440\\u0438\\u0432\\u0435\\u0442\\u0438\\u043a\", \"\\u043f\\u0440\\u0438\\u0435\\u0445\\u0430\\u0442\\u044c\", \"\\u043f\\u0440\\u0438\\u0435\\u0445\\u0430\\u0442\\u044c\", \"\\u043f\\u0440\\u0438\\u0435\\u0445\\u0430\\u0442\\u044c\", \"\\u043f\\u0440\\u0438\\u0439\\u0442\\u0438\", \"\\u043f\\u0440\\u0438\\u0439\\u0442\\u0438\", \"\\u043f\\u0440\\u0438\\u0439\\u0442\\u0438\", \"\\u043f\\u0440\\u0438\\u0439\\u0442\\u0438\", \"\\u043f\\u0440\\u0438\\u0439\\u0442\\u0438\", \"\\u043f\\u0440\\u0438\\u0439\\u0442\\u0438\", \"\\u043f\\u0440\\u0438\\u043a\\u043e\\u043b\\u044c\\u043d\\u044b\\u0439\", \"\\u043f\\u0440\\u0438\\u043a\\u043e\\u043b\\u044c\\u043d\\u044b\\u0439\", \"\\u043f\\u0440\\u0438\\u0441\\u043d\\u0438\\u0442\\u044c\\u0441\\u044f\", \"\\u043f\\u0440\\u0438\\u0441\\u043d\\u0438\\u0442\\u044c\\u0441\\u044f\", \"\\u043f\\u0440\\u043e\\u0431\\u043a\\u0430\", \"\\u043f\\u0440\\u043e\\u0431\\u043a\\u0430\", \"\\u043f\\u0440\\u043e\\u0431\\u043b\\u0435\\u043c\\u0430\", \"\\u043f\\u0440\\u043e\\u0431\\u043b\\u0435\\u043c\\u0430\", \"\\u043f\\u0440\\u043e\\u0431\\u043b\\u0435\\u043c\\u0430\", \"\\u043f\\u0440\\u043e\\u0431\\u043b\\u0435\\u043c\\u0430\", \"\\u043f\\u0440\\u043e\\u0431\\u043b\\u0435\\u043c\\u0430\", \"\\u043f\\u0440\\u043e\\u0431\\u043b\\u0435\\u043c\\u0430\", \"\\u043f\\u0440\\u043e\\u0434\\u0430\\u0432\\u0430\\u0442\\u044c\", \"\\u043f\\u0440\\u043e\\u0434\\u0430\\u0432\\u0430\\u0442\\u044c\", \"\\u043f\\u0440\\u043e\\u0434\\u0430\\u0432\\u0430\\u0442\\u044c\", \"\\u043f\\u0440\\u043e\\u0434\\u0430\\u0432\\u0430\\u0442\\u044c\", \"\\u043f\\u0440\\u043e\\u0434\\u0430\\u0432\\u0430\\u0442\\u044c\", \"\\u043f\\u0440\\u043e\\u0435\\u0431\\u0430\\u043b\", \"\\u043f\\u0440\\u043e\\u0438\\u0433\\u0440\\u0430\\u0442\\u044c\", \"\\u043f\\u0440\\u043e\\u0438\\u0433\\u0440\\u0430\\u0442\\u044c\", \"\\u043f\\u0440\\u043e\\u0439\\u0442\\u0438\", \"\\u043f\\u0440\\u043e\\u0439\\u0442\\u0438\", \"\\u043f\\u0440\\u043e\\u0439\\u0442\\u0438\", \"\\u043f\\u0440\\u043e\\u0439\\u0442\\u0438\", \"\\u043f\\u0440\\u043e\\u0439\\u0442\\u0438\", \"\\u043f\\u0440\\u043e\\u0439\\u0442\\u0438\", \"\\u043f\\u0440\\u043e\\u0441\\u043d\\u0443\\u0442\\u044c\\u0441\\u044f\", \"\\u043f\\u0440\\u043e\\u0441\\u043d\\u0443\\u0442\\u044c\\u0441\\u044f\", \"\\u043f\\u0440\\u043e\\u0441\\u043d\\u0443\\u0442\\u044c\\u0441\\u044f\", \"\\u043f\\u0440\\u043e\\u0441\\u043d\\u0443\\u0442\\u044c\\u0441\\u044f\", \"\\u043f\\u0440\\u043e\\u0441\\u0442\\u043e\", \"\\u043f\\u0440\\u043e\\u0441\\u0442\\u043e\", \"\\u043f\\u0440\\u043e\\u0441\\u0442\\u043e\", \"\\u043f\\u0440\\u043e\\u0441\\u0442\\u043e\", \"\\u043f\\u0440\\u043e\\u0441\\u0442\\u043e\", \"\\u043f\\u0440\\u043e\\u0441\\u0442\\u043e\", \"\\u043f\\u0440\\u043e\\u0441\\u044b\\u043f\\u0430\\u0442\\u044c\\u0441\\u044f\", \"\\u043f\\u0440\\u043e\\u0441\\u044b\\u043f\\u0430\\u0442\\u044c\\u0441\\u044f\", \"\\u043f\\u0440\\u043e\\u0447\\u0435\\u0441\\u0442\\u044c\", \"\\u043f\\u0440\\u043e\\u0447\\u0435\\u0441\\u0442\\u044c\", \"\\u043f\\u0440\\u043e\\u0447\\u0438\\u0442\\u0430\\u0442\\u044c\", \"\\u043f\\u0440\\u043e\\u0447\\u0438\\u0442\\u0430\\u0442\\u044c\", \"\\u043f\\u0440\\u043e\\u0447\\u0438\\u0442\\u0430\\u0442\\u044c\", \"\\u043f\\u0440\\u043e\\u0447\\u0438\\u0442\\u0430\\u0442\\u044c\", \"\\u043f\\u0440\\u043e\\u0447\\u0438\\u0442\\u0430\\u0442\\u044c\", \"\\u043f\\u0440\\u043e\\u0447\\u0438\\u0442\\u0430\\u0442\\u044c\", \"\\u0440\\u0430\\u0431\\u043e\\u0442\\u0430\", \"\\u0440\\u0430\\u0431\\u043e\\u0442\\u0430\", \"\\u0440\\u0430\\u0431\\u043e\\u0442\\u0430\", \"\\u0440\\u0430\\u0431\\u043e\\u0442\\u0430\", \"\\u0440\\u0430\\u0431\\u043e\\u0442\\u0430\", \"\\u0440\\u0430\\u0431\\u043e\\u0442\\u0430\", \"\\u0440\\u0430\\u0431\\u043e\\u0442\\u0430\\u0442\\u044c\", \"\\u0440\\u0430\\u0431\\u043e\\u0442\\u0430\\u0442\\u044c\", \"\\u0440\\u0430\\u0431\\u043e\\u0442\\u0430\\u0442\\u044c\", \"\\u0440\\u0430\\u0431\\u043e\\u0442\\u0430\\u0442\\u044c\", \"\\u0440\\u0430\\u0431\\u043e\\u0442\\u0430\\u0442\\u044c\", \"\\u0440\\u0430\\u0431\\u043e\\u0442\\u0430\\u0442\\u044c\", \"\\u0440\\u0430\\u0437\\u0431\\u043b\\u043e\\u043a\\u0438\\u0440\\u043e\\u0432\\u0430\\u0442\\u044c_\\u0442\\u0435\\u043b\\u0435\\u0444\\u043e\\u043d\", \"\\u0440\\u0430\\u043a\\u0430\\u0442\\u044c_\\u043e\\u0447\\u0435\\u043d\\u044c\", \"\\u0440\\u0430\\u043d\\u0430\", \"\\u0440\\u0430\\u043d\\u043d\\u0438\\u0439\", \"\\u0440\\u0430\\u043d\\u043d\\u0438\\u0439\", \"\\u0440\\u0430\\u043d\\u043d\\u0438\\u0439\", \"\\u0440\\u0430\\u043d\\u043d\\u0438\\u0439\", \"\\u0440\\u0430\\u043d\\u043d\\u0438\\u0439\", \"\\u0440\\u0430\\u043d\\u043d\\u0438\\u0439\", \"\\u0440\\u0435\\u0432\\u043d\\u043e\\u0432\\u0430\\u0442\\u044c\", \"\\u0440\\u0435\\u0442\\u0432\\u0438\\u0442\", \"\\u0440\\u0435\\u0442\\u0432\\u0438\\u0442\", \"\\u0440\\u0435\\u0448\\u0430\\u0442\\u044c\", \"\\u0440\\u0435\\u0448\\u0430\\u0442\\u044c\", \"\\u0440\\u0436\\u0430\", \"\\u0440\\u0436\\u0430\", \"\\u0440\\u043e\\u0441\\u0442\", \"\\u0440\\u0443\\u0441\\u0441\\u043a\\u0438\\u0439\", \"\\u0440\\u0443\\u0441\\u0441\\u043a\\u0438\\u0439\", \"\\u0440\\u0443\\u0441\\u0441\\u043a\\u0438\\u0439\", \"\\u0440\\u0443\\u0441\\u0441\\u043a\\u0438\\u0439\", \"\\u0441\\u0430\\u043c\\u044b\\u0439\", \"\\u0441\\u0430\\u043c\\u044b\\u0439\", \"\\u0441\\u0430\\u043c\\u044b\\u0439\", \"\\u0441\\u0430\\u043c\\u044b\\u0439\", \"\\u0441\\u0430\\u043c\\u044b\\u0439\", \"\\u0441\\u0430\\u043c\\u044b\\u0439\", \"\\u0441\\u0430\\u043c\\u044b\\u0439_\\u0445\\u043e\\u0440\\u043e\\u0448\\u0438\\u0439\", \"\\u0441\\u0430\\u043c\\u044b\\u0439_\\u0445\\u043e\\u0440\\u043e\\u0448\\u0438\\u0439\", \"\\u0441\\u0430\\u043c\\u044b\\u0439_\\u0445\\u043e\\u0440\\u043e\\u0448\\u0438\\u0439\", \"\\u0441\\u0430\\u043c\\u044b\\u0439_\\u0445\\u043e\\u0440\\u043e\\u0448\\u0438\\u0439\", \"\\u0441\\u0430\\u043c\\u044b\\u0439_\\u0445\\u043e\\u0440\\u043e\\u0448\\u0438\\u0439\", \"\\u0441\\u0434\\u0430\\u0442\\u044c\", \"\\u0441\\u0434\\u0430\\u0442\\u044c\", \"\\u0441\\u0434\\u0430\\u0442\\u044c\", \"\\u0441\\u0434\\u0435\\u043b\\u0430\\u0442\\u044c\", \"\\u0441\\u0434\\u0435\\u043b\\u0430\\u0442\\u044c\", \"\\u0441\\u0434\\u0435\\u043b\\u0430\\u0442\\u044c\", \"\\u0441\\u0434\\u0435\\u043b\\u0430\\u0442\\u044c\", \"\\u0441\\u0434\\u0435\\u043b\\u0430\\u0442\\u044c\", \"\\u0441\\u0434\\u0435\\u043b\\u0430\\u0442\\u044c\", \"\\u0441\\u0435\\u0433\\u043e\\u0434\\u043d\\u044f\", \"\\u0441\\u0435\\u0433\\u043e\\u0434\\u043d\\u044f\", \"\\u0441\\u0435\\u0433\\u043e\\u0434\\u043d\\u044f\", \"\\u0441\\u0435\\u0433\\u043e\\u0434\\u043d\\u044f\", \"\\u0441\\u0435\\u0433\\u043e\\u0434\\u043d\\u044f\", \"\\u0441\\u0435\\u0433\\u043e\\u0434\\u043d\\u044f\", \"\\u0441\\u0435\\u0440\\u0438\\u044f\", \"\\u0441\\u0435\\u0440\\u0438\\u044f\", \"\\u0441\\u0435\\u0440\\u0438\\u044f\", \"\\u0441\\u0435\\u0440\\u0438\\u044f\", \"\\u0441\\u0435\\u0440\\u0438\\u044f\", \"\\u0441\\u0435\\u0441\\u0441\\u0438\\u044f\", \"\\u0441\\u0435\\u0441\\u0441\\u0438\\u044f\", \"\\u0441\\u0435\\u0441\\u0441\\u0438\\u044f\", \"\\u0441\\u0435\\u0441\\u0441\\u0438\\u044f\", \"\\u0441\\u0438\\u0434\\u0435\\u0442\\u044c\", \"\\u0441\\u0438\\u0434\\u0435\\u0442\\u044c\", \"\\u0441\\u0438\\u0434\\u0435\\u0442\\u044c\", \"\\u0441\\u0438\\u0434\\u0435\\u0442\\u044c\", \"\\u0441\\u0438\\u0434\\u0435\\u0442\\u044c\", \"\\u0441\\u043a\\u0430\\u0437\\u0430\\u0442\\u044c\", \"\\u0441\\u043a\\u0430\\u0437\\u0430\\u0442\\u044c\", \"\\u0441\\u043a\\u0430\\u0437\\u0430\\u0442\\u044c\", \"\\u0441\\u043a\\u0430\\u0437\\u0430\\u0442\\u044c\", \"\\u0441\\u043a\\u0430\\u0437\\u0430\\u0442\\u044c\", \"\\u0441\\u043a\\u0430\\u0437\\u0430\\u0442\\u044c\", \"\\u0441\\u043a\\u0438\\u043d\\u0443\\u0442\\u044c\", \"\\u0441\\u043a\\u0438\\u043d\\u0443\\u0442\\u044c\", \"\\u0441\\u043a\\u0438\\u043d\\u0443\\u0442\\u044c\", \"\\u0441\\u043a\\u043e\\u043b\\u044c\\u043a\\u043e\", \"\\u0441\\u043a\\u043e\\u043b\\u044c\\u043a\\u043e\", \"\\u0441\\u043a\\u043e\\u043b\\u044c\\u043a\\u043e\", \"\\u0441\\u043a\\u043e\\u043b\\u044c\\u043a\\u043e\", \"\\u0441\\u043a\\u0443\\u0447\\u0430\\u0442\\u044c\", \"\\u0441\\u043a\\u0443\\u0447\\u0430\\u0442\\u044c\", \"\\u0441\\u043a\\u0443\\u0447\\u0430\\u0442\\u044c\", \"\\u0441\\u043a\\u0443\\u0447\\u0430\\u0442\\u044c\", \"\\u0441\\u043b\\u0430\\u0434\\u043a\\u0438\\u0439\", \"\\u0441\\u043b\\u0430\\u0434\\u043a\\u0438\\u0439\", \"\\u0441\\u043b\\u0430\\u0434\\u043a\\u0438\\u0439_\\u0441\\u043e\\u043d\", \"\\u0441\\u043b\\u0430\\u0434\\u043a\\u0438\\u0439_\\u0441\\u043e\\u043d\", \"\\u0441\\u043b\\u043e\\u0432\\u043e\", \"\\u0441\\u043b\\u043e\\u0432\\u043e\", \"\\u0441\\u043b\\u043e\\u0432\\u043e\", \"\\u0441\\u043b\\u043e\\u0432\\u043e\", \"\\u0441\\u043b\\u043e\\u0432\\u043e\", \"\\u0441\\u043b\\u043e\\u0432\\u043e\", \"\\u0441\\u043b\\u043e\\u0436\\u043d\\u044b\\u0439\", \"\\u0441\\u043b\\u043e\\u0436\\u043d\\u044b\\u0439\", \"\\u0441\\u043b\\u0443\\u0448\\u0430\\u0442\\u044c\", \"\\u0441\\u043b\\u0443\\u0448\\u0430\\u0442\\u044c\", \"\\u0441\\u043b\\u0443\\u0448\\u0430\\u0442\\u044c\", \"\\u0441\\u043b\\u0443\\u0448\\u0430\\u0442\\u044c\", \"\\u0441\\u043b\\u0443\\u0448\\u0430\\u0442\\u044c\", \"\\u0441\\u043c\\u0435\\u044f\\u0442\\u044c\\u0441\\u044f\", \"\\u0441\\u043c\\u0435\\u044f\\u0442\\u044c\\u0441\\u044f\", \"\\u0441\\u043c\\u0435\\u044f\\u0442\\u044c\\u0441\\u044f\", \"\\u0441\\u043c\\u0435\\u044f\\u0442\\u044c\\u0441\\u044f\", \"\\u0441\\u043c\\u043e\\u0442\\u0440\\u0435\\u0442\\u044c\", \"\\u0441\\u043c\\u043e\\u0442\\u0440\\u0435\\u0442\\u044c\", \"\\u0441\\u043c\\u043e\\u0442\\u0440\\u0435\\u0442\\u044c\", \"\\u0441\\u043c\\u043e\\u0442\\u0440\\u0435\\u0442\\u044c\", \"\\u0441\\u043c\\u043e\\u0442\\u0440\\u0435\\u0442\\u044c\", \"\\u0441\\u043c\\u043e\\u0442\\u0440\\u0435\\u0442\\u044c\", \"\\u0441\\u043d\\u0430\\u0441\\u0442\\u0443\\u043f\\u0430\\u044e\\u0449\\u0438\\u043c\\u0442\\u0432\\u0438\\u0442\\u0442\\u0435\\u0440\\u0441\\u043a\\u0438\\u0439\", \"\\u0441\\u043d\\u0435\\u0433\", \"\\u0441\\u043d\\u0435\\u0433\", \"\\u0441\\u043d\\u0435\\u0436\\u043d\\u044b\\u0439\", \"\\u0441\\u043d\\u0435\\u0436\\u043e\\u043a\", \"\\u0441\\u043d\\u0435\\u0436\\u043e\\u043a\", \"\\u0441\\u043d\\u0435\\u0436\\u043e\\u043a\", \"\\u0441\\u043d\\u0438\\u0442\\u044c\\u0441\\u044f\", \"\\u0441\\u043d\\u0438\\u0442\\u044c\\u0441\\u044f\", \"\\u0441\\u043e\\u043d\", \"\\u0441\\u043e\\u043d\", \"\\u0441\\u043e\\u043d\", \"\\u0441\\u043e\\u043d\", \"\\u0441\\u043e\\u043d\", \"\\u0441\\u043e\\u0441\\u043a\\u0443\\u0447\\u0438\\u0442\\u044c\\u0441\\u044f\", \"\\u0441\\u043e\\u0441\\u043a\\u0443\\u0447\\u0438\\u0442\\u044c\\u0441\\u044f\", \"\\u0441\\u043e\\u0441\\u043a\\u0443\\u0447\\u0438\\u0442\\u044c\\u0441\\u044f\", \"\\u0441\\u043e\\u0447\\u0438\\u043d\\u0435\\u043d\\u0438\\u0435\", \"\\u0441\\u043f\\u0430\\u0441\\u0438\\u0431\\u043e\", \"\\u0441\\u043f\\u0430\\u0441\\u0438\\u0431\\u043e\", \"\\u0441\\u043f\\u0430\\u0441\\u0438\\u0431\\u043e\", \"\\u0441\\u043f\\u0430\\u0441\\u0438\\u0431\\u043e\", \"\\u0441\\u043f\\u0430\\u0441\\u0438\\u0431\\u043e\", \"\\u0441\\u043f\\u0430\\u0441\\u0438\\u0431\\u043e\", \"\\u0441\\u043f\\u0430\\u0441\\u0438\\u0431\\u043e_\\u0431\\u043e\\u043b\\u044c\\u0448\\u043e\\u0439\", \"\\u0441\\u043f\\u0430\\u0442\\u044c\", \"\\u0441\\u043f\\u0430\\u0442\\u044c\", \"\\u0441\\u043f\\u0430\\u0442\\u044c\", \"\\u0441\\u043f\\u0430\\u0442\\u044c\", \"\\u0441\\u043f\\u0430\\u0442\\u044c\", \"\\u0441\\u043f\\u043e\\u043a\\u043e\\u0439\\u043d\\u044b\\u0439_\\u043d\\u043e\\u0447\\u044c\", \"\\u0441\\u043f\\u043e\\u043a\\u043e\\u0439\\u043d\\u044b\\u0439_\\u043d\\u043e\\u0447\\u044c\", \"\\u0441\\u043f\\u043e\\u0440\\u0438\\u0442\\u044c\", \"\\u0441\\u043f\\u0440\\u0430\\u0448\\u0438\\u0432\\u0430\\u0442\\u044c\", \"\\u0441\\u043f\\u0440\\u0430\\u0448\\u0438\\u0432\\u0430\\u0442\\u044c\", \"\\u0441\\u043f\\u0440\\u0430\\u0448\\u0438\\u0432\\u0430\\u0442\\u044c\", \"\\u0441\\u0442\\u0430\\u0440\\u044b\\u0439\", \"\\u0441\\u0442\\u0430\\u0440\\u044b\\u0439\", \"\\u0441\\u0442\\u0430\\u0440\\u044b\\u0439\", \"\\u0441\\u0442\\u043e\\u043b\\u044c\\u043a\\u043e\", \"\\u0441\\u0442\\u043e\\u043b\\u044c\\u043a\\u043e\", \"\\u0441\\u0442\\u043e\\u043b\\u044c\\u043a\\u043e\", \"\\u0441\\u0442\\u043e\\u043b\\u044c\\u043a\\u043e\", \"\\u0441\\u0442\\u043e\\u043b\\u044c\\u043a\\u043e\", \"\\u0441\\u0442\\u043e\\u043b\\u044c\\u043a\\u043e\", \"\\u0441\\u0442\\u0440\\u0430\\u0448\\u043d\\u044b\\u0439\", \"\\u0441\\u0442\\u0440\\u0430\\u0448\\u043d\\u044b\\u0439\", \"\\u0441\\u0442\\u0440\\u0430\\u0448\\u043d\\u044b\\u0439\", \"\\u0441\\u0443\\u0433\\u0440\\u043e\\u0431\", \"\\u0441\\u0443\\u0442\\u043a\\u0438\", \"\\u0441\\u0443\\u0442\\u043a\\u0438\", \"\\u0441\\u0443\\u0442\\u043a\\u0438\", \"\\u0441\\u0447\\u0430\\u0441\\u0442\\u0438\\u0435\", \"\\u0441\\u0447\\u0430\\u0441\\u0442\\u0438\\u0435\", \"\\u0441\\u0447\\u0430\\u0441\\u0442\\u0438\\u0435\", \"\\u0441\\u0447\\u0430\\u0441\\u0442\\u0438\\u0435\", \"\\u0441\\u0447\\u0430\\u0441\\u0442\\u0438\\u0435\", \"\\u0441\\u0447\\u0430\\u0441\\u0442\\u0438\\u0435\", \"\\u0441\\u0447\\u0430\\u0441\\u0442\\u043b\\u0438\\u0432\\u044b\\u0439\", \"\\u0441\\u0447\\u0430\\u0441\\u0442\\u043b\\u0438\\u0432\\u044b\\u0439\", \"\\u0441\\u0447\\u0430\\u0441\\u0442\\u043b\\u0438\\u0432\\u044b\\u0439\", \"\\u0441\\u0447\\u0430\\u0441\\u0442\\u043b\\u0438\\u0432\\u044b\\u0439\", \"\\u0441\\u0447\\u0430\\u0441\\u0442\\u043b\\u0438\\u0432\\u044b\\u0439\", \"\\u0441\\u0447\\u0430\\u0441\\u0442\\u043b\\u0438\\u0432\\u044b\\u0439\", \"\\u0441\\u044e\\u0436\\u0435\\u0442\", \"\\u0442\\u0430\\u043d\\u0435\\u0446_\\u043e\\u0444\\u0438\\u0433\\u0435\\u043d\\u043d\\u044b\\u0439\", \"\\u0442\\u0432\\u0438\\u0442\", \"\\u0442\\u0432\\u0438\\u0442\", \"\\u0442\\u0432\\u0438\\u0442\", \"\\u0442\\u0432\\u0438\\u0442\", \"\\u0442\\u0432\\u0438\\u0442\", \"\\u0442\\u0432\\u0438\\u0442\", \"\\u0442\\u0432\\u043e\\u0439\", \"\\u0442\\u0432\\u043e\\u0439\", \"\\u0442\\u0432\\u043e\\u0439\", \"\\u0442\\u0432\\u043e\\u0439\", \"\\u0442\\u0432\\u043e\\u0439\", \"\\u0442\\u0432\\u043e\\u0439\", \"\\u0442\\u0435\\u0433\", \"\\u0442\\u0435\\u0433\", \"\\u0442\\u0435\\u043b\\u0435\\u0444\\u043e\\u043d\", \"\\u0442\\u0435\\u043b\\u0435\\u0444\\u043e\\u043d\", \"\\u0442\\u0435\\u043b\\u0435\\u0444\\u043e\\u043d\", \"\\u0442\\u0435\\u043b\\u0435\\u0444\\u043e\\u043d\", \"\\u0442\\u0435\\u043b\\u0435\\u0444\\u043e\\u043d\", \"\\u0442\\u0435\\u043b\\u0435\\u0444\\u043e\\u043d\", \"\\u0442\\u0435\\u0442\\u0440\\u0430\\u0434\\u044c\", \"\\u0442\\u043e\\u043b\\u0441\\u0442\\u043e\\u0439\", \"\\u0442\\u0440\\u0430\\u0434\\u0438\\u0446\\u0438\\u044f\", \"\\u0442\\u0440\\u0430\\u0434\\u0438\\u0446\\u0438\\u044f\", \"\\u0442\\u0440\\u0430\\u0434\\u0438\\u0446\\u0438\\u044f\", \"\\u0442\\u0440\\u0435\\u0439\\u043b\\u0435\\u0440_\\u0438\\u0432\\u0430\\u043d\", \"\\u0442\\u0440\\u0443\\u0441\", \"\\u0442\\u0443\\u043f\\u0438\\u0442\\u044c\", \"\\u0442\\u0443\\u043f\\u0438\\u0442\\u044c\", \"\\u0443\\u0431\\u0438\\u0442\\u044c\", \"\\u0443\\u0431\\u0438\\u0442\\u044c\", \"\\u0443\\u0431\\u0438\\u0442\\u044c\", \"\\u0443\\u0434\\u0430\\u043b\\u0438\\u0442\\u044c\", \"\\u0443\\u0434\\u0430\\u043b\\u0438\\u0442\\u044c\", \"\\u0443\\u0434\\u0430\\u0447\\u0430\", \"\\u0443\\u0434\\u0430\\u0447\\u0430\", \"\\u0443\\u0434\\u0430\\u0447\\u0430\", \"\\u0443\\u0434\\u0438\\u0432\\u043b\\u044f\\u0442\\u044c\\u0441\\u044f\", \"\\u0443\\u0435\\u0437\\u0436\\u0430\\u0442\\u044c\", \"\\u0443\\u0435\\u0437\\u0436\\u0430\\u0442\\u044c\", \"\\u0443\\u0435\\u0437\\u0436\\u0430\\u0442\\u044c\", \"\\u0443\\u0435\\u0437\\u0436\\u0430\\u0442\\u044c\", \"\\u0443\\u0435\\u0445\\u0430\\u0442\\u044c\", \"\\u0443\\u0435\\u0445\\u0430\\u0442\\u044c\", \"\\u0443\\u0435\\u0445\\u0430\\u0442\\u044c\", \"\\u0443\\u0435\\u0445\\u0430\\u0442\\u044c\", \"\\u0443\\u0435\\u0445\\u0430\\u0442\\u044c\", \"\\u0443\\u0435\\u0445\\u0430\\u0442\\u044c\", \"\\u0443\\u043a\\u0440\\u0430\\u0441\\u0438\\u0442\\u044c_\\u0451\\u043b\\u043a\\u0430\", \"\\u0443\\u043b\\u0438\\u0446\\u0430\", \"\\u0443\\u043b\\u0438\\u0446\\u0430\", \"\\u0443\\u043b\\u044b\\u0431\\u043a\\u0430\", \"\\u0443\\u043b\\u044b\\u0431\\u043a\\u0430\", \"\\u0443\\u043b\\u044b\\u0431\\u043a\\u0430\", \"\\u0443\\u043b\\u044b\\u0431\\u043d\\u0443\\u0442\\u044c\", \"\\u0443\\u0440\\u043e\\u043a\", \"\\u0443\\u0440\\u043e\\u043a\", \"\\u0443\\u0440\\u043e\\u043a\", \"\\u0443\\u0440\\u043e\\u043a\", \"\\u0443\\u0441\\u043d\\u0443\\u0442\\u044c\", \"\\u0443\\u0441\\u043d\\u0443\\u0442\\u044c\", \"\\u0443\\u0441\\u043f\\u0435\\u0445\", \"\\u0443\\u0441\\u043f\\u0435\\u0445\", \"\\u0443\\u0442\\u0440\\u043e\", \"\\u0443\\u0442\\u0440\\u043e\", \"\\u0443\\u0442\\u0440\\u043e\", \"\\u0443\\u0442\\u0440\\u043e\", \"\\u0443\\u0442\\u0440\\u043e_\\u0434\\u043e\\u0431\\u0440\\u044b\\u0439\", \"\\u0443\\u0443\", \"\\u0443\\u0447\\u0435\\u0431\\u043d\\u0438\\u043a\", \"\\u0443\\u0447\\u0438\\u043b\\u043a\\u0430\", \"\\u0443\\u0447\\u0438\\u0442\\u044c\", \"\\u0443\\u0447\\u0438\\u0442\\u044c\", \"\\u0443\\u0447\\u0438\\u0442\\u044c\", \"\\u0443\\u0447\\u0438\\u0442\\u044c\\u0441\\u044f\", \"\\u0443\\u0447\\u0438\\u0442\\u044c\\u0441\\u044f\", \"\\u0443\\u0447\\u0438\\u0442\\u044c\\u0441\\u044f\", \"\\u0443\\u0447\\u0438\\u0442\\u044c\\u0441\\u044f\", \"\\u0443\\u0447\\u0438\\u0442\\u044c\\u0441\\u044f\", \"\\u0444\\u0438\\u0433\\u043d\\u044f\", \"\\u0444\\u0438\\u0433\\u043d\\u044f\", \"\\u0444\\u0438\\u0433\\u043d\\u044f\", \"\\u0444\\u0438\\u0437\\u0438\\u043a\\u0430\", \"\\u0444\\u0438\\u0437\\u0438\\u043a\\u0430\", \"\\u0444\\u0438\\u0437\\u0438\\u043a\\u0430\", \"\\u0444\\u0438\\u0437\\u0438\\u043a\\u0430\", \"\\u0444\\u043b\\u0435\\u0448\\u043a\\u0430\", \"\\u0444\\u043e\\u0442\\u043a\\u0430\", \"\\u0444\\u043e\\u0442\\u043a\\u0430\", \"\\u0444\\u043e\\u0442\\u043a\\u0430\", \"\\u0444\\u043e\\u0442\\u043a\\u0430\", \"\\u0444\\u043e\\u0442\\u043a\\u0430\", \"\\u0445\\u0430\", \"\\u0445\\u0430\\u0445\", \"\\u0445\\u0430\\u0445\", \"\\u0445\\u0430\\u0445\", \"\\u0445\\u0430\\u0445\", \"\\u0445\\u0430\\u0445\", \"\\u0445\\u0430\\u0445\", \"\\u0445\\u0438\\u043c\\u0438\\u044f\", \"\\u0445\\u0438\\u043c\\u0438\\u044f\", \"\\u0445\\u0438\\u043c\\u0438\\u044f\", \"\\u0445\\u0438\\u043c\\u0438\\u044f\", \"\\u0445\\u0438\\u043c\\u0438\\u044f\", \"\\u0445\\u0438\\u043c\\u0438\\u044f\", \"\\u0445\\u043e\\u0434\\u0438\\u0442\\u044c\", \"\\u0445\\u043e\\u0434\\u0438\\u0442\\u044c\", \"\\u0445\\u043e\\u0434\\u0438\\u0442\\u044c\", \"\\u0445\\u043e\\u0434\\u0438\\u0442\\u044c\", \"\\u0445\\u043e\\u0434\\u0438\\u0442\\u044c\", \"\\u0445\\u043e\\u0434\\u0438\\u0442\\u044c\", \"\\u0445\\u043e\\u043b\\u043e\\u0434\\u043d\\u043e\", \"\\u0445\\u043e\\u043b\\u043e\\u0434\\u043d\\u043e\", \"\\u0445\\u043e\\u043b\\u043e\\u0434\\u043d\\u043e\", \"\\u0445\\u043e\\u0440\\u043e\\u0448\\u0438\\u0439\", \"\\u0445\\u043e\\u0440\\u043e\\u0448\\u0438\\u0439\", \"\\u0445\\u043e\\u0440\\u043e\\u0448\\u0438\\u0439\", \"\\u0445\\u043e\\u0440\\u043e\\u0448\\u0438\\u0439\", \"\\u0445\\u043e\\u0440\\u043e\\u0448\\u0438\\u0439\", \"\\u0445\\u043e\\u0440\\u043e\\u0448\\u0438\\u0439\", \"\\u0445\\u043e\\u0442\\u0435\\u0442\\u044c\", \"\\u0445\\u043e\\u0442\\u0435\\u0442\\u044c\", \"\\u0445\\u043e\\u0442\\u0435\\u0442\\u044c\", \"\\u0445\\u043e\\u0442\\u0435\\u0442\\u044c\", \"\\u0445\\u043e\\u0442\\u0435\\u0442\\u044c\", \"\\u0445\\u043e\\u0442\\u0435\\u0442\\u044c\", \"\\u0445\\u043e\\u0442\\u0435\\u0442\\u044c\\u0441\\u044f\", \"\\u0445\\u043e\\u0442\\u0435\\u0442\\u044c\\u0441\\u044f\", \"\\u0445\\u043e\\u0442\\u0435\\u0442\\u044c\\u0441\\u044f\", \"\\u0445\\u043e\\u0447\\u0443\\u043f\\u0440\\u043e\\u0432\\u0435\\u0441\\u0442\\u0438\\u043d\\u043e\\u0432\\u043e\\u0433\\u043e\\u0434\\u043d\\u044e\\u044e\\u043d\\u043e\\u0447\\u044c\\u0432\\u043c\\u0435\\u0441\\u0442\\u0451\\u0441\", \"\\u0445\\u043e\\u0447\\u0443\\u043f\\u0440\\u043e\\u0432\\u0435\\u0441\\u0442\\u0438\\u043d\\u043e\\u0432\\u043e\\u0433\\u043e\\u0434\\u043d\\u044e\\u044e\\u043d\\u043e\\u0447\\u044c\\u0432\\u043c\\u0435\\u0441\\u0442\\u0451\\u0441\", \"\\u0446\\u0435\\u043b\\u044b\\u0439_\\u0434\\u0435\\u043d\\u044c\", \"\\u0446\\u0435\\u043b\\u044b\\u0439_\\u0434\\u0435\\u043d\\u044c\", \"\\u0446\\u0435\\u043d\\u0438\\u0442\\u044c\", \"\\u0446\\u0435\\u043d\\u0438\\u0442\\u044c\", \"\\u0447\", \"\\u0447\", \"\\u0447\\u0430\\u0439\", \"\\u0447\\u0430\\u0439\", \"\\u0447\\u0430\\u0439\", \"\\u0447\\u0430\\u0441\", \"\\u0447\\u0430\\u0441\", \"\\u0447\\u0430\\u0441\", \"\\u0447\\u0430\\u0441\", \"\\u0447\\u0430\\u0441\", \"\\u0447\\u0430\\u0441\", \"\\u0447\\u0435\\u043b\\u043e\\u0432\\u0435\\u043a\", \"\\u0447\\u0435\\u043b\\u043e\\u0432\\u0435\\u043a\", \"\\u0447\\u0435\\u043b\\u043e\\u0432\\u0435\\u043a\", \"\\u0447\\u0435\\u043b\\u043e\\u0432\\u0435\\u043a\", \"\\u0447\\u0435\\u043b\\u043e\\u0432\\u0435\\u043a\", \"\\u0447\\u0435\\u043b\\u043e\\u0432\\u0435\\u043a\", \"\\u0447\\u0435\\u043b\\u043e\\u0432\\u0435\\u043a_\\u043d\\u043e\\u0441\", \"\\u0447\\u0435\\u0441\\u0442\\u043d\\u043e\", \"\\u0447\\u0435\\u0441\\u0442\\u043d\\u043e\", \"\\u0447\\u0435\\u0441\\u0442\\u043d\\u043e\", \"\\u0447\\u0438\\u043d\\u044c\", \"\\u0447\\u0438\\u0442\\u0430\\u0442\\u044c\", \"\\u0447\\u0438\\u0442\\u0430\\u0442\\u044c\", \"\\u0447\\u0438\\u0442\\u0430\\u0442\\u044c\", \"\\u0447\\u0438\\u0442\\u0430\\u0442\\u044c\", \"\\u0447\\u0438\\u0442\\u0430\\u0442\\u044c\", \"\\u0447\\u0442\\u043e\\u043b\\u044c\", \"\\u0447\\u0443\\u0432\\u0430\\u043a\", \"\\u0447\\u0443\\u0432\\u0430\\u043a\", \"\\u0447\\u0443\\u0432\\u0430\\u043a\", \"\\u0447\\u0443\\u0432\\u0430\\u043a\", \"\\u0447\\u0443\\u0432\\u0430\\u043a\", \"\\u0447\\u0443\\u0436\\u043e\\u0439\", \"\\u0448\\u0438\\u043a\\u0430\\u0440\\u043d\\u044b\\u0439\", \"\\u0448\\u0438\\u043a\\u0430\\u0440\\u043d\\u044b\\u0439\", \"\\u0448\\u0438\\u043a\\u0430\\u0440\\u043d\\u044b\\u0439\", \"\\u0448\\u0438\\u0440\\u043e\\u0442\\u0430\", \"\\u0448\\u043a\\u043e\\u043b\\u0430\", \"\\u0448\\u043a\\u043e\\u043b\\u0430\", \"\\u0448\\u043a\\u043e\\u043b\\u0430\", \"\\u0448\\u043a\\u043e\\u043b\\u0430\", \"\\u0448\\u0443\\u0442\\u0438\\u0442\\u044c\", \"\\u044d\\u043a\\u0437\\u0430\\u043c\\u0435\\u043d\", \"\\u044d\\u043a\\u0437\\u0430\\u043c\\u0435\\u043d\", \"\\u044d\\u043a\\u0437\\u0430\\u043c\\u0435\\u043d\", \"\\u044d\\u043a\\u0437\\u0430\\u043c\\u0435\\u043d\", \"\\u044d\\u043a\\u043e\\u043d\\u043e\\u043c\\u0438\\u043a\\u0430\", \"\\u044d\\u043c\", \"\\u044d\\u043d\\u044d\", \"\\u044e\\u043c\", \"\\u044e\\u043d\\u044b\\u0439\", \"\\u044f\\u043d\\u0432\\u0430\\u0440\\u044c\", \"\\u044f\\u043d\\u0432\\u0430\\u0440\\u044c\", \"\\u0451\\u043b\\u043a\\u0430\", \"\\u0451\\u043b\\u043a\\u0430\", \"\\u0451\\u043b\\u043a\\u0430\", \"\\u0451\\u043b\\u043a\\u0430\"]}, \"R\": 30, \"lambda.step\": 0.01, \"plot.opts\": {\"xlab\": \"PC1\", \"ylab\": \"PC2\"}, \"topic.order\": [6, 5, 4, 2, 1, 3]};\n",
       "\n",
       "function LDAvis_load_lib(url, callback){\n",
       "  var s = document.createElement('script');\n",
       "  s.src = url;\n",
       "  s.async = true;\n",
       "  s.onreadystatechange = s.onload = callback;\n",
       "  s.onerror = function(){console.warn(\"failed to load library \" + url);};\n",
       "  document.getElementsByTagName(\"head\")[0].appendChild(s);\n",
       "}\n",
       "\n",
       "if(typeof(LDAvis) !== \"undefined\"){\n",
       "   // already loaded: just create the visualization\n",
       "   !function(LDAvis){\n",
       "       new LDAvis(\"#\" + \"ldavis_el291751399509032186242567610831\", ldavis_el291751399509032186242567610831_data);\n",
       "   }(LDAvis);\n",
       "}else if(typeof define === \"function\" && define.amd){\n",
       "   // require.js is available: use it to load d3/LDAvis\n",
       "   require.config({paths: {d3: \"https://d3js.org/d3.v5\"}});\n",
       "   require([\"d3\"], function(d3){\n",
       "      window.d3 = d3;\n",
       "      LDAvis_load_lib(\"https://cdn.jsdelivr.net/gh/bmabey/pyLDAvis@3.4.0/pyLDAvis/js/ldavis.v3.0.0.js\", function(){\n",
       "        new LDAvis(\"#\" + \"ldavis_el291751399509032186242567610831\", ldavis_el291751399509032186242567610831_data);\n",
       "      });\n",
       "    });\n",
       "}else{\n",
       "    // require.js not available: dynamically load d3 & LDAvis\n",
       "    LDAvis_load_lib(\"https://d3js.org/d3.v5.js\", function(){\n",
       "         LDAvis_load_lib(\"https://cdn.jsdelivr.net/gh/bmabey/pyLDAvis@3.4.0/pyLDAvis/js/ldavis.v3.0.0.js\", function(){\n",
       "                 new LDAvis(\"#\" + \"ldavis_el291751399509032186242567610831\", ldavis_el291751399509032186242567610831_data);\n",
       "            })\n",
       "         });\n",
       "}\n",
       "</script>"
      ],
      "text/plain": [
       "<IPython.core.display.HTML object>"
      ]
     },
     "execution_count": 71,
     "metadata": {},
     "output_type": "execute_result"
    }
   ],
   "source": [
    "pyLDAvis.enable_notebook()\n",
    "vis = pyLDAvis.gensim_models.prepare(model, corpus, dictionary)\n",
    "pyLDAvis.display(vis)"
   ]
  },
  {
   "cell_type": "code",
   "execution_count": 72,
   "id": "756fed27-1355-48a1-a5b8-2dc7a73104ad",
   "metadata": {},
   "outputs": [
    {
     "data": {
      "text/plain": [
       "[(0,\n",
       "  '0.137*\"rt\" + 0.104*\"url\" + 0.017*\"спасибо\" + 0.014*\"хотеть\" + 0.009*\"хороший\" + 0.008*\"любимый\" + 0.008*\"правда\" + 0.006*\"привет\" + 0.006*\"день_рождение\" + 0.005*\"очень\"'),\n",
       " (1,\n",
       "  '0.019*\"делать\" + 0.016*\"rt\" + 0.010*\"хотеть\" + 0.010*\"сделать\" + 0.010*\"завтра\" + 0.010*\"хороший\" + 0.009*\"пойти\" + 0.009*\"спать\" + 0.009*\"написать\" + 0.009*\"url\"'),\n",
       " (2,\n",
       "  '0.026*\"новый\" + 0.022*\"rt\" + 0.019*\"url\" + 0.017*\"время\" + 0.014*\"просто\" + 0.011*\"очень\" + 0.007*\"играть\" + 0.006*\"купить\" + 0.006*\"мочь\" + 0.006*\"песня\"'),\n",
       " (3,\n",
       "  '0.017*\"rt\" + 0.011*\"мочь\" + 0.011*\"большой\" + 0.010*\"хотеться\" + 0.009*\"думать\" + 0.008*\"человек\" + 0.007*\"хотеть\" + 0.007*\"очень\" + 0.007*\"жизнь\" + 0.007*\"сегодня\"'),\n",
       " (4,\n",
       "  '0.027*\"url\" + 0.026*\"знать\" + 0.024*\"любить\" + 0.014*\"человек\" + 0.013*\"говорить\" + 0.012*\"почему\" + 0.011*\"просто\" + 0.010*\"мочь\" + 0.010*\"вообще\" + 0.007*\"сказать\"'),\n",
       " (5,\n",
       "  '0.025*\"сегодня\" + 0.024*\"день\" + 0.015*\"хотеть\" + 0.011*\"дом\" + 0.009*\"идти\" + 0.009*\"завтра\" + 0.009*\"школа\" + 0.007*\"url\" + 0.007*\"снег\" + 0.006*\"блин\"')]"
      ]
     },
     "execution_count": 72,
     "metadata": {},
     "output_type": "execute_result"
    }
   ],
   "source": [
    "model.print_topics()"
   ]
  },
  {
   "cell_type": "code",
   "execution_count": 73,
   "id": "9fc6c09e-e169-4dc6-9103-ee9ac405a9cd",
   "metadata": {},
   "outputs": [
    {
     "name": "stdout",
     "output_type": "stream",
     "text": [
      "[0.16666667 0.16666667 0.16666667 0.16666667 0.16666667 0.16666667]\n",
      "[0.33690485 0.29532507 0.40619922 ... 0.11745608 0.11745608 0.11745608]\n"
     ]
    }
   ],
   "source": [
    "print(model.alpha) # Document-topic prior\n",
    "print(model.eta) # Topic-word prior"
   ]
  },
  {
   "cell_type": "code",
   "execution_count": 74,
   "id": "59ae4e73-040f-4f26-9b50-3d3786310cb3",
   "metadata": {},
   "outputs": [
    {
     "name": "stdout",
     "output_type": "stream",
     "text": [
      "226831\n",
      "[(0, 0.023905441), (1, 0.024040177), (2, 0.88011026), (3, 0.023987656), (4, 0.023950985), (5, 0.024005454)]\n",
      "[(0, 0.05618668), (1, 0.055569578), (2, 0.056246325), (3, 0.055600457), (4, 0.71920335), (5, 0.057193596)]\n",
      "\n",
      "Topic 0 proportion: 16.5%\n",
      "Topic 1 proportion: 15.4%\n",
      "Topic 2 proportion: 14.3%\n",
      "Topic 3 proportion: 16.3%\n",
      "Topic 4 proportion: 18.0%\n",
      "Topic 5 proportion: 19.6%\n",
      "Total: 100.00%\n"
     ]
    }
   ],
   "source": [
    "topics = list(model.get_document_topics(corpus, minimum_probability=0))\n",
    "print(len(topics))\n",
    "print(topics[0][:30])\n",
    "print(topics[1][:30])\n",
    "\n",
    "print()\n",
    "total = 0\n",
    "for i in range(num_topics):\n",
    "    tmp = sum([pair[i][1] for pair in topics])/len(topics)\n",
    "    print(f\"Topic {i} proportion: {100*tmp:.1f}%\")\n",
    "    total+=tmp\n",
    "\n",
    "print(f'Total: {total * 100:.2f}%')"
   ]
  },
  {
   "cell_type": "code",
   "execution_count": 75,
   "id": "8ed40fcc-5977-413b-bd3c-cb83ec9ed1a1",
   "metadata": {},
   "outputs": [],
   "source": [
    "def get_topic_num(topic):\n",
    "    idx = 0\n",
    "    for value in topic:\n",
    "        if topic[idx][1] < value[1]:\n",
    "            idx = value[0]\n",
    "    return idx"
   ]
  },
  {
   "cell_type": "code",
   "execution_count": 76,
   "id": "3951b46c-8b1b-44ac-b317-19d68ef94aa5",
   "metadata": {},
   "outputs": [
    {
     "data": {
      "text/plain": [
       "2"
      ]
     },
     "execution_count": 76,
     "metadata": {},
     "output_type": "execute_result"
    }
   ],
   "source": [
    "get_topic_num(topics[0])"
   ]
  },
  {
   "cell_type": "code",
   "execution_count": 77,
   "id": "076eb2bf-9b3b-4734-9464-a882b1a6fdd6",
   "metadata": {},
   "outputs": [],
   "source": [
    "idx = 0\n",
    "\n",
    "def set_topic(row):\n",
    "    global idx\n",
    "    row['topic'] = get_topic_num(topics[idx])\n",
    "    idx+=1\n",
    "    return row\n",
    "\n",
    "df2 = df.apply(set_topic, axis=1)"
   ]
  },
  {
   "cell_type": "code",
   "execution_count": 79,
   "id": "f530b514-e039-422d-ae73-05bf1b5b4a32",
   "metadata": {},
   "outputs": [
    {
     "data": {
      "text/html": [
       "<div>\n",
       "<style scoped>\n",
       "    .dataframe tbody tr th:only-of-type {\n",
       "        vertical-align: middle;\n",
       "    }\n",
       "\n",
       "    .dataframe tbody tr th {\n",
       "        vertical-align: top;\n",
       "    }\n",
       "\n",
       "    .dataframe thead th {\n",
       "        text-align: right;\n",
       "    }\n",
       "</style>\n",
       "<table border=\"1\" class=\"dataframe\">\n",
       "  <thead>\n",
       "    <tr style=\"text-align: right;\">\n",
       "      <th></th>\n",
       "      <th>text</th>\n",
       "      <th>topic</th>\n",
       "    </tr>\n",
       "  </thead>\n",
       "  <tbody>\n",
       "    <tr>\n",
       "      <th>0</th>\n",
       "      <td>коллега сидеть рубиться в urban terror а я из ...</td>\n",
       "      <td>2</td>\n",
       "    </tr>\n",
       "    <tr>\n",
       "      <th>1</th>\n",
       "      <td>user как говорить обещаной три год ждать</td>\n",
       "      <td>4</td>\n",
       "    </tr>\n",
       "    <tr>\n",
       "      <th>2</th>\n",
       "      <td>желать хороший полёт и удачный посадка я быть ...</td>\n",
       "      <td>0</td>\n",
       "    </tr>\n",
       "    <tr>\n",
       "      <th>3</th>\n",
       "      <td>обновить за какой то леший surf теперь не рабо...</td>\n",
       "      <td>0</td>\n",
       "    </tr>\n",
       "    <tr>\n",
       "      <th>4</th>\n",
       "      <td>котёнок вчера носик разбить плакать и расстраи...</td>\n",
       "      <td>5</td>\n",
       "    </tr>\n",
       "    <tr>\n",
       "      <th>...</th>\n",
       "      <td>...</td>\n",
       "      <td>...</td>\n",
       "    </tr>\n",
       "    <tr>\n",
       "      <th>114904</th>\n",
       "      <td>торт с чернослив купить на кропоток в тот мага...</td>\n",
       "      <td>2</td>\n",
       "    </tr>\n",
       "    <tr>\n",
       "      <th>114905</th>\n",
       "      <td>спасть в родительский дом на свой кровать прос...</td>\n",
       "      <td>5</td>\n",
       "    </tr>\n",
       "    <tr>\n",
       "      <th>114906</th>\n",
       "      <td>rt user эх мы немного решить сократить путь се...</td>\n",
       "      <td>3</td>\n",
       "    </tr>\n",
       "    <tr>\n",
       "      <th>114907</th>\n",
       "      <td>что происходить с я когда в эфир proactivefm з...</td>\n",
       "      <td>4</td>\n",
       "    </tr>\n",
       "    <tr>\n",
       "      <th>114908</th>\n",
       "      <td>любимый я подарить ты этот звезда имя какой зв...</td>\n",
       "      <td>2</td>\n",
       "    </tr>\n",
       "  </tbody>\n",
       "</table>\n",
       "<p>226831 rows × 2 columns</p>\n",
       "</div>"
      ],
      "text/plain": [
       "                                                     text  topic\n",
       "0       коллега сидеть рубиться в urban terror а я из ...      2\n",
       "1                user как говорить обещаной три год ждать      4\n",
       "2       желать хороший полёт и удачный посадка я быть ...      0\n",
       "3       обновить за какой то леший surf теперь не рабо...      0\n",
       "4       котёнок вчера носик разбить плакать и расстраи...      5\n",
       "...                                                   ...    ...\n",
       "114904  торт с чернослив купить на кропоток в тот мага...      2\n",
       "114905  спасть в родительский дом на свой кровать прос...      5\n",
       "114906  rt user эх мы немного решить сократить путь се...      3\n",
       "114907  что происходить с я когда в эфир proactivefm з...      4\n",
       "114908  любимый я подарить ты этот звезда имя какой зв...      2\n",
       "\n",
       "[226831 rows x 2 columns]"
      ]
     },
     "execution_count": 79,
     "metadata": {},
     "output_type": "execute_result"
    }
   ],
   "source": [
    "df2[['text', 'topic']]"
   ]
  },
  {
   "cell_type": "code",
   "execution_count": 82,
   "id": "d0b4230f-30b9-48a3-849c-ea61cdc7851b",
   "metadata": {},
   "outputs": [
    {
     "data": {
      "text/plain": [
       "[3, 5, 2, 4, 1]"
      ]
     },
     "execution_count": 82,
     "metadata": {},
     "output_type": "execute_result"
    }
   ],
   "source": [
    "x1 = [1, 2, 3, 4, 5]\n",
    "np.random.shuffle(x1)\n",
    "x1"
   ]
  },
  {
   "cell_type": "code",
   "execution_count": 89,
   "id": "34270f19-d8f5-47fa-98c4-ffafb3401b35",
   "metadata": {},
   "outputs": [
    {
     "data": {
      "text/plain": [
       "3000"
      ]
     },
     "execution_count": 89,
     "metadata": {},
     "output_type": "execute_result"
    }
   ],
   "source": [
    "y = df2[df2['topic'] == 0]['text'].to_list()\n",
    "np.random.shuffle(y)\n",
    "len(y[:3000]) # get 15 000 comments, 15/5 = 3"
   ]
  },
  {
   "cell_type": "code",
   "execution_count": 88,
   "id": "6f0277df-8b93-4545-aa03-88e1cbd86512",
   "metadata": {},
   "outputs": [
    {
     "data": {
      "text/plain": [
       "15451"
      ]
     },
     "execution_count": 88,
     "metadata": {},
     "output_type": "execute_result"
    }
   ],
   "source": [
    "26003 - (10552)"
   ]
  },
  {
   "cell_type": "code",
   "execution_count": 90,
   "id": "25198118-a981-4581-833d-5c1a8b1a069f",
   "metadata": {},
   "outputs": [
    {
     "data": {
      "text/plain": [
       "0.06612852740586604"
      ]
     },
     "execution_count": 90,
     "metadata": {},
     "output_type": "execute_result"
    }
   ],
   "source": [
    "15000/226831"
   ]
  },
  {
   "cell_type": "code",
   "execution_count": null,
   "id": "f0c1a527-5cc6-4b78-b60e-18b23a4cc4bd",
   "metadata": {},
   "outputs": [],
   "source": []
  },
  {
   "cell_type": "code",
   "execution_count": null,
   "id": "4d749631-502f-4b53-a6d7-550e236025ca",
   "metadata": {},
   "outputs": [],
   "source": []
  },
  {
   "cell_type": "code",
   "execution_count": 3,
   "id": "aafea040-d722-4bea-a016-a2c94379dfdc",
   "metadata": {},
   "outputs": [],
   "source": [
    "df_origin = pd.concat([t1, t2])\n",
    "df_origin.shape"
   ]
  },
  {
   "cell_type": "code",
   "execution_count": 96,
   "id": "12ece6fc-47f4-4bc6-bd1d-e3d70da0345c",
   "metadata": {},
   "outputs": [
    {
     "data": {
      "text/html": [
       "<div>\n",
       "<style scoped>\n",
       "    .dataframe tbody tr th:only-of-type {\n",
       "        vertical-align: middle;\n",
       "    }\n",
       "\n",
       "    .dataframe tbody tr th {\n",
       "        vertical-align: top;\n",
       "    }\n",
       "\n",
       "    .dataframe thead th {\n",
       "        text-align: right;\n",
       "    }\n",
       "</style>\n",
       "<table border=\"1\" class=\"dataframe\">\n",
       "  <thead>\n",
       "    <tr style=\"text-align: right;\">\n",
       "      <th></th>\n",
       "      <th>408906762813579264</th>\n",
       "      <th>1386325944</th>\n",
       "      <th>dugarchikbellko</th>\n",
       "      <th>text</th>\n",
       "      <th>label</th>\n",
       "      <th>0</th>\n",
       "      <th>0.1</th>\n",
       "      <th>0.2</th>\n",
       "      <th>8064</th>\n",
       "      <th>111</th>\n",
       "      <th>94</th>\n",
       "      <th>2</th>\n",
       "      <th>408906692374446080</th>\n",
       "      <th>1386325927</th>\n",
       "      <th>pleease_shut_up</th>\n",
       "      <th>7569</th>\n",
       "      <th>62</th>\n",
       "      <th>61</th>\n",
       "      <th>0.3</th>\n",
       "    </tr>\n",
       "  </thead>\n",
       "  <tbody>\n",
       "    <tr>\n",
       "      <th>0</th>\n",
       "      <td>4.089068e+17</td>\n",
       "      <td>1.386326e+09</td>\n",
       "      <td>nugemycejela</td>\n",
       "      <td>Коллеги сидят рубятся в Urban terror, а я из-з...</td>\n",
       "      <td>-1</td>\n",
       "      <td>0</td>\n",
       "      <td>0</td>\n",
       "      <td>0</td>\n",
       "      <td>26.0</td>\n",
       "      <td>42.0</td>\n",
       "      <td>39.0</td>\n",
       "      <td>0.0</td>\n",
       "      <td>NaN</td>\n",
       "      <td>NaN</td>\n",
       "      <td>NaN</td>\n",
       "      <td>NaN</td>\n",
       "      <td>NaN</td>\n",
       "      <td>NaN</td>\n",
       "      <td>NaN</td>\n",
       "    </tr>\n",
       "    <tr>\n",
       "      <th>1</th>\n",
       "      <td>4.089069e+17</td>\n",
       "      <td>1.386326e+09</td>\n",
       "      <td>4post21</td>\n",
       "      <td>@elina_4post как говорят обещаного три года жд...</td>\n",
       "      <td>-1</td>\n",
       "      <td>0</td>\n",
       "      <td>0</td>\n",
       "      <td>0</td>\n",
       "      <td>718.0</td>\n",
       "      <td>49.0</td>\n",
       "      <td>249.0</td>\n",
       "      <td>0.0</td>\n",
       "      <td>NaN</td>\n",
       "      <td>NaN</td>\n",
       "      <td>NaN</td>\n",
       "      <td>NaN</td>\n",
       "      <td>NaN</td>\n",
       "      <td>NaN</td>\n",
       "      <td>NaN</td>\n",
       "    </tr>\n",
       "    <tr>\n",
       "      <th>2</th>\n",
       "      <td>4.089069e+17</td>\n",
       "      <td>1.386326e+09</td>\n",
       "      <td>Poliwake</td>\n",
       "      <td>Желаю хорошего полёта и удачной посадки,я буду...</td>\n",
       "      <td>-1</td>\n",
       "      <td>0</td>\n",
       "      <td>0</td>\n",
       "      <td>0</td>\n",
       "      <td>10628.0</td>\n",
       "      <td>207.0</td>\n",
       "      <td>200.0</td>\n",
       "      <td>0.0</td>\n",
       "      <td>NaN</td>\n",
       "      <td>NaN</td>\n",
       "      <td>NaN</td>\n",
       "      <td>NaN</td>\n",
       "      <td>NaN</td>\n",
       "      <td>NaN</td>\n",
       "      <td>NaN</td>\n",
       "    </tr>\n",
       "    <tr>\n",
       "      <th>3</th>\n",
       "      <td>4.089069e+17</td>\n",
       "      <td>1.386326e+09</td>\n",
       "      <td>capyvixowe</td>\n",
       "      <td>Обновил за каким-то лешим surf, теперь не рабо...</td>\n",
       "      <td>-1</td>\n",
       "      <td>0</td>\n",
       "      <td>0</td>\n",
       "      <td>0</td>\n",
       "      <td>35.0</td>\n",
       "      <td>17.0</td>\n",
       "      <td>34.0</td>\n",
       "      <td>0.0</td>\n",
       "      <td>NaN</td>\n",
       "      <td>NaN</td>\n",
       "      <td>NaN</td>\n",
       "      <td>NaN</td>\n",
       "      <td>NaN</td>\n",
       "      <td>NaN</td>\n",
       "      <td>NaN</td>\n",
       "    </tr>\n",
       "    <tr>\n",
       "      <th>4</th>\n",
       "      <td>4.089069e+17</td>\n",
       "      <td>1.386326e+09</td>\n",
       "      <td>nunejibaduq</td>\n",
       "      <td>Котёнка вчера носик разбила, плакала и расстра...</td>\n",
       "      <td>-1</td>\n",
       "      <td>0</td>\n",
       "      <td>0</td>\n",
       "      <td>0</td>\n",
       "      <td>222.0</td>\n",
       "      <td>62.0</td>\n",
       "      <td>62.0</td>\n",
       "      <td>0.0</td>\n",
       "      <td>NaN</td>\n",
       "      <td>NaN</td>\n",
       "      <td>NaN</td>\n",
       "      <td>NaN</td>\n",
       "      <td>NaN</td>\n",
       "      <td>NaN</td>\n",
       "      <td>NaN</td>\n",
       "    </tr>\n",
       "    <tr>\n",
       "      <th>...</th>\n",
       "      <td>...</td>\n",
       "      <td>...</td>\n",
       "      <td>...</td>\n",
       "      <td>...</td>\n",
       "      <td>...</td>\n",
       "      <td>...</td>\n",
       "      <td>...</td>\n",
       "      <td>...</td>\n",
       "      <td>...</td>\n",
       "      <td>...</td>\n",
       "      <td>...</td>\n",
       "      <td>...</td>\n",
       "      <td>...</td>\n",
       "      <td>...</td>\n",
       "      <td>...</td>\n",
       "      <td>...</td>\n",
       "      <td>...</td>\n",
       "      <td>...</td>\n",
       "      <td>...</td>\n",
       "    </tr>\n",
       "    <tr>\n",
       "      <th>114905</th>\n",
       "      <td>NaN</td>\n",
       "      <td>NaN</td>\n",
       "      <td>NaN</td>\n",
       "      <td>Спала в родительском доме, на своей кровати......</td>\n",
       "      <td>1</td>\n",
       "      <td>0</td>\n",
       "      <td>0</td>\n",
       "      <td>0</td>\n",
       "      <td>NaN</td>\n",
       "      <td>NaN</td>\n",
       "      <td>NaN</td>\n",
       "      <td>NaN</td>\n",
       "      <td>4.113687e+17</td>\n",
       "      <td>1.386913e+09</td>\n",
       "      <td>diminlisenok</td>\n",
       "      <td>1497.0</td>\n",
       "      <td>56.0</td>\n",
       "      <td>34.0</td>\n",
       "      <td>2.0</td>\n",
       "    </tr>\n",
       "    <tr>\n",
       "      <th>114906</th>\n",
       "      <td>NaN</td>\n",
       "      <td>NaN</td>\n",
       "      <td>NaN</td>\n",
       "      <td>RT @jebesilofyt: Эх... Мы немного решили сокра...</td>\n",
       "      <td>1</td>\n",
       "      <td>0</td>\n",
       "      <td>1</td>\n",
       "      <td>0</td>\n",
       "      <td>NaN</td>\n",
       "      <td>NaN</td>\n",
       "      <td>NaN</td>\n",
       "      <td>NaN</td>\n",
       "      <td>4.113687e+17</td>\n",
       "      <td>1.386913e+09</td>\n",
       "      <td>qilepocagotu</td>\n",
       "      <td>692.0</td>\n",
       "      <td>225.0</td>\n",
       "      <td>210.0</td>\n",
       "      <td>0.0</td>\n",
       "    </tr>\n",
       "    <tr>\n",
       "      <th>114907</th>\n",
       "      <td>NaN</td>\n",
       "      <td>NaN</td>\n",
       "      <td>NaN</td>\n",
       "      <td>Что происходит со мной, когда в эфире #proacti...</td>\n",
       "      <td>1</td>\n",
       "      <td>0</td>\n",
       "      <td>0</td>\n",
       "      <td>0</td>\n",
       "      <td>NaN</td>\n",
       "      <td>NaN</td>\n",
       "      <td>NaN</td>\n",
       "      <td>NaN</td>\n",
       "      <td>4.113688e+17</td>\n",
       "      <td>1.386913e+09</td>\n",
       "      <td>DennyChooo</td>\n",
       "      <td>4905.0</td>\n",
       "      <td>448.0</td>\n",
       "      <td>193.0</td>\n",
       "      <td>13.0</td>\n",
       "    </tr>\n",
       "    <tr>\n",
       "      <th>114908</th>\n",
       "      <td>NaN</td>\n",
       "      <td>NaN</td>\n",
       "      <td>NaN</td>\n",
       "      <td>\"Любимая,я подарю тебе эту звезду...\" Имя како...</td>\n",
       "      <td>1</td>\n",
       "      <td>0</td>\n",
       "      <td>0</td>\n",
       "      <td>0</td>\n",
       "      <td>NaN</td>\n",
       "      <td>NaN</td>\n",
       "      <td>NaN</td>\n",
       "      <td>NaN</td>\n",
       "      <td>4.113688e+17</td>\n",
       "      <td>1.386913e+09</td>\n",
       "      <td>bedowabymir</td>\n",
       "      <td>989.0</td>\n",
       "      <td>254.0</td>\n",
       "      <td>251.0</td>\n",
       "      <td>0.0</td>\n",
       "    </tr>\n",
       "    <tr>\n",
       "      <th>114909</th>\n",
       "      <td>NaN</td>\n",
       "      <td>NaN</td>\n",
       "      <td>NaN</td>\n",
       "      <td>@Ma_che_rie посмотри #непытайтесьпокинутьомск ...</td>\n",
       "      <td>1</td>\n",
       "      <td>0</td>\n",
       "      <td>0</td>\n",
       "      <td>0</td>\n",
       "      <td>NaN</td>\n",
       "      <td>NaN</td>\n",
       "      <td>NaN</td>\n",
       "      <td>NaN</td>\n",
       "      <td>4.113689e+17</td>\n",
       "      <td>1.386913e+09</td>\n",
       "      <td>Prituljak_Sibir</td>\n",
       "      <td>1005.0</td>\n",
       "      <td>221.0</td>\n",
       "      <td>178.0</td>\n",
       "      <td>6.0</td>\n",
       "    </tr>\n",
       "  </tbody>\n",
       "</table>\n",
       "<p>226832 rows × 19 columns</p>\n",
       "</div>"
      ],
      "text/plain": [
       "        408906762813579264    1386325944 dugarchikbellko  \\\n",
       "0             4.089068e+17  1.386326e+09    nugemycejela   \n",
       "1             4.089069e+17  1.386326e+09         4post21   \n",
       "2             4.089069e+17  1.386326e+09        Poliwake   \n",
       "3             4.089069e+17  1.386326e+09      capyvixowe   \n",
       "4             4.089069e+17  1.386326e+09     nunejibaduq   \n",
       "...                    ...           ...             ...   \n",
       "114905                 NaN           NaN             NaN   \n",
       "114906                 NaN           NaN             NaN   \n",
       "114907                 NaN           NaN             NaN   \n",
       "114908                 NaN           NaN             NaN   \n",
       "114909                 NaN           NaN             NaN   \n",
       "\n",
       "                                                     text  label  0  0.1  0.2  \\\n",
       "0       Коллеги сидят рубятся в Urban terror, а я из-з...     -1  0    0    0   \n",
       "1       @elina_4post как говорят обещаного три года жд...     -1  0    0    0   \n",
       "2       Желаю хорошего полёта и удачной посадки,я буду...     -1  0    0    0   \n",
       "3       Обновил за каким-то лешим surf, теперь не рабо...     -1  0    0    0   \n",
       "4       Котёнка вчера носик разбила, плакала и расстра...     -1  0    0    0   \n",
       "...                                                   ...    ... ..  ...  ...   \n",
       "114905  Спала в родительском доме, на своей кровати......      1  0    0    0   \n",
       "114906  RT @jebesilofyt: Эх... Мы немного решили сокра...      1  0    1    0   \n",
       "114907  Что происходит со мной, когда в эфире #proacti...      1  0    0    0   \n",
       "114908  \"Любимая,я подарю тебе эту звезду...\" Имя како...      1  0    0    0   \n",
       "114909  @Ma_che_rie посмотри #непытайтесьпокинутьомск ...      1  0    0    0   \n",
       "\n",
       "           8064    111     94    2  408906692374446080    1386325927  \\\n",
       "0          26.0   42.0   39.0  0.0                 NaN           NaN   \n",
       "1         718.0   49.0  249.0  0.0                 NaN           NaN   \n",
       "2       10628.0  207.0  200.0  0.0                 NaN           NaN   \n",
       "3          35.0   17.0   34.0  0.0                 NaN           NaN   \n",
       "4         222.0   62.0   62.0  0.0                 NaN           NaN   \n",
       "...         ...    ...    ...  ...                 ...           ...   \n",
       "114905      NaN    NaN    NaN  NaN        4.113687e+17  1.386913e+09   \n",
       "114906      NaN    NaN    NaN  NaN        4.113687e+17  1.386913e+09   \n",
       "114907      NaN    NaN    NaN  NaN        4.113688e+17  1.386913e+09   \n",
       "114908      NaN    NaN    NaN  NaN        4.113688e+17  1.386913e+09   \n",
       "114909      NaN    NaN    NaN  NaN        4.113689e+17  1.386913e+09   \n",
       "\n",
       "        pleease_shut_up    7569     62     61   0.3  \n",
       "0                   NaN     NaN    NaN    NaN   NaN  \n",
       "1                   NaN     NaN    NaN    NaN   NaN  \n",
       "2                   NaN     NaN    NaN    NaN   NaN  \n",
       "3                   NaN     NaN    NaN    NaN   NaN  \n",
       "4                   NaN     NaN    NaN    NaN   NaN  \n",
       "...                 ...     ...    ...    ...   ...  \n",
       "114905     diminlisenok  1497.0   56.0   34.0   2.0  \n",
       "114906     qilepocagotu   692.0  225.0  210.0   0.0  \n",
       "114907       DennyChooo  4905.0  448.0  193.0  13.0  \n",
       "114908      bedowabymir   989.0  254.0  251.0   0.0  \n",
       "114909  Prituljak_Sibir  1005.0  221.0  178.0   6.0  \n",
       "\n",
       "[226832 rows x 19 columns]"
      ]
     },
     "execution_count": 96,
     "metadata": {},
     "output_type": "execute_result"
    }
   ],
   "source": [
    "df_origin"
   ]
  },
  {
   "cell_type": "code",
   "execution_count": 101,
   "id": "e430f07a-a4f9-4efe-83c1-59114aa94bcd",
   "metadata": {},
   "outputs": [
    {
     "name": "stdout",
     "output_type": "stream",
     "text": [
      "<class 'pandas.core.frame.DataFrame'>\n",
      "Index: 226831 entries, 0 to 114908\n",
      "Data columns (total 19 columns):\n",
      " #   Column              Non-Null Count   Dtype  \n",
      "---  ------              --------------   -----  \n",
      " 0   408906762813579264  111922 non-null  float64\n",
      " 1   1386325944          111922 non-null  float64\n",
      " 2   dugarchikbellko     111922 non-null  object \n",
      " 3   text                226831 non-null  object \n",
      " 4   label               226831 non-null  int64  \n",
      " 5   0                   226831 non-null  int64  \n",
      " 6   0.1                 226831 non-null  int64  \n",
      " 7   0.2                 226831 non-null  int64  \n",
      " 8   8064                111922 non-null  float64\n",
      " 9   111                 111922 non-null  float64\n",
      " 10  94                  111922 non-null  float64\n",
      " 11  2                   111922 non-null  float64\n",
      " 12  408906692374446080  114909 non-null  float64\n",
      " 13  1386325927          114909 non-null  float64\n",
      " 14  pleease_shut_up     114909 non-null  object \n",
      " 15  7569                114909 non-null  float64\n",
      " 16  62                  114909 non-null  float64\n",
      " 17  61                  114909 non-null  float64\n",
      " 18  0.3                 114909 non-null  float64\n",
      "dtypes: float64(12), int64(4), object(3)\n",
      "memory usage: 34.6+ MB\n"
     ]
    }
   ],
   "source": [
    "df.info()"
   ]
  },
  {
   "cell_type": "code",
   "execution_count": 93,
   "id": "18eba750-0fe2-4001-b109-161f3cfb2186",
   "metadata": {},
   "outputs": [
    {
     "data": {
      "text/plain": [
       "((226831, 19), (226831, 20))"
      ]
     },
     "execution_count": 93,
     "metadata": {},
     "output_type": "execute_result"
    }
   ],
   "source": [
    "df.shape, df2.shape"
   ]
  },
  {
   "cell_type": "code",
   "execution_count": 98,
   "id": "2f323219-22ac-4d32-8364-478bb3c009e7",
   "metadata": {},
   "outputs": [
    {
     "data": {
      "text/html": [
       "<div>\n",
       "<style scoped>\n",
       "    .dataframe tbody tr th:only-of-type {\n",
       "        vertical-align: middle;\n",
       "    }\n",
       "\n",
       "    .dataframe tbody tr th {\n",
       "        vertical-align: top;\n",
       "    }\n",
       "\n",
       "    .dataframe thead th {\n",
       "        text-align: right;\n",
       "    }\n",
       "</style>\n",
       "<table border=\"1\" class=\"dataframe\">\n",
       "  <thead>\n",
       "    <tr style=\"text-align: right;\">\n",
       "      <th></th>\n",
       "      <th>408906762813579264</th>\n",
       "      <th>1386325944</th>\n",
       "      <th>dugarchikbellko</th>\n",
       "      <th>text</th>\n",
       "      <th>label</th>\n",
       "      <th>0</th>\n",
       "      <th>0.1</th>\n",
       "      <th>0.2</th>\n",
       "      <th>8064</th>\n",
       "      <th>111</th>\n",
       "      <th>94</th>\n",
       "      <th>2</th>\n",
       "      <th>408906692374446080</th>\n",
       "      <th>1386325927</th>\n",
       "      <th>pleease_shut_up</th>\n",
       "      <th>7569</th>\n",
       "      <th>62</th>\n",
       "      <th>61</th>\n",
       "      <th>0.3</th>\n",
       "      <th>topic</th>\n",
       "    </tr>\n",
       "  </thead>\n",
       "  <tbody>\n",
       "    <tr>\n",
       "      <th>0</th>\n",
       "      <td>4.089068e+17</td>\n",
       "      <td>1.386326e+09</td>\n",
       "      <td>nugemycejela</td>\n",
       "      <td>коллега сидеть рубиться в urban terror а я из ...</td>\n",
       "      <td>-1</td>\n",
       "      <td>0</td>\n",
       "      <td>0</td>\n",
       "      <td>0</td>\n",
       "      <td>26.0</td>\n",
       "      <td>42.0</td>\n",
       "      <td>39.0</td>\n",
       "      <td>0.0</td>\n",
       "      <td>NaN</td>\n",
       "      <td>NaN</td>\n",
       "      <td>NaN</td>\n",
       "      <td>NaN</td>\n",
       "      <td>NaN</td>\n",
       "      <td>NaN</td>\n",
       "      <td>NaN</td>\n",
       "      <td>2</td>\n",
       "    </tr>\n",
       "    <tr>\n",
       "      <th>1</th>\n",
       "      <td>4.089069e+17</td>\n",
       "      <td>1.386326e+09</td>\n",
       "      <td>4post21</td>\n",
       "      <td>user как говорить обещаной три год ждать</td>\n",
       "      <td>-1</td>\n",
       "      <td>0</td>\n",
       "      <td>0</td>\n",
       "      <td>0</td>\n",
       "      <td>718.0</td>\n",
       "      <td>49.0</td>\n",
       "      <td>249.0</td>\n",
       "      <td>0.0</td>\n",
       "      <td>NaN</td>\n",
       "      <td>NaN</td>\n",
       "      <td>NaN</td>\n",
       "      <td>NaN</td>\n",
       "      <td>NaN</td>\n",
       "      <td>NaN</td>\n",
       "      <td>NaN</td>\n",
       "      <td>4</td>\n",
       "    </tr>\n",
       "    <tr>\n",
       "      <th>2</th>\n",
       "      <td>4.089069e+17</td>\n",
       "      <td>1.386326e+09</td>\n",
       "      <td>Poliwake</td>\n",
       "      <td>желать хороший полёт и удачный посадка я быть ...</td>\n",
       "      <td>-1</td>\n",
       "      <td>0</td>\n",
       "      <td>0</td>\n",
       "      <td>0</td>\n",
       "      <td>10628.0</td>\n",
       "      <td>207.0</td>\n",
       "      <td>200.0</td>\n",
       "      <td>0.0</td>\n",
       "      <td>NaN</td>\n",
       "      <td>NaN</td>\n",
       "      <td>NaN</td>\n",
       "      <td>NaN</td>\n",
       "      <td>NaN</td>\n",
       "      <td>NaN</td>\n",
       "      <td>NaN</td>\n",
       "      <td>0</td>\n",
       "    </tr>\n",
       "    <tr>\n",
       "      <th>3</th>\n",
       "      <td>4.089069e+17</td>\n",
       "      <td>1.386326e+09</td>\n",
       "      <td>capyvixowe</td>\n",
       "      <td>обновить за какой то леший surf теперь не рабо...</td>\n",
       "      <td>-1</td>\n",
       "      <td>0</td>\n",
       "      <td>0</td>\n",
       "      <td>0</td>\n",
       "      <td>35.0</td>\n",
       "      <td>17.0</td>\n",
       "      <td>34.0</td>\n",
       "      <td>0.0</td>\n",
       "      <td>NaN</td>\n",
       "      <td>NaN</td>\n",
       "      <td>NaN</td>\n",
       "      <td>NaN</td>\n",
       "      <td>NaN</td>\n",
       "      <td>NaN</td>\n",
       "      <td>NaN</td>\n",
       "      <td>0</td>\n",
       "    </tr>\n",
       "    <tr>\n",
       "      <th>4</th>\n",
       "      <td>4.089069e+17</td>\n",
       "      <td>1.386326e+09</td>\n",
       "      <td>nunejibaduq</td>\n",
       "      <td>котёнок вчера носик разбить плакать и расстраи...</td>\n",
       "      <td>-1</td>\n",
       "      <td>0</td>\n",
       "      <td>0</td>\n",
       "      <td>0</td>\n",
       "      <td>222.0</td>\n",
       "      <td>62.0</td>\n",
       "      <td>62.0</td>\n",
       "      <td>0.0</td>\n",
       "      <td>NaN</td>\n",
       "      <td>NaN</td>\n",
       "      <td>NaN</td>\n",
       "      <td>NaN</td>\n",
       "      <td>NaN</td>\n",
       "      <td>NaN</td>\n",
       "      <td>NaN</td>\n",
       "      <td>5</td>\n",
       "    </tr>\n",
       "    <tr>\n",
       "      <th>...</th>\n",
       "      <td>...</td>\n",
       "      <td>...</td>\n",
       "      <td>...</td>\n",
       "      <td>...</td>\n",
       "      <td>...</td>\n",
       "      <td>...</td>\n",
       "      <td>...</td>\n",
       "      <td>...</td>\n",
       "      <td>...</td>\n",
       "      <td>...</td>\n",
       "      <td>...</td>\n",
       "      <td>...</td>\n",
       "      <td>...</td>\n",
       "      <td>...</td>\n",
       "      <td>...</td>\n",
       "      <td>...</td>\n",
       "      <td>...</td>\n",
       "      <td>...</td>\n",
       "      <td>...</td>\n",
       "      <td>...</td>\n",
       "    </tr>\n",
       "    <tr>\n",
       "      <th>114904</th>\n",
       "      <td>NaN</td>\n",
       "      <td>NaN</td>\n",
       "      <td>NaN</td>\n",
       "      <td>торт с чернослив купить на кропоток в тот мага...</td>\n",
       "      <td>1</td>\n",
       "      <td>0</td>\n",
       "      <td>0</td>\n",
       "      <td>0</td>\n",
       "      <td>NaN</td>\n",
       "      <td>NaN</td>\n",
       "      <td>NaN</td>\n",
       "      <td>NaN</td>\n",
       "      <td>4.113687e+17</td>\n",
       "      <td>1.386913e+09</td>\n",
       "      <td>see_all_sea</td>\n",
       "      <td>9787.0</td>\n",
       "      <td>49.0</td>\n",
       "      <td>32.0</td>\n",
       "      <td>0.0</td>\n",
       "      <td>2</td>\n",
       "    </tr>\n",
       "    <tr>\n",
       "      <th>114905</th>\n",
       "      <td>NaN</td>\n",
       "      <td>NaN</td>\n",
       "      <td>NaN</td>\n",
       "      <td>спасть в родительский дом на свой кровать прос...</td>\n",
       "      <td>1</td>\n",
       "      <td>0</td>\n",
       "      <td>0</td>\n",
       "      <td>0</td>\n",
       "      <td>NaN</td>\n",
       "      <td>NaN</td>\n",
       "      <td>NaN</td>\n",
       "      <td>NaN</td>\n",
       "      <td>4.113687e+17</td>\n",
       "      <td>1.386913e+09</td>\n",
       "      <td>diminlisenok</td>\n",
       "      <td>1497.0</td>\n",
       "      <td>56.0</td>\n",
       "      <td>34.0</td>\n",
       "      <td>2.0</td>\n",
       "      <td>5</td>\n",
       "    </tr>\n",
       "    <tr>\n",
       "      <th>114906</th>\n",
       "      <td>NaN</td>\n",
       "      <td>NaN</td>\n",
       "      <td>NaN</td>\n",
       "      <td>rt user эх мы немного решить сократить путь се...</td>\n",
       "      <td>1</td>\n",
       "      <td>0</td>\n",
       "      <td>1</td>\n",
       "      <td>0</td>\n",
       "      <td>NaN</td>\n",
       "      <td>NaN</td>\n",
       "      <td>NaN</td>\n",
       "      <td>NaN</td>\n",
       "      <td>4.113687e+17</td>\n",
       "      <td>1.386913e+09</td>\n",
       "      <td>qilepocagotu</td>\n",
       "      <td>692.0</td>\n",
       "      <td>225.0</td>\n",
       "      <td>210.0</td>\n",
       "      <td>0.0</td>\n",
       "      <td>3</td>\n",
       "    </tr>\n",
       "    <tr>\n",
       "      <th>114907</th>\n",
       "      <td>NaN</td>\n",
       "      <td>NaN</td>\n",
       "      <td>NaN</td>\n",
       "      <td>что происходить с я когда в эфир proactivefm з...</td>\n",
       "      <td>1</td>\n",
       "      <td>0</td>\n",
       "      <td>0</td>\n",
       "      <td>0</td>\n",
       "      <td>NaN</td>\n",
       "      <td>NaN</td>\n",
       "      <td>NaN</td>\n",
       "      <td>NaN</td>\n",
       "      <td>4.113688e+17</td>\n",
       "      <td>1.386913e+09</td>\n",
       "      <td>DennyChooo</td>\n",
       "      <td>4905.0</td>\n",
       "      <td>448.0</td>\n",
       "      <td>193.0</td>\n",
       "      <td>13.0</td>\n",
       "      <td>4</td>\n",
       "    </tr>\n",
       "    <tr>\n",
       "      <th>114908</th>\n",
       "      <td>NaN</td>\n",
       "      <td>NaN</td>\n",
       "      <td>NaN</td>\n",
       "      <td>любимый я подарить ты этот звезда имя какой зв...</td>\n",
       "      <td>1</td>\n",
       "      <td>0</td>\n",
       "      <td>0</td>\n",
       "      <td>0</td>\n",
       "      <td>NaN</td>\n",
       "      <td>NaN</td>\n",
       "      <td>NaN</td>\n",
       "      <td>NaN</td>\n",
       "      <td>4.113688e+17</td>\n",
       "      <td>1.386913e+09</td>\n",
       "      <td>bedowabymir</td>\n",
       "      <td>989.0</td>\n",
       "      <td>254.0</td>\n",
       "      <td>251.0</td>\n",
       "      <td>0.0</td>\n",
       "      <td>2</td>\n",
       "    </tr>\n",
       "  </tbody>\n",
       "</table>\n",
       "<p>226831 rows × 20 columns</p>\n",
       "</div>"
      ],
      "text/plain": [
       "        408906762813579264    1386325944 dugarchikbellko  \\\n",
       "0             4.089068e+17  1.386326e+09    nugemycejela   \n",
       "1             4.089069e+17  1.386326e+09         4post21   \n",
       "2             4.089069e+17  1.386326e+09        Poliwake   \n",
       "3             4.089069e+17  1.386326e+09      capyvixowe   \n",
       "4             4.089069e+17  1.386326e+09     nunejibaduq   \n",
       "...                    ...           ...             ...   \n",
       "114904                 NaN           NaN             NaN   \n",
       "114905                 NaN           NaN             NaN   \n",
       "114906                 NaN           NaN             NaN   \n",
       "114907                 NaN           NaN             NaN   \n",
       "114908                 NaN           NaN             NaN   \n",
       "\n",
       "                                                     text  label  0  0.1  0.2  \\\n",
       "0       коллега сидеть рубиться в urban terror а я из ...     -1  0    0    0   \n",
       "1                user как говорить обещаной три год ждать     -1  0    0    0   \n",
       "2       желать хороший полёт и удачный посадка я быть ...     -1  0    0    0   \n",
       "3       обновить за какой то леший surf теперь не рабо...     -1  0    0    0   \n",
       "4       котёнок вчера носик разбить плакать и расстраи...     -1  0    0    0   \n",
       "...                                                   ...    ... ..  ...  ...   \n",
       "114904  торт с чернослив купить на кропоток в тот мага...      1  0    0    0   \n",
       "114905  спасть в родительский дом на свой кровать прос...      1  0    0    0   \n",
       "114906  rt user эх мы немного решить сократить путь се...      1  0    1    0   \n",
       "114907  что происходить с я когда в эфир proactivefm з...      1  0    0    0   \n",
       "114908  любимый я подарить ты этот звезда имя какой зв...      1  0    0    0   \n",
       "\n",
       "           8064    111     94    2  408906692374446080    1386325927  \\\n",
       "0          26.0   42.0   39.0  0.0                 NaN           NaN   \n",
       "1         718.0   49.0  249.0  0.0                 NaN           NaN   \n",
       "2       10628.0  207.0  200.0  0.0                 NaN           NaN   \n",
       "3          35.0   17.0   34.0  0.0                 NaN           NaN   \n",
       "4         222.0   62.0   62.0  0.0                 NaN           NaN   \n",
       "...         ...    ...    ...  ...                 ...           ...   \n",
       "114904      NaN    NaN    NaN  NaN        4.113687e+17  1.386913e+09   \n",
       "114905      NaN    NaN    NaN  NaN        4.113687e+17  1.386913e+09   \n",
       "114906      NaN    NaN    NaN  NaN        4.113687e+17  1.386913e+09   \n",
       "114907      NaN    NaN    NaN  NaN        4.113688e+17  1.386913e+09   \n",
       "114908      NaN    NaN    NaN  NaN        4.113688e+17  1.386913e+09   \n",
       "\n",
       "       pleease_shut_up    7569     62     61   0.3  topic  \n",
       "0                  NaN     NaN    NaN    NaN   NaN      2  \n",
       "1                  NaN     NaN    NaN    NaN   NaN      4  \n",
       "2                  NaN     NaN    NaN    NaN   NaN      0  \n",
       "3                  NaN     NaN    NaN    NaN   NaN      0  \n",
       "4                  NaN     NaN    NaN    NaN   NaN      5  \n",
       "...                ...     ...    ...    ...   ...    ...  \n",
       "114904     see_all_sea  9787.0   49.0   32.0   0.0      2  \n",
       "114905    diminlisenok  1497.0   56.0   34.0   2.0      5  \n",
       "114906    qilepocagotu   692.0  225.0  210.0   0.0      3  \n",
       "114907      DennyChooo  4905.0  448.0  193.0  13.0      4  \n",
       "114908     bedowabymir   989.0  254.0  251.0   0.0      2  \n",
       "\n",
       "[226831 rows x 20 columns]"
      ]
     },
     "execution_count": 98,
     "metadata": {},
     "output_type": "execute_result"
    }
   ],
   "source": [
    "df2"
   ]
  },
  {
   "cell_type": "code",
   "execution_count": 105,
   "id": "fee38b4d-d253-4652-a3cb-7734287ce1e7",
   "metadata": {},
   "outputs": [
    {
     "data": {
      "text/plain": [
       "226816"
      ]
     },
     "execution_count": 105,
     "metadata": {},
     "output_type": "execute_result"
    }
   ],
   "source": [
    "len(df2['408906762813579264'].unique())+ len(df2['408906692374446080'].unique())"
   ]
  },
  {
   "cell_type": "code",
   "execution_count": 107,
   "id": "c51dc8c9-6d3b-4ed1-a9e8-d9e653965fec",
   "metadata": {},
   "outputs": [
    {
     "data": {
      "text/plain": [
       "226817"
      ]
     },
     "execution_count": 107,
     "metadata": {},
     "output_type": "execute_result"
    }
   ],
   "source": [
    "len(df_origin['408906762813579264'].unique()) + len(df_origin['408906692374446080'].unique())"
   ]
  },
  {
   "cell_type": "code",
   "execution_count": 4,
   "id": "9f8ebfd2-6890-4d3f-a82f-30173160f242",
   "metadata": {},
   "outputs": [],
   "source": [
    "# Так как мы предобработали текст и не сохранили его в первоначальном виде,\n",
    "# то объединяем исходные данные с получившимся данными и \n",
    "# сохраняем из каждой темы N строк в неформатированном виде (без лемматизации, удаления стоп слов и т.д.)"
   ]
  },
  {
   "cell_type": "code",
   "execution_count": 109,
   "id": "7cf1ec4b-5d93-4308-a7ce-8ebeff9ddacb",
   "metadata": {},
   "outputs": [],
   "source": [
    "def create_id(row):\n",
    "    if not np.isnan(row['408906762813579264']):\n",
    "        row['id'] = row['408906762813579264']\n",
    "    elif not np.isnan(row['408906692374446080']):\n",
    "        row['id'] = row['408906692374446080']\n",
    "    return row\n",
    "\n",
    "# df_origin[:10].apply(create_id, axis=1)"
   ]
  },
  {
   "cell_type": "code",
   "execution_count": 110,
   "id": "30df73f8-ea1a-46af-9056-a12e3db6fb93",
   "metadata": {},
   "outputs": [],
   "source": [
    "theme_splited = df2.apply(create_id, axis=1)\n",
    "df_origin =  df_origin.apply(create_id, axis=1)"
   ]
  },
  {
   "cell_type": "code",
   "execution_count": 111,
   "id": "59d7bbfd-2dca-49ae-82c6-e5698ac86918",
   "metadata": {},
   "outputs": [],
   "source": [
    "merged = pd.merge(theme_splited, df_origin, on='id', how='left')"
   ]
  },
  {
   "cell_type": "code",
   "execution_count": 113,
   "id": "9a3511e2-e355-4e27-95a5-32e02953ba34",
   "metadata": {},
   "outputs": [
    {
     "data": {
      "text/html": [
       "<div>\n",
       "<style scoped>\n",
       "    .dataframe tbody tr th:only-of-type {\n",
       "        vertical-align: middle;\n",
       "    }\n",
       "\n",
       "    .dataframe tbody tr th {\n",
       "        vertical-align: top;\n",
       "    }\n",
       "\n",
       "    .dataframe thead th {\n",
       "        text-align: right;\n",
       "    }\n",
       "</style>\n",
       "<table border=\"1\" class=\"dataframe\">\n",
       "  <thead>\n",
       "    <tr style=\"text-align: right;\">\n",
       "      <th></th>\n",
       "      <th>text_x</th>\n",
       "      <th>text_y</th>\n",
       "      <th>label_x</th>\n",
       "      <th>label_y</th>\n",
       "      <th>topic</th>\n",
       "    </tr>\n",
       "  </thead>\n",
       "  <tbody>\n",
       "    <tr>\n",
       "      <th>0</th>\n",
       "      <td>коллега сидеть рубиться в urban terror а я из ...</td>\n",
       "      <td>NaN</td>\n",
       "      <td>-1</td>\n",
       "      <td>NaN</td>\n",
       "      <td>2</td>\n",
       "    </tr>\n",
       "    <tr>\n",
       "      <th>1</th>\n",
       "      <td>user как говорить обещаной три год ждать</td>\n",
       "      <td>@elina_4post как говорят обещаного три года жд...</td>\n",
       "      <td>-1</td>\n",
       "      <td>-1.0</td>\n",
       "      <td>4</td>\n",
       "    </tr>\n",
       "    <tr>\n",
       "      <th>2</th>\n",
       "      <td>желать хороший полёт и удачный посадка я быть ...</td>\n",
       "      <td>Желаю хорошего полёта и удачной посадки,я буду...</td>\n",
       "      <td>-1</td>\n",
       "      <td>-1.0</td>\n",
       "      <td>0</td>\n",
       "    </tr>\n",
       "    <tr>\n",
       "      <th>3</th>\n",
       "      <td>обновить за какой то леший surf теперь не рабо...</td>\n",
       "      <td>Обновил за каким-то лешим surf, теперь не рабо...</td>\n",
       "      <td>-1</td>\n",
       "      <td>-1.0</td>\n",
       "      <td>0</td>\n",
       "    </tr>\n",
       "    <tr>\n",
       "      <th>4</th>\n",
       "      <td>котёнок вчера носик разбить плакать и расстраи...</td>\n",
       "      <td>Котёнка вчера носик разбила, плакала и расстра...</td>\n",
       "      <td>-1</td>\n",
       "      <td>-1.0</td>\n",
       "      <td>5</td>\n",
       "    </tr>\n",
       "    <tr>\n",
       "      <th>...</th>\n",
       "      <td>...</td>\n",
       "      <td>...</td>\n",
       "      <td>...</td>\n",
       "      <td>...</td>\n",
       "      <td>...</td>\n",
       "    </tr>\n",
       "    <tr>\n",
       "      <th>226856</th>\n",
       "      <td>торт с чернослив купить на кропоток в тот мага...</td>\n",
       "      <td>Торт с черносливом :) купленный на кропотке в ...</td>\n",
       "      <td>1</td>\n",
       "      <td>1.0</td>\n",
       "      <td>2</td>\n",
       "    </tr>\n",
       "    <tr>\n",
       "      <th>226857</th>\n",
       "      <td>спасть в родительский дом на свой кровать прос...</td>\n",
       "      <td>Спала в родительском доме, на своей кровати......</td>\n",
       "      <td>1</td>\n",
       "      <td>1.0</td>\n",
       "      <td>5</td>\n",
       "    </tr>\n",
       "    <tr>\n",
       "      <th>226858</th>\n",
       "      <td>rt user эх мы немного решить сократить путь се...</td>\n",
       "      <td>RT @jebesilofyt: Эх... Мы немного решили сокра...</td>\n",
       "      <td>1</td>\n",
       "      <td>1.0</td>\n",
       "      <td>3</td>\n",
       "    </tr>\n",
       "    <tr>\n",
       "      <th>226859</th>\n",
       "      <td>что происходить с я когда в эфир proactivefm з...</td>\n",
       "      <td>Что происходит со мной, когда в эфире #proacti...</td>\n",
       "      <td>1</td>\n",
       "      <td>1.0</td>\n",
       "      <td>4</td>\n",
       "    </tr>\n",
       "    <tr>\n",
       "      <th>226860</th>\n",
       "      <td>любимый я подарить ты этот звезда имя какой зв...</td>\n",
       "      <td>\"Любимая,я подарю тебе эту звезду...\" Имя како...</td>\n",
       "      <td>1</td>\n",
       "      <td>1.0</td>\n",
       "      <td>2</td>\n",
       "    </tr>\n",
       "  </tbody>\n",
       "</table>\n",
       "<p>226861 rows × 5 columns</p>\n",
       "</div>"
      ],
      "text/plain": [
       "                                                   text_x  \\\n",
       "0       коллега сидеть рубиться в urban terror а я из ...   \n",
       "1                user как говорить обещаной три год ждать   \n",
       "2       желать хороший полёт и удачный посадка я быть ...   \n",
       "3       обновить за какой то леший surf теперь не рабо...   \n",
       "4       котёнок вчера носик разбить плакать и расстраи...   \n",
       "...                                                   ...   \n",
       "226856  торт с чернослив купить на кропоток в тот мага...   \n",
       "226857  спасть в родительский дом на свой кровать прос...   \n",
       "226858  rt user эх мы немного решить сократить путь се...   \n",
       "226859  что происходить с я когда в эфир proactivefm з...   \n",
       "226860  любимый я подарить ты этот звезда имя какой зв...   \n",
       "\n",
       "                                                   text_y  label_x  label_y  \\\n",
       "0                                                     NaN       -1      NaN   \n",
       "1       @elina_4post как говорят обещаного три года жд...       -1     -1.0   \n",
       "2       Желаю хорошего полёта и удачной посадки,я буду...       -1     -1.0   \n",
       "3       Обновил за каким-то лешим surf, теперь не рабо...       -1     -1.0   \n",
       "4       Котёнка вчера носик разбила, плакала и расстра...       -1     -1.0   \n",
       "...                                                   ...      ...      ...   \n",
       "226856  Торт с черносливом :) купленный на кропотке в ...        1      1.0   \n",
       "226857  Спала в родительском доме, на своей кровати......        1      1.0   \n",
       "226858  RT @jebesilofyt: Эх... Мы немного решили сокра...        1      1.0   \n",
       "226859  Что происходит со мной, когда в эфире #proacti...        1      1.0   \n",
       "226860  \"Любимая,я подарю тебе эту звезду...\" Имя како...        1      1.0   \n",
       "\n",
       "        topic  \n",
       "0           2  \n",
       "1           4  \n",
       "2           0  \n",
       "3           0  \n",
       "4           5  \n",
       "...       ...  \n",
       "226856      2  \n",
       "226857      5  \n",
       "226858      3  \n",
       "226859      4  \n",
       "226860      2  \n",
       "\n",
       "[226861 rows x 5 columns]"
      ]
     },
     "execution_count": 113,
     "metadata": {},
     "output_type": "execute_result"
    }
   ],
   "source": [
    "merged[['text_x', 'text_y', 'label_x', 'label_y', 'topic', '']]"
   ]
  },
  {
   "cell_type": "code",
   "execution_count": 140,
   "id": "f929639c-7efa-40a9-9c66-233a17cef9c2",
   "metadata": {},
   "outputs": [],
   "source": [
    "def get_n_rows_by_topic(df, topic_num, amount):\n",
    "    topic = df[df['topic'] == topic_num]\n",
    "    return topic.sample(n = amount)"
   ]
  },
  {
   "cell_type": "code",
   "execution_count": 129,
   "id": "56173d74-0472-424d-a8ca-e0855064ac76",
   "metadata": {},
   "outputs": [],
   "source": [
    "required_cols = merged[['text_y', 'label_y', 'topic']].dropna()"
   ]
  },
  {
   "cell_type": "code",
   "execution_count": 136,
   "id": "e55c1ee3-39c3-4983-a323-ee13ccc672b2",
   "metadata": {},
   "outputs": [],
   "source": [
    "# get_n_rows_by_topic(required_cols, 4, 300)"
   ]
  },
  {
   "cell_type": "code",
   "execution_count": 141,
   "id": "3c562cac-9ef3-4dc6-98d0-209b36084f0a",
   "metadata": {},
   "outputs": [
    {
     "data": {
      "text/plain": [
       "(15000, 3)"
      ]
     },
     "execution_count": 141,
     "metadata": {},
     "output_type": "execute_result"
    }
   ],
   "source": [
    "result = pd.concat([get_n_rows_by_topic(required_cols, i, 3000) for i in range(5)])\n",
    "result.shape"
   ]
  },
  {
   "cell_type": "code",
   "execution_count": 123,
   "id": "483dbaa7-d2bc-47d4-9cd1-ae7e71f2c221",
   "metadata": {},
   "outputs": [
    {
     "data": {
      "text/html": [
       "<div>\n",
       "<style scoped>\n",
       "    .dataframe tbody tr th:only-of-type {\n",
       "        vertical-align: middle;\n",
       "    }\n",
       "\n",
       "    .dataframe tbody tr th {\n",
       "        vertical-align: top;\n",
       "    }\n",
       "\n",
       "    .dataframe thead th {\n",
       "        text-align: right;\n",
       "    }\n",
       "</style>\n",
       "<table border=\"1\" class=\"dataframe\">\n",
       "  <thead>\n",
       "    <tr style=\"text-align: right;\">\n",
       "      <th></th>\n",
       "      <th>text_y</th>\n",
       "      <th>label_y</th>\n",
       "      <th>topic</th>\n",
       "    </tr>\n",
       "  </thead>\n",
       "  <tbody>\n",
       "    <tr>\n",
       "      <th>200236</th>\n",
       "      <td>Мазафака)))он даже и не к казахам заежает))бра...</td>\n",
       "      <td>1.0</td>\n",
       "      <td>0</td>\n",
       "    </tr>\n",
       "    <tr>\n",
       "      <th>77364</th>\n",
       "      <td>RT @tutby: 10 тысяч долларов за первого ребенк...</td>\n",
       "      <td>-1.0</td>\n",
       "      <td>0</td>\n",
       "    </tr>\n",
       "    <tr>\n",
       "      <th>51165</th>\n",
       "      <td>ох как мне это знакомо!(( http://t.co/cibN5nVFjP</td>\n",
       "      <td>-1.0</td>\n",
       "      <td>0</td>\n",
       "    </tr>\n",
       "    <tr>\n",
       "      <th>176293</th>\n",
       "      <td>Хочу большую и пушистую ёлку, такую, как была ...</td>\n",
       "      <td>1.0</td>\n",
       "      <td>0</td>\n",
       "    </tr>\n",
       "    <tr>\n",
       "      <th>182645</th>\n",
       "      <td>Отличный вечер**\\nСпасибо вам:))))\\nТолько Юль...</td>\n",
       "      <td>1.0</td>\n",
       "      <td>0</td>\n",
       "    </tr>\n",
       "    <tr>\n",
       "      <th>...</th>\n",
       "      <td>...</td>\n",
       "      <td>...</td>\n",
       "      <td>...</td>\n",
       "    </tr>\n",
       "    <tr>\n",
       "      <th>93859</th>\n",
       "      <td>RT @sladkaya_e: Как же я не хочу завтра в школу(</td>\n",
       "      <td>-1.0</td>\n",
       "      <td>0</td>\n",
       "    </tr>\n",
       "    <tr>\n",
       "      <th>126959</th>\n",
       "      <td>RT @_8763731544813: Насобирал грибочков летом....</td>\n",
       "      <td>1.0</td>\n",
       "      <td>0</td>\n",
       "    </tr>\n",
       "    <tr>\n",
       "      <th>120933</th>\n",
       "      <td>RT @STONED_PONY: - Что это за клей, который де...</td>\n",
       "      <td>1.0</td>\n",
       "      <td>0</td>\n",
       "    </tr>\n",
       "    <tr>\n",
       "      <th>158640</th>\n",
       "      <td>RT @BOPOBKA_of_LOVE: И не говори, что не пропе...</td>\n",
       "      <td>1.0</td>\n",
       "      <td>0</td>\n",
       "    </tr>\n",
       "    <tr>\n",
       "      <th>5536</th>\n",
       "      <td>проводили любимого в армию! =(((((((((((((((((...</td>\n",
       "      <td>-1.0</td>\n",
       "      <td>0</td>\n",
       "    </tr>\n",
       "  </tbody>\n",
       "</table>\n",
       "<p>3000 rows × 3 columns</p>\n",
       "</div>"
      ],
      "text/plain": [
       "                                                   text_y  label_y  topic\n",
       "200236  Мазафака)))он даже и не к казахам заежает))бра...      1.0      0\n",
       "77364   RT @tutby: 10 тысяч долларов за первого ребенк...     -1.0      0\n",
       "51165    ох как мне это знакомо!(( http://t.co/cibN5nVFjP     -1.0      0\n",
       "176293  Хочу большую и пушистую ёлку, такую, как была ...      1.0      0\n",
       "182645  Отличный вечер**\\nСпасибо вам:))))\\nТолько Юль...      1.0      0\n",
       "...                                                   ...      ...    ...\n",
       "93859    RT @sladkaya_e: Как же я не хочу завтра в школу(     -1.0      0\n",
       "126959  RT @_8763731544813: Насобирал грибочков летом....      1.0      0\n",
       "120933  RT @STONED_PONY: - Что это за клей, который де...      1.0      0\n",
       "158640  RT @BOPOBKA_of_LOVE: И не говори, что не пропе...      1.0      0\n",
       "5536    проводили любимого в армию! =(((((((((((((((((...     -1.0      0\n",
       "\n",
       "[3000 rows x 3 columns]"
      ]
     },
     "execution_count": 123,
     "metadata": {},
     "output_type": "execute_result"
    }
   ],
   "source": [
    "y = merged[merged['topic'] == 0][['text_y', 'label_y', 'topic']].dropna(subset=['text_y', 'label_y'])\n",
    "y.sample(n=3000)\n",
    "# np.random.shuffle(y)"
   ]
  },
  {
   "cell_type": "code",
   "execution_count": 142,
   "id": "de86e851-cf93-41c7-b362-620f27b1247b",
   "metadata": {},
   "outputs": [
    {
     "data": {
      "text/html": [
       "<div>\n",
       "<style scoped>\n",
       "    .dataframe tbody tr th:only-of-type {\n",
       "        vertical-align: middle;\n",
       "    }\n",
       "\n",
       "    .dataframe tbody tr th {\n",
       "        vertical-align: top;\n",
       "    }\n",
       "\n",
       "    .dataframe thead th {\n",
       "        text-align: right;\n",
       "    }\n",
       "</style>\n",
       "<table border=\"1\" class=\"dataframe\">\n",
       "  <thead>\n",
       "    <tr style=\"text-align: right;\">\n",
       "      <th></th>\n",
       "      <th>text_y</th>\n",
       "      <th>label_y</th>\n",
       "      <th>topic</th>\n",
       "    </tr>\n",
       "  </thead>\n",
       "  <tbody>\n",
       "    <tr>\n",
       "      <th>181683</th>\n",
       "      <td>@BananaStyles19 @2013Viks @nastenka265 @ANovic...</td>\n",
       "      <td>1.0</td>\n",
       "      <td>0</td>\n",
       "    </tr>\n",
       "    <tr>\n",
       "      <th>153236</th>\n",
       "      <td>Q: Привет:-)  Ты  с Улан-Удэ?  A: http://t.co/...</td>\n",
       "      <td>1.0</td>\n",
       "      <td>0</td>\n",
       "    </tr>\n",
       "    <tr>\n",
       "      <th>200680</th>\n",
       "      <td>Концерт woodkid однозначно в топе лучших! Спас...</td>\n",
       "      <td>1.0</td>\n",
       "      <td>0</td>\n",
       "    </tr>\n",
       "    <tr>\n",
       "      <th>209768</th>\n",
       "      <td>RT @Margaret_Kwon: @1djulialove ни стыда, ни с...</td>\n",
       "      <td>1.0</td>\n",
       "      <td>0</td>\n",
       "    </tr>\n",
       "    <tr>\n",
       "      <th>168823</th>\n",
       "      <td>RT @alexpike13: Да, это правда - #Орейро в сво...</td>\n",
       "      <td>1.0</td>\n",
       "      <td>0</td>\n",
       "    </tr>\n",
       "    <tr>\n",
       "      <th>...</th>\n",
       "      <td>...</td>\n",
       "      <td>...</td>\n",
       "      <td>...</td>\n",
       "    </tr>\n",
       "    <tr>\n",
       "      <th>14751</th>\n",
       "      <td>Надо было DD-WRT ему шить, чтобы не заябылвал. :(</td>\n",
       "      <td>-1.0</td>\n",
       "      <td>4</td>\n",
       "    </tr>\n",
       "    <tr>\n",
       "      <th>112481</th>\n",
       "      <td>Задайте мне любой вопрос на trislovamne .ru :)...</td>\n",
       "      <td>1.0</td>\n",
       "      <td>4</td>\n",
       "    </tr>\n",
       "    <tr>\n",
       "      <th>40314</th>\n",
       "      <td>Все бабы стервы, и мир бардак! И друг, к тому ...</td>\n",
       "      <td>-1.0</td>\n",
       "      <td>4</td>\n",
       "    </tr>\n",
       "    <tr>\n",
       "      <th>190736</th>\n",
       "      <td>ах вспомнила \"Вик, нужно меняться\" \"Ты хотя бы...</td>\n",
       "      <td>1.0</td>\n",
       "      <td>4</td>\n",
       "    </tr>\n",
       "    <tr>\n",
       "      <th>9811</th>\n",
       "      <td>@sofiabobrova не знаю, живот прихватило сильно :(</td>\n",
       "      <td>-1.0</td>\n",
       "      <td>4</td>\n",
       "    </tr>\n",
       "  </tbody>\n",
       "</table>\n",
       "<p>15000 rows × 3 columns</p>\n",
       "</div>"
      ],
      "text/plain": [
       "                                                   text_y  label_y  topic\n",
       "181683  @BananaStyles19 @2013Viks @nastenka265 @ANovic...      1.0      0\n",
       "153236  Q: Привет:-)  Ты  с Улан-Удэ?  A: http://t.co/...      1.0      0\n",
       "200680  Концерт woodkid однозначно в топе лучших! Спас...      1.0      0\n",
       "209768  RT @Margaret_Kwon: @1djulialove ни стыда, ни с...      1.0      0\n",
       "168823  RT @alexpike13: Да, это правда - #Орейро в сво...      1.0      0\n",
       "...                                                   ...      ...    ...\n",
       "14751   Надо было DD-WRT ему шить, чтобы не заябылвал. :(     -1.0      4\n",
       "112481  Задайте мне любой вопрос на trislovamne .ru :)...      1.0      4\n",
       "40314   Все бабы стервы, и мир бардак! И друг, к тому ...     -1.0      4\n",
       "190736  ах вспомнила \"Вик, нужно меняться\" \"Ты хотя бы...      1.0      4\n",
       "9811    @sofiabobrova не знаю, живот прихватило сильно :(     -1.0      4\n",
       "\n",
       "[15000 rows x 3 columns]"
      ]
     },
     "execution_count": 142,
     "metadata": {},
     "output_type": "execute_result"
    }
   ],
   "source": [
    "result"
   ]
  },
  {
   "cell_type": "code",
   "execution_count": 144,
   "id": "daa7480b-419d-4a93-a1ca-2d08026b0ef8",
   "metadata": {},
   "outputs": [
    {
     "name": "stdout",
     "output_type": "stream",
     "text": [
      "       text_y  label_y\n",
      "topic                 \n",
      "0        3000     3000\n",
      "1        3000     3000\n",
      "2        3000     3000\n",
      "3        3000     3000\n",
      "4        3000     3000\n"
     ]
    }
   ],
   "source": [
    "x = result.groupby(by='topic').count()\n",
    "print(x)"
   ]
  },
  {
   "cell_type": "code",
   "execution_count": 145,
   "id": "2d3905ef-315b-41ef-903d-9875c64a9cad",
   "metadata": {},
   "outputs": [],
   "source": [
    "result.to_csv('datasets/twitter.csv')"
   ]
  },
  {
   "cell_type": "code",
   "execution_count": 147,
   "id": "96474141-d157-47f1-b693-2ea0b7d7e26d",
   "metadata": {},
   "outputs": [
    {
     "data": {
      "text/plain": [
       "(15000, 3)"
      ]
     },
     "execution_count": 147,
     "metadata": {},
     "output_type": "execute_result"
    }
   ],
   "source": [
    "result.dropna(subset=['label_y']).shape"
   ]
  },
  {
   "cell_type": "code",
   "execution_count": 148,
   "id": "d8a0bba9-ea51-4d90-8c70-f81c2d5c9dd0",
   "metadata": {},
   "outputs": [
    {
     "data": {
      "text/plain": [
       "array([ 1., -1.])"
      ]
     },
     "execution_count": 148,
     "metadata": {},
     "output_type": "execute_result"
    }
   ],
   "source": [
    "result['label_y'].unique()"
   ]
  },
  {
   "cell_type": "code",
   "execution_count": 149,
   "id": "11a00b0e-1fcf-4d9f-91d4-4680afe29cfe",
   "metadata": {},
   "outputs": [
    {
     "data": {
      "text/plain": [
       "((15000, 3), array([ 1., -1.]))"
      ]
     },
     "execution_count": 149,
     "metadata": {},
     "output_type": "execute_result"
    }
   ],
   "source": [
    "new_df = pd.read_csv('datasets/twitter.csv', index_col=0)\n",
    "new_df.shape, new_df['label_y'].unique()"
   ]
  }
 ],
 "metadata": {
  "kernelspec": {
   "display_name": "Python 3 (ipykernel)",
   "language": "python",
   "name": "python3"
  },
  "language_info": {
   "codemirror_mode": {
    "name": "ipython",
    "version": 3
   },
   "file_extension": ".py",
   "mimetype": "text/x-python",
   "name": "python",
   "nbconvert_exporter": "python",
   "pygments_lexer": "ipython3",
   "version": "3.10.12"
  },
  "widgets": {
   "application/vnd.jupyter.widget-state+json": {
    "state": {},
    "version_major": 2,
    "version_minor": 0
   }
  }
 },
 "nbformat": 4,
 "nbformat_minor": 5
}
